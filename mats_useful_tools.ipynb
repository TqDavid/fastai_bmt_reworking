{
 "cells": [
  {
   "cell_type": "code",
   "execution_count": null,
   "metadata": {},
   "outputs": [],
   "source": [
    "import keras.backend as K\n",
    "\n",
    "def size(model): \n",
    "    # Compute number of params in a model (the actual number of floats)\n",
    "    return sum([np.prod(K.get_value(w).shape) for w in model.trainable_weights])"
   ]
  },
  {
   "cell_type": "code",
   "execution_count": null,
   "metadata": {},
   "outputs": [],
   "source": [
    "model.summary()"
   ]
  },
  {
   "cell_type": "code",
   "execution_count": null,
   "metadata": {},
   "outputs": [],
   "source": [
    "model.count_params()"
   ]
  },
  {
   "cell_type": "code",
   "execution_count": null,
   "metadata": {},
   "outputs": [],
   "source": [
    "#https://keras.io/layers/about-keras-layers/"
   ]
  },
  {
   "cell_type": "code",
   "execution_count": null,
   "metadata": {},
   "outputs": [],
   "source": [
    "#ssh for terminal access\n",
    "ssh -i /c/Users/bmt/.ssh/aws-key.pem ubuntu@\n",
    "#ssh to run jupyter notebook\n",
    "ssh -i /c/Users/bmt/.ssh/aws-key.pem -L 443:127.0.0.1:8888 ubuntu@\n",
    "\n",
    "#upload file to server from laptop\n",
    "scp -i /c/Users/bmt/.ssh/aws-key.pem /d/2017_working/fastAICourse/crowdSafe/imagenet.synset.txt ubuntu@ec2-54-202-208-120.us-west-2.compute.amazonaws.com:~/\n",
    "#download file from server\n",
    "scp -i /c/Users/bmt/.ssh/aws-key.pem  ubuntu@ec2-54-166-128-20.compute-1.amazonaws.com:/data/ecoli_ref-5m-trim.fastq.gz ~/Download/\n",
    "\n",
    "#check gpu card load\n",
    "watch nvidia-smi"
   ]
  },
  {
   "cell_type": "code",
   "execution_count": null,
   "metadata": {},
   "outputs": [],
   "source": [
    "from datetime import datetime\n",
    "\n",
    "\n",
    "startTime= datetime.now()\n",
    "print (\"startTime:\", startTime)\n",
    "# INSERT YOUR CODE\n",
    "timeElapsed=datetime.now()-startTime\n",
    "print('Time elapsed (hh:mm:ss.ms) {}'.format(timeElapsed))\n"
   ]
  },
  {
   "cell_type": "code",
   "execution_count": null,
   "metadata": {},
   "outputs": [],
   "source": [
    "from keras.utils import convert_all_kernels_in_model"
   ]
  },
  {
   "cell_type": "code",
   "execution_count": 1,
   "metadata": {},
   "outputs": [],
   "source": [
    "#set FIXED variables\n",
    "HOMEPATH = \"/home/ubuntu/fastai/\"\n",
    "import os, errno\n",
    "from datetime import datetime\n",
    "import random"
   ]
  },
  {
   "cell_type": "code",
   "execution_count": null,
   "metadata": {},
   "outputs": [],
   "source": [
    "os.chdir(HOMEPATH)\n",
    "print (\"current working directory:\", os.getcwd())"
   ]
  },
  {
   "cell_type": "code",
   "execution_count": 1,
   "metadata": {},
   "outputs": [
    {
     "name": "stdout",
     "output_type": "stream",
     "text": [
      "17\n",
      "dogsCats\n"
     ]
    }
   ],
   "source": [
    "import os\n",
    "fileList = os.listdir(\"./\")\n",
    "print (len(fileList))\n",
    "print (fileList[0])"
   ]
  },
  {
   "cell_type": "code",
   "execution_count": null,
   "metadata": {},
   "outputs": [],
   "source": [
    "print keras.__version__\n",
    "print theano.__version__\n",
    "print tensorflow.__version__"
   ]
  },
  {
   "cell_type": "code",
   "execution_count": null,
   "metadata": {},
   "outputs": [],
   "source": [
    "#list only files in directory\n",
    "import os.path\n",
    "\n",
    "listOfFiles = [f for f in os.listdir(someDir) if os.path.isfile(f)]\n",
    "\n",
    "#list only files in directory\n",
    "listOfDirs = [f for f in os.listdir(someDir) if os.path.isDir(f)]\n",
    "\n",
    "#does not differentiate between files or dirs\n",
    "arr = os.listdir(\"./\")\n"
   ]
  },
  {
   "cell_type": "code",
   "execution_count": null,
   "metadata": {},
   "outputs": [],
   "source": []
  },
  {
   "cell_type": "code",
   "execution_count": null,
   "metadata": {},
   "outputs": [],
   "source": []
  }
 ],
 "metadata": {
  "kernelspec": {
   "display_name": "Python 2",
   "language": "python",
   "name": "python2"
  },
  "language_info": {
   "codemirror_mode": {
    "name": "ipython",
    "version": 2
   },
   "file_extension": ".py",
   "mimetype": "text/x-python",
   "name": "python",
   "nbconvert_exporter": "python",
   "pygments_lexer": "ipython2",
   "version": "2.7.12"
  }
 },
 "nbformat": 4,
 "nbformat_minor": 2
}
