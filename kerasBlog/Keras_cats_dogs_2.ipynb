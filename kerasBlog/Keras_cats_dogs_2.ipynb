{
 "cells": [
  {
   "cell_type": "code",
   "execution_count": 1,
   "metadata": {},
   "outputs": [],
   "source": [
    "#https://blog.keras.io/building-powerful-image-classification-models-using-very-little-data.html\n",
    "#https://gist.github.com/fchollet/f35fbc80e066a49d65f1688a7e99f069"
   ]
  },
  {
   "cell_type": "code",
   "execution_count": 52,
   "metadata": {
    "scrolled": true
   },
   "outputs": [],
   "source": [
    "import numpy as np\n",
    "from keras.preprocessing.image import ImageDataGenerator\n",
    "from keras.models import Sequential\n",
    "from keras.layers import Dropout, Flatten, Dense\n",
    "from keras import applications\n",
    "\n",
    "\n",
    "import keras\n",
    "import os\n",
    "from shutil import copyfile\n",
    "import random\n",
    "import matplotlib.pyplot as plt\n",
    "import numpy as np\n",
    "from scipy import misc\n",
    "import glob"
   ]
  },
  {
   "cell_type": "code",
   "execution_count": 38,
   "metadata": {},
   "outputs": [
    {
     "name": "stdout",
     "output_type": "stream",
     "text": [
      "keras.__version__: 2.0.8\n",
      "size: [ 6.  4.] fig.dpi: 72.0\n"
     ]
    }
   ],
   "source": [
    "print (\"keras.__version__:\", keras.__version__)\n",
    "fig = plt.figure()\n",
    "size = fig.get_size_inches()\n",
    "print (\"size:\", size, \"fig.dpi:\", fig.dpi)"
   ]
  },
  {
   "cell_type": "code",
   "execution_count": 3,
   "metadata": {},
   "outputs": [],
   "source": [
    "# dimensions of our images.\n",
    "img_width, img_height = 150, 150"
   ]
  },
  {
   "cell_type": "code",
   "execution_count": 9,
   "metadata": {},
   "outputs": [],
   "source": [
    "def dirFileList(dir_path):\n",
    "    return [name for name in os.listdir(dir_path) if os.path.isfile(os.path.join(dir_path, name))]\n"
   ]
  },
  {
   "cell_type": "code",
   "execution_count": 4,
   "metadata": {},
   "outputs": [],
   "source": [
    "categories = ['cats', 'dogs']\n",
    "DATA_BASE = \"/home/ubuntu/fastai/data/dogscats/\"\n",
    "SAMPLE_TRAIN = DATA_BASE + \"sample/train/\"\n",
    "SAMPLE_VALID = DATA_BASE + \"sample/valid/\"\n",
    "TRAIN        = DATA_BASE + \"train/\"\n",
    "VALID        = DATA_BASE + \"valid/\"\n",
    "RESULTS = DATA_BASE + \"models/\"\n",
    "SAMPLESIZE = 1000"
   ]
  },
  {
   "cell_type": "code",
   "execution_count": 13,
   "metadata": {},
   "outputs": [
    {
     "name": "stdout",
     "output_type": "stream",
     "text": [
      "# of files in /home/ubuntu/fastai/data/dogscats/sample/train/cats : 1000\n",
      "# of files in /home/ubuntu/fastai/data/dogscats/sample/train/dogs : 1000\n",
      "# of files in /home/ubuntu/fastai/data/dogscats/sample/valid/cats : 1000\n",
      "# of files in /home/ubuntu/fastai/data/dogscats/sample/valid/dogs : 1000\n",
      "# of files in /home/ubuntu/fastai/data/dogscats/train/cats : 11500\n",
      "# of files in /home/ubuntu/fastai/data/dogscats/train/dogs : 11500\n",
      "# of files in /home/ubuntu/fastai/data/dogscats/valid/cats : 1004\n",
      "# of files in /home/ubuntu/fastai/data/dogscats/valid/dogs : 1004\n",
      "# of files in /home/ubuntu/fastai/data/dogscats/sample/train/ : 0\n",
      "# of files in /home/ubuntu/fastai/data/dogscats/sample/valid/ : 0\n",
      "# of files in /home/ubuntu/fastai/data/dogscats/train/ : 0\n",
      "# of files in /home/ubuntu/fastai/data/dogscats/valid/ : 0\n"
     ]
    }
   ],
   "source": [
    "dirList = [SAMPLE_TRAIN, SAMPLE_VALID, TRAIN, VALID]\n",
    "\n",
    "for dir_path in dirList:\n",
    "    for category in categories:\n",
    "        print (\"# of files in\", dir_path+category, \":\", len(dirFileList(dir_path+category)))\n",
    "\n",
    "for dir_path in [SAMPLE_TRAIN, SAMPLE_VALID, TRAIN, VALID]:\n",
    "    print (\"# of files in\", dir_path, \":\", len(dirFileList(dir_path)))"
   ]
  },
  {
   "cell_type": "code",
   "execution_count": 55,
   "metadata": {},
   "outputs": [
    {
     "name": "stdout",
     "output_type": "stream",
     "text": [
      "/home/ubuntu/fastai/data/dogscats/sample/train/cats/cat.12038.jpg (378, 499, 3) uint8\n",
      "/home/ubuntu/fastai/data/dogscats/sample/train/cats/cat.9087.jpg (239, 320, 3) uint8\n",
      "/home/ubuntu/fastai/data/dogscats/sample/train/cats/cat.11748.jpg (352, 499, 3) uint8\n",
      "/home/ubuntu/fastai/data/dogscats/sample/train/cats/cat.11072.jpg (105, 161, 3) uint8\n",
      "/home/ubuntu/fastai/data/dogscats/sample/train/cats/cat.11436.jpg (466, 500, 3) uint8\n",
      "/home/ubuntu/fastai/data/dogscats/sample/train/cats/cat.10637.jpg (375, 499, 3) uint8\n"
     ]
    }
   ],
   "source": [
    "count = 0\n",
    "for image_path in glob.glob(SAMPLE_TRAIN+\"cats/*\"):\n",
    "    image = misc.imread(image_path)\n",
    "    print (image_path, image.shape, image.dtype)\n",
    "    count += 1\n",
    "    if count > 5: break"
   ]
  },
  {
   "cell_type": "code",
   "execution_count": 42,
   "metadata": {},
   "outputs": [
    {
     "name": "stdout",
     "output_type": "stream",
     "text": [
      "nb_train_samples: 2000\n",
      "nb_validation_samples: 2000\n"
     ]
    }
   ],
   "source": [
    "top_model_weights_path = RESULTS+'bottleneck_fc_model.h5'\n",
    "top_model_complete_path = RESULTS+'bottleneck_fc_model_complete.h5'\n",
    "train_data_dir = SAMPLE_TRAIN\n",
    "validation_data_dir = SAMPLE_VALID\n",
    "nb_train_samples = len(dirFileList(SAMPLE_TRAIN+'cats/')) + len(dirFileList(SAMPLE_TRAIN+'dogs/'))#  2000\n",
    "nb_validation_samples = len(dirFileList(SAMPLE_VALID+'cats/')) + len(dirFileList(SAMPLE_VALID+'dogs/'))\n",
    "print (\"nb_train_samples:\", nb_train_samples)\n",
    "print (\"nb_validation_samples:\", nb_validation_samples)\n",
    "epochs = 50\n",
    "batch_size = 16"
   ]
  },
  {
   "cell_type": "code",
   "execution_count": 35,
   "metadata": {},
   "outputs": [
    {
     "name": "stdout",
     "output_type": "stream",
     "text": [
      "nb_train_samples // batch_size =  125\n",
      "top_model_weights_path: /home/ubuntu/fastai/data/dogscats/models/bottleneck_fc_model.h5\n"
     ]
    }
   ],
   "source": [
    "print (\"nb_train_samples // batch_size = \", nb_train_samples // batch_size)\n",
    "print (\"top_model_weights_path:\", top_model_weights_path)"
   ]
  },
  {
   "cell_type": "code",
   "execution_count": 29,
   "metadata": {},
   "outputs": [
    {
     "name": "stdout",
     "output_type": "stream",
     "text": [
      "Found 2000 images belonging to 2 classes.\n",
      "type(bottleneck_features_train): <class 'numpy.ndarray'>\n",
      "Found 2000 images belonging to 2 classes.\n",
      "type(bottleneck_features_validation): <class 'numpy.ndarray'>\n"
     ]
    }
   ],
   "source": [
    "datagen = ImageDataGenerator(rescale=1. / 255)\n",
    "\n",
    "# build the VGG16 network\n",
    "model = applications.VGG16(include_top=False, weights='imagenet')\n",
    "\n",
    "generator = datagen.flow_from_directory(\n",
    "    train_data_dir,\n",
    "    target_size=(img_width, img_height),\n",
    "    batch_size=batch_size,\n",
    "    class_mode=None,\n",
    "    shuffle=False)\n",
    "bottleneck_features_train = model.predict_generator(generator, nb_train_samples // batch_size)\n",
    "print (\"type(bottleneck_features_train):\", type(bottleneck_features_train))\n",
    "\n",
    "generator = datagen.flow_from_directory(\n",
    "    validation_data_dir,\n",
    "    target_size=(img_width, img_height),\n",
    "    batch_size=batch_size,\n",
    "    class_mode=None,\n",
    "    shuffle=False)\n",
    "bottleneck_features_validation = model.predict_generator(generator, nb_validation_samples // batch_size)\n",
    "print (\"type(bottleneck_features_validation):\", type(bottleneck_features_validation))\n"
   ]
  },
  {
   "cell_type": "code",
   "execution_count": 51,
   "metadata": {},
   "outputs": [
    {
     "name": "stdout",
     "output_type": "stream",
     "text": [
      "bottleneck_features_train: <class 'numpy.ndarray'> (2000, 4, 4, 512)\n",
      "bottleneck_features_validation: <class 'numpy.ndarray'> (2000, 4, 4, 512)\n"
     ]
    }
   ],
   "source": [
    "print (\"bottleneck_features_train:\", type(bottleneck_features_train), bottleneck_features_train.shape)\n",
    "print (\"bottleneck_features_validation:\", type(bottleneck_features_validation), bottleneck_features_validation.shape)"
   ]
  },
  {
   "cell_type": "code",
   "execution_count": 48,
   "metadata": {},
   "outputs": [
    {
     "name": "stdout",
     "output_type": "stream",
     "text": [
      "<class 'int'>\n",
      "nb_train_samples / 2: 1000.0\n"
     ]
    }
   ],
   "source": [
    "print (type(nb_train_samples))\n",
    "print (\"nb_train_samples / 2:\", (nb_train_samples / 2))"
   ]
  },
  {
   "cell_type": "code",
   "execution_count": 36,
   "metadata": {},
   "outputs": [
    {
     "name": "stdout",
     "output_type": "stream",
     "text": [
      "_________________________________________________________________\n",
      "Layer (type)                 Output Shape              Param #   \n",
      "=================================================================\n",
      "flatten_2 (Flatten)          (None, 8192)              0         \n",
      "_________________________________________________________________\n",
      "dense_3 (Dense)              (None, 256)               2097408   \n",
      "_________________________________________________________________\n",
      "dropout_2 (Dropout)          (None, 256)               0         \n",
      "_________________________________________________________________\n",
      "dense_4 (Dense)              (None, 1)                 257       \n",
      "=================================================================\n",
      "Total params: 2,097,665\n",
      "Trainable params: 2,097,665\n",
      "Non-trainable params: 0\n",
      "_________________________________________________________________\n",
      "None\n",
      "Train on 2000 samples, validate on 2000 samples\n",
      "Epoch 1/50\n",
      "2000/2000 [==============================] - 1s - loss: 0.6908 - acc: 0.7565 - val_loss: 0.4513 - val_acc: 0.7985\n",
      "Epoch 2/50\n",
      "2000/2000 [==============================] - 1s - loss: 0.3828 - acc: 0.8360 - val_loss: 0.2812 - val_acc: 0.8765\n",
      "Epoch 3/50\n",
      "2000/2000 [==============================] - 1s - loss: 0.3425 - acc: 0.8580 - val_loss: 0.3315 - val_acc: 0.8625\n",
      "Epoch 4/50\n",
      "2000/2000 [==============================] - 1s - loss: 0.2868 - acc: 0.8795 - val_loss: 0.3592 - val_acc: 0.8565\n",
      "Epoch 5/50\n",
      "2000/2000 [==============================] - 1s - loss: 0.2318 - acc: 0.9075 - val_loss: 0.3878 - val_acc: 0.8760\n",
      "Epoch 6/50\n",
      "2000/2000 [==============================] - 1s - loss: 0.2047 - acc: 0.9130 - val_loss: 0.3410 - val_acc: 0.8765\n",
      "Epoch 7/50\n",
      "2000/2000 [==============================] - 1s - loss: 0.1834 - acc: 0.9280 - val_loss: 0.2984 - val_acc: 0.8925\n",
      "Epoch 8/50\n",
      "2000/2000 [==============================] - 1s - loss: 0.1651 - acc: 0.9330 - val_loss: 0.4032 - val_acc: 0.8785\n",
      "Epoch 9/50\n",
      "2000/2000 [==============================] - 1s - loss: 0.1442 - acc: 0.9435 - val_loss: 0.4213 - val_acc: 0.8765\n",
      "Epoch 10/50\n",
      "2000/2000 [==============================] - 1s - loss: 0.1246 - acc: 0.9465 - val_loss: 0.3818 - val_acc: 0.8915\n",
      "Epoch 11/50\n",
      "2000/2000 [==============================] - 1s - loss: 0.1228 - acc: 0.9575 - val_loss: 0.5607 - val_acc: 0.8755\n",
      "Epoch 12/50\n",
      "2000/2000 [==============================] - 1s - loss: 0.0951 - acc: 0.9655 - val_loss: 0.4063 - val_acc: 0.8895\n",
      "Epoch 13/50\n",
      "2000/2000 [==============================] - 1s - loss: 0.1019 - acc: 0.9605 - val_loss: 0.4987 - val_acc: 0.8770\n",
      "Epoch 14/50\n",
      "2000/2000 [==============================] - 1s - loss: 0.1048 - acc: 0.9620 - val_loss: 0.6693 - val_acc: 0.8630\n",
      "Epoch 15/50\n",
      "2000/2000 [==============================] - 1s - loss: 0.0725 - acc: 0.9715 - val_loss: 0.5412 - val_acc: 0.8930\n",
      "Epoch 16/50\n",
      "2000/2000 [==============================] - 1s - loss: 0.0882 - acc: 0.9720 - val_loss: 0.5297 - val_acc: 0.8905\n",
      "Epoch 17/50\n",
      "2000/2000 [==============================] - 1s - loss: 0.0738 - acc: 0.9745 - val_loss: 0.5677 - val_acc: 0.8765\n",
      "Epoch 18/50\n",
      "2000/2000 [==============================] - 1s - loss: 0.0539 - acc: 0.9765 - val_loss: 0.5407 - val_acc: 0.8855\n",
      "Epoch 19/50\n",
      "2000/2000 [==============================] - 1s - loss: 0.0675 - acc: 0.9775 - val_loss: 0.5577 - val_acc: 0.8945\n",
      "Epoch 20/50\n",
      "2000/2000 [==============================] - 1s - loss: 0.0503 - acc: 0.9835 - val_loss: 0.7312 - val_acc: 0.8730\n",
      "Epoch 21/50\n",
      "2000/2000 [==============================] - 1s - loss: 0.0531 - acc: 0.9820 - val_loss: 0.8360 - val_acc: 0.8770\n",
      "Epoch 22/50\n",
      "2000/2000 [==============================] - 1s - loss: 0.0579 - acc: 0.9800 - val_loss: 0.6493 - val_acc: 0.8835\n",
      "Epoch 23/50\n",
      "2000/2000 [==============================] - 1s - loss: 0.0387 - acc: 0.9865 - val_loss: 0.6570 - val_acc: 0.8875\n",
      "Epoch 24/50\n",
      "2000/2000 [==============================] - 1s - loss: 0.0462 - acc: 0.9845 - val_loss: 0.7374 - val_acc: 0.8875\n",
      "Epoch 25/50\n",
      "2000/2000 [==============================] - 1s - loss: 0.0340 - acc: 0.9880 - val_loss: 0.8642 - val_acc: 0.8715\n",
      "Epoch 26/50\n",
      "2000/2000 [==============================] - 1s - loss: 0.0423 - acc: 0.9885 - val_loss: 0.8908 - val_acc: 0.8655\n",
      "Epoch 27/50\n",
      "2000/2000 [==============================] - 1s - loss: 0.0364 - acc: 0.9860 - val_loss: 0.7280 - val_acc: 0.8840\n",
      "Epoch 28/50\n",
      "2000/2000 [==============================] - 1s - loss: 0.0348 - acc: 0.9890 - val_loss: 0.7064 - val_acc: 0.8885\n",
      "Epoch 29/50\n",
      "2000/2000 [==============================] - 1s - loss: 0.0256 - acc: 0.9890 - val_loss: 0.7440 - val_acc: 0.8845\n",
      "Epoch 30/50\n",
      "2000/2000 [==============================] - 1s - loss: 0.0316 - acc: 0.9895 - val_loss: 1.1362 - val_acc: 0.8550\n",
      "Epoch 31/50\n",
      "2000/2000 [==============================] - 1s - loss: 0.0341 - acc: 0.9890 - val_loss: 0.8426 - val_acc: 0.8915\n",
      "Epoch 32/50\n",
      "2000/2000 [==============================] - 1s - loss: 0.0229 - acc: 0.9935 - val_loss: 0.9229 - val_acc: 0.8815\n",
      "Epoch 33/50\n",
      "2000/2000 [==============================] - 1s - loss: 0.0243 - acc: 0.9910 - val_loss: 0.8932 - val_acc: 0.8865\n",
      "Epoch 34/50\n",
      "2000/2000 [==============================] - 1s - loss: 0.0242 - acc: 0.9945 - val_loss: 0.8772 - val_acc: 0.8805\n",
      "Epoch 35/50\n",
      "2000/2000 [==============================] - 1s - loss: 0.0127 - acc: 0.9950 - val_loss: 0.8827 - val_acc: 0.8830\n",
      "Epoch 36/50\n",
      "2000/2000 [==============================] - 1s - loss: 0.0225 - acc: 0.9940 - val_loss: 0.8687 - val_acc: 0.8855\n",
      "Epoch 37/50\n",
      "2000/2000 [==============================] - 1s - loss: 0.0238 - acc: 0.9915 - val_loss: 0.8576 - val_acc: 0.8865\n",
      "Epoch 38/50\n",
      "2000/2000 [==============================] - 1s - loss: 0.0215 - acc: 0.9935 - val_loss: 0.9296 - val_acc: 0.8810\n",
      "Epoch 39/50\n",
      "2000/2000 [==============================] - 1s - loss: 0.0159 - acc: 0.9945 - val_loss: 0.8934 - val_acc: 0.8835\n",
      "Epoch 40/50\n",
      "2000/2000 [==============================] - 1s - loss: 0.0153 - acc: 0.9945 - val_loss: 1.0524 - val_acc: 0.8750\n",
      "Epoch 41/50\n",
      "2000/2000 [==============================] - 1s - loss: 0.0398 - acc: 0.9930 - val_loss: 0.8895 - val_acc: 0.8920\n",
      "Epoch 42/50\n",
      "2000/2000 [==============================] - 1s - loss: 0.0251 - acc: 0.9935 - val_loss: 0.9806 - val_acc: 0.8810\n",
      "Epoch 43/50\n",
      "2000/2000 [==============================] - 1s - loss: 0.0094 - acc: 0.9955 - val_loss: 0.9600 - val_acc: 0.8900\n",
      "Epoch 44/50\n",
      "2000/2000 [==============================] - 1s - loss: 0.0349 - acc: 0.9915 - val_loss: 1.0208 - val_acc: 0.8865\n",
      "Epoch 45/50\n",
      "2000/2000 [==============================] - 1s - loss: 0.0142 - acc: 0.9975 - val_loss: 0.9327 - val_acc: 0.8905\n",
      "Epoch 46/50\n",
      "2000/2000 [==============================] - 1s - loss: 0.0118 - acc: 0.9975 - val_loss: 1.0065 - val_acc: 0.8870\n",
      "Epoch 47/50\n",
      "2000/2000 [==============================] - 1s - loss: 0.0049 - acc: 0.9965 - val_loss: 1.0093 - val_acc: 0.8895\n",
      "Epoch 48/50\n",
      "2000/2000 [==============================] - 1s - loss: 0.0221 - acc: 0.9950 - val_loss: 0.9989 - val_acc: 0.8865\n",
      "Epoch 49/50\n",
      "2000/2000 [==============================] - 1s - loss: 0.0178 - acc: 0.9955 - val_loss: 1.1051 - val_acc: 0.8820\n",
      "Epoch 50/50\n",
      "2000/2000 [==============================] - 1s - loss: 0.0142 - acc: 0.9950 - val_loss: 0.9219 - val_acc: 0.8885\n"
     ]
    }
   ],
   "source": [
    "train_data = bottleneck_features_train\n",
    "train_labels = np.array([0] * int(nb_train_samples / 2) + [1] * int(nb_train_samples / 2))\n",
    "\n",
    "validation_data = bottleneck_features_validation\n",
    "validation_labels = np.array([0] * int(nb_validation_samples / 2) + [1] * int(nb_validation_samples / 2))\n",
    "\n",
    "model = Sequential()\n",
    "model.add(Flatten(input_shape=train_data.shape[1:]))\n",
    "model.add(Dense(256, activation='relu'))\n",
    "model.add(Dropout(0.5))\n",
    "model.add(Dense(1, activation='sigmoid'))\n",
    "\n",
    "model.compile(optimizer='rmsprop', loss='binary_crossentropy', metrics=['accuracy'])\n",
    "\n",
    "print (model.summary())\n",
    "\n",
    "history = model.fit(train_data, train_labels,\n",
    "          epochs=epochs,\n",
    "          batch_size=batch_size,\n",
    "          validation_data=(validation_data, validation_labels))\n",
    "model.save_weights(top_model_weights_path)\n"
   ]
  },
  {
   "cell_type": "code",
   "execution_count": 39,
   "metadata": {},
   "outputs": [
    {
     "name": "stdout",
     "output_type": "stream",
     "text": [
      "dict_keys(['acc', 'val_loss', 'loss', 'val_acc'])\n"
     ]
    }
   ],
   "source": [
    "print(history.history.keys()) "
   ]
  },
  {
   "cell_type": "code",
   "execution_count": 41,
   "metadata": {},
   "outputs": [
    {
     "data": {
      "image/png": "[encoded data removed]",
      "text/plain": [
       "<matplotlib.figure.Figure at 0x7f070cd44320>"
      ]
     },
     "metadata": {},
     "output_type": "display_data"
    }
   ],
   "source": [
    "plt.figure(1, figsize=(20,10))  \n",
    "#odd. need to run above twice to set plot size\n",
    "plt.subplot(211)  \n",
    "plt.plot(history.history['acc'])  \n",
    "plt.plot(history.history['val_acc'])  \n",
    "plt.title('model accuracy')  \n",
    "plt.ylabel('accuracy')  \n",
    "plt.xlabel('epoch')  \n",
    "plt.legend(['train', 'test'], loc='upper left')  \n",
    "plt.subplot(212)  \n",
    "plt.plot(history.history['loss'])  \n",
    "plt.plot(history.history['val_loss'])  \n",
    "plt.title('model loss')  \n",
    "plt.ylabel('loss')  \n",
    "plt.xlabel('epoch')  \n",
    "plt.legend(['train', 'test'], loc='upper left')  \n",
    "plt.show()  \n"
   ]
  },
  {
   "cell_type": "code",
   "execution_count": 43,
   "metadata": {},
   "outputs": [
    {
     "name": "stdout",
     "output_type": "stream",
     "text": [
      "top_model_complete_path: /home/ubuntu/fastai/data/dogscats/models/bottleneck_fc_model_complete.h5\n"
     ]
    }
   ],
   "source": [
    "print (\"top_model_complete_path:\", top_model_complete_path)"
   ]
  },
  {
   "cell_type": "code",
   "execution_count": 44,
   "metadata": {},
   "outputs": [],
   "source": [
    "model.save(top_model_complete_path)"
   ]
  },
  {
   "cell_type": "code",
   "execution_count": 45,
   "metadata": {},
   "outputs": [
    {
     "data": {
      "text/plain": [
       "keras.models.Sequential"
      ]
     },
     "execution_count": 45,
     "metadata": {},
     "output_type": "execute_result"
    }
   ],
   "source": [
    "type(model)"
   ]
  },
  {
   "cell_type": "code",
   "execution_count": 49,
   "metadata": {},
   "outputs": [],
   "source": [
    "from sklearn.metrics import confusion_matrix"
   ]
  },
  {
   "cell_type": "code",
   "execution_count": null,
   "metadata": {},
   "outputs": [],
   "source": [
    "#model.predict(x, batch_size=32, verbose=0)"
   ]
  }
 ],
 "metadata": {
  "kernelspec": {
   "display_name": "Python 3",
   "language": "python",
   "name": "python3"
  },
  "language_info": {
   "codemirror_mode": {
    "name": "ipython",
    "version": 3
   },
   "file_extension": ".py",
   "mimetype": "text/x-python",
   "name": "python",
   "nbconvert_exporter": "python",
   "pygments_lexer": "ipython3",
   "version": "3.5.2"
  }
 },
 "nbformat": 4,
 "nbformat_minor": 2
}
