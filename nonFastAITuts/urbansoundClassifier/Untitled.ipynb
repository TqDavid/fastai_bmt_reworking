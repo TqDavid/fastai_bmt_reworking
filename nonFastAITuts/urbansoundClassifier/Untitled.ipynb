{
 "cells": [
  {
   "cell_type": "code",
   "execution_count": 23,
   "metadata": {},
   "outputs": [],
   "source": [
    "import glob\n",
    "import os\n",
    "import librosa\n",
    "import matplotlib.pyplot as plt\n",
    "import tensorflow as tf\n",
    "import numpy as np\n",
    "import pickle\n",
    "from sklearn.model_selection import train_test_split\n",
    "\n",
    "from keras.models import Sequential\n",
    "from keras import backend as K\n",
    "K.set_image_dim_ordering('th')\n",
    "from keras.layers import Dense, Dropout, Activation, Flatten\n",
    "from keras.layers import Convolution2D, MaxPooling2D\n",
    "from keras.utils import np_utils\n",
    "from matplotlib import pyplot as plt\n",
    "\n",
    "%matplotlib inline\n",
    "plt.style.use('ggplot')\n",
    "\n",
    "plt.rcParams['font.family'] = 'serif'\n",
    "plt.rcParams['font.serif'] = 'Ubuntu'\n",
    "plt.rcParams['font.monospace'] = 'Ubuntu Mono'\n",
    "plt.rcParams['font.size'] = 12\n",
    "plt.rcParams['axes.labelsize'] = 11\n",
    "plt.rcParams['axes.labelweight'] = 'bold'\n",
    "plt.rcParams['axes.titlesize'] = 12\n",
    "plt.rcParams['xtick.labelsize'] = 9\n",
    "plt.rcParams['ytick.labelsize'] = 9\n",
    "plt.rcParams['legend.fontsize'] = 11\n",
    "plt.rcParams['figure.titlesize'] = 13"
   ]
  },
  {
   "cell_type": "code",
   "execution_count": 2,
   "metadata": {},
   "outputs": [],
   "source": [
    "#set FIXED variables\n",
    "#HOMEPATH = \"/home/ubuntu/fastai/\"\n",
    "DATATPATH = \"/home/ubuntu/fastai/data/urbanSound8k/\""
   ]
  },
  {
   "cell_type": "code",
   "execution_count": 3,
   "metadata": {},
   "outputs": [
    {
     "name": "stdout",
     "output_type": "stream",
     "text": [
      "/home/ubuntu/fastai/data/urbanSound8k/\n",
      "current working directory: /home/ubuntu/fastai/data/urbanSound8k\n",
      "features: <class 'numpy.ndarray'> (10834, 60, 41, 2)\n",
      "labels: <class 'numpy.ndarray'> (10834, 10)\n"
     ]
    }
   ],
   "source": [
    "#save features & labels to file, enable restart from pre-compiled position.\n",
    "os.chdir(DATATPATH)\n",
    "print (DATATPATH)\n",
    "print (\"current working directory:\", os.getcwd())\n",
    "\n",
    "features = pickle.load( open(DATATPATH+\"features.p\", \"rb\" ) )\n",
    "print (\"features:\", type(features), features.shape)\n",
    "labels   = pickle.load( open(DATATPATH+\"labels.p\", \"rb\" ) )\n",
    "print (\"labels:\", type(labels), labels.shape)"
   ]
  },
  {
   "cell_type": "code",
   "execution_count": 4,
   "metadata": {},
   "outputs": [
    {
     "name": "stdout",
     "output_type": "stream",
     "text": [
      "features: <class 'numpy.ndarray'> (10834, 60, 41, 2)\n",
      "labels: <class 'numpy.ndarray'> (10834, 10)\n"
     ]
    }
   ],
   "source": [
    "print (\"features:\", type(features), features.shape)\n",
    "print (\"labels:\", type(labels), labels.shape)"
   ]
  },
  {
   "cell_type": "code",
   "execution_count": 16,
   "metadata": {},
   "outputs": [
    {
     "name": "stdout",
     "output_type": "stream",
     "text": [
      "[ -4.65151848  -1.31285457  -1.65262304  -6.72361311  -4.8889222\n",
      "   1.82149556  -2.55025285   3.90802482   8.29381903  -0.31519728\n",
      "  -3.76837889 -12.65189801  -8.11146068 -10.29763134  -4.9669728\n",
      "  -8.70962613  -5.38064034   3.02321484   4.37861116  -0.70257035\n",
      "  -0.68682496   1.31169851  -9.09814649  -6.46726846  -6.84653142\n",
      "  -0.31793277  -4.25816004 -18.04776818 -12.77938357 -10.22340334\n",
      "  -7.02880546  -8.67053971  -2.82096537   8.78603441   5.81997065\n",
      "  -8.88676467  -5.80862384  -1.52349012 -10.80157857 -19.35626079\n",
      "  -9.59624059]\n",
      "labels: [ 0.  0.  1.  0.  0.  0.  0.  0.  0.  0.]\n"
     ]
    }
   ],
   "source": [
    "print (features[0,0,:,0])\n",
    "print (\"labels:\", labels[0])"
   ]
  },
  {
   "cell_type": "code",
   "execution_count": 13,
   "metadata": {},
   "outputs": [
    {
     "name": "stdout",
     "output_type": "stream",
     "text": [
      "38.679039158\n",
      "-100.0\n"
     ]
    }
   ],
   "source": [
    "print (np.amax(features))\n",
    "print (np.min(features))\n"
   ]
  },
  {
   "cell_type": "code",
   "execution_count": 19,
   "metadata": {},
   "outputs": [
    {
     "name": "stdout",
     "output_type": "stream",
     "text": [
      "features: <class 'numpy.ndarray'> (10834, 60, 41, 2)\n",
      "labels: <class 'numpy.ndarray'> (10834, 10)\n",
      "X_train: <class 'numpy.ndarray'> (7258, 60, 41, 2)\n",
      "X_test: <class 'numpy.ndarray'> (3576, 60, 41, 2)\n",
      "y_train: <class 'numpy.ndarray'> (7258, 10)\n",
      "y_test: <class 'numpy.ndarray'> (3576, 10)\n"
     ]
    }
   ],
   "source": [
    "print (\"features:\", type(features), features.shape)\n",
    "print (\"labels:\", type(labels), labels.shape)\n",
    "X_train, X_test, y_train, y_test = train_test_split(features, labels , test_size=0.33, random_state=42)\n",
    "print (\"X_train:\", type(X_train), X_train.shape)\n",
    "print (\"X_test:\", type(X_test), X_test.shape)\n",
    "print (\"y_train:\", type(y_train), y_train.shape)\n",
    "print (\"y_test:\", type(y_test), y_test.shape)"
   ]
  },
  {
   "cell_type": "code",
   "execution_count": 22,
   "metadata": {},
   "outputs": [],
   "source": [
    "model = Sequential()"
   ]
  },
  {
   "cell_type": "code",
   "execution_count": 24,
   "metadata": {},
   "outputs": [
    {
     "name": "stdout",
     "output_type": "stream",
     "text": [
      "_________________________________________________________________\n",
      "Layer (type)                 Output Shape              Param #   \n",
      "=================================================================\n",
      "Total params: 0\n",
      "Trainable params: 0\n",
      "Non-trainable params: 0\n",
      "_________________________________________________________________\n"
     ]
    }
   ],
   "source": [
    "model.summary()"
   ]
  },
  {
   "cell_type": "code",
   "execution_count": 25,
   "metadata": {},
   "outputs": [
    {
     "name": "stdout",
     "output_type": "stream",
     "text": [
      "(60, 41, 2)\n"
     ]
    }
   ],
   "source": [
    "print (X_train[0].shape)"
   ]
  },
  {
   "cell_type": "code",
   "execution_count": 26,
   "metadata": {},
   "outputs": [
    {
     "name": "stderr",
     "output_type": "stream",
     "text": [
      "/usr/local/lib/python3.5/dist-packages/ipykernel_launcher.py:1: UserWarning: Update your `Conv2D` call to the Keras 2 API: `Conv2D(32, (3, 3), activation=\"relu\", input_shape=(60, 41, 2...)`\n",
      "  \"\"\"Entry point for launching an IPython kernel.\n"
     ]
    }
   ],
   "source": [
    "model.add(Convolution2D(32, 3, 3, activation='relu', input_shape=X_train[0].shape))"
   ]
  },
  {
   "cell_type": "code",
   "execution_count": null,
   "metadata": {},
   "outputs": [],
   "source": []
  }
 ],
 "metadata": {
  "kernelspec": {
   "display_name": "Python 3",
   "language": "python",
   "name": "python3"
  },
  "language_info": {
   "codemirror_mode": {
    "name": "ipython",
    "version": 3
   },
   "file_extension": ".py",
   "mimetype": "text/x-python",
   "name": "python",
   "nbconvert_exporter": "python",
   "pygments_lexer": "ipython3",
   "version": "3.5.2"
  }
 },
 "nbformat": 4,
 "nbformat_minor": 2
}
