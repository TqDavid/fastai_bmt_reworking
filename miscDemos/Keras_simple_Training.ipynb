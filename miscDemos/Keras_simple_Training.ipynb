{
 "cells": [
  {
   "cell_type": "code",
   "execution_count": 1,
   "metadata": {},
   "outputs": [
    {
     "name": "stderr",
     "output_type": "stream",
     "text": [
      "Using TensorFlow backend.\n"
     ]
    }
   ],
   "source": [
    "import numpy as np\n",
    "from keras.models import Sequential\n",
    "from keras.layers import Dense, Dropout, Activation, Flatten\n",
    "from keras.utils import *\n",
    "import keras"
   ]
  },
  {
   "cell_type": "code",
   "execution_count": 2,
   "metadata": {},
   "outputs": [
    {
     "name": "stdout",
     "output_type": "stream",
     "text": [
      "('data.shape:', (1000, 100))\n",
      "Epoch 1/10\n",
      "1000/1000 [==============================] - 1s 713us/step - loss: nan - acc: 0.0120\n",
      "Epoch 2/10\n",
      "1000/1000 [==============================] - 0s 88us/step - loss: nan - acc: 0.0000e+00\n",
      "Epoch 3/10\n",
      "1000/1000 [==============================] - 0s 87us/step - loss: nan - acc: 0.0000e+00\n",
      "Epoch 4/10\n",
      "1000/1000 [==============================] - 0s 87us/step - loss: nan - acc: 0.0000e+00\n",
      "Epoch 5/10\n",
      "1000/1000 [==============================] - 0s 92us/step - loss: nan - acc: 0.0000e+00\n",
      "Epoch 6/10\n",
      "1000/1000 [==============================] - 0s 88us/step - loss: nan - acc: 0.0000e+00\n",
      "Epoch 7/10\n",
      "1000/1000 [==============================] - 0s 86us/step - loss: nan - acc: 0.0000e+00\n",
      "Epoch 8/10\n",
      "1000/1000 [==============================] - 0s 88us/step - loss: nan - acc: 0.0000e+00\n",
      "Epoch 9/10\n",
      "1000/1000 [==============================] - 0s 89us/step - loss: nan - acc: 0.0000e+00\n",
      "Epoch 10/10\n",
      "1000/1000 [==============================] - 0s 88us/step - loss: nan - acc: 0.0000e+00\n"
     ]
    },
    {
     "data": {
      "text/plain": [
       "<keras.callbacks.History at 0x7ff8c2957350>"
      ]
     },
     "execution_count": 2,
     "metadata": {},
     "output_type": "execute_result"
    }
   ],
   "source": [
    "# For a single-input model with 2 classes (binary classification):\n",
    "\n",
    "model = Sequential()\n",
    "model.add(Dense(32, activation='relu', input_dim=100))\n",
    "model.add(Dense(1, activation='sigmoid'))\n",
    "#model.compile(optimizer='rmsprop', loss='binary_crossentropy', metrics=['accuracy'])\n",
    "\n",
    "model.compile(optimizer='rmsprop', loss='sparse_categorical_crossentropy', metrics=['accuracy'])\n",
    "\n",
    "# Generate dummy data\n",
    "import numpy as np\n",
    "data = np.random.random((1000, 100))\n",
    "print (\"data.shape:\", data.shape)\n",
    "labels = np.random.randint(2, size=(1000, 1))\n",
    "\n",
    "# Train the model, iterating on the data in batches of 32 samples\n",
    "model.fit(data, labels, epochs=10, batch_size=32)"
   ]
  },
  {
   "cell_type": "code",
   "execution_count": 4,
   "metadata": {},
   "outputs": [
    {
     "name": "stdout",
     "output_type": "stream",
     "text": [
      "(<type 'list'>, 2)\n",
      "('one_hot_labels.shape:', (1000, 1, 10))\n",
      "Epoch 1/10\n",
      "1000/1000 [==============================] - 0s 165us/step - loss: 2.3322 - acc: 0.1190\n",
      "Epoch 2/10\n",
      "1000/1000 [==============================] - 0s 92us/step - loss: 2.2969 - acc: 0.1200\n",
      "Epoch 3/10\n",
      "1000/1000 [==============================] - 0s 93us/step - loss: 2.2859 - acc: 0.1280\n",
      "Epoch 4/10\n",
      "1000/1000 [==============================] - 0s 94us/step - loss: 2.2749 - acc: 0.1490\n",
      "Epoch 5/10\n",
      "1000/1000 [==============================] - 0s 93us/step - loss: 2.2663 - acc: 0.1600\n",
      "Epoch 6/10\n",
      "1000/1000 [==============================] - 0s 93us/step - loss: 2.2582 - acc: 0.1610\n",
      "Epoch 7/10\n",
      "1000/1000 [==============================] - 0s 98us/step - loss: 2.2506 - acc: 0.1570\n",
      "Epoch 8/10\n",
      "1000/1000 [==============================] - 0s 95us/step - loss: 2.2417 - acc: 0.1640\n",
      "Epoch 9/10\n",
      "1000/1000 [==============================] - 0s 95us/step - loss: 2.2310 - acc: 0.1670\n",
      "Epoch 10/10\n",
      "1000/1000 [==============================] - 0s 94us/step - loss: 2.2191 - acc: 0.1810\n"
     ]
    },
    {
     "data": {
      "text/plain": [
       "<keras.callbacks.History at 0x7ff8a40e1d10>"
      ]
     },
     "execution_count": 4,
     "metadata": {},
     "output_type": "execute_result"
    }
   ],
   "source": [
    "\n",
    "\n",
    "# For a single-input model with 10 classes (categorical classification):\n",
    "\n",
    "model = Sequential()\n",
    "model.add(Dense(32, activation='relu', input_dim=100))\n",
    "model.add(Dense(10, activation='softmax'))\n",
    "#model.compile(optimizer='rmsprop', loss='categorical_crossentropy', metrics=['accuracy'])\n",
    "\n",
    "model.compile(optimizer='rmsprop', loss='sparse_categorical_crossentropy', metrics=['accuracy'])\n",
    "\n",
    "print (type(model.layers), len(model.layers))\n",
    "\n",
    "\n",
    "# Generate dummy data\n",
    "import numpy as np\n",
    "data = np.random.random((1000, 100))\n",
    "labels = np.random.randint(10, size=(1000, 1))\n",
    "\n",
    "# Convert labels to categorical one-hot encoding\n",
    "one_hot_labels = keras.utils.to_categorical(labels, num_classes=10)\n",
    "print (\"one_hot_labels.shape:\", one_hot_labels.shape)\n",
    "\n",
    "# Train the model, iterating on the data in batches of 32 samples\n",
    "\n",
    "#model.fit(data, one_hot_labels, epochs=10, batch_size=32)\n",
    "model.fit(data, labels, epochs=10, batch_size=32)"
   ]
  },
  {
   "cell_type": "code",
   "execution_count": null,
   "metadata": {},
   "outputs": [],
   "source": []
  },
  {
   "cell_type": "code",
   "execution_count": null,
   "metadata": {},
   "outputs": [],
   "source": []
  }
 ],
 "metadata": {
  "kernelspec": {
   "display_name": "Python 2",
   "language": "python",
   "name": "python2"
  },
  "language_info": {
   "codemirror_mode": {
    "name": "ipython",
    "version": 2
   },
   "file_extension": ".py",
   "mimetype": "text/x-python",
   "name": "python",
   "nbconvert_exporter": "python",
   "pygments_lexer": "ipython2",
   "version": "2.7.12"
  }
 },
 "nbformat": 4,
 "nbformat_minor": 2
}
