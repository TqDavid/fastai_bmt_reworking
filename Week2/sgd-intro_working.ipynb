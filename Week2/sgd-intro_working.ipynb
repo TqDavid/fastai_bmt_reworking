{
 "cells": [
  {
   "cell_type": "markdown",
   "metadata": {
    "toc": "true"
   },
   "source": [
    "# Table of Contents\n",
    " <p>"
   ]
  },
  {
   "cell_type": "code",
   "execution_count": 18,
   "metadata": {},
   "outputs": [],
   "source": [
    "%matplotlib inline\n",
    "import base64\n",
    "import math,sys,os,numpy as np\n",
    "from numpy.random import random\n",
    "from matplotlib import pyplot as plt, rcParams, animation, rc\n",
    "from __future__ import print_function, division\n",
    "from ipywidgets import interact, interactive, fixed\n",
    "from ipywidgets.widgets import *\n",
    "rc('animation', html='html5')\n",
    "rcParams['figure.figsize'] = 3, 3\n",
    "%precision 4\n",
    "np.set_printoptions(precision=4, linewidth=100)"
   ]
  },
  {
   "cell_type": "code",
   "execution_count": 4,
   "metadata": {},
   "outputs": [
    {
     "name": "stdout",
     "output_type": "stream",
     "text": [
      "[u'imagemagick_file', u'html', u'imagemagick', u'ffmpeg', u'ffmpeg_file']\n"
     ]
    }
   ],
   "source": [
    "import matplotlib\n",
    "#debugging - show list of available animation writers\n",
    "#nbb: had to install ffmpeg as root, was not in standard install\n",
    "print(matplotlib.animation.writers.list())"
   ]
  },
  {
   "cell_type": "code",
   "execution_count": 5,
   "metadata": {},
   "outputs": [],
   "source": [
    "def lin(a,b,x): return a*x+b"
   ]
  },
  {
   "cell_type": "code",
   "execution_count": 6,
   "metadata": {},
   "outputs": [],
   "source": [
    "a=3.\n",
    "b=8."
   ]
  },
  {
   "cell_type": "code",
   "execution_count": 7,
   "metadata": {},
   "outputs": [],
   "source": [
    "n=30\n",
    "x = random(n)\n",
    "y = lin(a,b,x)"
   ]
  },
  {
   "cell_type": "code",
   "execution_count": 8,
   "metadata": {},
   "outputs": [
    {
     "data": {
      "text/plain": [
       "array([ 0.699 ,  0.0608,  0.0898,  0.1754,  0.3973,  0.2946,  0.5694,  0.3142,  0.3192,  0.3596,\n",
       "        0.5375,  0.0932,  0.3776,  0.0538,  0.474 ,  0.5174,  0.6196,  0.0924,  0.201 ,  0.5327,\n",
       "        0.3333,  0.1629,  0.6978,  0.2295,  0.6033,  0.3924,  0.7795,  0.045 ,  0.3927,  0.6991])"
      ]
     },
     "execution_count": 8,
     "metadata": {},
     "output_type": "execute_result"
    }
   ],
   "source": [
    "x"
   ]
  },
  {
   "cell_type": "code",
   "execution_count": 9,
   "metadata": {},
   "outputs": [
    {
     "data": {
      "text/plain": [
       "array([ 10.097 ,   8.1824,   8.2695,   8.5261,   9.1919,   8.8837,   9.7081,   8.9426,   8.9575,\n",
       "         9.0788,   9.6124,   8.2796,   9.1328,   8.1615,   9.4221,   9.5523,   9.8587,   8.2771,\n",
       "         8.6029,   9.5981,   8.9999,   8.4888,  10.0935,   8.6885,   9.8098,   9.1772,  10.3385,\n",
       "         8.1351,   9.1782,  10.0973])"
      ]
     },
     "execution_count": 9,
     "metadata": {},
     "output_type": "execute_result"
    }
   ],
   "source": [
    "y"
   ]
  },
  {
   "cell_type": "code",
   "execution_count": 10,
   "metadata": {},
   "outputs": [
    {
     "data": {
      "text/plain": [
       "<matplotlib.collections.PathCollection at 0x7f095069f510>"
      ]
     },
     "execution_count": 10,
     "metadata": {},
     "output_type": "execute_result"
    },
    {
     "data": {
      "image/png": "[encoded data removed]",
      "text/plain": [
       "<matplotlib.figure.Figure at 0x7f096aebe590>"
      ]
     },
     "metadata": {},
     "output_type": "display_data"
    }
   ],
   "source": [
    "plt.scatter(x,y)"
   ]
  },
  {
   "cell_type": "code",
   "execution_count": 11,
   "metadata": {},
   "outputs": [],
   "source": [
    "def sse(y,y_pred): return ((y-y_pred)**2).sum()\n",
    "def loss(y,a,b,x): return sse(y, lin(a,b,x))\n",
    "def avg_loss(y,a,b,x): return np.sqrt(loss(y,a,b,x)/n)"
   ]
  },
  {
   "cell_type": "code",
   "execution_count": 12,
   "metadata": {},
   "outputs": [
    {
     "data": {
      "text/plain": [
       "8.5262"
      ]
     },
     "execution_count": 12,
     "metadata": {},
     "output_type": "execute_result"
    }
   ],
   "source": [
    "a_guess=-1.\n",
    "b_guess=1.\n",
    "avg_loss(y, a_guess, b_guess, x)"
   ]
  },
  {
   "cell_type": "code",
   "execution_count": 13,
   "metadata": {},
   "outputs": [],
   "source": [
    "lr=0.01\n",
    "# d[(y-(a*x+b))**2,b] = 2 (b + a x - y)      = 2 (y_pred - y)\n",
    "# d[(y-(a*x+b))**2,a] = 2 x (b + a x - y)    = x * dy/db"
   ]
  },
  {
   "cell_type": "code",
   "execution_count": 14,
   "metadata": {},
   "outputs": [],
   "source": [
    "def upd():\n",
    "    global a_guess, b_guess\n",
    "    y_pred = lin(a_guess, b_guess, x)\n",
    "    dydb = 2 * (y_pred - y)\n",
    "    dyda = x*dydb\n",
    "    a_guess -= lr*dyda.mean()\n",
    "    b_guess -= lr*dydb.mean()"
   ]
  },
  {
   "cell_type": "code",
   "execution_count": 15,
   "metadata": {},
   "outputs": [],
   "source": [
    "fig = plt.figure(dpi=100, figsize=(5, 4))\n",
    "plt.scatter(x,y)\n",
    "line, = plt.plot(x,lin(a_guess,b_guess,x))\n",
    "plt.close()"
   ]
  },
  {
   "cell_type": "code",
   "execution_count": 16,
   "metadata": {},
   "outputs": [
    {
     "data": {
      "text/html": [
       "<video width=\"500\" height=\"400\" controls autoplay loop>\n",
       "  <source type=\"video/mp4\" src=\"data:video/mp4;base64,AAAAHGZ0eXBNNFYgAAACAGlzb21pc28yYXZjMQAAAAhmcmVlAABNZW1kYXQAAAKuBgX//6rcRem9\n",
       "5tlIt5Ys2CDZI+7veDI2NCAtIGNvcmUgMTQ4IHIyNjQzIDVjNjU3MDQgLSBILjI2NC9NUEVHLTQg\n",
       "QVZDIGNvZGVjIC0gQ29weWxlZnQgMjAwMy0yMDE1IC0gaHR0cDovL3d3dy52aWRlb2xhbi5vcmcv\n",
       "eDI2NC5odG1sIC0gb3B0aW9uczogY2FiYWM9MSByZWY9MyBkZWJsb2NrPTE6MDowIGFuYWx5c2U9\n",
       "MHgzOjB4MTEzIG1lPWhleCBzdWJtZT03IHBzeT0xIHBzeV9yZD0xLjAwOjAuMDAgbWl4ZWRfcmVm\n",
       "PTEgbWVfcmFuZ2U9MTYgY2hyb21hX21lPTEgdHJlbGxpcz0xIDh4OGRjdD0xIGNxbT0wIGRlYWR6\n",
       "b25lPTIxLDExIGZhc3RfcHNraXA9MSBjaHJvbWFfcXBfb2Zmc2V0PS0yIHRocmVhZHM9NiBsb29r\n",
       "YWhlYWRfdGhyZWFkcz0xIHNsaWNlZF90aHJlYWRzPTAgbnI9MCBkZWNpbWF0ZT0xIGludGVybGFj\n",
       "ZWQ9MCBibHVyYXlfY29tcGF0PTAgY29uc3RyYWluZWRfaW50cmE9MCBiZnJhbWVzPTMgYl9weXJh\n",
       "bWlkPTIgYl9hZGFwdD0xIGJfYmlhcz0wIGRpcmVjdD0xIHdlaWdodGI9MSBvcGVuX2dvcD0wIHdl\n",
       "aWdodHA9MiBrZXlpbnQ9MjUwIGtleWludF9taW49MTAgc2NlbmVjdXQ9NDAgaW50cmFfcmVmcmVz\n",
       "aD0wIHJjX2xvb2thaGVhZD00MCByYz1jcmYgbWJ0cmVlPTEgY3JmPTIzLjAgcWNvbXA9MC42MCBx\n",
       "cG1pbj0wIHFwbWF4PTY5IHFwc3RlcD00IGlwX3JhdGlvPTEuNDAgYXE9MToxLjAwAIAAABT2ZYiE\n",
       "AD///vdonwKbWkN6gOSVxSXbT4H/q2dwfI/pAwAAAwAAAwAkAvzHv6EHQzQgAABQic/gsldNQVEG\n",
       "rVWJETueZW6CveofCONurjKq1mcfZ0P89EfiowXffzerReILorurz0Hw00X7IHiVKxzwYDZD0QxJ\n",
       "mjjow9WXmubobDkAAdDNApCQJkjNaTk63/GG7gi6k990nw95B1reuTy4koPTiAs6HzVKHXQtyqXY\n",
       "950rlITCbjjl2aVzmzVePDFc8H1KWw5gtbHukfMhJbW132AvCvo4E+xt4ibJvZ4fkSoHKUcjKc12\n",
       "7Z30Zvhbzij8qPHIb0mm3bjZ6FKPcOModOvH/Me2Jc0iCBa1dkSSSLUH3IQKCYmwpntldRDVwZPz\n",
       "eKqGe8gHPklveBiBHK3RpDzQav+YcNts4tj37UaT09/CmuntWtzluX/Ohp31qpDLSKudxKJdB11v\n",
       "glhzEMeUosJ/Sc0r/h1ZVTa68HH3pYvExaQrJc+99Jle1vDGXoN6l2LWY5ThmcUJojZwrJU+ha2Y\n",
       "ny92nkW5N809Dg6eT2GAAfYPqM2kndl8tIr1L0HN1whQg2nPNbM/tQ48IGaL9s4PyaHv6/uB1NLj\n",
       "X5iTls80EShLPgv46hXWgcr3jCpPZ3XCbV5dl0PAllE8+W4sPq6fyRTq5TZFljiIKnwYpFqaACin\n",
       "ueq31El5YXZpSZpaKRuxa2zflVszT4/Q7Wkz2LUPHfCG7Q1WDwKzWowAdZb0728Li2XI2FKqvGVU\n",
       "rkWt3XKVnXHrDHmd1rDScFL89zaV6etKrICHm5ojIgz1EOVj92D2sTr283/83fQwLUKaWx3pzs5m\n",
       "1Fp1CLxlN6sH49gi5+VhlUvdSOAH+5VqtEwt0iBRH4o6QEpI+b0YM418oPpv1di/2zKNAkKi6FWS\n",
       "KQ9TYmEbkB2doqKi2489NhaGpi9VWe5XBTAGhexzbApgROVriQPNTFzToqiqNSjdyk6Gydt4YGXb\n",
       "/8G2cptHmXWIzcOZsoiD1eE1vlyfT5fF/dwXF3dyFCBWGQFsQrh9BsWo4FlG0zNHLfW0ZH8uxlPw\n",
       "rXB7Bre5Nm5pJ/ooHvd0MDBkuNS/Rq/oNoN67J5Q5Po+Sny/NAWAOYOgGR8A0UbtEWc5mrRymaIK\n",
       "XllB6KToV4jdcOyhg4NyjUwi+aZ0DfQc569lKvjvHrlqfkK8lDFW66E6IWLtMxRLZ0Wud0ktLtew\n",
       "2KqTxEHm9LXWeCupDS4/C7wlO8EtIOxABPYtFCFOv2n5msK7RGfjW3Y0OTY7yPfjFbEUhqiw2ocX\n",
       "t5bZmVn1h50hiKUPiKpPLAu3bQwriJVKTpe4svSsW9gH1/CWVWcVeX6MgkMBO6FlOqX+ZKZkSFxi\n",
       "gT/+tsNRbfRaaNaQEmP3mPnMktoiR8gs7ZIclhZaFII+OpU3elZC6fTm+OC2+mwY7GDCjL0ftdbV\n",
       "Kd3Xe0mf18ItLnYiaoYBEge/cEdb+fezI2ZVq5sX+7+7ggzcCn6QmNdd51kHZVibN4ouK/IRmwgi\n",
       "P+HchVT4slSa2gVC8epH1ikbfWe71XimFrNuJoLaTS1nPueoA3pY3F6lvbGBdwS/2Ty01i2djbDA\n",
       "v8NG66l2GY/2uGdxgdDQZu+hMfvT5cO7T4dM8/ZBDhVBW8YVJQEbMyE4YwroXPatBMWD6NNxYqtm\n",
       "F+dQxHuk/iDHUNe44C5WxcLrE8h/9pGnkCQaPDQNvkXUv+VyXJb2qfvobC9OrfZcw3vPVMVsfjEm\n",
       "uCMTOui1MArAD+RbLh116um6eMmP87PmBEngpDNd9qqGLIIUibgKHjRxIiHL9mqflbv+AK6W/lUy\n",
       "F84WK9vfcJk8DDHQ6hRTec64dly9bUQTgP2uPlG+A63YoiHxYLIMKEcdbi7wuselWjThcLNuchpI\n",
       "s463OVmoxZuNNUwTmuycSGKPMF+ATaYO1zeXw0Ak8er7YnHVxC4QqLzKlUl95Z5KQWDOQTuFuTWE\n",
       "MsYHP2Jg9/uKNnUxssN4vLA/l4ALOa5bs005hG4s8RPCDuaJuSaMiaa2ztregF40XPZO9j5m1tTW\n",
       "wq+X50OdEy4oGodKdnvlIBObmxbObmfA/FgpSjeoVjwMZzx9Aw+3/epcMNJpUdAOU9hsJMTEoMQT\n",
       "iGihT6xZblwuTWHwxzWiVCvq0wq/R5AnK/hicpnAAtcGSePSRuHtm6c8VZtGaDsM9newWnuUzH8a\n",
       "NIQJSt6iwPv8MX+1VxKhojFHvE50MKAESRCROv0zwMrvST0vT1Ej3/6LwpvuudMQfMgqXmsK+UYz\n",
       "NxIIfCLZPWrK4fhlSD+NZcpgjXQ4iYZfFO35CWwzjnCTLsKZ92S+XjHIxFmNJs75Vqj0DK3Cm2b3\n",
       "7S0VXccIaFOsdlZKVPsVkkdGCg7vPkTaH2BjV+xshoBdV2nwFy899CDD9DGzcTdUFJ7pcJD3zscM\n",
       "+218RzS1We1NHIzrZ9Cz5m0jb7MJWhb1tCYw2Lzk9+M1fqBtv6R7CfPT4RkJM0/hUMhKRv1dziID\n",
       "F7HKmBLGYgsmfweAb0OmbLCoMN6qwRph+jApGZzoMtdofVeWv+ZCLFjXVtZnOQEnkv/4kqtMEqk8\n",
       "Zt/KbvRIT7vDngT4TlTrPNTCNq7q8wsNRgdpZURYg2kTD9nLXeK26cjXUqCwbQAKf6p0VvIkF+6q\n",
       "PaoWcnOPyf93xjvPHHY9fstmjjr4s5D6spbGDRaYVHY9s3b0dnrX20T013rwc0IxX36Fov7bQZYH\n",
       "Y2nYF9cR8SZ+++H0dbBStlr7eDQI5ZCLsn88AoBkKu5FKOkJ5GAoSQsLGpidGm1E8X1aYzYa3CcL\n",
       "VeU5rl67g3QtlsK3+5yUUg5J8A2+t9mH2iR6qQZS9SG69C5uPcpMJHtQ61fT6xdCj1Zvnt7UZVfy\n",
       "7QGsls6A1BnxEeKM7nNSyLwcN7yx7bqrdKPu/ji7HgEO0mT+ot8Fh0XCj5qe9J9ybRlVc8tMQVmS\n",
       "CXK5OSmaFB+imcN3hNWeyCKidfhRqYjw4/H7YEuzsyzJkUduPOtLo3M+RaMCt8K1doIJeSWsfPHI\n",
       "xmF1U0F7eD5icoHPQalFWsne7MEUo4pt5mNJd4Yt3EbSZbg/E9gPGyaBGHENK4+oo7ISIHaXXlVh\n",
       "irsg7TXhJ/M+9XKGdDr74M9ssB5Um4+ijOp1/5zcTf12ab3+wZfiOFVip9OjiSwL0XO0M7+dC9zj\n",
       "vUG2AU36Iz4I+KOLgV65uJo28qUEcVACeuMUKxq92LNL9+mGK2s4tzIJlZZ7nEE2ldWiRStpA16Z\n",
       "Fq236AnVrywYmw8MKowyk4yocpjTUdIJO2hKrWi5S2od1Lcc0end63yDCnif+nioF1l9jz/gnf/T\n",
       "j1DaXin8B9LIYI/gy1PiADkGPd5IIEuuTkAAWOHQinRNd6Bmi5Z9XuNTDgaRa+/5cNRec3GpCy5Y\n",
       "HuqherZxfm33nkhiYC3ETpEmPP4aseWGqA/r2md/cI357N0sAODfjuFr1LbVd5CFzAzBMHLAuSXC\n",
       "XV5DE8SDIajw1ztChjrlTjlkzZmedHG37DC0P6GnoRkS1ZqnvgFPxJww2+5XsXuzXn/h9iqLhkQi\n",
       "PEjL0YYZ2te3IBG/mtZLRyEtghbMOcpSsauWG6mwPNl/oK6h3bKEJBQBcexyDLStudrK7KjDln5K\n",
       "Wa9tFsVLLnHiYgYiD4yl6PHamok7aAoFsOtbi4ex1eeZkFDXMmAzgLukDiyztYLYw1IPkgtdRS3A\n",
       "KdJRmqDbyGXWPyHvZTHnRxmzGd+AsyxOOToPpg13DbnoDPNSjjBE7oIp6Zqj68GbUe9Bcns52G84\n",
       "Y/09fGRAfbyuIUAATr71Yxyb/yNDQRZHjgthwovI/JLDn6mwlvkIXSlPtlQ8CYfjmi6LREx4C1Hu\n",
       "DRAqGpbGPS4eeWXgHIvnBVOMBDg8Owu7oDWjbIfTtkp2Dt/FnX+a/VuF+V8hX3J8tmOg60rZQS8h\n",
       "BvVTSNFL9s7Yl/hGj/agzIGBaEFrqEv29qSCD8sFzLBMqKbOxVCEDxpN/a64MKjp5dacE9ygCdEk\n",
       "1T6RYR5RfQhTgOxOtaIypGyqOLL5QeUxf0qYkeU+Iq/4EkkW5/qR7YnkKsxcqtO940FjuxoFa7CP\n",
       "4rMDj1tqhxe+rn7bRc3Y94bxCy+vcFcWLgfvZWtmda9PdQE+OInFdjjNc7+pU8R5+8sxbYeg5cPu\n",
       "pBwRHxIMf8XTxuLiqT+h+bnNFKTCEWKqHgWjBIkyOh7DTj2xByB6JK+bwO3ibiVXoDTjB3fXVsOc\n",
       "g0bXGR21fDiMWvJ8FmaifYVOnBnqvkoZfhAf8BfD2w4u2H5D7TSp1YY4gpYePuzRvrSSf9dj7GR5\n",
       "4c6SW9bMW36sop28miCb2t0BZ0ovv4YmtyJAt1+5IXI79dPkgbmlGYjlsxeDCAlPTdBrgAAAAwAG\n",
       "u7sNQJE4Lxfp9eqr12CZO1ZL9WQt9beotzodYSI1kDKVxRmEtDXH7s02EEnSoOFYnvkx/hQKRZoT\n",
       "PmJI20FDVwp/1T0VctuHT5Xd2xfQodfJfrblqjt2heCSphrG2SG/uWiBNxTSTrznhMtfN5e7y3fU\n",
       "TPOJ/4Juxsy5g0MSNhnpl8FOYISpZWuzAKutVwhWEbzW5jDlfa5lB8UNLhjp8mISDemphhZDvd5a\n",
       "8kqEhIC6y+5GyyQzk4HubcFz8DjmiEMhGkuXoGGO4AkA48IvAhDkxCw1hew3k/0p9m9MhdxJl0Et\n",
       "bZBqyonrsv62jYd3MLQ3fYmu9l8I3y/sANEcgS1L91MFGffD+5hf+TfLvXEZ0g7VdXWicqPjo28Y\n",
       "awvYbyf5a96w38+aspjTnyt555ZQdDhlb+S8hqgc2nWURTNDvMXN8QIHiS5C7y4RP0TKlDVeb3NF\n",
       "HPkSihsYZZAhaK9UV5PDFE9BFIwLPVXnyqZSOX+ymiUTlnGKBCj/JXlbW59ZSS/a+Wn3s1xpr7Pd\n",
       "gIlE77GG2fUH72IEjlqSiOue4P+q2iBnOnOkPaixCIB+s6iFe1HK9U8idaEG13SA7kwxM4WtKbug\n",
       "8LwrVW/yM86KQATG5NxsBU8N1G4m/T68leCaxb5pyadcBzemNwInNdBG30M9cQVuaCXuDg/OtMRG\n",
       "257Zs+nmbwILEaRA0g00DB2fM+mlB19CTJqFuXLJ2exuoN/pz8rflfZRSl7XVLs31PWDpHK1QW04\n",
       "c8xaCn+CVULJ31X4pRGFF0E72tx3quKkCBxLCflwajVtsGCt/Tuo72FtwXFrVQHn6j7XtCSb80qv\n",
       "nwRE+PiRSjYTcE0ti6qitJnGMm9YFQU4qcbLkf0Ft02N+ex3GQDBX9BVfvwWkjyCU6OSRJUyCZBT\n",
       "i+k7gYAK4GI6cbStAueUu+fFTUHp3nsvqYxshYs9F0KKnLDGKhGwzcqPUGZ4M/r0IOiTwkEcT0Tf\n",
       "oN/3HSqVVMOlKTzQlSE/zkiJwid3XWOgp3AEoKuEocxSyvPMkFh5v0jsQZKZhyvOh/gneGWExN+m\n",
       "LxRcgOyO+XK2pTqfeNLwxWrpdK5O0pIQE1O6lKNznVQjWhyo5A6YFdZQ4PQXax2LA36wVI5fqLFV\n",
       "UpL1FrdondKBN7ilcEoKIDN13Q9RbJJD1GCvuNL4M6HAktUI/qmUZ2YYkID0Itu1yJaRmPMufn0/\n",
       "gG7bBypypfIyCIwHtNf1mYOR1HpZvcDTmkuqORBnuRAGpFSqnUH5iMvvi9iKj1Mp//P1jg0YlsRC\n",
       "shf/f1T3qt90IQesnRarXruRgOhQA+Gz3r13Vj4nftKxyZ7Exjq7CMrIjfXMV2LTG7zFQNE+LjFk\n",
       "cpipfgHhYNHVcSlZPn7h9nnv7PSmixFhbC3E0hqCbtr+SX4RNpBA9jHejXbqsiO8L9A/zPlLS2+F\n",
       "U/UQZo80+nR9KShmZukxA83HeTdeowN92xUYbi4gAw4KzWWnrZC1zTIlCBNTWkZ2J5fdAEz3OqNn\n",
       "5ZKCART7/tKM0Id5fexawRxBUfPteiE2H04LIRpd8XgE+YuLZAL+UnJoMUNUoN8O+cLe+oQVxwzO\n",
       "Z1BAFnqWc3v3S/s8pibIUKN+JOhb7zu/MuHVALOadR3peKe86Gbwn4nFUrLNiRJNCrA36Rp+H0Pc\n",
       "+fCm6k4RB00GgYHCCFktqWxMX3lBZPyBD61/D62zgMwlOC4TGQWh59yNSy3Zp+1RJMG2nhNcaJrq\n",
       "jVSIuO2iiT0chKj5KcZVkCIr3zY9LEfBEvSUWXkAWgUfxuhBbvp4VbtuzYQpCLQbowT7FbnNLYHp\n",
       "G11DrBXxgj/fNHrE5yRlRarEZ5TvZ5ZwtXsr8QjU6SY9Zg8eQhf25XxAMTa0umrHVAYWZGghq2jK\n",
       "jF0FulA21cDYwwy9EtUgqJfvJiSt8yvt8oD4uhEaCZh67ZvB8u0BZdPyDAnRGDeP9UaXJMJopjJM\n",
       "JXEOx1ahS/kzs9hVFwmq8v7Ryb2W8nrAQxQF/OfuG83Heqh2sdUDgRr9wbMb7pZfdC5He86ZfzKf\n",
       "MCbR9h6EyMFK4mk5bajZ3NFxjgeRhzuQARf4cobVHWUN6LU9yps78tSm6cH4BiKRyrN22GwLmJva\n",
       "Q1PSC3rAxz1+Bnf06M/vTnyLT2/ZgC97plyQ4IIF8A3LVN9RYccLdeqgcYEZ8NDlaEZe0V2wuh9Y\n",
       "eLxc35lgIml/2gB5U7JYY21UFXgZktS1zL52O/9C1QavYhN86eGEwsyRjK1VS9JAVy/q9Xffmp6/\n",
       "hrRkggDlEiQCMHph7XTEQONlOc1wYi9Bb5Ic0LFFVwetZI3q1cW3ccUUdWeHHh8DEjR3fSVm5YI1\n",
       "BZpzrxn3APzrih3t5WMyx0aD0AqQr+R/hr+H9N5rNg3zrIPn2RuEVR0r8tuI+p7v4GZ6AUJaee48\n",
       "xSgP06vBj5fSnzQ0cJdJAOIJ2IQbxz/GPV5SuulONMxkLtKlo4RfktEasMcCQDPxfM/Iw3ZLnUwP\n",
       "KXRRHLgnEob81qBEdNzSWCmz/ZdzIrUXf/0coOlvXIh8a1XLG/ksVv/yCcd6745G5/fx95Z+xHgl\n",
       "NNbJULLvulyLr/l4WD2k78vL43Egh6vMmtiKV/0qCSP4Yed4YU46EwdiSMR52LqHDwxeNGj2r41Y\n",
       "LKlLGlbX9YuoD4qlZ0cGPyiZNLCN1p0ARL28XwweO3cysSYDNjpiLdZkF/CUtXizzBnA/Nyxp4qM\n",
       "P8gAA8sAAAFbQZohbEP//qmWABKGTnQBsZ6P7QMWejny4BD9oU66gc+hfE3DAp7ps4K+gPTX9wcN\n",
       "3E7g3Pb74La9fn9LCsO8gmTeSbKzno4cGv2Xz+OZtbmeYfdEkPj4g9iCa3c+2ZtKcDZbunxDL43Y\n",
       "fKvzNgUpoQDsNytJxGH7Rg+XWK6ssADgWlFtMPyhP5gQ9Dfta3jA/lMp5rGc3bF0+fPig4+593lW\n",
       "KXLc2KyIXIZtMXcEI1biG0IDhFE37H9KpQzxHykrK9d0xrptE3d6j7CYT8O8RVXQSNSukOpzhWab\n",
       "bugE7Q19WVkRSRtxsSOzEl+QAu/yL6vXUsK+P9LSi9N6byAAALJ8Rbz/GHGewvrOf6QCMnaC5JSh\n",
       "46P93bzu4EC5osyujThAM7HtoaRU9paEzamTxafClhWL00iyJuKFhUZaX1eX3N4u4o4socnEhgBi\n",
       "+KkcCcElYy8XApmZev4AAAGRQZpCPCGTKYQ///6plgAACIHzVABxvgwePcLBMRWL5FcAAAMAPFO4\n",
       "lJr7w6EGicMEIzr/Gf+hU4NbevJR6cl+LCfQ2AV+HOinNPRkt91c9YQcN6ZKStE7OxOFMWCPg+IV\n",
       "AAEY2GIg65FBNjdnp2a52NN1V//tTfJfk6ueMXaW3qUXUHb+qknUupbdlt91zX+CHck9Jf2CST39\n",
       "JsBKTgFSt3KnpQzC2WBCfUidXrkwbtDk8re19NlIOZgz6+Aq1Zso6J1Q+y/kGcePFSvAT13TPYT+\n",
       "yMBtqNCkwOc/Lv7472jK4QmJrtCjH78DjzKroY3gu6Mmqs5J41reVZcvomjEu/3LyoM4unFJBNie\n",
       "oCVjJ3gtAoIpstWxQSkXDKieHHJrWYAn+Dey6HHhVsuoE1NOemEYbxdYGZlA0dFxrov2/k91FYkh\n",
       "06ePau7cUqmFUl6tCWAvyHTNi4wNODc/q/MF4DKiJPnn/cgeejKbBVzfSBF5/ssD0X1YpZd/5bP3\n",
       "jOpzgPOePsowAAADAH7dqlUAGtEAAAIlQZpjSeEPJlMCH//+qZYAABoNn/w8uigBGV0mcpiTpWeH\n",
       "QzamTAeCsLQg7yDSmqkTT2h3QrHEbnyW333TFPCSQw1rH++6X92l05jWv8sNxrnF9ue5SJ1CDhsO\n",
       "dMbsImS1QagTH6Jc3Gp8vOVna6xdkiGWIVuiRxdKFd0wV2i5JsXjv8ENXj13R0pClq64n97R4Z3A\n",
       "i0gf7X1DvCYuiplnkd9Id5csMYFLcPAE90M+pmfnH0/5ZT8TNYn7iDX95kWaaS+h5+8T3T6xF0TJ\n",
       "LBCElAObwSK+2kpY2S6LhPB1Nmut+nUxmVoXXk18za4CV5Rh+ZR03TyRqfYT2el+1ueHLDfBXKzT\n",
       "zq++jBoNv46WmwGHGbCHgNziahwh88Tti8JElRotbW/QJTvC6b7ZRZdCMYezPRFiLFK1Fujp6+/V\n",
       "yN3YNFPl45WWE/NMIOGqs3+qgLHs1WAE1MV0wB/6/fgtV54Pe/RTqXJRSv7T4v1eGisGnB6MhdXi\n",
       "Vsse4G0zKaTAZMaI8V0kRACw7JknzQyW8vtePcnW9B9p1RViXftfBqDcK8H9ytLlufqH3Uq4bliS\n",
       "N50LNKOTul+cDGdxmbZYXy+LJd14N+RjvvVACyo0fycSQn/41lgTfiXvUzZFbKPh021gpVSRVP1d\n",
       "GTipbHaZCZ6lPxe0p9uvNLRwyn7wSpKgRtbe3udKD/PzpHmLmkqeeC57oOjkeALE0AAAgi4z2qVQ\n",
       "AG/AAAABkEGahEnhDyZTAgh//qpVAAAW/hv8I5gQAEPrmV9D25Iv8QO24uQ/hLVZGTV8LnxlJsDE\n",
       "vdkzWaxn3JoH8zfB4Zmd3XIoGxCL+eTlLXkU1l9Ze3s2s4RIPXk1Pby7AdmnckcLg5MuXHsM+t7G\n",
       "f+HGfsCw0R6+CUHXOWULG0JlxZD8vXArVeFE8SLz2xbC4oTmcUbKq37eVI104fFAjzIScUg11zku\n",
       "7C84VPqCqVKOUph+TapbT5QPpnoSkMcgIXS5DuSEfmijI2kaaDPLySiHIcV+6ib7Y79kjBCHuJda\n",
       "F9KSORnLqQsPvLm8yZubUQpgJFgC/116K/F4JseG8baGZvghC/6OCUvyR5KqGT7NEkqeU8NHZNdO\n",
       "DLPU9yFFaitqdP982ygAed1ACdqpRRTiQgQqeTw1eKl1teX6t3rus+sfhnFhvr34LrWHFI2xt8D7\n",
       "yDMKMcqTza9DBPPn8z+ZvRa2Qv/c18l8VCJiQOHBSUMoW+21NncSn5dUeowM67nG7CeXAMW0zFgg\n",
       "5OEAAfGULuEAAAHmQZqlSeEPJlMCCH/+qlUAADaf1d96bzNd4JJZYZwUL7EeeOGcUJfjP+Ekkv7/\n",
       "w8CvCBE15X7xmRlUWA8T5sTzWBnWpjBJwPJ1s4GhQq1gtybYgB8sTzy744MS1pz5IHPOkxRzTCMu\n",
       "m8PWaZPr1cSJI/OTv4dhDWRf1liq3CpqYZ0CJMH1bKQMKCZTd+EE4h+fzeLSvLulOM06Ge8zZsjZ\n",
       "nbvjhsCXDFzRiJU+eNcQWZuC+0WW/sv1zG6RUkFX7FzZZM+PVmUdsJCSXNd3yzaHesJ9GNNoyxnk\n",
       "gCJsHEZgMeU69hGSWB5HTrYiZAgt2U7stGo/cOHPddIXJ2GinOgR750ozRyIxQjol3E88b2HBPgA\n",
       "vuXND4w08gXs5eGfqfSOUZ/6FEdMsE2kGAFV172+gi/vbXd/+XB1V0FDNJVgIDjhdVkKcGAJHCD5\n",
       "0qcWENhSogMUWc2AYeP7Ieo7r/YPBpRZC7aghEdrm4jRgF2O47jtrXDrdsW4kEChzEY1Q5Ay8vmc\n",
       "B+nIOV5MT1JCYPDsDMGsY7Rg99VDNZxyxGNdfApIBEZXVn8FO8jwFH2R86iDcQ+9c3ArMksAXbg0\n",
       "l7JW7SatjQGrtDfm75y8Jex309s87wUXaNO1n5llhG6lEsZYAAEqeEKTAAABskGaxknhDyZTAgh/\n",
       "/qpVAABvKHwAAuq7yKj3CwTEVfF/6HHefYdzvP2y6b8rypOjN+Zk0SenW5uZMP5ng/97WlVVdEvu\n",
       "TTikn990YZ1erzHojbBAFyl/MtMqwJuHd0KIrijQLY0iCEdgQ3UBsp4euCIDOWffPxxMEnAuOB2h\n",
       "QlL+hc46zxITLXKRo9gznCpojM0ZlJIsKhUJftsEFWUPLapnvwCnbl+I+1oaQk9MQW6EtbznPvUo\n",
       "E6kgGAH+jwzO92YlJSSykIO8FOUPzzyBfGQupc9qKkMp5C0O0+s9/twtkLEjdaYy1qsrQ1TB7k7K\n",
       "cCwPjwCqi1dAsmtU9MbM3OrvCmCWKbqEvjQ4mZH4l2XGaLMCSh4MXznVIcZE74t1H4oL90btNqT2\n",
       "hhWpItZqMdSfrRPpx7Bwu0E/2hX9tDusGu1mTYLXGgpIVAzr+UnNfn7+Qr4GOS5t5oSFoBZF6vCC\n",
       "sS1Ix2uX5vnJQSDe5slkVqBUqkhlYcj0XyKH/7s35gf4Z1+SsD4l/sfGIf+R9ogQPjvLA5ehV8u7\n",
       "efdV74qJo0dQi6WcDg07DuJe+t+KhKSBAAABJkGa50nhDyZTAgj//rUqgABEG2Q3+bPTHHOy1pp2\n",
       "HhHYtxlNH0UHgqn1eBVykra5vLpKx2IFXwYRLg2CBS2/m43Hiwfh+bIc87t/OIAJ1YonXtGPuNo2\n",
       "bAiu2p/lkHTmhT/XhPPGG4pYCdMa1vYxq0GvfA+OgTzqnA945Iec8NIdCG5apoL7MoIhpU+Z5hUO\n",
       "W3icy0Gu0lXNP3hKCaA7UM/00+M3KWl02A9bxeq8WUAEVLm36yQABTbnljWiSrFaQYHYuQ+GWHoM\n",
       "3ZBrkl/7MZYC9/drRFM+/zhtgvY9+7pelSrElkYaZ/o+MZsruksHU0ui9GcVK05ZhF7Bqh42sA6G\n",
       "4lBn8hQ2wlu8CM2YJK1R+ZIeznggUg9rZzFBrxB9PkSte5ZNwQAABGJBmwtJ4Q8mUwII//61KoAB\n",
       "Kdpn/6Pu/gAGrwwpc/Jv+17hUyJMBfbxpkFlhO//rQHBpoo4JScwTPTbj8Rgmr8Wzt/HG4UVUpp9\n",
       "cP/bpv2CaYRWBrJ9NcXuo16Uc4DEYKmK9cIuvKkfAqSmme5O6QA/5ccxzEfK8UxWDi2RxqQCNKRc\n",
       "lVaGY305CsPccgexwe2PlMC2qJWRz9aG95GKueJZMzV+1oHAD9dl+up/1R9K2H5aQxHSDSjpQNSN\n",
       "51ZNHpJNw+VOHkOelAhlhD9cEdNglUcntGz5Xiefqga5zL3p5vK4QJ0EfcPFXtGZNHcaVvrvcIfQ\n",
       "NoiCOf4uxUNAw1G7ARpD8J9hOapn9J/BrETMYMe1InIO5wujN5VsdQ3nVkj8gOrr4yKj3nhxmbuc\n",
       "iXfqROX9ZQpwT+gdehzXPYq+uMos/NYKST+sZLgZTbAt709YFTC7Z9wIryi9f623tpezPPzKt48o\n",
       "0ghDQDAjB/+4nQTq0ELIEVYr/mg5fd+6292zpkyZ4H9+GBUb85oFJC+kcWbn/yxKxNO7Um8ZUENN\n",
       "Q8bufs99CoWHhQX/NeJ+XxazyApgxRH1ClX6mwfiE7QpgqaXI8QNMjioZLtDv1ICYnshNJpm4JJ2\n",
       "/ptcWB+RwOzbLblnbCJ1UIEg8otOsr4jOiCTdnwyGstSfIGDiebqyS9DuYa7sPqCbasMzv2qVQrW\n",
       "Cr7bpBInjM3CCidXmljWLdM5BHBxFMBEMzdj9pTNNemZ5G/jOaB7snNgO7j9yR26BsYFpMuuExWq\n",
       "/CdLcsYq5gaGy8UrjjLzEOF5XHVFkFlVfviwyt1rlug8dSi7y2fgSL8h3KVThksbMUjbqxNKAH4P\n",
       "FZC+qfrL/ltrEgglqzX26IVO+4gCFB7hWpOqgr+uRot7qNlEKWBllc9M3T8EZETIrqhCanPK6IT1\n",
       "2IiSDT8CHH/JxH1hmimb+5tpiCX4Cc5M3fy+vGQBpKgh2U5oSYnIFe+KvgK3LXj0evDbhw/I28qT\n",
       "VL1XXQert09q4zZZgi4i1XjywHlJp9h4OgT+YxPT8clrHoKmUZr8ld7Z0Z23qSKUvQhhpxRSgp9O\n",
       "710+vxZkRxbYXn3JaOGDnMRZSJLmgUfInw8r1McSMBnzbfzu0+0KfiZirpwjSoZdO3IIuUTY5B6G\n",
       "ojcnoASdMv9/73hE+TkxYjko8VPm5AByQ2kERbnUjH0Tyb6mPMUMWdcYT1hsa304TGaVjXQNz8O0\n",
       "HoL/m5XX/U3s+vCXnMV1ZOn0V5abN3WpS8GuhZXmfpihxtSZM5LPPwufj3kz7++rJ5XhKC7DbP7O\n",
       "TaoJU///DSeY6b6Laf4DWnfjmFnUzBmAbuksPWPixGX1XgjsrlgwHHy5u3DPSTbGvaGnScoH93Ex\n",
       "9R5CkssOOOtZ14uIWDcJWcMmbD2s1bjGSAowq/MEF3Y3K/JX97F+prmtndZ7uzFLDdmsvYa8dbO2\n",
       "V4IDCi/JU3wAACpT7Cce6/Aq9lgAAl4AAAFNQZ8pRRE8O/8ACWvtUvDvN699XrCSGoJLvQXngJUl\n",
       "502/VcH6TviF0ofjGpckLu/N/HZ90YOl+KzSMRocLlMsq0blBr6UJn9foAllFnzZm9ExW5uQzI9K\n",
       "/DIGNOqdOlEOw5vPcjW1fXThRq/XX85U71MDi9PBpFy1Ube77j2TVWPajhZ6499KONvygFjWiKgu\n",
       "ZMn5EAU23kVYRBdDgC+7ntN1h1Exrn6hS3TaNeOKt/kvKlnxoBmxUZj585QvcyOk9kom6OgI7C6A\n",
       "gL2RDHkCyyD11fFKwsMZvMBtWpjysUi6dylWuryISWW6pnGNF2+xif6PCt3SZXgtjvTtU4AGvvNC\n",
       "mDViV9+u4LIgOrmZchbKmONno6KA34TLXHLkCgqCloXafGgdlAC3cd2FmAABuwWAzIhvT23DrHpX\n",
       "mAyHmtlSYBWo2hptDZxR+BNwAAAAwgGfSHRDfwANf1gw59AwK+Al1NoC6c61SIMMZPNUeu+bdWLU\n",
       "xEABNEU/H47bCOHF6tCpWxUsYA/dIR1JsecRf+FX/xq2v5ruNCdqCStf0A2Sr+qPNyXBijvBQRN6\n",
       "lC+DYrbq/CvNfYv9A6lvvyzB5oKomEc4wlF1/HkfqYpni8qUpxQ9D0rymlcvtrmbLgEYqqBef1sj\n",
       "8p21vZFKN/PUSHWF53R+OTBFLnLzOp48uRBtEKXLsrbjrxC4B6zAtN6gAG9BAAAA/QGfSmpDfwAN\n",
       "gXZPFYkrtuH1NyoWnyYcAFr/QAUAJprJ/TkyIN6lnaMAu58lW2/a4TIQCeqvUCNG2WEBkaHF89C8\n",
       "CpQm51kW3Y5OP9i/vVylV2c8P5GwR1uk0ZapsrZh6zc3IZD8AhlhBFsqNTgIE/w38xNC229b1Sjx\n",
       "XywEvhzT/1sZODOliGt9Z4m5UBoK4fmwrJeH7zG5zjhtcDvGkgLWkLOFHnVi2xYubuXrH+lqdJqE\n",
       "2ueNWOSYXrIrzg3wmFKCLr8WgFtyztxM0GwmTwWPmq55eDq3PLrrMb6wHL/T7cvBObW+FHMnwQvZ\n",
       "nkdUI9aAQh/EuQhNbMAAoIAAAASvQZtPSahBaJlMCCP//rUqgAJzzN/iI5AQGLcMW1b4q/R3twy+\n",
       "nLngzwo+wluqQ0Sq5T6VAzE+efIhZ6/h3Sq0BmGanf9jFDAR9pQ5hprXOy2cwPSmtOfzevSHlDwL\n",
       "h3jhm+N3GiquUtIEFg/vX0XDEQcyn/lkwRc9hVydLWp00z5EBonj4BfJnhO2bhC5ec4ukme7lqUo\n",
       "RNox9hjTVVDTlvPPZ1lz7PJlYkcAQ0xwEvHq7LF8AuBUH3f+RjyAhmr069oOyqahQDAjB//9pr5O\n",
       "aE9QmGvenz53H6DU/LqnNRNhWI0bMoMzXGPl6QdGgE8Ld3QZM/vUNWVx/wAvz/iDvkkYo0c3NZ7W\n",
       "drzJbKrrmnHSDHFIdp6ogVTOEnhaGXLWH0DSZm/MZyk4I3NX674uemHDxYN0GsUH/ZmeTrLTRkvB\n",
       "GClzZan+r0tcXKEPr2XvVleKzT09LcE7gglflcDAPdiHZw21Rkrur3gdIspkxzdrmTRcQqAwxqYB\n",
       "GFBZTchrQf8Yq5Upyrw8R78t34U8keAtdTIy05aYcpw7yS6qElSAH8h51TVqzfo16y3OigvP6gVH\n",
       "26OkkCkCc7tIKuZ+lAZkeRa/N5oB4HtEkaV47Ctj5Qu96b3+RJhoZLqS3KcTMCHhusimjQSKaL7D\n",
       "US4gc+Ug5ATYrUKE1Yc40YTs9qUc5qF3xP5NT3ZIM/3n+uIBlvCzIn8t1L23xk4J2U18s95nHlPN\n",
       "s2JzWKIp0PwgOnwyiEqUNVG+2JRV5qWoinnDmXMdntOq24DCqFHRb7nndmXMWnr4RJzLCVYhsO+c\n",
       "K6bdRrzLx3RSdtzIV5qMjC+KP/OR2TgXdDRcE7cS6OWEr40GXXj33lLiT6+Yqs0nuut2vykV+p/Y\n",
       "lQEWXA3PslgIjT8K7QmGWNUR1M1Bq3kaitBOiKcX+6UsffpqK0iMlKmYQ7Uxxw6o+Azg4Y52gdtf\n",
       "2uvRhqdjYsYufhr9lRVKhi9YXCFskkoGT5lVCcxFEMJmVJWfP5JaEDgzz7CDhf3WHbPzmhWyIvWY\n",
       "S1OD3AjV5m3Yg+jwx/kOTBYalvEIvYO32vPF7qdDkk4s+l3vj+GRZKvUgB0uvtixP0QU3/oPdGIZ\n",
       "QOTtbcWVhscoAgvdQNQcGDBhysiNTvqMUlOzmZKxw7WgWzAW4qJcI75/Z12/OBZKPAP6/iepKTbx\n",
       "GZjm94/HbhEFwKKf5CrI1Ct2AvWfn3qG2A/FYajTJ3hxrtjWTDj4BLGTOcZQPRJPGsxOlexC1L6G\n",
       "R/YglHsJFkR/eKmwsbVsfZeGUpzBjj6km+rhK1BnfupWi14zlmKMhaF/fo2VXY2t85qof6qgpQZI\n",
       "F8ExlRh0BSEWi8CgpY/gLKhYSaxCOj/0GaCfRLNatHT8JGa1p9Eftg2waEkLXvLJ4VCdZQ368+e4\n",
       "VkUrNvAtVXIiV/DDUnI9N+LWLL95wBWaQo1G98BSoamCzYrWELceoid3ITgQ4nIwN1BXW6LVKZul\n",
       "MKzpaoCDD93EosE1YIeZdvlkU+brKKzUbPtqfme3A1lCI1IQxEmDGIpKNUTMGxUX5CI2JfGJ9Acx\n",
       "SPFe4r8G4FEUYKwvRD9aq4ECTb9oi4AAAAHHQZ9tRREsO/8ACYUp5rWhOrQJep1IFQCgyt3tVoL2\n",
       "/gXAB/T+rAFq/YFj6oN36j5Pll2wQzF97Yr0LgTbA+FdkZF4X1zifvewtIJuUif0ClUeZHc32Aub\n",
       "EwYO56+GTsLnm9Brse3vYCZbuLsOtKouGDEzXgDrh7/Left7aKdr7tX4+ZkeiGPoGswNzMxfnsaH\n",
       "+xg8SJsRAGtJps2T+TW6Dk6EZCyH6QMiGw3Y7RJHa3wKmLsAJmH1rTqHsKmO0lMADK/fDo8uRYGC\n",
       "uMUKOxzdOSMV8XtHBdITOdLF/Pc87rshogqYIWfDs4IiApKSSTBjSG/SLe/kor7wm//8bu2KkV/J\n",
       "2QLL+WcAzRWBmmCPSCQ1ivD9fTgpZb6cJFVsjqeTERw+5wMFj8bquPSwTlcTMEYHMeJAESYWxUI1\n",
       "Rml/jLp0HmlIsKmyfig7ONQQ0b7kdExEc5Gtj46dr17AxrfMsfjiHPtTepmOnC6qMpVcFalaAkur\n",
       "yBzIOl+sdky0+Y6yfQZsRg3yQFrFW1xCGh8tKUkUK2m5ebulI5KDZNZsEHo7VxOtUH0uJmrqVZ1k\n",
       "F4W6w+9KEVtoK22F1Vu6ABveoP88dT6oBn0AAAEuAZ+MdEN/AA4p9flXUL+H4dsmAzq0jVkW1uu5\n",
       "QM9/jIrgATjw0swtpzkFStb7FJcA0nx/68ZDiEvKeYKeOHoji+skw+5b7vAEyLS1iWTS73mCvndE\n",
       "UjMGMLefjE2u7lJZD/GuF7Y4DyIFxuOdABNpWNpCjNDb+EeKcmriCahp+kBg6UBn0NW2J2xrXADj\n",
       "vU7cXhfReVGydFlaX2pDfUL3lUbY8ODFKcCi0jqfbAZdPr9OnIFv8L4pEZe/fFUIyMIQpQREPDie\n",
       "kdPeQi0RBnOC7tc/L53yk5QEOygMkS/0Rf/NWqzqjem8+McMxqLoblTmenwwKBxrlXXAqqnhi8hr\n",
       "mVYRrrN3KYGgfAGlDXGa5Aq+FB3tLdIhEfXxUk66HUKOIa1/kDBDusNVABXQU0EAAAFCAZ+OakN/\n",
       "AA4ndT/CgFjaCgAXVcMIV94T1+e6eigusLNwXIKZVic9gLT2Bt9c3M0EyfcYoGfVvJOBUqj9oQkl\n",
       "faYmIZ223UKpY015xe/qHyDw+Q1HrKIg6Ik9bFKBad3Jzv3tiIVxp064sQpHOxQdukl9wx3rfoA+\n",
       "copk6Z0tb3IHQLsZ1IhTxdr1RHyu1SSkxkOBhV7tL2Lzrm+Q6A/CEGIecvRPk+7aj75EjNIy9kuT\n",
       "0MswcSart70KorOHdWtw4zBTlLlwT71Yug9BsI8rqqC9HZJrRpxbFpORpMsnec4hR2jTdWEvZvjy\n",
       "phX+hYcRRLh2oerZ3cA1DN9T0bgCeZWo26kLNLwrapWCCabVLlsRPpAZTP2P5iXMv5Z8YljxWjCD\n",
       "4ZpAYCL7pkGl2uBOy0AfUkCPOSAQF9I4Ce2BmxQCQwAABBlBm5NJqEFsmUwII//+tSqAApQmIVUr\n",
       "+ABdFgV/2GBJ5xT4br55bg3n8zoa1bnFmtem191gtwiFqYOEatjxb+QaHg5M0WZEp9zaLBu1RPRI\n",
       "f/UW4yZG5oaMAvhQGct7ao+kj/nozevAR4JDZFU1i1T1HiQigheovBV3A4w/+vrLZUCqPzt8hzzK\n",
       "7zNVhKp9bkv7+0lEr1jjGI/Kba+I8ogVZArqLLH21g98A/x5tV/mie0Z7B9dyxLFXhUO1slaPs6p\n",
       "aNrjvww/q2tg/cwegxSWLXBVFH2/kOpI/2Vrb6vRYYTYLucGPlEvMRyrtncUj13+0rtmEii26Rtx\n",
       "m9JnCaDnc/H2U5qm4cQHVlJEjV0NDblThYYl/AYHpNDW3DXUJdLIZa5UiHLn0N5s8wFpF2Ql47YW\n",
       "y0e3B+880l9uLein3GdUxsyKGoH0HzJJoKQL7EkEwWtfcgqTNY0Y7ekA9TFjqZdZOX5RtlQ4EofU\n",
       "ilkyJ6rSt5oQkO+TjFUfT9pC29eSH04sQdHIb/ilsJE6ufLVa81GWdfz80WWpu5aDsnyaGwfyGTz\n",
       "ybj6DU8h/SeukbUEitcpAZKmfA1WmC+r3jO6LjllgbnDFn5wSxhE1WDeRP2nbFAV3eFWmgD2urcC\n",
       "dGQ6xtat29YKMW6tfXDBEPbUYcQUgfjsJ+SqGcM8M541kjL8B3T1nYIiY0RHsTtrzfjIxpL18Gzv\n",
       "K7FbTWJmY7N7OwAwrTjip5UcE/d0lVXDZs5qtgwjepAA/tuPA3G28zDqUGqHpdaijnpwJe2CaUvv\n",
       "ypm/YmUdQTeLwyY2aM4oX97KpxFSaXbjzi1L23yHyILwl4sNn/cfm7lDAD791GKxPb1gif0DFmoD\n",
       "UyakDbI4WN8Ct56mFeOOsoCKmSAZQ7QpiPw6OH9YaGIRkezt34eTQNEcd4uN6WGgM5cpIucVdQeH\n",
       "zdCMgWhH/BMVGXdOTT8z4QTfKF8pNbP5RnVi/z0nQC0kcArnFflKZbZguao32+2Byq5GI/WJobJT\n",
       "dKoWMFQ56xwymJxyB2VThqYqlXH3YDkihgCFpBwgIYL5E8dG/zFCmS32mpq9MdG8gbq324uzMmgn\n",
       "H5OBb4VWp8xWEMLAtD8vyN/chSIu8ecr5z56fEpotngST8T+BBfdsExjZf5kKmzpeoR5Z8UqjqJM\n",
       "2M2bAFeKtmbHn09pRfYjx+hKvPFciRgfU7fvDsEkP12Rzfw6vp3RLwfTcZp38v0KXEWusL3XwwIy\n",
       "waNEVcpK9toIXOajdQ7EysvK2YE2O2+hywodpKtTPr+vkFjzt3sD2Ohb+xiEO5nHxJdDk1evYVmA\n",
       "KaVihDQh30kBVzKxxuAD8RDUX0/CnCUDeWq4ETjDN3HdNqGhSCg4f/KvuZMsSNL+vXvheOyLYFXb\n",
       "QAAAAdhBn7FFFSw7/wAKCq6SFL+gAiD4Ska+AXxdEdki7j9TnfWiG71ldRAPyz/u44KOTS6IpViV\n",
       "jzKJT7MyWC5437kuvkkp3xSFrQL+FozfOymdvCqZ3/ncLx8TGQX1vPb9jzV1gFmOYqxfYADniEDL\n",
       "LZIL4S+y/LFB5nFGTGwN2f+QO6luy8ap2d1RhZzVbldjUVCWuq//9FqqKVVpDVTiGPOdHs3r1gRe\n",
       "znG6gs339BmFzneteo/KJ0poqACxSmfZHfdlJtxe+5bEYfe0BQmp6dUIclsqj21DJKaHBOsuVqzR\n",
       "O5NLLkTp6O2llkLRvt7S9q9AK0rrUSiX9sAZQkksbK8bf827jyQR9vwhaN1hV/Qiu6Ifu4Y8quZw\n",
       "GpICxHwrxnKEakUFyFzbW0znr5T5ucWbVgd1rME65XQeQkvunlAnMAmj/7JfbQYb38tvIY0M3tm3\n",
       "9y5OAXbdovJ3VXyJIRFXymr5dOtkXb2JO1m7paIj7nXEuLPuFtT+Xtp/00WCXU3wjsuLnfx2TzSJ\n",
       "/bK6WH2BgQw3tmosR4qRd3g3kDZJI1yydzOqjCGEjgZPNGeajCH7zCix9RmHXs6bwYFQzkh1dK0c\n",
       "0VpHcryoC0AMPWlBloYQWQHE4pWwAAABLgGf0HRDfwAN0hI2HlEANQSjbvoAP3nPFjmmhy0FXlh1\n",
       "3uEfoDbsAH5t7CBVVjTpIGuQNxOTL+06bzyHlKvv8i0MFtUh8aROodU/lcWuy6HnPuBAkQgzNlRI\n",
       "/7b4JsfmGkwr2tApbn0hd/mCDqlznqQS55C8R17yvDv2DxM7vRUvIAKfZSqVqtx4k4eeBBwPC/AJ\n",
       "b6pKPclSI3APigrcaKmF8t7clzekCX9JQiP1E8Ikv+e/JjdIIjnMCmZihjrMrCpLYS7CYeuta4Mi\n",
       "AfbnKbYlhvwHIMVZ+N6Gwl/a/4Wm+h8eZDT5rNjHn5VpLsbOd/tpf206BrhbSqNPqg4E08CEZAJy\n",
       "7XtcQ+nq6nWd1d2lDSaHMGgKKppsT5P9KXCeZfAxodwbx+lQA1Xm0DUhAAABIwGf0mpDfwAOI9lj\n",
       "r7zSADZvg/5v6KFHz4vVbnAFPqr8YnARJ/8FpvYXFG9c5vOJRIzXlu/hmRcgMxMqJc2Sp0ofcvQn\n",
       "te+b27sA4ji6Md1SI8jtY1OLh0cY9Nbbgq9orSIoKgSxXuuI+qC1BDwqVy+Wgo5D+tvKC1tF60mg\n",
       "2ZIoWVng19oj/FOQ/Clp2fckunZHI6zd0dP5x+edrp9DfejNlwVzuOZzLU+OCr02pbCMVUYH3Cvs\n",
       "dwZ1dE3ohtZH677zsLH7InHE5nhlvEjvKtjSUkYa90jnwpLG9TsuyXRQCfkSrZO8DeWwZOjefe01\n",
       "+PyexX0e1SKR3y6LNIR8cg9pwAonAsyDCEaBbeOoukATMRpYq65ULoTrczWvkpmQIni5VgAAA25B\n",
       "m9dJqEFsmUwII//+tSqAAqfC9BiABbp9N71zzRhan71rRveoN0YXq/yn84IHPiPQ39x9TUZLYY2T\n",
       "NMk2hd3KuEhMJ9wKSMVgOs4GwYjxr5bba5bcxp+tpA8AQ1uzbH4lXy3BSX8TqpP57zzBp4MtUMb3\n",
       "MhzWf9xqPrasv8KwsCcL8vRWYE6hSAjGpDeG/H4otVGtCaNZ0X/5oI53nqNIFDSl/m6i76Y+o951\n",
       "RH0e1l9O0HTiYWu1skO2O3gWDaO/4+ccFzSAB2XbSmjr9kAAJYjZQKA/Ts+kfFNIjlM3huncSTqK\n",
       "0Stm2zGJd66LiIwqOFFAaNA8etbAk/Mx8ro3Zo9Ri/jiS9Jhk3P0Mj6fwXzjdeZBzrj8Bga5W+kT\n",
       "nvXaBt8SebCpu+zY/gfDWEViSZ0snRWE+OPIHv9W7RJRlzDR33B2768PKU3+UJ6HM3RiiAJ7BDVQ\n",
       "FQIldJC8cn2+sq3H9mB0m8EYqtOrGlLvJJ6lwppjiSreQyWwcUvTG3/ZFC2KAXiPTgWfX4ZOTK1P\n",
       "BWBHsObSihBLg27BSbjATQ9UMb8mBM//lXDEkqJjUHvXpq78+uK9gpzQUqKtF3VSvaj5EZQxCSXg\n",
       "XBvDBkDkR0eDSlgrK7NTciYQhZ/MG2O5hmttLvks/XdLQXYFZttZE3KIECwXGgujVJNBG10EqJU8\n",
       "7TGX35yoBNElhlmYT7xiY7b/ZAt+pNr4CPHXvwJXKWBxzAr1oFviXFQl1SG8ldPigguOnjMcxB/V\n",
       "Wv+m5R8KLeg7uB0RiAKbFuxTzP+Gmdn1xCgPjE2U4AYCDV/2TbYi0v/7cJP88xHt2EVJ9vd8FzNd\n",
       "EEm6kzL9dctHUbVbtOYt5jttkSKdPZugm7XLtzdLQBiU4AD3YM+Sd3y2m+mwPSEbem4iPbTMI5J2\n",
       "E6ul4olMgG9PYvAGObQuHKBXZ/6C0pd/gcA1KEx/2zrkCT4N1zST42t29Wgbjq8NrFPuODnC/ugC\n",
       "dELEsuCsmpTfAf5LJSIES283EgzowVreHc6h8HKZu3yKSNizkhj7Hnja2Eg+EW1Xfvc/gg/HJWL0\n",
       "3sVYLWUGx8PUNFJr+jsm7ixmGO4p+h0AvgpPp71cd91Srm2vpflU5vWQj4E+ElcGHnfopbHAUAaC\n",
       "qqPrwTrAbqeby/A6/Fa1aVEK+nRy8AAAAVZBn/VFFSw7/wAKL/kTbKptme4lgAfFU3/yBVCPR4H8\n",
       "zJt1rVqAXmhkwXO7Xd4TNC7L1h8xFeGc0SLlvAUVtW9JfiSqgoD4d85g7jUljbXRJfmeLMYRzz8h\n",
       "zfVe9PC6SY7CDRVuyiy8Hme2YGcSMFK9C7OHg1U9yvsoU5c8kRDNsqyYGttiEKkOX7kvirNGGqel\n",
       "qwnNyyrRyuHADpJTrNVFDRV5T3QJZyV7XeMoI0+Nko7t9d9ihOWthKEg3T21QKvoJI2Yut9IAVTl\n",
       "OmQbE9GFb3TanDE5Gl14P3FdLg1iYWgiVZPtWyBu3GKrj9NOw/iDKD73eTqsX0YRRPQwLsPdL9h9\n",
       "CvHm3d0SnSOwgHYVSoIZZ0KzNiGwmkjmPVdc19YjfoB//6GdHcldPiofh7Reqg2p9SuXX+FMVkrY\n",
       "HIgAOmcK8Y549K+AkHLov1gu0dTPAYXu8kkAAADvAZ4UdEN/AA6B7gpYn/wAbSalVEqfAT3i0u9b\n",
       "Y2ma3l0DoG7uZW94NyslFHWXxiSTtifjp7p5C3zW+b9ceXfk6+g2H1lZMqgg6WmU/ZpPgWghwC1Z\n",
       "bdupaxqLhosLEebfYrLEblAjoafeBfy90cHZQ0v2s4RK0otFB4lM04KSJVUKlo/8h1o9g/BOB46Y\n",
       "xa+AW69XSVmyrew98+7/4pVa87wfS8Pu4boRlpGN0/IdJsaFnvybtRrqEv4uDvqHUNQjNqbZF5IY\n",
       "V5hLCGOg8FufXTO8DoAdGiexmzhPN5Duo1InqVWw1cTxtKPcXQeAEnAAAADDAZ4WakN/AA5S1Jhz\n",
       "5gf8AGzbOx3JkEe+LQdr8b2Ig0YawbOTFR3XrS4BJQe2AO39db+SIeLv6o6mBE6bivj0432uTAQM\n",
       "buKs0OGaN4I3cseL7GW8FqRIeTBVMT1rUNHEFKKJvGIkxs9io+JRWwx6jVKNbw/YLjpVgXjEU0aU\n",
       "K0Np19BqGnqlBskY+zaSeFvNDnE1rI6YwM+B95thW/m8+uabJvTvi0XgN57PjKpC2K3otnY/q1C5\n",
       "ovXAzynC9vuYACThAAACkUGaG0moQWyZTAgj//61KoACp7P5f+AAt68+dxpqF/EPGbmy9z3GyTby\n",
       "uHk4erXUsrM5UEEDNmAPW5fr8TJKiMyCxDGmwHXdpkv/n+UD4nsUESza5wdIpTXYXNJo0CmnvRuL\n",
       "xGlPCCrJoWQvuhO3NbXlWwUNgP084YFynzoSeCrRvyZe1JC0hou5oIomLDPrASLq991J3k5BD3sz\n",
       "UB809xjFZW1DFkG8fPEtUQ8ZwzFFfJRRpVuXWkMCUIvehF5fn6mZUtHp5lbkMe9qKPL0/F1/RBhX\n",
       "vJifCU1Q6JBHub22NDU6Wp9PbfDXlz1Z+eC4GK7AguQBJjdiKGL44X/LTOeUl4SN3TeAhxL884r+\n",
       "oO6xxC8zUFx+/bgePqppEqSqo8C9hgHXlBc6lSJX7+qnP5jcCUD+lv0bU3u/xomApZOxwI07MFb8\n",
       "PvBHQ1vVpq4yN4kcZZlKaOa8vc1pMqOJ82lcUa9ZoDQJOiCvurnMMTDsQueDN45HRbYV3K+8uVY7\n",
       "wxKsF3g1h1Ai+eCn6UnzTXahC9mie8dCVS1KFHOIHIidQZmXxS0+yOv8jzMgbDR+cIw7JWMdGTU3\n",
       "v5jaYrZccBn+8Ztc8MRXFNmq0dthQ0uUJ6ePam9n+AC+YjRecxCTl2AnEYgN02aQn2NzWfoQGOCt\n",
       "OLZHXtT+wtjcZCM45H0YmTOKGrNDlfh5NuvCAKGirAt6dL2ZQGpcBidB2VHLRfwt2CsQG/MQjYZU\n",
       "k4imq0BVutW4LkdGoEdycKhvPRBrXhSwTqu4N7sd3dMHjytjo86XQgmR1CcTxvTDvnh515HCmPgj\n",
       "yjHhREu/IG2LpxQJeLbj6Vky/6C9OWcFgqyF8kqE7o5cRBOjdxhNlaPlhjVXwQAAAPxBnjlFFSw7\n",
       "/wAKMG/gFlUvrHAAJxUrZ+t3vK5p0LDja0EQh74bBd92QYui60Y3vUzvLEfKS+Rrw2zVEJ++dqYE\n",
       "GIu152wCChcfjcFh0uthvtlmMZqh5jVFy8XPEv+kBGau+Tgvpq+gtb+KIkTh43eZGL0S1Q3tXlZH\n",
       "Grm3kjdDKI9y8yO3UyuQyZwoRJEIafvhDQlNUXGtkDl9xiMjDpEQbwOsLW+swXEze7bJ6Vekttoh\n",
       "HO/Ko5QpCEoD3pA4LkKnDTcBRa5WN+I3WXWlqWghKr+5m7GmdB8n5kkMNP1CcQ6gP/AJbrzBaIJr\n",
       "jAoDAJ0Y8XFkxlOw1DmgC7gAAACkAZ5YdEN/AA5RVbRYrgBCjMYBtSdSNe64Ad2D4nV0bQYcVO48\n",
       "kw4aHMQgUijY/j62Egd4AwiwMleNO6TVYcJSS+Q20L5sxHTxznTvyz6bcBOP5ODandD0lfxDlxsA\n",
       "wbyBxSqjtjSLHL03+M80/IUQb/LgO1ibwgaFQyUoISTFlPn/bEaRL0qv4GFEXD7j/p0KHZcamfBN\n",
       "lLvZrRk0KGFSw55oAbMAAABrAZ5aakN/AA4gquABhTwACIY+oyLCST0/8CyMdMi1j3peAPpjAOEG\n",
       "01dU/mYkomR/KoGodCulFBmEZdAI3FWOQrwkQ3cFFssnxGLJc2FjqMLnl1XYhIZZ1Dwpw1LbC8MQ\n",
       "OEc2FIM/9QwAD0gAAAGgQZpfSahBbJlMCCH//qpVAAVvx8AAON85QrGLmGPdxEbfeIfJDF3C+bdB\n",
       "BBVTt+sAyr8dQMw5bv45emnaLBoDg323KLn2r3DzuBu+40lwn6lPQky1lXQCcDVndOkGDThRpWjF\n",
       "cpDB4LkuEiCciZ49UdDgH+CSONrPNvgWTwKi+ndyyAmDFeeCKBHQk5+uamaOEecBhkxwiodcgDi7\n",
       "KTJ3Rx2WmTl61OPRpFNRsvMMMvRrEW1WLvlObg8xh+FiqhEEMub5T4mRUf6F93MJJYbeySi0OOWg\n",
       "/1AbsHqO/CnY+Cct7XG7eOrQlwDELKkESHMCPcBkjkj4rlWIh5qSwt4KewfbWQRtErwvE9LOdyKc\n",
       "q3deSHt+I17EscRS+ROlh/q650difAypquO+kXb/x8NNMBGajvGdw0sduEXr/uOfXc6EwEGbnj87\n",
       "37O4uXriqKT2vsEZ9HL8NVH6onXA6uBkqqutMVRKP9dIEPc4HcGla/H59Hz2sekN/r0TZHmJl7k+\n",
       "ZmjZTAfKStzhMVBYiC5CP/PcUqvlwiUnSsZ+aGe3i8kAAACRQZ59RRUsO/8ACpqu7bxeOCl9UAJo\n",
       "rJOCA2RUjLOkh8ujwld4D03k3nTyLd0S5sqB/35v+s8amexaqv/DjVfJlOB6X4p2TbcgkzveUfW4\n",
       "aOXebOD1eFhp3Lo2ZdMo9CjaiNWIP09c5Lqrz5bz8nakUyHQSmTrUTDSFlh+dMEk1Url1Y0+E3zx\n",
       "g8i1GpwO+AAYsQAAAEQBnpx0Q38AEFvLmgwcNMwx83Sw/r5wCACFJubzwlDv8nXuPnaPv9Hyu8oR\n",
       "7lEjsgVZRZP43BYemzs0benDqPuV0AAz4AAAADABnp5qQ38AEFjR1dxvL1Q2/gnY4WvD1lJheN0N\n",
       "1nvIJzffmP1yDMkZ9qGQCigAG3AAAAEpQZqDSahBbJlMCCH//qpVAAVvx8AALqvFXr8tr9bxDKKc\n",
       "L7oNNEwKUS0ouRgS1n7oDp2mOdTG1e1/w0+8673h3HZN32JsCUJyUn9S2lnOifQt2rINhqScaYRV\n",
       "3gqSChuhEGsgGXdXgKTR7WQQLYy4fXqAuT6Oz/SMMuK+ZK8DsqqHEX8U7dzpqoucnV5to3DzXNEl\n",
       "MC6pEryS148cGtoQrh2PeOW90crSL+T7lzCd9TpY0BSXvGk00p5U1jDxz3lSEp2elUP/FL0GLO/I\n",
       "oE7frwEwC7kamzBjv8AvHwyVkwl62K9RMQ4JSCPQ2mlvZ/Rb43HQWfMhpzBN6nrOFDMJR2nDvEVr\n",
       "l1AiqO27sEVCMli9Cx586gB19vr8Qrovb7R3Srmjqgo0NqkhAAAAW0GeoUUVLDv/AAqZggPxwzjb\n",
       "v52AEwyQlDbo/EVwyzsYHGbAb4CXwgVo/JEf7JYXFivOqLYGWEgR7IZyiLzUmQcm0gJeR/wy0URs\n",
       "m54ak88DkCcA0RDfgKYAAhYAAAAsAZ7AdEN/AA4piDQEGmp+ehYRla4c27gNF8d52u2pyEmxfxyO\n",
       "RuENB+AAFxEAAAAsAZ7CakN/AA4pDjSVieVONWkL8Xb9rC4XADzmjmfW+BPic/zziBDbnj3QCggA\n",
       "AADdQZrHSahBbJlMCG///qeEACjs2hTrk1vH1MiADUw/BOTOWQNR2rzyaqMKHYSK/CGtEIqwzLzw\n",
       "AI6LtqoYZXr3I455KbUbDMBryxjSlSAA9fNmGOu4+gyNMR5W9nB4IZ9DULA3LQJccrZeaaghNff1\n",
       "hIaWg70GF20Qc860AGeY/ILxQdN1lph7iP7ghFcYTpnLWJD9/VhqCz4NTdGI3r/VYSXDZ7+Z+Iee\n",
       "97D1SljH0Xl5kfAxxYRV+VB+eJTSBej0Y/D8zj0uwWH9I0bjHMdrsu1DdJkwq4KU04WabN0AAABP\n",
       "QZ7lRRUsO/8ACgk4K01hiSXleb9o+rCzzGOap0XMFc16J81SYJrTNvPHcB7R6aKHfU6gifqs0UzE\n",
       "TSeVfBjKKtAYIOBWX6HcuQNocAAKGQAAADkBnwR0Q38ADX8wa/nE1z5wAmr0DYV7Jc1fOSDC3lN6\n",
       "fNVFS0w1R+vw+UuNAV9CSnDSHTMJBZgAEXEAAAAoAZ8GakN/AA2BUZ5Y+EuwNClZEDiNrCOBALJF\n",
       "todiPKiEBWcVM5wBbQAABNdtb292AAAAbG12aGQAAAAAAAAAAAAAAAAAAAPoAAAPoAABAAABAAAA\n",
       "AAAAAAAAAAAAAQAAAAAAAAAAAAAAAAAAAAEAAAAAAAAAAAAAAAAAAEAAAAAAAAAAAAAAAAAAAAAA\n",
       "AAAAAAAAAAAAAAAAAAACAAAEAXRyYWsAAABcdGtoZAAAAAMAAAAAAAAAAAAAAAEAAAAAAAAPoAAA\n",
       "AAAAAAAAAAAAAAAAAAAAAQAAAAAAAAAAAAAAAAAAAAEAAAAAAAAAAAAAAAAAAEAAAAAB9AAAAZAA\n",
       "AAAAACRlZHRzAAAAHGVsc3QAAAAAAAAAAQAAD6AAAAgAAAEAAAAAA3ltZGlhAAAAIG1kaGQAAAAA\n",
       "AAAAAAAAAAAAACgAAACgAFXEAAAAAAAtaGRscgAAAAAAAAAAdmlkZQAAAAAAAAAAAAAAAFZpZGVv\n",
       "SGFuZGxlcgAAAAMkbWluZgAAABR2bWhkAAAAAQAAAAAAAAAAAAAAJGRpbmYAAAAcZHJlZgAAAAAA\n",
       "AAABAAAADHVybCAAAAABAAAC5HN0YmwAAAC0c3RzZAAAAAAAAAABAAAApGF2YzEAAAAAAAAAAQAA\n",
       "AAAAAAAAAAAAAAAAAAAB9AGQAEgAAABIAAAAAAAAAAEAAAAAAAAAAAAAAAAAAAAAAAAAAAAAAAAA\n",
       "AAAAAAAAAAAY//8AAAAyYXZjQwFkABb/4QAZZ2QAFqzZQIAz5+EAAAMAAQAAAwAUDxYtlgEABmjr\n",
       "48siwAAAABx1dWlka2hA8l8kT8W6OaUbzwMj8wAAAAAAAAAYc3R0cwAAAAAAAAABAAAAKAAABAAA\n",
       "AAAUc3RzcwAAAAAAAAABAAAAAQAAARhjdHRzAAAAAAAAACEAAAAIAAAIAAAAAAEAABQAAAAAAQAA\n",
       "CAAAAAABAAAAAAAAAAEAAAQAAAAAAQAAFAAAAAABAAAIAAAAAAEAAAAAAAAAAQAABAAAAAABAAAU\n",
       "AAAAAAEAAAgAAAAAAQAAAAAAAAABAAAEAAAAAAEAABQAAAAAAQAACAAAAAABAAAAAAAAAAEAAAQA\n",
       "AAAAAQAAFAAAAAABAAAIAAAAAAEAAAAAAAAAAQAABAAAAAABAAAUAAAAAAEAAAgAAAAAAQAAAAAA\n",
       "AAABAAAEAAAAAAEAABQAAAAAAQAACAAAAAABAAAAAAAAAAEAAAQAAAAAAQAAFAAAAAABAAAIAAAA\n",
       "AAEAAAAAAAAAAQAABAAAAAAcc3RzYwAAAAAAAAABAAAAAQAAACgAAAABAAAAtHN0c3oAAAAAAAAA\n",
       "AAAAACgAABesAAABXwAAAZUAAAIpAAABlAAAAeoAAAG2AAABKgAABGYAAAFRAAAAxgAAAQEAAASz\n",
       "AAABywAAATIAAAFGAAAEHQAAAdwAAAEyAAABJwAAA3IAAAFaAAAA8wAAAMcAAAKVAAABAAAAAKgA\n",
       "AABvAAABpAAAAJUAAABIAAAANAAAAS0AAABfAAAAMAAAADAAAADhAAAAUwAAAD0AAAAsAAAAFHN0\n",
       "Y28AAAAAAAAAAQAAACwAAABidWR0YQAAAFptZXRhAAAAAAAAACFoZGxyAAAAAAAAAABtZGlyYXBw\n",
       "bAAAAAAAAAAAAAAAAC1pbHN0AAAAJal0b28AAAAdZGF0YQAAAAEAAAAATGF2ZjU2LjQwLjEwMQ==\n",
       "\">\n",
       "  Your browser does not support the video tag.\n",
       "</video>"
      ],
      "text/plain": [
       "<matplotlib.animation.FuncAnimation at 0x7f094e614050>"
      ]
     },
     "execution_count": 16,
     "metadata": {},
     "output_type": "execute_result"
    }
   ],
   "source": [
    "#\n",
    "\n",
    "def animate(i):\n",
    "    line.set_ydata(lin(a_guess,b_guess,x))\n",
    "    for i in range(10): upd()\n",
    "    return line,\n",
    "\n",
    "ani = animation.FuncAnimation(fig, animate, np.arange(0, 40), interval=100)\n",
    "ani"
   ]
  },
  {
   "cell_type": "code",
   "execution_count": 21,
   "metadata": {},
   "outputs": [
    {
     "name": "stdout",
     "output_type": "stream",
     "text": [
      "saving file\n",
      "file saved\n"
     ]
    }
   ],
   "source": [
    "#this below did not work. \n",
    "ani2 = animation.FuncAnimation(fig, animate, np.arange(0, 40), interval=100)\n",
    "print (\"saving file\")\n",
    "ani2.save('sgd-intro_working.mp4', fps=30, extra_args=['-vcodec', 'libx264'])\n",
    "print (\"file saved\")\n",
    "with open('sgd-intro_working.mp4', 'rb') as f:\n",
    "    video_tag = '<video controls alt=\"test\" src=\"data:video/x-m4v;base64,{0}\">'.format(base64.b64encode(f.read()).decode('utf-8'))\n"
   ]
  },
  {
   "cell_type": "code",
   "execution_count": 22,
   "metadata": {},
   "outputs": [
    {
     "data": {
      "application/vnd.jupyter.widget-view+json": {
       "model_id": "8c9be7404d6c4e758983c3bd85ae2f9d",
       "version_major": 2,
       "version_minor": 0
      },
      "text/html": [
       "<p>Failed to display Jupyter Widget of type <code>HTML</code>.</p>\n",
       "<p>\n",
       "  If you're reading this message in Jupyter Notebook or JupyterLab, it may mean\n",
       "  that the widgets JavaScript is still loading. If this message persists, it\n",
       "  likely means that the widgets JavaScript library is either not installed or\n",
       "  not enabled. See the <a href=\"https://ipywidgets.readthedocs.io/en/stable/user_install.html\">Jupyter\n",
       "  Widgets Documentation</a> for setup instructions.\n",
       "</p>\n",
       "<p>\n",
       "  If you're reading this message in another notebook frontend (for example, a static\n",
       "  rendering on GitHub or <a href=\"https://nbviewer.jupyter.org/\">NBViewer</a>),\n",
       "  it may mean that your frontend doesn't currently support widgets.\n",
       "</p>\n"
      ],
      "text/plain": [
       "HTML(value=u'<video controls alt=\"test\" src=\"data:video/x-m4v;base64,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\">')"
      ]
     },
     "metadata": {},
     "output_type": "display_data"
    }
   ],
   "source": [
    "HTML(video_tag)\n",
    "#dont know why this animation does not work - only showing last frame???"
   ]
  },
  {
   "cell_type": "code",
   "execution_count": null,
   "metadata": {},
   "outputs": [],
   "source": []
  }
 ],
 "metadata": {
  "kernelspec": {
   "display_name": "Python 2",
   "language": "python",
   "name": "python2"
  },
  "language_info": {
   "codemirror_mode": {
    "name": "ipython",
    "version": 2
   },
   "file_extension": ".py",
   "mimetype": "text/x-python",
   "name": "python",
   "nbconvert_exporter": "python",
   "pygments_lexer": "ipython2",
   "version": "2.7.12"
  },
  "nav_menu": {},
  "toc": {
   "navigate_menu": true,
   "number_sections": true,
   "sideBar": true,
   "threshold": 6,
   "toc_cell": true,
   "toc_section_display": "block",
   "toc_window_display": false
  },
  "widgets": {
   "state": {},
   "version": "1.1.2"
  }
 },
 "nbformat": 4,
 "nbformat_minor": 1
}
