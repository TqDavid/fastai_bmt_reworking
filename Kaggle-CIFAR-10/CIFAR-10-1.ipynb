{
 "cells": [
  {
   "cell_type": "code",
   "execution_count": null,
   "metadata": {},
   "outputs": [],
   "source": [
    "#https://www.kaggle.com/c/cifar-10\n"
   ]
  },
  {
   "cell_type": "markdown",
   "metadata": {},
   "source": [
    "pip install kaggle-cli\n",
    "#get data from kaggle\n",
    "kg download -u <username> -p <password> -c cifar-10\n",
    "\n",
    "p7zip -d train.7z  \n",
    "p7zip -d test.7z  \n"
   ]
  },
  {
   "cell_type": "code",
   "execution_count": null,
   "metadata": {},
   "outputs": [],
   "source": [
    "from datetime import datetime\n",
    "HOMEPATH = \"/home/ubuntu/fastai/\"\n",
    "DATA_HOME_DIR = HOMEPATH + \"data/cifar-10/\"\n",
    "sampleRatio = 0.2\n",
    "trainRatio = 0.8\n",
    "import os"
   ]
  },
  {
   "cell_type": "code",
   "execution_count": null,
   "metadata": {},
   "outputs": [],
   "source": [
    "from keras import backend as K\n",
    "import os\n",
    "\n",
    "print(\"----------------\")\n",
    "def set_keras_backend(backend):\n",
    "\n",
    "    if K.backend() != backend:\n",
    "        os.environ['KERAS_BACKEND'] = backend\n",
    "        reload(K)\n",
    "        assert K.backend() == backend\n",
    "\n",
    "set_keras_backend(\"theano\")"
   ]
  },
  {
   "cell_type": "code",
   "execution_count": null,
   "metadata": {},
   "outputs": [],
   "source": [
    "os.chdir(HOMEPATH)\n",
    "print (\"os.getcwd:\", os.getcwd())\n",
    "# Rather than importing everything manually, we'll make things easy\n",
    "#   and load them all in utils.py, and just import them from there.\n",
    "%matplotlib inline\n",
    "import utils; reload(utils)\n",
    "from utils import *"
   ]
  },
  {
   "cell_type": "code",
   "execution_count": null,
   "metadata": {},
   "outputs": [],
   "source": [
    "os.chdir(HOMEPATH)\n",
    "print (\"os.getcwd:\", os.getcwd())\n",
    "%matplotlib inline\n",
    "from __future__ import division,print_function\n",
    "import os, json\n",
    "from glob import glob\n",
    "import numpy as np\n",
    "import pandas as pd\n",
    "import scipy\n",
    "from random import shuffle\n",
    "from sklearn.preprocessing import OneHotEncoder\n",
    "from sklearn.metrics import confusion_matrix\n",
    "np.set_printoptions(precision=4, linewidth=100)\n",
    "from matplotlib import pyplot as plt\n",
    "import utils; reload(utils)\n",
    "from utils import plots, get_batches, plot_confusion_matrix, get_data"
   ]
  },
  {
   "cell_type": "code",
   "execution_count": null,
   "metadata": {},
   "outputs": [],
   "source": [
    "from numpy.random import random, permutation\n",
    "from scipy import misc, ndimage\n",
    "from scipy.ndimage.interpolation import zoom\n",
    "\n",
    "import keras\n",
    "from keras import backend as K\n",
    "from keras.utils.data_utils import get_file\n",
    "from keras.models import Sequential\n",
    "from keras.layers import Input\n",
    "from keras.layers.core import Flatten, Dense, Dropout, Lambda\n",
    "from keras.layers.convolutional import Convolution2D, MaxPooling2D, ZeroPadding2D\n",
    "from keras.optimizers import SGD, RMSprop\n",
    "from keras.preprocessing import image"
   ]
  },
  {
   "cell_type": "code",
   "execution_count": null,
   "metadata": {
    "scrolled": true
   },
   "outputs": [],
   "source": [
    "#path = HOMEPATH + \"data/dogscats/sample/\"\n",
    "path = DATA_HOME_DIR \n",
    "#path = DATA_HOME_DIR + \"sample/\"\n",
    "train_path = path + 'train/'\n",
    "test_path = path + 'test/'\n",
    "testUnknown_path = path + 'test/unknown/'\n",
    "valid_path = path + 'valid/'\n",
    "model_path = path + 'models/'\n",
    "sample_path = path + 'sample/'\n",
    "sampleTrain_path = path + 'sample/train/'\n",
    "sampleTest_path = path + 'sample/test/'\n",
    "sampleValid_path = path + 'sample/valid/'\n",
    "sampleResults_path = path + 'sample/results/'\n",
    "sampleTestUnknown_path = path + 'sample/test/unknown/'\n",
    "\n",
    "categories = ['airplane', 'automobile', 'bird', 'cat', 'deer', 'dog', 'frog', 'horse', 'ship', 'truck']\n",
    "\n",
    "def makeNewDir(newDirPath):\n",
    "    if not os.path.exists(newDirPath): \n",
    "        print(\"directory \", newDirPath, \" did not exist, creating:\")\n",
    "        os.mkdir(newDirPath)\n",
    "    else:\n",
    "        print(\"directory \", newDirPath, \"already existed.\")\n",
    "\n",
    "#makeNewDir(train_path)#already exists after unzipping\n",
    "#makeNewDir(test_path)#already exists after unzipping\n",
    "\n",
    "makeNewDir(testUnknown_path)\n",
    "makeNewDir(valid_path)\n",
    "makeNewDir(model_path)\n",
    "makeNewDir(sample_path)\n",
    "makeNewDir(sampleTrain_path)\n",
    "makeNewDir(sampleTest_path)\n",
    "makeNewDir(sampleValid_path)\n",
    "makeNewDir(sampleResults_path)\n",
    "makeNewDir(sampleTestUnknown_path)\n",
    "for category in categories:\n",
    "    newDir = train_path + category\n",
    "    makeNewDir(newDir)\n",
    "    newDir = valid_path + category\n",
    "    makeNewDir(newDir)\n",
    "    newDir = sampleTrain_path + category\n",
    "    makeNewDir(newDir)\n",
    "    newDir = sampleValid_path + category\n",
    "    makeNewDir(newDir)\n",
    "\n"
   ]
  },
  {
   "cell_type": "code",
   "execution_count": null,
   "metadata": {},
   "outputs": [],
   "source": [
    "#load trainLabels.csv and use to move files to category directories\n",
    "trainLabelsFile = DATA_HOME_DIR + \"trainLabels.csv\"\n",
    "trainLabels = pd.read_csv(trainLabelsFile).as_matrix()\n",
    "print (type(trainLabels), trainLabels.shape)\n",
    "print (trainLabels[0:10,])"
   ]
  },
  {
   "cell_type": "code",
   "execution_count": null,
   "metadata": {},
   "outputs": [],
   "source": [
    "#\n",
    "def moveFilesToCategories(path_):\n",
    "    os.chdir(path_)\n",
    "    errCount = 0\n",
    "    success = 0\n",
    "    print (\"current dir:\", os.getcwd())\n",
    "    for i in range(0,trainLabels.shape[0]):\n",
    "        #move file to subdirectory \n",
    "        #print (trainLabels[i,0], trainLabels[i,1])\n",
    "        #print(\"moving:\", str(trainLabels[i,0])+\".png\", \" to \", trainLabels[i,1]+\"/\"+str(trainLabels[i,0])+\".png\")\n",
    "        try:\n",
    "            os.rename(str(trainLabels[i,0])+\".png\", trainLabels[i,1]+\"/\"+str(trainLabels[i,0])+\".png\")\n",
    "            success += 1\n",
    "        except:\n",
    "            errCount += 1\n",
    "            #print (\"Unexpected error:\", sys.exc_info()[0])\n",
    "        #if i>5: break\n",
    "    print (\"success:\", success)\n",
    "    print (\"errCount:\", errCount)"
   ]
  },
  {
   "cell_type": "code",
   "execution_count": null,
   "metadata": {},
   "outputs": [],
   "source": [
    "moveFilesToCategories(train_path)"
   ]
  },
  {
   "cell_type": "code",
   "execution_count": null,
   "metadata": {},
   "outputs": [],
   "source": [
    "def dirFileList(dir_path):\n",
    "    return [name for name in os.listdir(dir_path) if os.path.isfile(os.path.join(dir_path, name))]\n",
    "    "
   ]
  },
  {
   "cell_type": "code",
   "execution_count": null,
   "metadata": {},
   "outputs": [],
   "source": [
    "def moveListToDir(fileList, currDir, destDir):\n",
    "    print (\"moving \", len(fileList), \" files from \", currDir, \" to \", destDir)\n",
    "    for file in fileList:\n",
    "        #move file to destDir\n",
    "        errCount = 0\n",
    "        success = 0\n",
    "        try:\n",
    "            os.rename(currDir+\"/\"+file, destDir+\"/\"+file)\n",
    "            print (currDir+\"/\"+file, \" to \", destDir+\"/\"+file)\n",
    "            success += 1\n",
    "        except:\n",
    "            errCount += 1\n",
    "            print (\"error moving \", currDir+\"/\"+file, \" to \", destDir+\"/\"+file)\n",
    "            print (\"Unexpected error:\", sys.exc_info()[0])\n",
    "        #break\n",
    "    print (\"success:\", success)\n",
    "    print (\"errCount:\", errCount)\n"
   ]
  },
  {
   "cell_type": "code",
   "execution_count": null,
   "metadata": {},
   "outputs": [],
   "source": [
    "print (train_path, \" has \", len(dirFileList(train_path)), \" files.\")\n",
    "#identify files in each category.\n",
    "#apply split for train | sample, sample/train, sample/valid and valid\n",
    "for category in categories:\n",
    "    fileList = dirFileList(train_path+category)\n",
    "    print (train_path+category, \" has \", len(fileList), \" files.\")\n",
    "    #randomly select fraction (sampleRatio) of files to move to sample\n",
    "    shuffle(fileList)\n",
    "    numSamples = int(len(fileList)*sampleRatio)\n",
    "    sampleList = fileList[0:numSamples]\n",
    "    print (\"sampleList:\", len(sampleList))\n",
    "    nonValidList =  fileList[numSamples:]\n",
    "    print (\"nonValidList:\", len(nonValidList))\n",
    "\n",
    "    numTrain = int(len(nonValidList)*trainRatio)\n",
    "    trainList = nonValidList[0:numTrain]#these don't move \n",
    "    validList = nonValidList[numTrain:]\n",
    "    print (\"trainList:\", len(trainList))\n",
    "    print (\"validList:\", len(validList))\n",
    "    #fix required here. all of sample is moved to sample.\n",
    "    #all of validList is moved to valid.\n",
    "    # need to split valid and train after moving sample out.\n",
    "    moveListToDir(validList, train_path+category, valid_path+category)\n",
    "    \n",
    "    #  of this selection, move randomly selected fraction (trainValidRatio)   to sample/valid \n",
    "    numSamplesTrain = int(len(sampleList)*trainRatio)\n",
    "    sampleTrainList = sampleList[0:numSamplesTrain]\n",
    "    sampleValidList = sampleList[numSamplesTrain:]\n",
    "    print (\"sampleTrainList:\", len(sampleTrainList))\n",
    "    moveListToDir(sampleTrainList, train_path+category, sampleTrain_path+category)\n",
    "    print (\"sampleValidList:\", len(sampleValidList))\n",
    "    moveListToDir(sampleValidList, train_path+category, sampleValid_path+category)\n"
   ]
  },
  {
   "cell_type": "code",
   "execution_count": null,
   "metadata": {},
   "outputs": [],
   "source": [
    "dirList = [train_path, valid_path, sampleTrain_path, sampleValid_path]\n",
    "\n",
    "for dir_path in dirList:\n",
    "    for category in categories:\n",
    "        print (\"# of files in\", dir_path+category, \":\", len(dirFileList(dir_path+category)))\n"
   ]
  },
  {
   "cell_type": "code",
   "execution_count": null,
   "metadata": {},
   "outputs": [],
   "source": []
  }
 ],
 "metadata": {
  "kernelspec": {
   "display_name": "Python 2",
   "language": "python",
   "name": "python2"
  },
  "language_info": {
   "codemirror_mode": {
    "name": "ipython",
    "version": 2
   },
   "file_extension": ".py",
   "mimetype": "text/x-python",
   "name": "python",
   "nbconvert_exporter": "python",
   "pygments_lexer": "ipython2",
   "version": "2.7.12"
  }
 },
 "nbformat": 4,
 "nbformat_minor": 2
}
