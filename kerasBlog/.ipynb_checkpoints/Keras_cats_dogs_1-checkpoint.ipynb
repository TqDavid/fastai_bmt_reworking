{
 "cells": [
  {
   "cell_type": "code",
   "execution_count": null,
   "metadata": {},
   "outputs": [],
   "source": [
    "#https://blog.keras.io/building-powerful-image-classification-models-using-very-little-data.html\n",
    "#https://gist.github.com/fchollet/0830affa1f7f19fd47b06d4cf89ed44d\n"
   ]
  },
  {
   "cell_type": "code",
   "execution_count": 95,
   "metadata": {},
   "outputs": [],
   "source": [
    "from keras.preprocessing.image import ImageDataGenerator\n",
    "from keras.models import Sequential\n",
    "from keras.layers import Conv2D, MaxPooling2D\n",
    "from keras.layers import Activation, Dropout, Flatten, Dense\n",
    "from keras import backend as K\n",
    "import keras\n",
    "import os\n",
    "from shutil import copyfile\n",
    "import random\n",
    "import matplotlib.pyplot as plt\n"
   ]
  },
  {
   "cell_type": "code",
   "execution_count": 96,
   "metadata": {},
   "outputs": [
    {
     "name": "stdout",
     "output_type": "stream",
     "text": [
      "keras.__version__: 2.0.8\n",
      "size: [ 6.  4.] fig.dpi: 72.0\n"
     ]
    }
   ],
   "source": [
    "print (\"keras.__version__:\", keras.__version__)\n",
    "fig = plt.figure()\n",
    "size = fig.get_size_inches()\n",
    "print (\"size:\", size, \"fig.dpi:\", fig.dpi)"
   ]
  },
  {
   "cell_type": "code",
   "execution_count": 13,
   "metadata": {},
   "outputs": [],
   "source": [
    "def dirFileList(dir_path):\n",
    "    return [name for name in os.listdir(dir_path) if os.path.isfile(os.path.join(dir_path, name))]\n"
   ]
  },
  {
   "cell_type": "code",
   "execution_count": 55,
   "metadata": {},
   "outputs": [],
   "source": [
    "categories = ['cats', 'dogs']\n",
    "DATA_BASE = \"/home/ubuntu/fastai/data/dogscats/\"\n",
    "SAMPLE_TRAIN = DATA_BASE + \"sample/train/\"\n",
    "SAMPLE_VALID = DATA_BASE + \"sample/valid/\"\n",
    "TRAIN        = DATA_BASE + \"train/\"\n",
    "VALID        = DATA_BASE + \"valid/\"\n",
    "RESULTS = DATA_BASE + \"models/\"\n",
    "SAMPLESIZE = 1000"
   ]
  },
  {
   "cell_type": "code",
   "execution_count": 40,
   "metadata": {},
   "outputs": [
    {
     "data": {
      "text/plain": [
       "'/home/ubuntu/fastai/data/dogscats/models/'"
      ]
     },
     "execution_count": 40,
     "metadata": {},
     "output_type": "execute_result"
    }
   ],
   "source": [
    "RESULTS"
   ]
  },
  {
   "cell_type": "code",
   "execution_count": 76,
   "metadata": {},
   "outputs": [
    {
     "name": "stdout",
     "output_type": "stream",
     "text": [
      "# of files in /home/ubuntu/fastai/data/dogscats/sample/train/cats : 1000\n",
      "# of files in /home/ubuntu/fastai/data/dogscats/sample/train/dogs : 1000\n",
      "# of files in /home/ubuntu/fastai/data/dogscats/sample/valid/cats : 1000\n",
      "# of files in /home/ubuntu/fastai/data/dogscats/sample/valid/dogs : 1000\n",
      "# of files in /home/ubuntu/fastai/data/dogscats/train/cats : 11500\n",
      "# of files in /home/ubuntu/fastai/data/dogscats/train/dogs : 11500\n",
      "# of files in /home/ubuntu/fastai/data/dogscats/valid/cats : 1004\n",
      "# of files in /home/ubuntu/fastai/data/dogscats/valid/dogs : 1004\n"
     ]
    }
   ],
   "source": [
    "dirList = [SAMPLE_TRAIN, SAMPLE_VALID, TRAIN, VALID]\n",
    "\n",
    "for dir_path in dirList:\n",
    "    for category in categories:\n",
    "        print (\"# of files in\", dir_path+category, \":\", len(dirFileList(dir_path+category)))"
   ]
  },
  {
   "cell_type": "code",
   "execution_count": 63,
   "metadata": {},
   "outputs": [],
   "source": [
    "def dirFileList(dir_path):\n",
    "    return [name for name in os.listdir(dir_path) if os.path.isfile(os.path.join(dir_path, name))]\n"
   ]
  },
  {
   "cell_type": "code",
   "execution_count": 64,
   "metadata": {},
   "outputs": [],
   "source": [
    "def moveListToDir(fileList, currDir, destDir):\n",
    "    print (\"moving \", len(fileList), \" files from \", currDir, \" to \", destDir)\n",
    "    for file in fileList:\n",
    "        #move file to destDir\n",
    "        errCount = 0\n",
    "        success = 0\n",
    "        try:\n",
    "            os.rename(currDir+\"/\"+file, destDir+\"/\"+file)\n",
    "            print (currDir+\"/\"+file, \" to \", destDir+\"/\"+file)\n",
    "            success += 1\n",
    "        except:\n",
    "            errCount += 1\n",
    "            print (\"error moving \", currDir+\"/\"+file, \" to \", destDir+\"/\"+file)\n",
    "            print (\"Unexpected error:\", sys.exc_info()[0])\n",
    "        #break\n",
    "    print (\"success:\", success)\n",
    "    print (\"errCount:\", errCount)\n"
   ]
  },
  {
   "cell_type": "code",
   "execution_count": 69,
   "metadata": {},
   "outputs": [],
   "source": [
    "def copyListToDir(fileList, currDir, destDir):\n",
    "    print (\"moving \", len(fileList), \" files from \", currDir, \" to \", destDir)\n",
    "    for file in fileList:\n",
    "        #move file to destDir\n",
    "        errCount = 0\n",
    "        success = 0\n",
    "        try:\n",
    "            copyfile(currDir+\"/\"+file, destDir+\"/\"+file)\n",
    "            #print (\"copied: \", currDir+\"/\"+file, \" to \", destDir+\"/\"+file)\n",
    "            success += 1\n",
    "        except:\n",
    "            errCount += 1\n",
    "            print (\"error moving \", currDir+\"/\"+file, \" to \", destDir+\"/\"+file)\n",
    "            print (\"Unexpected error:\", sys.exc_info()[0])\n",
    "        #break\n",
    "    print (\"success:\", success)\n",
    "    print (\"errCount:\", errCount)\n"
   ]
  },
  {
   "cell_type": "markdown",
   "metadata": {},
   "source": [
    "#only run this once\n",
    "sample = dirFileList(TRAIN+'cats/')\n",
    "print (len(sample))\n",
    "filesToMove = random.sample(sample[0:len(sample)], SAMPLESIZE)\n",
    "print (len(filesToMove))\n",
    "copyListToDir(filesToMove, TRAIN+'cats/', SAMPLE_TRAIN+'cats/')\n",
    "print (len(dirFileList(SAMPLE_TRAIN+'cats/')))"
   ]
  },
  {
   "cell_type": "markdown",
   "metadata": {},
   "source": [
    "#only run this once\n",
    "sample = dirFileList(TRAIN+'dogs/')\n",
    "print (len(sample))\n",
    "filesToMove = random.sample(sample[0:len(sample)], SAMPLESIZE)\n",
    "print (len(filesToMove))\n",
    "copyListToDir(filesToMove, TRAIN+'dogs/', SAMPLE_TRAIN+'dogs/')\n",
    "print (len(dirFileList(SAMPLE_TRAIN+'dogs/')))"
   ]
  },
  {
   "cell_type": "markdown",
   "metadata": {},
   "source": [
    "#only run this once\n",
    "sample = dirFileList(VALID+'cats/')\n",
    "print (len(sample))\n",
    "filesToMove = random.sample(sample[0:len(sample)], SAMPLESIZE)\n",
    "print (len(filesToMove))\n",
    "copyListToDir(filesToMove, VALID+'cats/', SAMPLE_VALID+'cats/')\n",
    "print (len(dirFileList(SAMPLE_VALID+'cats/')))"
   ]
  },
  {
   "cell_type": "markdown",
   "metadata": {},
   "source": [
    "#only run this once\n",
    "sample = dirFileList(VALID+'dogs/')\n",
    "print (len(sample))\n",
    "filesToMove = random.sample(sample[0:len(sample)], SAMPLESIZE)\n",
    "print (len(filesToMove))\n",
    "copyListToDir(filesToMove, VALID+'dogs/', SAMPLE_VALID+'dogs/')\n",
    "print (len(dirFileList(SAMPLE_VALID+'dogs/')))"
   ]
  },
  {
   "cell_type": "code",
   "execution_count": null,
   "metadata": {},
   "outputs": [],
   "source": []
  },
  {
   "cell_type": "code",
   "execution_count": 77,
   "metadata": {},
   "outputs": [],
   "source": [
    "# dimensions of our images.\n",
    "img_width, img_height = 150, 150\n",
    "\n",
    "train_data_dir = SAMPLE_TRAIN        #TRAIN\n",
    "validation_data_dir = SAMPLE_VALID   #VALID\n",
    "nb_train_samples = 2000\n",
    "nb_validation_samples = 800\n",
    "epochs = 50\n",
    "batch_size = 16\n"
   ]
  },
  {
   "cell_type": "code",
   "execution_count": 78,
   "metadata": {},
   "outputs": [
    {
     "name": "stdout",
     "output_type": "stream",
     "text": [
      "K.image_data_format(): channels_last\n"
     ]
    }
   ],
   "source": [
    "print (\"K.image_data_format():\", K.image_data_format())\n",
    "if K.image_data_format() == 'channels_first':\n",
    "    input_shape = (3, img_width, img_height)\n",
    "else:\n",
    "    input_shape = (img_width, img_height, 3)"
   ]
  },
  {
   "cell_type": "code",
   "execution_count": 100,
   "metadata": {},
   "outputs": [],
   "source": [
    "model = Sequential()\n",
    "model.add(Conv2D(32, (3, 3), input_shape=input_shape))\n",
    "model.add(Activation('relu'))\n",
    "model.add(MaxPooling2D(pool_size=(2, 2)))\n",
    "\n",
    "model.add(Conv2D(32, (3, 3)))\n",
    "model.add(Activation('relu'))\n",
    "model.add(MaxPooling2D(pool_size=(2, 2)))\n",
    "\n",
    "model.add(Conv2D(64, (3, 3)))\n",
    "model.add(Activation('relu'))\n",
    "model.add(MaxPooling2D(pool_size=(2, 2)))\n",
    "\n",
    "model.add(Flatten())\n",
    "model.add(Dense(64))\n",
    "model.add(Activation('relu'))\n",
    "model.add(Dropout(0.5))\n",
    "model.add(Dense(1))\n",
    "model.add(Activation('sigmoid'))"
   ]
  },
  {
   "cell_type": "code",
   "execution_count": 101,
   "metadata": {},
   "outputs": [
    {
     "name": "stdout",
     "output_type": "stream",
     "text": [
      "_________________________________________________________________\n",
      "Layer (type)                 Output Shape              Param #   \n",
      "=================================================================\n",
      "conv2d_10 (Conv2D)           (None, 148, 148, 32)      896       \n",
      "_________________________________________________________________\n",
      "activation_16 (Activation)   (None, 148, 148, 32)      0         \n",
      "_________________________________________________________________\n",
      "max_pooling2d_10 (MaxPooling (None, 74, 74, 32)        0         \n",
      "_________________________________________________________________\n",
      "conv2d_11 (Conv2D)           (None, 72, 72, 32)        9248      \n",
      "_________________________________________________________________\n",
      "activation_17 (Activation)   (None, 72, 72, 32)        0         \n",
      "_________________________________________________________________\n",
      "max_pooling2d_11 (MaxPooling (None, 36, 36, 32)        0         \n",
      "_________________________________________________________________\n",
      "conv2d_12 (Conv2D)           (None, 34, 34, 64)        18496     \n",
      "_________________________________________________________________\n",
      "activation_18 (Activation)   (None, 34, 34, 64)        0         \n",
      "_________________________________________________________________\n",
      "max_pooling2d_12 (MaxPooling (None, 17, 17, 64)        0         \n",
      "_________________________________________________________________\n",
      "flatten_4 (Flatten)          (None, 18496)             0         \n",
      "_________________________________________________________________\n",
      "dense_7 (Dense)              (None, 64)                1183808   \n",
      "_________________________________________________________________\n",
      "activation_19 (Activation)   (None, 64)                0         \n",
      "_________________________________________________________________\n",
      "dropout_4 (Dropout)          (None, 64)                0         \n",
      "_________________________________________________________________\n",
      "dense_8 (Dense)              (None, 1)                 65        \n",
      "_________________________________________________________________\n",
      "activation_20 (Activation)   (None, 1)                 0         \n",
      "=================================================================\n",
      "Total params: 1,212,513\n",
      "Trainable params: 1,212,513\n",
      "Non-trainable params: 0\n",
      "_________________________________________________________________\n"
     ]
    }
   ],
   "source": [
    "model.summary()"
   ]
  },
  {
   "cell_type": "code",
   "execution_count": 102,
   "metadata": {},
   "outputs": [],
   "source": [
    "model.compile(loss='binary_crossentropy',\n",
    "              optimizer='rmsprop',\n",
    "              metrics=['accuracy'])\n"
   ]
  },
  {
   "cell_type": "code",
   "execution_count": 103,
   "metadata": {},
   "outputs": [],
   "source": [
    "# this is the augmentation configuration we will use for training\n",
    "train_datagen = ImageDataGenerator(\n",
    "    rescale=1. / 255,\n",
    "    shear_range=0.2,\n",
    "    zoom_range=0.2,\n",
    "    horizontal_flip=True)"
   ]
  },
  {
   "cell_type": "code",
   "execution_count": 104,
   "metadata": {},
   "outputs": [
    {
     "name": "stdout",
     "output_type": "stream",
     "text": [
      "type(train_datagen): <class 'keras.preprocessing.image.ImageDataGenerator'>\n"
     ]
    }
   ],
   "source": [
    "print (\"type(train_datagen):\", type(train_datagen))"
   ]
  },
  {
   "cell_type": "code",
   "execution_count": 105,
   "metadata": {},
   "outputs": [],
   "source": [
    "# this is the augmentation configuration we will use for testing:\n",
    "# only rescaling\n",
    "test_datagen = ImageDataGenerator(rescale=1. / 255)"
   ]
  },
  {
   "cell_type": "code",
   "execution_count": 106,
   "metadata": {},
   "outputs": [
    {
     "name": "stdout",
     "output_type": "stream",
     "text": [
      "Found 2000 images belonging to 2 classes.\n"
     ]
    }
   ],
   "source": [
    "train_generator = train_datagen.flow_from_directory(\n",
    "    train_data_dir,\n",
    "    target_size=(img_width, img_height),\n",
    "    batch_size=batch_size,\n",
    "    class_mode='binary')"
   ]
  },
  {
   "cell_type": "code",
   "execution_count": 107,
   "metadata": {},
   "outputs": [
    {
     "name": "stdout",
     "output_type": "stream",
     "text": [
      "Found 2000 images belonging to 2 classes.\n"
     ]
    }
   ],
   "source": [
    "validation_generator = test_datagen.flow_from_directory(\n",
    "    validation_data_dir,\n",
    "    target_size=(img_width, img_height),\n",
    "    batch_size=batch_size,\n",
    "    class_mode='binary')"
   ]
  },
  {
   "cell_type": "code",
   "execution_count": 108,
   "metadata": {
    "scrolled": true
   },
   "outputs": [
    {
     "name": "stdout",
     "output_type": "stream",
     "text": [
      "Epoch 1/50\n",
      "125/125 [==============================] - 21s - loss: 0.7082 - acc: 0.5115 - val_loss: 0.7929 - val_acc: 0.5038\n",
      "Epoch 2/50\n",
      "125/125 [==============================] - 20s - loss: 0.6838 - acc: 0.5685 - val_loss: 0.6604 - val_acc: 0.6450\n",
      "Epoch 3/50\n",
      "125/125 [==============================] - 20s - loss: 0.6607 - acc: 0.6140 - val_loss: 0.6242 - val_acc: 0.6125\n",
      "Epoch 4/50\n",
      "125/125 [==============================] - 20s - loss: 0.6497 - acc: 0.6455 - val_loss: 0.5997 - val_acc: 0.6950\n",
      "Epoch 5/50\n",
      "125/125 [==============================] - 20s - loss: 0.6198 - acc: 0.6570 - val_loss: 0.6376 - val_acc: 0.6012\n",
      "Epoch 6/50\n",
      "125/125 [==============================] - 20s - loss: 0.5997 - acc: 0.6795 - val_loss: 0.5616 - val_acc: 0.7113\n",
      "Epoch 7/50\n",
      "125/125 [==============================] - 20s - loss: 0.5925 - acc: 0.6850 - val_loss: 0.5803 - val_acc: 0.6550\n",
      "Epoch 8/50\n",
      "125/125 [==============================] - 20s - loss: 0.5807 - acc: 0.7160 - val_loss: 0.6044 - val_acc: 0.6500\n",
      "Epoch 9/50\n",
      "125/125 [==============================] - 20s - loss: 0.5803 - acc: 0.7020 - val_loss: 0.6409 - val_acc: 0.6687\n",
      "Epoch 10/50\n",
      "125/125 [==============================] - 20s - loss: 0.5789 - acc: 0.7115 - val_loss: 0.5794 - val_acc: 0.7212\n",
      "Epoch 11/50\n",
      "125/125 [==============================] - 20s - loss: 0.5533 - acc: 0.7260 - val_loss: 0.5651 - val_acc: 0.7063\n",
      "Epoch 12/50\n",
      "125/125 [==============================] - 20s - loss: 0.5497 - acc: 0.7425 - val_loss: 0.5391 - val_acc: 0.7188\n",
      "Epoch 13/50\n",
      "125/125 [==============================] - 20s - loss: 0.5300 - acc: 0.7320 - val_loss: 0.5550 - val_acc: 0.7338\n",
      "Epoch 14/50\n",
      "125/125 [==============================] - 20s - loss: 0.5261 - acc: 0.7395 - val_loss: 0.5280 - val_acc: 0.7575\n",
      "Epoch 15/50\n",
      "125/125 [==============================] - 20s - loss: 0.5197 - acc: 0.7555 - val_loss: 0.6225 - val_acc: 0.6725\n",
      "Epoch 16/50\n",
      "125/125 [==============================] - 20s - loss: 0.5214 - acc: 0.7615 - val_loss: 0.5230 - val_acc: 0.7362\n",
      "Epoch 17/50\n",
      "125/125 [==============================] - 20s - loss: 0.5125 - acc: 0.7660 - val_loss: 0.5655 - val_acc: 0.7288\n",
      "Epoch 18/50\n",
      "125/125 [==============================] - 20s - loss: 0.5104 - acc: 0.7595 - val_loss: 0.5104 - val_acc: 0.7588\n",
      "Epoch 19/50\n",
      "125/125 [==============================] - 20s - loss: 0.4844 - acc: 0.7880 - val_loss: 0.6621 - val_acc: 0.6925\n",
      "Epoch 20/50\n",
      "125/125 [==============================] - 20s - loss: 0.4979 - acc: 0.7720 - val_loss: 0.5575 - val_acc: 0.7462\n",
      "Epoch 21/50\n",
      "125/125 [==============================] - 20s - loss: 0.4997 - acc: 0.7765 - val_loss: 0.5532 - val_acc: 0.7462\n",
      "Epoch 22/50\n",
      "125/125 [==============================] - 20s - loss: 0.4828 - acc: 0.7875 - val_loss: 0.4700 - val_acc: 0.7612\n",
      "Epoch 23/50\n",
      "125/125 [==============================] - 20s - loss: 0.4941 - acc: 0.7685 - val_loss: 0.5103 - val_acc: 0.7362\n",
      "Epoch 24/50\n",
      "125/125 [==============================] - 20s - loss: 0.4821 - acc: 0.7865 - val_loss: 0.5886 - val_acc: 0.7362\n",
      "Epoch 25/50\n",
      "125/125 [==============================] - 20s - loss: 0.4799 - acc: 0.7820 - val_loss: 0.5583 - val_acc: 0.7238\n",
      "Epoch 26/50\n",
      "125/125 [==============================] - 20s - loss: 0.5049 - acc: 0.7690 - val_loss: 0.5455 - val_acc: 0.7362\n",
      "Epoch 27/50\n",
      "125/125 [==============================] - 20s - loss: 0.4707 - acc: 0.7960 - val_loss: 0.5049 - val_acc: 0.7688\n",
      "Epoch 28/50\n",
      "125/125 [==============================] - 20s - loss: 0.4744 - acc: 0.7880 - val_loss: 0.4946 - val_acc: 0.7650\n",
      "Epoch 29/50\n",
      "125/125 [==============================] - 20s - loss: 0.4729 - acc: 0.7935 - val_loss: 0.5030 - val_acc: 0.7600\n",
      "Epoch 30/50\n",
      "125/125 [==============================] - 20s - loss: 0.4957 - acc: 0.7865 - val_loss: 0.5803 - val_acc: 0.7350\n",
      "Epoch 31/50\n",
      "125/125 [==============================] - 20s - loss: 0.4939 - acc: 0.7960 - val_loss: 0.5124 - val_acc: 0.7512\n",
      "Epoch 32/50\n",
      "125/125 [==============================] - 20s - loss: 0.4657 - acc: 0.8010 - val_loss: 0.5106 - val_acc: 0.7512\n",
      "Epoch 33/50\n",
      "125/125 [==============================] - 20s - loss: 0.4810 - acc: 0.7900 - val_loss: 0.5895 - val_acc: 0.7625\n",
      "Epoch 34/50\n",
      "125/125 [==============================] - 20s - loss: 0.4532 - acc: 0.8025 - val_loss: 0.4793 - val_acc: 0.7650\n",
      "Epoch 35/50\n",
      "125/125 [==============================] - 20s - loss: 0.4578 - acc: 0.8000 - val_loss: 0.5666 - val_acc: 0.7288\n",
      "Epoch 36/50\n",
      "125/125 [==============================] - 20s - loss: 0.4717 - acc: 0.8000 - val_loss: 0.5125 - val_acc: 0.7612\n",
      "Epoch 37/50\n",
      "125/125 [==============================] - 20s - loss: 0.4687 - acc: 0.7935 - val_loss: 0.4895 - val_acc: 0.7638\n",
      "Epoch 38/50\n",
      "125/125 [==============================] - 20s - loss: 0.5011 - acc: 0.7875 - val_loss: 0.5154 - val_acc: 0.7538\n",
      "Epoch 39/50\n",
      "125/125 [==============================] - 20s - loss: 0.4541 - acc: 0.7995 - val_loss: 0.6926 - val_acc: 0.7362\n",
      "Epoch 40/50\n",
      "125/125 [==============================] - 20s - loss: 0.4746 - acc: 0.8070 - val_loss: 0.5920 - val_acc: 0.7238\n",
      "Epoch 41/50\n",
      "125/125 [==============================] - 20s - loss: 0.4588 - acc: 0.7985 - val_loss: 0.5185 - val_acc: 0.7688\n",
      "Epoch 42/50\n",
      "125/125 [==============================] - 20s - loss: 0.4758 - acc: 0.7935 - val_loss: 0.5356 - val_acc: 0.7837\n",
      "Epoch 43/50\n",
      "125/125 [==============================] - 20s - loss: 0.4548 - acc: 0.7935 - val_loss: 0.4846 - val_acc: 0.7662\n",
      "Epoch 44/50\n",
      "125/125 [==============================] - 20s - loss: 0.4535 - acc: 0.8090 - val_loss: 0.5121 - val_acc: 0.7725\n",
      "Epoch 45/50\n",
      "125/125 [==============================] - 20s - loss: 0.4521 - acc: 0.8030 - val_loss: 0.5149 - val_acc: 0.7650\n",
      "Epoch 46/50\n",
      "125/125 [==============================] - 20s - loss: 0.4720 - acc: 0.7930 - val_loss: 0.5042 - val_acc: 0.7575\n",
      "Epoch 47/50\n",
      "125/125 [==============================] - 20s - loss: 0.4612 - acc: 0.7960 - val_loss: 0.5391 - val_acc: 0.7825\n",
      "Epoch 48/50\n",
      "125/125 [==============================] - 20s - loss: 0.4749 - acc: 0.7985 - val_loss: 0.5628 - val_acc: 0.7712\n",
      "Epoch 49/50\n",
      "125/125 [==============================] - 20s - loss: 0.4835 - acc: 0.8055 - val_loss: 0.5832 - val_acc: 0.7350\n",
      "Epoch 50/50\n",
      "125/125 [==============================] - 20s - loss: 0.4636 - acc: 0.7920 - val_loss: 0.5700 - val_acc: 0.7375\n"
     ]
    }
   ],
   "source": [
    "history = model.fit_generator(\n",
    "    train_generator,\n",
    "    steps_per_epoch=nb_train_samples // batch_size,\n",
    "    epochs=epochs,\n",
    "    validation_data=validation_generator,\n",
    "    validation_steps=nb_validation_samples // batch_size)\n"
   ]
  },
  {
   "cell_type": "code",
   "execution_count": 109,
   "metadata": {},
   "outputs": [
    {
     "name": "stdout",
     "output_type": "stream",
     "text": [
      "dict_keys(['acc', 'val_acc', 'loss', 'val_loss'])\n",
      "<class 'list'>\n",
      "<class 'list'>\n"
     ]
    }
   ],
   "source": [
    "print(history.history.keys()) \n",
    "print(type(history.history['acc']))\n",
    "print(type(history.history['val_acc']))"
   ]
  },
  {
   "cell_type": "code",
   "execution_count": 110,
   "metadata": {
    "scrolled": true
   },
   "outputs": [
    {
     "data": {
      "image/png": "[encoded data removed]",
      "text/plain": [
       "<matplotlib.figure.Figure at 0x7fbcb5365668>"
      ]
     },
     "metadata": {},
     "output_type": "display_data"
    }
   ],
   "source": [
    "plt.figure(1, figsize=(20,10))  \n",
    "plt.subplot(211)  \n",
    "plt.plot(history.history['acc'])  \n",
    "plt.plot(history.history['val_acc'])  \n",
    "plt.title('model accuracy')  \n",
    "plt.ylabel('accuracy')  \n",
    "plt.xlabel('epoch')  \n",
    "plt.legend(['train', 'test'], loc='upper left')  \n",
    "plt.subplot(212)  \n",
    "plt.plot(history.history['loss'])  \n",
    "plt.plot(history.history['val_loss'])  \n",
    "plt.title('model loss')  \n",
    "plt.ylabel('loss')  \n",
    "plt.xlabel('epoch')  \n",
    "plt.legend(['train', 'test'], loc='upper left')  \n",
    "plt.show()  \n"
   ]
  },
  {
   "cell_type": "code",
   "execution_count": null,
   "metadata": {},
   "outputs": [],
   "source": []
  },
  {
   "cell_type": "code",
   "execution_count": null,
   "metadata": {},
   "outputs": [],
   "source": [
    "print (\"nb_train_samples:\", nb_train_samples, \", batch_size:\", batch_size, \n",
    "       \", nb_train_samples // batch_size:\", nb_train_samples // batch_size)"
   ]
  },
  {
   "cell_type": "code",
   "execution_count": null,
   "metadata": {},
   "outputs": [],
   "source": [
    "model.save_weights(RESULTS+'keras_cats_dogs_1A.h5')"
   ]
  },
  {
   "cell_type": "code",
   "execution_count": null,
   "metadata": {},
   "outputs": [],
   "source": [
    "model.save(RESULTS+'keras_cats_dogs_1A_model.h5')"
   ]
  },
  {
   "cell_type": "code",
   "execution_count": null,
   "metadata": {},
   "outputs": [],
   "source": [
    "from keras.models import load_model\n",
    "newModel = load_model(RESULTS+'keras_cats_dogs_1A_model.h5')"
   ]
  },
  {
   "cell_type": "code",
   "execution_count": null,
   "metadata": {},
   "outputs": [],
   "source": [
    "print (type(newModel))"
   ]
  },
  {
   "cell_type": "code",
   "execution_count": null,
   "metadata": {},
   "outputs": [],
   "source": [
    "newModel.summary()"
   ]
  },
  {
   "cell_type": "code",
   "execution_count": null,
   "metadata": {},
   "outputs": [],
   "source": []
  }
 ],
 "metadata": {
  "kernelspec": {
   "display_name": "Python 3",
   "language": "python",
   "name": "python3"
  },
  "language_info": {
   "codemirror_mode": {
    "name": "ipython",
    "version": 3
   },
   "file_extension": ".py",
   "mimetype": "text/x-python",
   "name": "python",
   "nbconvert_exporter": "python",
   "pygments_lexer": "ipython3",
   "version": "3.5.2"
  }
 },
 "nbformat": 4,
 "nbformat_minor": 2
}
