{
 "cells": [
  {
   "cell_type": "markdown",
   "metadata": {},
   "source": [
    "originally from > https://raw.githubusercontent.com/fchollet/keras/master/examples/mnist_transfer_cnn.py\n",
    "\n",
    "\n",
    "Transfer learning toy example.\n",
    "\n",
    "1 - Train a simple convnet on the MNIST dataset the first 5 digits [0..4].\n",
    "2 - Freeze convolutional layers and fine-tune dense layers\n",
    "   for the classification of digits [5..9].\n",
    "\n",
    "Get to 99.8% test accuracy after 5 epochs\n",
    "for the first five digits classifier\n",
    "and 99.2% for the last five digits after transfer + fine-tuning.\n",
    "\n",
    "NB: needed to update keras from 1.2.2 version to current version @ 14/11/2017\n",
    "sudo pip install keras --upgrade"
   ]
  },
  {
   "cell_type": "code",
   "execution_count": 6,
   "metadata": {},
   "outputs": [
    {
     "name": "stdout",
     "output_type": "stream",
     "text": [
      "keras.__version__: 2.1.0\n"
     ]
    }
   ],
   "source": [
    "from __future__ import print_function\n",
    "import datetime\n",
    "import keras\n",
    "from keras.datasets import mnist\n",
    "from keras.models import Sequential\n",
    "from keras.layers import Dense, Dropout, Activation, Flatten\n",
    "from keras.layers import Conv2D, MaxPooling2D\n",
    "from keras import backend as K\n",
    "print (\"keras.__version__:\", keras.__version__)"
   ]
  },
  {
   "cell_type": "code",
   "execution_count": 2,
   "metadata": {},
   "outputs": [
    {
     "name": "stderr",
     "output_type": "stream",
     "text": [
      "Using Theano backend.\n",
      "WARNING (theano.sandbox.cuda): The cuda backend is deprecated and will be removed in the next release (v0.10).  Please switch to the gpuarray backend. You can get more information about how to switch at this URL:\n",
      " https://github.com/Theano/Theano/wiki/Converting-to-the-new-gpu-back-end%28gpuarray%29\n",
      "\n",
      "Using gpu device 0: Tesla K80 (CNMeM is disabled, cuDNN 5110)\n"
     ]
    }
   ],
   "source": [
    "from keras import backend as K\n",
    "import os\n",
    "\n",
    "#https://keras.io/backend/\n",
    "\n",
    "def set_keras_backend(backend):\n",
    "\n",
    "    if K.backend() != backend:\n",
    "        os.environ['KERAS_BACKEND'] = backend\n",
    "        K.set_image_dim_ordering('th')\n",
    "        reload(K)\n",
    "        assert K.backend() == backend\n",
    "\n",
    "set_keras_backend(\"theano\")\n"
   ]
  },
  {
   "cell_type": "code",
   "execution_count": 3,
   "metadata": {},
   "outputs": [],
   "source": [
    "now = datetime.datetime.now\n",
    "\n",
    "batch_size = 128\n",
    "num_classes = 5\n",
    "epochs = 5\n"
   ]
  },
  {
   "cell_type": "code",
   "execution_count": 4,
   "metadata": {},
   "outputs": [],
   "source": [
    "# input image dimensions\n",
    "img_rows, img_cols = 28, 28\n",
    "# number of convolutional filters to use\n",
    "filters = 32\n",
    "# size of pooling area for max pooling\n",
    "pool_size = 2\n",
    "# convolution kernel size\n",
    "kernel_size = 3\n"
   ]
  },
  {
   "cell_type": "code",
   "execution_count": 9,
   "metadata": {},
   "outputs": [
    {
     "name": "stdout",
     "output_type": "stream",
     "text": [
      "K.image_data_format(): channels_last\n",
      "input_shape: (28, 28, 1)\n"
     ]
    }
   ],
   "source": [
    "print (\"K.image_data_format():\", K.image_data_format())\n",
    "if K.image_data_format() == 'channels_first':\n",
    "    input_shape = (1, img_rows, img_cols)\n",
    "else:\n",
    "    input_shape = (img_rows, img_cols, 1)\n",
    "print (\"input_shape:\", input_shape)"
   ]
  },
  {
   "cell_type": "code",
   "execution_count": 11,
   "metadata": {},
   "outputs": [],
   "source": [
    "def train_model(model, train, test, num_classes):\n",
    "    \n",
    "    print (\"train[0]:\", train[0].shape)\n",
    "    print (\"test[0]:\", test[0].shape)\n",
    "    \n",
    "    #reshape input data.\n",
    "    x_train = train[0].reshape((train[0].shape[0],) + input_shape)\n",
    "    x_test = test[0].reshape((test[0].shape[0],) + input_shape)\n",
    "    \n",
    "    #convert values from int to float32\n",
    "    x_train = x_train.astype('float32')\n",
    "    x_test = x_test.astype('float32')\n",
    "    \n",
    "    #convert data from 0-255 range to 0-1 range.\n",
    "    x_train /= 255\n",
    "    x_test /= 255\n",
    "    \n",
    "    #\n",
    "    print('x_train shape:', x_train.shape)\n",
    "    print(x_train.shape[0], 'train samples')\n",
    "    print(x_test.shape[0], 'test samples')\n",
    "\n",
    "    \n",
    "    # convert class vectors to binary class matrices\n",
    "    y_train = keras.utils.to_categorical(train[1], num_classes)\n",
    "    y_test = keras.utils.to_categorical(test[1], num_classes)\n",
    "    print (type(y_train), y_train.shape)\n",
    "    print (type(y_test), y_test.shape)\n",
    "\n",
    "    #\n",
    "    model.compile(loss='categorical_crossentropy',\n",
    "                  optimizer='adadelta',\n",
    "                  metrics=['accuracy'])\n",
    "\n",
    "    t = now()\n",
    "    \n",
    "    model.fit(x_train, y_train,\n",
    "              batch_size=batch_size,\n",
    "              epochs=epochs,\n",
    "              verbose=1,\n",
    "              validation_data=(x_test, y_test))\n",
    "    \n",
    "    print('Training time: %s' % (now() - t))\n",
    "    score = model.evaluate(x_test, y_test, verbose=0)\n",
    "    print('Test score:', score[0])\n",
    "    print('Test accuracy:', score[1])\n"
   ]
  },
  {
   "cell_type": "code",
   "execution_count": 17,
   "metadata": {},
   "outputs": [],
   "source": [
    "def showTypeShape(name, input):\n",
    "    print (name+\":\"+str(type(input))+\" \"+str(input.shape))"
   ]
  },
  {
   "cell_type": "code",
   "execution_count": 19,
   "metadata": {},
   "outputs": [
    {
     "name": "stdout",
     "output_type": "stream",
     "text": [
      "x_train:<type 'numpy.ndarray'> (60000, 28, 28)\n",
      "y_train:<type 'numpy.ndarray'> (60000,)\n",
      "x_test:<type 'numpy.ndarray'> (10000, 28, 28)\n",
      "y_test:<type 'numpy.ndarray'> (10000,)\n",
      "\n",
      "x_train_lt5:<type 'numpy.ndarray'> (30596, 28, 28)\n",
      "y_train_lt5:<type 'numpy.ndarray'> (30596,)\n",
      "x_test_lt5:<type 'numpy.ndarray'> (5139, 28, 28)\n",
      "y_test_lt5:<type 'numpy.ndarray'> (5139,)\n",
      "\n",
      "x_train_gte5:<type 'numpy.ndarray'> (29404, 28, 28)\n",
      "y_train_gte5:<type 'numpy.ndarray'> (29404,)\n",
      "x_test_gte5:<type 'numpy.ndarray'> (4861, 28, 28)\n",
      "y_test_gte5:<type 'numpy.ndarray'> (4861,)\n"
     ]
    }
   ],
   "source": [
    "# the data, shuffled and split between train and test sets\n",
    "(x_train, y_train), (x_test, y_test) = mnist.load_data()\n",
    "\n",
    "\n",
    "showTypeShape(\"x_train\", x_train)\n",
    "showTypeShape(\"y_train\", y_train)\n",
    "showTypeShape(\"x_test\", x_test)\n",
    "showTypeShape(\"y_test\", y_test)\n",
    "print()\n",
    "\n",
    "# create two datasets one with digits below 5 and one with 5 and above\n",
    "x_train_lt5 = x_train[y_train < 5]\n",
    "y_train_lt5 = y_train[y_train < 5]\n",
    "x_test_lt5 = x_test[y_test < 5]\n",
    "y_test_lt5 = y_test[y_test < 5]\n",
    "\n",
    "\n",
    "showTypeShape(\"x_train_lt5\", x_train_lt5)\n",
    "showTypeShape(\"y_train_lt5\", y_train_lt5)\n",
    "showTypeShape(\"x_test_lt5\", x_test_lt5)\n",
    "showTypeShape(\"y_test_lt5\", y_test_lt5)\n",
    "print()\n",
    "\n",
    "x_train_gte5 = x_train[y_train >= 5]\n",
    "y_train_gte5 = y_train[y_train >= 5] - 5\n",
    "x_test_gte5 = x_test[y_test >= 5]\n",
    "y_test_gte5 = y_test[y_test >= 5] - 5\n",
    "\n",
    "showTypeShape(\"x_train_gte5\", x_train_gte5)\n",
    "showTypeShape(\"y_train_gte5\", y_train_gte5)\n",
    "showTypeShape(\"x_test_gte5\", x_test_gte5)\n",
    "showTypeShape(\"y_test_gte5\", y_test_gte5)\n"
   ]
  },
  {
   "cell_type": "code",
   "execution_count": 23,
   "metadata": {},
   "outputs": [
    {
     "name": "stdout",
     "output_type": "stream",
     "text": [
      "<type 'list'> 7\n",
      "<class 'keras.layers.convolutional.Conv2D'>\n",
      "<class 'keras.layers.core.Activation'>\n",
      "<class 'keras.layers.convolutional.Conv2D'>\n",
      "<class 'keras.layers.core.Activation'>\n",
      "<class 'keras.layers.pooling.MaxPooling2D'>\n",
      "<class 'keras.layers.core.Dropout'>\n",
      "<class 'keras.layers.core.Flatten'>\n"
     ]
    }
   ],
   "source": [
    "# define two groups of layers: feature (convolutions) and classification (dense)\n",
    "feature_layers = [\n",
    "    Conv2D(filters, kernel_size,\n",
    "           padding='valid',\n",
    "           input_shape=input_shape),\n",
    "    Activation('relu'),\n",
    "    Conv2D(filters, kernel_size),\n",
    "    Activation('relu'),\n",
    "    MaxPooling2D(pool_size=pool_size),\n",
    "    Dropout(0.25),\n",
    "    Flatten(),\n",
    "]\n",
    "\n",
    "print (type(feature_layers), len(feature_layers))\n",
    "for layer in feature_layers:\n",
    "    print (type(layer))"
   ]
  },
  {
   "cell_type": "code",
   "execution_count": 34,
   "metadata": {},
   "outputs": [
    {
     "name": "stdout",
     "output_type": "stream",
     "text": [
      "<type 'list'> 5\n",
      "<class 'keras.layers.core.Dense'> trainable= True {'kernel_initializer': {'class_name': 'VarianceScaling', 'config': {'distribution': 'uniform', 'scale': 1.0, 'seed': None, 'mode': 'fan_avg'}}, 'name': 'dense_9', 'kernel_constraint': None, 'bias_regularizer': None, 'bias_constraint': None, 'activation': 'linear', 'trainable': True, 'kernel_regularizer': None, 'bias_initializer': {'class_name': 'Zeros', 'config': {}}, 'units': 128, 'use_bias': True, 'activity_regularizer': None} \n",
      "\n",
      "<class 'keras.layers.core.Activation'> trainable= True {'activation': 'relu', 'trainable': True, 'name': 'activation_17'} \n",
      "\n",
      "<class 'keras.layers.core.Dropout'> trainable= True {'noise_shape': None, 'rate': 0.5, 'trainable': True, 'seed': None, 'name': 'dropout_9'} \n",
      "\n",
      "<class 'keras.layers.core.Dense'> trainable= True {'kernel_initializer': {'class_name': 'VarianceScaling', 'config': {'distribution': 'uniform', 'scale': 1.0, 'seed': None, 'mode': 'fan_avg'}}, 'name': 'dense_10', 'kernel_constraint': None, 'bias_regularizer': None, 'bias_constraint': None, 'activation': 'linear', 'trainable': True, 'kernel_regularizer': None, 'bias_initializer': {'class_name': 'Zeros', 'config': {}}, 'units': 5, 'use_bias': True, 'activity_regularizer': None} \n",
      "\n",
      "<class 'keras.layers.core.Activation'> trainable= True {'activation': 'softmax', 'trainable': True, 'name': 'activation_18'} \n",
      "\n"
     ]
    }
   ],
   "source": [
    "classification_layers = [\n",
    "    Dense(128),\n",
    "    Activation('relu'),\n",
    "    Dropout(0.5),\n",
    "    Dense(num_classes),\n",
    "    Activation('softmax')\n",
    "]\n",
    "print (type(classification_layers), len(classification_layers))\n",
    "for layer in classification_layers:\n",
    "    print (type(layer), \"trainable=\", layer.trainable, layer.get_config(), \"\\n\")"
   ]
  },
  {
   "cell_type": "code",
   "execution_count": 25,
   "metadata": {},
   "outputs": [],
   "source": [
    "# create complete model\n",
    "model = Sequential(feature_layers + classification_layers)\n",
    "print (type(model.layers), len(model.layers))"
   ]
  },
  {
   "cell_type": "code",
   "execution_count": 28,
   "metadata": {},
   "outputs": [
    {
     "name": "stdout",
     "output_type": "stream",
     "text": [
      "started\n",
      "train[0]: (30596, 28, 28)\n",
      "test[0]: (5139, 28, 28)\n",
      "x_train shape: (30596, 28, 28, 1)\n",
      "30596 train samples\n",
      "5139 test samples\n",
      "<type 'numpy.ndarray'> (30596, 5)\n",
      "<type 'numpy.ndarray'> (5139, 5)\n",
      "Train on 30596 samples, validate on 5139 samples\n",
      "Epoch 1/5\n",
      "30596/30596 [==============================] - 15s 494us/step - loss: 0.2075 - acc: 0.9348 - val_loss: 0.0494 - val_acc: 0.9846\n",
      "Epoch 2/5\n",
      "30596/30596 [==============================] - 15s 486us/step - loss: 0.0782 - acc: 0.9766 - val_loss: 0.0312 - val_acc: 0.9907\n",
      "Epoch 3/5\n",
      "30596/30596 [==============================] - 15s 485us/step - loss: 0.0547 - acc: 0.9841 - val_loss: 0.0233 - val_acc: 0.9924\n",
      "Epoch 4/5\n",
      "30596/30596 [==============================] - 15s 486us/step - loss: 0.0422 - acc: 0.9875 - val_loss: 0.0159 - val_acc: 0.9930\n",
      "Epoch 5/5\n",
      "30596/30596 [==============================] - 15s 486us/step - loss: 0.0350 - acc: 0.9891 - val_loss: 0.0130 - val_acc: 0.9944\n",
      "Training time: 0:01:26.420527\n",
      "Test score: 0.0130250662213\n",
      "Test accuracy: 0.99435687877\n",
      "Time elpased (hh:mm:ss.ms) 0:01:27.195205\n"
     ]
    }
   ],
   "source": [
    "# train model for 5-digit classification [0..4]\n",
    "print (\"started\")\n",
    "startTime= now()\n",
    "train_model(model,\n",
    "            (x_train_lt5, y_train_lt5),\n",
    "            (x_test_lt5, y_test_lt5), num_classes)\n",
    "timeElapsed=now()-startTime\n",
    "print('Time elpased (hh:mm:ss.ms) {}'.format(timeElapsed))\n"
   ]
  },
  {
   "cell_type": "code",
   "execution_count": 29,
   "metadata": {},
   "outputs": [
    {
     "name": "stdout",
     "output_type": "stream",
     "text": [
      "<type 'list'> 7\n"
     ]
    }
   ],
   "source": [
    "# freeze feature layers and rebuild model\n",
    "for l in feature_layers:\n",
    "    l.trainable = False\n",
    "print (type(feature_layers), len(feature_layers))"
   ]
  },
  {
   "cell_type": "code",
   "execution_count": 30,
   "metadata": {},
   "outputs": [
    {
     "name": "stdout",
     "output_type": "stream",
     "text": [
      "train[0]: (29404, 28, 28)\n",
      "test[0]: (4861, 28, 28)\n",
      "x_train shape: (29404, 28, 28, 1)\n",
      "29404 train samples\n",
      "4861 test samples\n",
      "<type 'numpy.ndarray'> (29404, 5)\n",
      "<type 'numpy.ndarray'> (4861, 5)\n",
      "Train on 29404 samples, validate on 4861 samples\n",
      "Epoch 1/5\n",
      "29404/29404 [==============================] - 3s 90us/step - loss: 0.3884 - acc: 0.8818 - val_loss: 0.0992 - val_acc: 0.9679\n",
      "Epoch 2/5\n",
      "29404/29404 [==============================] - 3s 90us/step - loss: 0.1279 - acc: 0.9611 - val_loss: 0.0611 - val_acc: 0.9805\n",
      "Epoch 3/5\n",
      "29404/29404 [==============================] - 3s 90us/step - loss: 0.0948 - acc: 0.9705 - val_loss: 0.0480 - val_acc: 0.9852\n",
      "Epoch 4/5\n",
      "29404/29404 [==============================] - 3s 89us/step - loss: 0.0771 - acc: 0.9775 - val_loss: 0.0404 - val_acc: 0.9868\n",
      "Epoch 5/5\n",
      "29404/29404 [==============================] - 3s 88us/step - loss: 0.0690 - acc: 0.9786 - val_loss: 0.0399 - val_acc: 0.9870\n",
      "Training time: 0:00:15.815848\n",
      "Test score: 0.0399413917625\n",
      "Test accuracy: 0.987039703654\n"
     ]
    }
   ],
   "source": [
    "# transfer: train dense layers for new classification task [5..9]\n",
    "train_model(model,\n",
    "            (x_train_gte5, y_train_gte5),\n",
    "            (x_test_gte5, y_test_gte5), num_classes)\n",
    "#NB: since feature_layers are now not trainable, model runs faster."
   ]
  },
  {
   "cell_type": "code",
   "execution_count": null,
   "metadata": {},
   "outputs": [],
   "source": []
  }
 ],
 "metadata": {
  "kernelspec": {
   "display_name": "Python 2",
   "language": "python",
   "name": "python2"
  },
  "language_info": {
   "codemirror_mode": {
    "name": "ipython",
    "version": 2
   },
   "file_extension": ".py",
   "mimetype": "text/x-python",
   "name": "python",
   "nbconvert_exporter": "python",
   "pygments_lexer": "ipython2",
   "version": "2.7.12"
  }
 },
 "nbformat": 4,
 "nbformat_minor": 2
}
