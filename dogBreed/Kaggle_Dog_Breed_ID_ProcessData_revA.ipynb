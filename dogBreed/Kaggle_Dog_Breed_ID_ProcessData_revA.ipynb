{
 "cells": [
  {
   "cell_type": "markdown",
   "metadata": {},
   "source": [
    "https://www.kaggle.com/c/dog-breed-identification/data"
   ]
  },
  {
   "cell_type": "code",
   "execution_count": 1,
   "metadata": {
    "collapsed": false
   },
   "outputs": [
    {
     "name": "stderr",
     "output_type": "stream",
     "text": [
      "Using gpu device 0: Tesla K80 (CNMeM is disabled, cuDNN 5103)\n",
      "/home/ubuntu/anaconda2/lib/python2.7/site-packages/theano/sandbox/cuda/__init__.py:600: UserWarning: Your cuDNN version is more recent than the one Theano officially supports. If you see any problems, try updating Theano or downgrading cuDNN to version 5.\n",
      "  warnings.warn(warn)\n",
      "Using Theano backend.\n"
     ]
    },
    {
     "name": "stdout",
     "output_type": "stream",
     "text": [
      "custom libraries loaded from local files\n",
      "utility libraries loaded.\n",
      "ML/Sci libraries loaded.\n"
     ]
    }
   ],
   "source": [
    "%matplotlib inline\n",
    "import os\n",
    "os.chdir(\"/home/ubuntu/\")\n",
    "\n",
    "import utils; reload(utils)\n",
    "from utils import *\n",
    "from vgg16 import Vgg16\n",
    "print \"custom libraries loaded from local files\"\n",
    "\n",
    "#adding utility libraries\n",
    "import os\n",
    "import sys\n",
    "import random\n",
    "import time\n",
    "import pip\n",
    "import shutil\n",
    "print (\"utility libraries loaded.\")\n",
    "\n",
    "import numpy as np\n",
    "import pandas as pd\n",
    "print (\"ML/Sci libraries loaded.\")\n",
    "\n"
   ]
  },
  {
   "cell_type": "code",
   "execution_count": 2,
   "metadata": {
    "collapsed": false
   },
   "outputs": [
    {
     "name": "stdout",
     "output_type": "stream",
     "text": [
      "parameters loaded.\n"
     ]
    }
   ],
   "source": [
    "#set home directory for this project\n",
    "path = \"/home/ubuntu/kaggleDogId/\"\n",
    "trainDir = \"train/\"\n",
    "testDir = \"test/\"\n",
    "verifyDir = \"verify/\"\n",
    "print \"parameters loaded.\""
   ]
  },
  {
   "cell_type": "code",
   "execution_count": 3,
   "metadata": {
    "collapsed": false
   },
   "outputs": [
    {
     "name": "stdout",
     "output_type": "stream",
     "text": [
      "current dir: /home/ubuntu/kaggleDogId\n"
     ]
    }
   ],
   "source": [
    "os.chdir(path)\n",
    "print \"current dir:\", os.getcwd()\n"
   ]
  },
  {
   "cell_type": "code",
   "execution_count": 4,
   "metadata": {
    "collapsed": true
   },
   "outputs": [],
   "source": [
    "vgg = Vgg16()\n",
    "batch_size = 64"
   ]
  },
  {
   "cell_type": "code",
   "execution_count": 5,
   "metadata": {
    "collapsed": false
   },
   "outputs": [
    {
     "name": "stdout",
     "output_type": "stream",
     "text": [
      "started\n",
      "Found 8221 images belonging to 120 classes.\n",
      "--- 0.186556100845 seconds to vgg.get_batches for train.\n",
      "Found 2001 images belonging to 120 classes.\n",
      "--- 0.0716550350189 seconds to vgg.get_batches verify.\n",
      "--- 0.0307879447937 seconds to vgg.finetune(batches).\n"
     ]
    }
   ],
   "source": [
    "print(\"started\")\n",
    "start_time = time.time()\n",
    "batches = vgg.get_batches(path+'train', batch_size=batch_size)\n",
    "print(\"--- %s seconds to vgg.get_batches for train.\" % (time.time() - start_time))\n",
    "start_time = time.time()\n",
    "val_batches = vgg.get_batches(path+'verify', batch_size=batch_size*2)\n",
    "print(\"--- %s seconds to vgg.get_batches verify.\" % (time.time() - start_time))\n",
    "start_time = time.time()\n",
    "vgg.finetune(batches)\n",
    "print(\"--- %s seconds to vgg.finetune(batches).\" % (time.time() - start_time))\n",
    "#crosscheck: 8221+2001 = 10222 which corresponds to the original number of training files.\n",
    "#ie: no files missing or duplicated."
   ]
  },
  {
   "cell_type": "code",
   "execution_count": 6,
   "metadata": {
    "collapsed": false
   },
   "outputs": [],
   "source": [
    "#vgg.model.optimizer.lr = 0.01 #refer lesson 2 video @ 38:05, might improve results.\n",
    "vgg.model.optimizer.lr = 0.001  #try 0.0001 later.\n"
   ]
  },
  {
   "cell_type": "code",
   "execution_count": 7,
   "metadata": {
    "collapsed": false
   },
   "outputs": [
    {
     "name": "stdout",
     "output_type": "stream",
     "text": [
      "start\n",
      "Epoch 1/1\n",
      "8221/8221 [==============================] - 318s - loss: 3.2762 - acc: 0.4368 - val_loss: 1.3192 - val_acc: 0.6757\n",
      "end\n"
     ]
    }
   ],
   "source": [
    "print(\"start\")\n",
    "vgg.fit(batches, val_batches, nb_epoch=1)\n",
    "vgg.model.save_weights('dog_breed_results_1_1epoch_lr=p001.h5')\n",
    "print(\"end\")"
   ]
  },
  {
   "cell_type": "code",
   "execution_count": 9,
   "metadata": {
    "collapsed": false
   },
   "outputs": [
    {
     "name": "stdout",
     "output_type": "stream",
     "text": [
      "Epoch 1/5\n",
      "8221/8221 [==============================] - 318s - loss: 1.5708 - acc: 0.6654 - val_loss: 1.3168 - val_acc: 0.6987\n",
      "Epoch 2/5\n",
      "8221/8221 [==============================] - 318s - loss: 1.3139 - acc: 0.7068 - val_loss: 1.4656 - val_acc: 0.7046\n",
      "Epoch 3/5\n",
      "8221/8221 [==============================] - 317s - loss: 1.1258 - acc: 0.7478 - val_loss: 1.3798 - val_acc: 0.7211\n",
      "Epoch 4/5\n",
      "8221/8221 [==============================] - 318s - loss: 0.9203 - acc: 0.7828 - val_loss: 1.4876 - val_acc: 0.7246\n",
      "Epoch 5/5\n",
      "8221/8221 [==============================] - 317s - loss: 0.7827 - acc: 0.8128 - val_loss: 1.5268 - val_acc: 0.7141\n"
     ]
    }
   ],
   "source": [
    "vgg.fit(batches, val_batches, nb_epoch=5)\n",
    "vgg.model.save_weights('dog_breed_results_2_5epoch_lr=p001.h5')\n",
    "'''\n",
    "results: \n",
    "Epoch 1/5\n",
    "8221/8221 [==============================] - 318s - loss: 1.5708 - acc: 0.6654 - val_loss: 1.3168 - val_acc: 0.6987\n",
    "Epoch 2/5\n",
    "8221/8221 [==============================] - 318s - loss: 1.3139 - acc: 0.7068 - val_loss: 1.4656 - val_acc: 0.7046\n",
    "Epoch 3/5\n",
    "8221/8221 [==============================] - 317s - loss: 1.1258 - acc: 0.7478 - val_loss: 1.3798 - val_acc: 0.7211\n",
    "Epoch 4/5\n",
    "8221/8221 [==============================] - 318s - loss: 0.9203 - acc: 0.7828 - val_loss: 1.4876 - val_acc: 0.7246\n",
    "Epoch 5/5\n",
    "8221/8221 [==============================] - 317s - loss: 0.7827 - acc: 0.8128 - val_loss: 1.5268 - val_acc: 0.7141\n",
    "'''"
   ]
  },
  {
   "cell_type": "code",
   "execution_count": 10,
   "metadata": {
    "collapsed": false
   },
   "outputs": [
    {
     "name": "stdout",
     "output_type": "stream",
     "text": [
      "Epoch 1/10\n",
      "8221/8221 [==============================] - 318s - loss: 0.7526 - acc: 0.8194 - val_loss: 1.5911 - val_acc: 0.7151\n",
      "Epoch 2/10\n",
      "8221/8221 [==============================] - 318s - loss: 0.6816 - acc: 0.8309 - val_loss: 1.4731 - val_acc: 0.7181\n",
      "Epoch 3/10\n",
      "8221/8221 [==============================] - 318s - loss: 0.6073 - acc: 0.8500 - val_loss: 1.5699 - val_acc: 0.7216\n",
      "Epoch 4/10\n",
      "8221/8221 [==============================] - 318s - loss: 0.6015 - acc: 0.8561 - val_loss: 1.6034 - val_acc: 0.7386\n",
      "Epoch 5/10\n",
      "8221/8221 [==============================] - 317s - loss: 0.5463 - acc: 0.8639 - val_loss: 1.7092 - val_acc: 0.7146\n",
      "Epoch 6/10\n",
      "8221/8221 [==============================] - 318s - loss: 0.5624 - acc: 0.8681 - val_loss: 1.6860 - val_acc: 0.7341\n",
      "Epoch 7/10\n",
      "8221/8221 [==============================] - 317s - loss: 0.4862 - acc: 0.8851 - val_loss: 1.7714 - val_acc: 0.7131\n",
      "Epoch 8/10\n",
      "8221/8221 [==============================] - 318s - loss: 0.5256 - acc: 0.8746 - val_loss: 1.8318 - val_acc: 0.7286\n",
      "Epoch 9/10\n",
      "8221/8221 [==============================] - 321s - loss: 0.4633 - acc: 0.8891 - val_loss: 1.8832 - val_acc: 0.7216\n",
      "Epoch 10/10\n",
      "8221/8221 [==============================] - 322s - loss: 0.4849 - acc: 0.8869 - val_loss: 1.9941 - val_acc: 0.7206\n"
     ]
    }
   ],
   "source": [
    "vgg.fit(batches, val_batches, nb_epoch=10)\n",
    "vgg.model.save_weights('dog_breed_results_3_10epoch_lr=p001.h5')\n",
    "'''\n",
    "looks like accuracy is peaking, try smaller lr value and more epochs\n",
    "results\n",
    "Epoch 1/10\n",
    "8221/8221 [==============================] - 318s - loss: 0.7526 - acc: 0.8194 - val_loss: 1.5911 - val_acc: 0.7151\n",
    "Epoch 2/10\n",
    "8221/8221 [==============================] - 318s - loss: 0.6816 - acc: 0.8309 - val_loss: 1.4731 - val_acc: 0.7181\n",
    "Epoch 3/10\n",
    "8221/8221 [==============================] - 318s - loss: 0.6073 - acc: 0.8500 - val_loss: 1.5699 - val_acc: 0.7216\n",
    "Epoch 4/10\n",
    "8221/8221 [==============================] - 318s - loss: 0.6015 - acc: 0.8561 - val_loss: 1.6034 - val_acc: 0.7386\n",
    "Epoch 5/10\n",
    "8221/8221 [==============================] - 317s - loss: 0.5463 - acc: 0.8639 - val_loss: 1.7092 - val_acc: 0.7146\n",
    "Epoch 6/10\n",
    "8221/8221 [==============================] - 318s - loss: 0.5624 - acc: 0.8681 - val_loss: 1.6860 - val_acc: 0.7341\n",
    "Epoch 7/10\n",
    "8221/8221 [==============================] - 317s - loss: 0.4862 - acc: 0.8851 - val_loss: 1.7714 - val_acc: 0.7131\n",
    "Epoch 8/10\n",
    "8221/8221 [==============================] - 318s - loss: 0.5256 - acc: 0.8746 - val_loss: 1.8318 - val_acc: 0.7286\n",
    "Epoch 9/10\n",
    "8221/8221 [==============================] - 321s - loss: 0.4633 - acc: 0.8891 - val_loss: 1.8832 - val_acc: 0.7216\n",
    "Epoch 10/10\n",
    "8221/8221 [==============================] - 322s - loss: 0.4849 - acc: 0.8869 - val_loss: 1.9941 - val_acc: 0.7206\n",
    "'''"
   ]
  },
  {
   "cell_type": "code",
   "execution_count": 11,
   "metadata": {
    "collapsed": false
   },
   "outputs": [
    {
     "name": "stdout",
     "output_type": "stream",
     "text": [
      "Epoch 1/20\n",
      "8221/8221 [==============================] - 320s - loss: 0.4402 - acc: 0.8922 - val_loss: 1.9058 - val_acc: 0.7196\n",
      "Epoch 2/20\n",
      "8221/8221 [==============================] - 322s - loss: 0.4565 - acc: 0.8941 - val_loss: 1.8786 - val_acc: 0.7236\n",
      "Epoch 3/20\n",
      "8221/8221 [==============================] - 322s - loss: 0.4658 - acc: 0.8947 - val_loss: 1.7933 - val_acc: 0.7331\n",
      "Epoch 4/20\n",
      "8221/8221 [==============================] - 336s - loss: 0.4174 - acc: 0.9023 - val_loss: 1.9352 - val_acc: 0.7311\n",
      "Epoch 5/20\n",
      "8221/8221 [==============================] - 345s - loss: 0.4263 - acc: 0.9024 - val_loss: 2.1214 - val_acc: 0.7101\n",
      "Epoch 6/20\n",
      "8221/8221 [==============================] - 319s - loss: 0.4228 - acc: 0.9068 - val_loss: 2.0088 - val_acc: 0.7221\n",
      "Epoch 7/20\n",
      "8221/8221 [==============================] - 322s - loss: 0.4068 - acc: 0.9096 - val_loss: 2.0359 - val_acc: 0.7221\n",
      "Epoch 8/20\n",
      "8221/8221 [==============================] - 322s - loss: 0.4062 - acc: 0.9088 - val_loss: 2.0964 - val_acc: 0.7176\n",
      "Epoch 9/20\n",
      "8221/8221 [==============================] - 320s - loss: 0.4105 - acc: 0.9071 - val_loss: 2.0842 - val_acc: 0.7231\n",
      "Epoch 10/20\n",
      "8221/8221 [==============================] - 319s - loss: 0.4070 - acc: 0.9099 - val_loss: 2.1036 - val_acc: 0.7186\n",
      "Epoch 11/20\n",
      "8221/8221 [==============================] - 322s - loss: 0.3981 - acc: 0.9138 - val_loss: 2.0741 - val_acc: 0.7411\n",
      "Epoch 12/20\n",
      "8221/8221 [==============================] - 322s - loss: 0.4010 - acc: 0.9118 - val_loss: 2.1091 - val_acc: 0.7226\n",
      "Epoch 13/20\n",
      "8221/8221 [==============================] - 322s - loss: 0.4056 - acc: 0.9125 - val_loss: 2.1510 - val_acc: 0.7206\n",
      "Epoch 14/20\n",
      "8221/8221 [==============================] - 322s - loss: 0.3785 - acc: 0.9185 - val_loss: 2.1471 - val_acc: 0.7286\n",
      "Epoch 15/20\n",
      "8221/8221 [==============================] - 322s - loss: 0.3748 - acc: 0.9190 - val_loss: 2.2995 - val_acc: 0.7136\n",
      "Epoch 16/20\n",
      "8221/8221 [==============================] - 322s - loss: 0.4210 - acc: 0.9140 - val_loss: 2.3726 - val_acc: 0.7136\n",
      "Epoch 17/20\n",
      "8221/8221 [==============================] - 322s - loss: 0.3815 - acc: 0.9209 - val_loss: 2.2264 - val_acc: 0.7256\n",
      "Epoch 18/20\n",
      "8221/8221 [==============================] - 322s - loss: 0.3739 - acc: 0.9207 - val_loss: 2.2821 - val_acc: 0.7146\n",
      "Epoch 19/20\n",
      "8221/8221 [==============================] - 322s - loss: 0.3862 - acc: 0.9230 - val_loss: 2.3828 - val_acc: 0.7191\n",
      "Epoch 20/20\n",
      "8221/8221 [==============================] - 322s - loss: 0.3879 - acc: 0.9197 - val_loss: 2.3740 - val_acc: 0.7161\n"
     ]
    }
   ],
   "source": [
    "vgg.model.optimizer.lr = 0.0001\n",
    "vgg.fit(batches, val_batches, nb_epoch=20)\n",
    "vgg.model.save_weights('dog_breed_results_4_20epoch_lr=p0001.h5')\n"
   ]
  },
  {
   "cell_type": "code",
   "execution_count": null,
   "metadata": {
    "collapsed": true
   },
   "outputs": [],
   "source": [
    "'''\n",
    "results from lr = 0.0001 & epoch=20\n",
    "322s - loss: 0.3879 - acc: 0.9197 - val_loss: 2.3740 - val_acc: 0.7161\n",
    "results from lr = 0.001 & epoch=10\n",
    "322s - loss: 0.4849 - acc: 0.8869 - val_loss: 1.9941 - val_acc: 0.7206\n",
    "loss is down, accuracy is up, val_loss is up, val_acc is down. looks like overfitting? \n",
    "\n",
    "\n",
    "Epoch 1/20\n",
    "8221/8221 [==============================] - 320s - loss: 0.4402 - acc: 0.8922 - val_loss: 1.9058 - val_acc: 0.7196\n",
    "Epoch 2/20\n",
    "8221/8221 [==============================] - 322s - loss: 0.4565 - acc: 0.8941 - val_loss: 1.8786 - val_acc: 0.7236\n",
    "Epoch 3/20\n",
    "8221/8221 [==============================] - 322s - loss: 0.4658 - acc: 0.8947 - val_loss: 1.7933 - val_acc: 0.7331\n",
    "Epoch 4/20\n",
    "8221/8221 [==============================] - 336s - loss: 0.4174 - acc: 0.9023 - val_loss: 1.9352 - val_acc: 0.7311\n",
    "Epoch 5/20\n",
    "8221/8221 [==============================] - 345s - loss: 0.4263 - acc: 0.9024 - val_loss: 2.1214 - val_acc: 0.7101\n",
    "Epoch 6/20\n",
    "8221/8221 [==============================] - 319s - loss: 0.4228 - acc: 0.9068 - val_loss: 2.0088 - val_acc: 0.7221\n",
    "Epoch 7/20\n",
    "8221/8221 [==============================] - 322s - loss: 0.4068 - acc: 0.9096 - val_loss: 2.0359 - val_acc: 0.7221\n",
    "Epoch 8/20\n",
    "8221/8221 [==============================] - 322s - loss: 0.4062 - acc: 0.9088 - val_loss: 2.0964 - val_acc: 0.7176\n",
    "Epoch 9/20\n",
    "8221/8221 [==============================] - 320s - loss: 0.4105 - acc: 0.9071 - val_loss: 2.0842 - val_acc: 0.7231\n",
    "Epoch 10/20\n",
    "8221/8221 [==============================] - 319s - loss: 0.4070 - acc: 0.9099 - val_loss: 2.1036 - val_acc: 0.7186\n",
    "Epoch 11/20\n",
    "8221/8221 [==============================] - 322s - loss: 0.3981 - acc: 0.9138 - val_loss: 2.0741 - val_acc: 0.7411\n",
    "Epoch 12/20\n",
    "8221/8221 [==============================] - 322s - loss: 0.4010 - acc: 0.9118 - val_loss: 2.1091 - val_acc: 0.7226\n",
    "Epoch 13/20\n",
    "8221/8221 [==============================] - 322s - loss: 0.4056 - acc: 0.9125 - val_loss: 2.1510 - val_acc: 0.7206\n",
    "Epoch 14/20\n",
    "8221/8221 [==============================] - 322s - loss: 0.3785 - acc: 0.9185 - val_loss: 2.1471 - val_acc: 0.7286\n",
    "Epoch 15/20\n",
    "8221/8221 [==============================] - 322s - loss: 0.3748 - acc: 0.9190 - val_loss: 2.2995 - val_acc: 0.7136\n",
    "Epoch 16/20\n",
    "8221/8221 [==============================] - 322s - loss: 0.4210 - acc: 0.9140 - val_loss: 2.3726 - val_acc: 0.7136\n",
    "Epoch 17/20\n",
    "8221/8221 [==============================] - 322s - loss: 0.3815 - acc: 0.9209 - val_loss: 2.2264 - val_acc: 0.7256\n",
    "Epoch 18/20\n",
    "8221/8221 [==============================] - 322s - loss: 0.3739 - acc: 0.9207 - val_loss: 2.2821 - val_acc: 0.7146\n",
    "Epoch 19/20\n",
    "8221/8221 [==============================] - 322s - loss: 0.3862 - acc: 0.9230 - val_loss: 2.3828 - val_acc: 0.7191\n",
    "Epoch 20/20\n",
    "8221/8221 [==============================] - 322s - loss: 0.3879 - acc: 0.9197 - val_loss: 2.3740 - val_acc: 0.7161\n",
    "'''"
   ]
  }
 ],
 "metadata": {
  "anaconda-cloud": {},
  "kernelspec": {
   "display_name": "Python [default]",
   "language": "python",
   "name": "python2"
  },
  "language_info": {
   "codemirror_mode": {
    "name": "ipython",
    "version": 2
   },
   "file_extension": ".py",
   "mimetype": "text/x-python",
   "name": "python",
   "nbconvert_exporter": "python",
   "pygments_lexer": "ipython2",
   "version": "2.7.12"
  }
 },
 "nbformat": 4,
 "nbformat_minor": 1
}
