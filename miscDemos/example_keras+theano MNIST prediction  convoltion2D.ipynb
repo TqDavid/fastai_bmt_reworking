{
 "cells": [
  {
   "cell_type": "code",
   "execution_count": null,
   "metadata": {},
   "outputs": [],
   "source": [
    "\n",
    "#originall from https://elitedatascience.com/keras-tutorial-deep-learning-in-python"
   ]
  },
  {
   "cell_type": "code",
   "execution_count": 1,
   "metadata": {},
   "outputs": [
    {
     "name": "stderr",
     "output_type": "stream",
     "text": [
      "Using TensorFlow backend.\n"
     ]
    },
    {
     "name": "stdout",
     "output_type": "stream",
     "text": [
      "1.2.2\n"
     ]
    }
   ],
   "source": [
    "import keras; \n",
    "print keras.__version__"
   ]
  },
  {
   "cell_type": "code",
   "execution_count": 16,
   "metadata": {},
   "outputs": [
    {
     "data": {
      "text/plain": [
       "'\\nnb: OverflowError: Range exceeds valid bounds refer github \\n#https://github.com/fchollet/keras/issues/2681\\ncheck your ~/.keras/keras.json\\nif \"image_dim_ordering\": is \"th\" and \"backend\": \"theano\", your input_shape must be (channels, height, width)\\nif \"image_dim_ordering\": is \"tf\" and \"backend\": \"tensorflow\", your input_shape must be (height, width, channels)\\n'"
      ]
     },
     "execution_count": 16,
     "metadata": {},
     "output_type": "execute_result"
    }
   ],
   "source": [
    "from keras import backend as K\n",
    "import os\n",
    "\n",
    "#https://keras.io/backend/\n",
    "\n",
    "def set_keras_backend(backend):\n",
    "\n",
    "    if K.backend() != backend:\n",
    "        os.environ['KERAS_BACKEND'] = backend\n",
    "        K.set_image_dim_ordering('th')\n",
    "        reload(K)\n",
    "        assert K.backend() == backend\n",
    "\n",
    "set_keras_backend(\"theano\")\n",
    "#set_keras_backend(\"tensorflow\")#keep this for reference.\n",
    "#set_keras_backend(\"cntk\")#error\n",
    "\n",
    "'''\n",
    "nb: environment setup notes!!!\n",
    "nb: OverflowError: Range exceeds valid bounds refer github \n",
    "#https://github.com/fchollet/keras/issues/2681\n",
    "check your ~/.keras/keras.json\n",
    "if \"image_dim_ordering\": is \"th\" and \"backend\": \"theano\", your input_shape must be (channels, height, width)\n",
    "if \"image_dim_ordering\": is \"tf\" and \"backend\": \"tensorflow\", your input_shape must be (height, width, channels)\n",
    "'''\n"
   ]
  },
  {
   "cell_type": "code",
   "execution_count": 17,
   "metadata": {},
   "outputs": [],
   "source": [
    "import numpy as np\n",
    "np.random.seed(123)\n",
    "from datetime import datetime"
   ]
  },
  {
   "cell_type": "code",
   "execution_count": 4,
   "metadata": {},
   "outputs": [],
   "source": [
    "from keras.models import Sequential\n",
    "from keras.layers import Dense, Dropout, Activation, Flatten\n",
    "from keras.layers import Convolution2D, MaxPooling2D\n",
    "from keras.utils import np_utils"
   ]
  },
  {
   "cell_type": "code",
   "execution_count": 5,
   "metadata": {},
   "outputs": [
    {
     "name": "stdout",
     "output_type": "stream",
     "text": [
      "(<type 'numpy.ndarray'>, (60000, 28, 28))\n",
      "(<type 'numpy.ndarray'>, (60000,))\n",
      "(<type 'numpy.ndarray'>, (10000, 28, 28))\n",
      "(<type 'numpy.ndarray'>, (10000,))\n"
     ]
    }
   ],
   "source": [
    "from keras.datasets import mnist\n",
    " \n",
    "# Load pre-shuffled MNIST data into train and test sets\n",
    "(X_train, y_train), (X_test, y_test) = mnist.load_data()\n",
    "print (type(X_train), X_train.shape)\n",
    "print (type(y_train), y_train.shape)\n",
    "print (type(X_test), X_test.shape)\n",
    "print (type(y_test), y_test.shape)"
   ]
  },
  {
   "cell_type": "code",
   "execution_count": 6,
   "metadata": {},
   "outputs": [
    {
     "name": "stdout",
     "output_type": "stream",
     "text": [
      "[5 0 4 1 9 2 1 3 1 4]\n",
      "[7 2 1 0 4 1 4 9 5 9]\n"
     ]
    }
   ],
   "source": [
    "print (y_train[0:10])\n",
    "print (y_test[0:10])"
   ]
  },
  {
   "cell_type": "code",
   "execution_count": 7,
   "metadata": {},
   "outputs": [
    {
     "data": {
      "text/plain": [
       "<matplotlib.image.AxesImage at 0x7f8767337fd0>"
      ]
     },
     "execution_count": 7,
     "metadata": {},
     "output_type": "execute_result"
    },
    {
     "data": {
      "image/png": "[encoded data removed]",
      "text/plain": [
       "<matplotlib.figure.Figure at 0x7f87675e8e50>"
      ]
     },
     "metadata": {},
     "output_type": "display_data"
    }
   ],
   "source": [
    "from matplotlib import pyplot as plt\n",
    "%matplotlib inline\n",
    "\n",
    "plt.imshow(X_train[0])"
   ]
  },
  {
   "cell_type": "code",
   "execution_count": 8,
   "metadata": {},
   "outputs": [
    {
     "name": "stdout",
     "output_type": "stream",
     "text": [
      "(<type 'numpy.ndarray'>, (60000, 1, 28, 28))\n",
      "(<type 'numpy.ndarray'>, (10000, 1, 28, 28))\n"
     ]
    }
   ],
   "source": [
    "#reshaping due to images being 28x28 not 3x28x28\n",
    "X_train = X_train.reshape(X_train.shape[0], 1, 28, 28)\n",
    "X_test = X_test.reshape(X_test.shape[0], 1, 28, 28)\n",
    "#ie changed from (60000, 28, 28) to (60000, 1, 28, 28))\n",
    "print (type(X_train), X_train.shape)\n",
    "print (type(X_test), X_test.shape)\n"
   ]
  },
  {
   "cell_type": "code",
   "execution_count": 9,
   "metadata": {},
   "outputs": [],
   "source": [
    "#convert data from int to float and normalise data to range (0,1)\n",
    "X_train = X_train.astype('float32')\n",
    "X_test = X_test.astype('float32')\n",
    "X_train /= 255\n",
    "X_test /= 255"
   ]
  },
  {
   "cell_type": "code",
   "execution_count": 10,
   "metadata": {},
   "outputs": [
    {
     "name": "stdout",
     "output_type": "stream",
     "text": [
      "before reshape\n",
      "(60000,)\n",
      "[5 0 4]\n",
      "[7 2 1]\n",
      "after reshape\n",
      "[[ 0.  0.  0.  0.  0.  1.  0.  0.  0.  0.]\n",
      " [ 1.  0.  0.  0.  0.  0.  0.  0.  0.  0.]\n",
      " [ 0.  0.  0.  0.  1.  0.  0.  0.  0.  0.]]\n",
      "[[ 0.  0.  0.  0.  0.  0.  0.  1.  0.  0.]\n",
      " [ 0.  0.  1.  0.  0.  0.  0.  0.  0.  0.]\n",
      " [ 0.  1.  0.  0.  0.  0.  0.  0.  0.  0.]]\n"
     ]
    }
   ],
   "source": [
    "#convert into to oneshot style vector w values of 0 or 1.\n",
    "print (\"before reshape\")\n",
    "print (y_train.shape)\n",
    "print (y_train[0:3])\n",
    "print (y_test[0:3])\n",
    "\n",
    "# Convert 1-dimensional class arrays to 10-dimensional class matrices\n",
    "Y_train = np_utils.to_categorical(y_train, 10)\n",
    "Y_test = np_utils.to_categorical(y_test, 10)\n",
    "\n",
    "print (\"after reshape\")\n",
    "print (Y_train[0:3])\n",
    "print (Y_test[0:3])\n"
   ]
  },
  {
   "cell_type": "code",
   "execution_count": 11,
   "metadata": {},
   "outputs": [
    {
     "name": "stdout",
     "output_type": "stream",
     "text": [
      "(<class 'keras.models.Sequential'>, <type 'list'>, 0)\n"
     ]
    }
   ],
   "source": [
    "model = Sequential()\n",
    "print (type(model), type(model.layers), len(model.layers))\n",
    "##print model.output_shape #AttributeError: The layer has never been called and thus has no defined output shape."
   ]
  },
  {
   "cell_type": "code",
   "execution_count": 12,
   "metadata": {},
   "outputs": [
    {
     "name": "stdout",
     "output_type": "stream",
     "text": [
      "(<class 'keras.models.Sequential'>, <type 'list'>, 1, <class 'keras.layers.convolutional.Convolution2D'>)\n",
      "(None, 32, 26, 26)\n"
     ]
    }
   ],
   "source": [
    "model.add(Convolution2D(32, 3, 3, activation='relu', input_shape=(1,28,28)))\n",
    "#https://faroit.github.io/keras-docs/1.2.2/layers/convolutional/#convolution2d\n",
    "\n",
    "\n",
    "#1,28,28 corresponds to the 28x28 greyscale images - 1 for greyscale vs 3 for RGB (color)\n",
    "\n",
    "print (type(model), type(model.layers), len(model.layers), type(model.layers[0]))\n",
    "print model.output_shape\n",
    "\n",
    "#why is ouput (None, -1, 26, 32), was expecting "
   ]
  },
  {
   "cell_type": "code",
   "execution_count": 13,
   "metadata": {},
   "outputs": [
    {
     "name": "stdout",
     "output_type": "stream",
     "text": [
      "(<class 'keras.models.Sequential'>, <type 'list'>, 2)\n",
      "(None, 32, 24, 24)\n",
      "(<class 'keras.models.Sequential'>, <type 'list'>, 3)\n",
      "(None, 32, 12, 12)\n"
     ]
    }
   ],
   "source": [
    "#https://keras.io/layers/convolutional/\n",
    "#\n",
    "\n",
    "model.add(Convolution2D(32, 3, 3, activation='relu'))\n",
    "print (type(model), type(model.layers), len(model.layers))\n",
    "print model.output_shape\n",
    "\n",
    "model.add(MaxPooling2D(pool_size=(2,2)))\n",
    "print (type(model), type(model.layers), len(model.layers))\n",
    "print model.output_shape\n",
    "\n",
    "model.add(Dropout(0.25))"
   ]
  },
  {
   "cell_type": "code",
   "execution_count": 14,
   "metadata": {},
   "outputs": [
    {
     "name": "stdout",
     "output_type": "stream",
     "text": [
      "(<class 'keras.models.Sequential'>, <type 'list'>, 4)\n",
      "<class 'keras.layers.convolutional.Convolution2D'>\n",
      "<class 'keras.layers.convolutional.Convolution2D'>\n",
      "<class 'keras.layers.pooling.MaxPooling2D'>\n",
      "<class 'keras.layers.core.Dropout'>\n",
      "(None, 32, 12, 12)\n"
     ]
    }
   ],
   "source": [
    "print (type(model), type(model.layers), len(model.layers))\n",
    "print (type(model.layers[0]))\n",
    "print (type(model.layers[1]))\n",
    "print (type(model.layers[2]))\n",
    "print (type(model.layers[3]))\n",
    "print model.output_shape"
   ]
  },
  {
   "cell_type": "code",
   "execution_count": 15,
   "metadata": {},
   "outputs": [
    {
     "name": "stdout",
     "output_type": "stream",
     "text": [
      "after add(Flatten...\n",
      "(<class 'keras.models.Sequential'>, <type 'list'>, 5)\n",
      "(None, 4608)\n",
      "after add(Dense(128, activation='relu'...\n",
      "(<class 'keras.models.Sequential'>, <type 'list'>, 6)\n",
      "(None, 128)\n",
      "after add(Dropout(0.5)...\n",
      "(<class 'keras.models.Sequential'>, <type 'list'>, 7)\n",
      "(None, 128)\n",
      "after add(Dense(10, activation='softmax...\n",
      "(<class 'keras.models.Sequential'>, <type 'list'>, 8)\n",
      "(None, 10)\n"
     ]
    }
   ],
   "source": [
    "model.add(Flatten())\n",
    "print (\"after add(Flatten...\")\n",
    "print (type(model), type(model.layers), len(model.layers))\n",
    "print model.output_shape\n",
    "\n",
    "model.add(Dense(128, activation='relu'))\n",
    "print (\"after add(Dense(128, activation='relu'...\")\n",
    "print (type(model), type(model.layers), len(model.layers))\n",
    "print model.output_shape\n",
    "\n",
    "model.add(Dropout(0.5))\n",
    "print (\"after add(Dropout(0.5)...\")\n",
    "print (type(model), type(model.layers), len(model.layers))\n",
    "print model.output_shape\n",
    "\n",
    "model.add(Dense(10, activation='softmax'))\n",
    "print (\"after add(Dense(10, activation='softmax...\")\n",
    "print (type(model), type(model.layers), len(model.layers))\n",
    "print model.output_shape\n"
   ]
  },
  {
   "cell_type": "code",
   "execution_count": 18,
   "metadata": {},
   "outputs": [
    {
     "name": "stdout",
     "output_type": "stream",
     "text": [
      "Time elpased (hh:mm:ss.ms) 0:00:00.013364\n"
     ]
    }
   ],
   "source": [
    "startTime= datetime.now()\n",
    "model.compile(loss='categorical_crossentropy',\n",
    "              optimizer='adam',\n",
    "              metrics=['accuracy'])\n",
    "timeElapsed=datetime.now()-startTime\n",
    "print('Time elpased (hh:mm:ss.ms) {}'.format(timeElapsed))\n",
    "#subsecond runtime"
   ]
  },
  {
   "cell_type": "code",
   "execution_count": 19,
   "metadata": {},
   "outputs": [
    {
     "name": "stdout",
     "output_type": "stream",
     "text": [
      "Epoch 1/10\n",
      "60000/60000 [==============================] - 25s - loss: 0.2133 - acc: 0.9350    \n",
      "Epoch 2/10\n",
      "60000/60000 [==============================] - 25s - loss: 0.0906 - acc: 0.9730    \n",
      "Epoch 3/10\n",
      "60000/60000 [==============================] - 25s - loss: 0.0679 - acc: 0.9796    \n",
      "Epoch 4/10\n",
      "60000/60000 [==============================] - 26s - loss: 0.0559 - acc: 0.9833    \n",
      "Epoch 5/10\n",
      "60000/60000 [==============================] - 25s - loss: 0.0482 - acc: 0.9850    \n",
      "Epoch 6/10\n",
      "60000/60000 [==============================] - 26s - loss: 0.0429 - acc: 0.9865    \n",
      "Epoch 7/10\n",
      "60000/60000 [==============================] - 26s - loss: 0.0391 - acc: 0.9877    \n",
      "Epoch 8/10\n",
      "60000/60000 [==============================] - 25s - loss: 0.0357 - acc: 0.9889    \n",
      "Epoch 9/10\n",
      "60000/60000 [==============================] - 25s - loss: 0.0311 - acc: 0.9900    \n",
      "Epoch 10/10\n",
      "60000/60000 [==============================] - 26s - loss: 0.0289 - acc: 0.9904    \n",
      "Time elpased (hh:mm:ss.ms) 0:05:05.157965\n"
     ]
    }
   ],
   "source": [
    "startTime= datetime.now()\n",
    "print (\"start\")\n",
    "model.fit(X_train, Y_train, \n",
    "          batch_size=32, nb_epoch=10, verbose=1)\n",
    "timeElapsed=datetime.now()-startTime\n",
    "print('Time elpased (hh:mm:ss.ms) {}'.format(timeElapsed))\n",
    "# 10 epochs x 25s ea = 250s\n",
    "#takes approx 5'5\" to run on AWS p2.xlarge"
   ]
  },
  {
   "cell_type": "code",
   "execution_count": 20,
   "metadata": {},
   "outputs": [
    {
     "name": "stdout",
     "output_type": "stream",
     "text": [
      "start\n",
      "Time elpased (hh:mm:ss.ms) 0:00:08.279229\n"
     ]
    }
   ],
   "source": [
    "startTime= datetime.now()\n",
    "print (\"start\")\n",
    "score = model.evaluate(X_test, Y_test, verbose=0)\n",
    "timeElapsed=datetime.now()-startTime\n",
    "print('Time elpased (hh:mm:ss.ms) {}'.format(timeElapsed))\n"
   ]
  },
  {
   "cell_type": "code",
   "execution_count": 24,
   "metadata": {},
   "outputs": [
    {
     "name": "stdout",
     "output_type": "stream",
     "text": [
      "(<type 'list'>, 2, <type 'numpy.float64'>, <type 'numpy.float64'>, [0.0334687551842816, 0.99099999999999999])\n"
     ]
    }
   ],
   "source": [
    "print (type(score), len(score), type(score[0]), type(score[1]), score)\n",
    "#NB: accuracy during training was 0.9904 vs accuracy on test = 0.99099. Not overfitted = good."
   ]
  },
  {
   "cell_type": "code",
   "execution_count": 25,
   "metadata": {
    "scrolled": true
   },
   "outputs": [
    {
     "name": "stdout",
     "output_type": "stream",
     "text": [
      "<class 'keras.models.Sequential'>\n"
     ]
    }
   ],
   "source": [
    "print (type(model))"
   ]
  },
  {
   "cell_type": "code",
   "execution_count": 26,
   "metadata": {},
   "outputs": [
    {
     "name": "stdout",
     "output_type": "stream",
     "text": [
      "(<type 'numpy.ndarray'>, (10000, 1, 28, 28))\n"
     ]
    }
   ],
   "source": [
    "print (type(X_test), X_test.shape)"
   ]
  },
  {
   "cell_type": "code",
   "execution_count": 28,
   "metadata": {},
   "outputs": [
    {
     "name": "stdout",
     "output_type": "stream",
     "text": [
      "start\n",
      "Time elpased (hh:mm:ss.ms) 0:00:01.687737\n",
      "(<type 'numpy.ndarray'>, (10000, 10))\n"
     ]
    }
   ],
   "source": [
    "startTime= datetime.now()\n",
    "print (\"start\")\n",
    "pred = model.predict(X_test, batch_size = 32, verbose = 0)\n",
    "timeElapsed=datetime.now()-startTime\n",
    "print('Time elpased (hh:mm:ss.ms) {}'.format(timeElapsed))\n",
    "print (type(pred), pred.shape)\n",
    "\n",
    "#runtime ~2 seconds"
   ]
  },
  {
   "cell_type": "code",
   "execution_count": 30,
   "metadata": {},
   "outputs": [
    {
     "data": {
      "text/plain": [
       "array([  1.87778254e-17,   7.31818772e-10,   4.47629919e-11,\n",
       "         1.74847781e-09,   7.30151086e-18,   5.17064656e-15,\n",
       "         2.43934302e-20,   1.00000000e+00,   8.70400733e-16,\n",
       "         1.51805964e-11], dtype=float32)"
      ]
     },
     "execution_count": 30,
     "metadata": {},
     "output_type": "execute_result"
    }
   ],
   "source": [
    "pred[0,:]"
   ]
  },
  {
   "cell_type": "code",
   "execution_count": 35,
   "metadata": {},
   "outputs": [
    {
     "name": "stdout",
     "output_type": "stream",
     "text": [
      "<type 'numpy.ndarray'> (10000,)\n",
      "<type 'numpy.ndarray'> (10000,)\n",
      "[7 2 1 0 4 1 4 9 5 9 0 6 9 0 1 5 9 7 3 4]\n",
      "[7 2 1 0 4 1 4 9 5 9 0 6 9 0 1 5 9 7 3 4]\n"
     ]
    }
   ],
   "source": [
    "pred_class = np.argmax(pred,axis=-1)\n",
    "#nb: this is just finding the max prediction. \n",
    "\n",
    "print type(y_test), y_test.shape\n",
    "print type(pred_class), pred_class.shape\n",
    "print pred_class[0:20]\n",
    "print y_test[0:20]"
   ]
  },
  {
   "cell_type": "code",
   "execution_count": 37,
   "metadata": {},
   "outputs": [
    {
     "name": "stdout",
     "output_type": "stream",
     "text": [
      "0.991\n"
     ]
    }
   ],
   "source": [
    "match = 0.\n",
    "for i in range(0, y_test.shape[0]):\n",
    "    if y_test[i]==pred_class[i]:\n",
    "        match +=1\n",
    "accuracy = match/y_test.shape[0]\n",
    "print accuracy"
   ]
  },
  {
   "cell_type": "code",
   "execution_count": null,
   "metadata": {},
   "outputs": [],
   "source": []
  }
 ],
 "metadata": {
  "kernelspec": {
   "display_name": "Python 2",
   "language": "python",
   "name": "python2"
  },
  "language_info": {
   "codemirror_mode": {
    "name": "ipython",
    "version": 2
   },
   "file_extension": ".py",
   "mimetype": "text/x-python",
   "name": "python",
   "nbconvert_exporter": "python",
   "pygments_lexer": "ipython2",
   "version": "2.7.12"
  }
 },
 "nbformat": 4,
 "nbformat_minor": 2
}
