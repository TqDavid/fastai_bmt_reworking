{
 "cells": [
  {
   "cell_type": "code",
   "execution_count": null,
   "metadata": {},
   "outputs": [],
   "source": []
  },
  {
   "cell_type": "code",
   "execution_count": 2,
   "metadata": {},
   "outputs": [
    {
     "name": "stderr",
     "output_type": "stream",
     "text": [
      "Using TensorFlow backend.\n"
     ]
    }
   ],
   "source": [
    "import keras\n",
    "from keras.models import Sequential\n",
    "from keras.layers import Dense, Dropout, Activation\n",
    "from keras.optimizers import SGD\n"
   ]
  },
  {
   "cell_type": "code",
   "execution_count": 14,
   "metadata": {},
   "outputs": [
    {
     "name": "stdout",
     "output_type": "stream",
     "text": [
      "('x_train:', (1000, 20))\n",
      "('y_train:', (1000, 1))\n",
      "('x_test:', (100, 20))\n",
      "('y_test:', (100, 1))\n"
     ]
    }
   ],
   "source": [
    "# Generate dummy data\n",
    "import numpy as np\n",
    "x_train = np.random.random((1000, 20))\n",
    "y_train = np.random.randint(10, size=(1000, 1))\n",
    "#y_train = keras.utils.to_categorical(y_train, num_classes=10)\n",
    "x_test = np.random.random((100, 20))\n",
    "y_test = np.random.randint(10, size=(100, 1))\n",
    "#y_test = keras.utils.to_categorical(y_test, num_classes=10)\n",
    "\n",
    "print (\"x_train:\", x_train.shape)\n",
    "print (\"y_train:\", y_train.shape)\n",
    "print (\"x_test:\", x_test.shape)\n",
    "print (\"y_test:\", y_test.shape)"
   ]
  },
  {
   "cell_type": "code",
   "execution_count": 15,
   "metadata": {},
   "outputs": [
    {
     "name": "stdout",
     "output_type": "stream",
     "text": [
      "5\n"
     ]
    }
   ],
   "source": [
    "model = Sequential()\n",
    "# Dense(64) is a fully-connected layer with 64 hidden units.\n",
    "# in the first layer, you must specify the expected input data shape:\n",
    "# here, 20-dimensional vectors.\n",
    "model.add(Dense(64, activation='relu', input_dim=20))\n",
    "model.add(Dropout(0.5))\n",
    "model.add(Dense(64, activation='relu'))\n",
    "model.add(Dropout(0.5))\n",
    "model.add(Dense(10, activation='softmax'))\n",
    "\n",
    "print (len(model.layers))"
   ]
  },
  {
   "cell_type": "code",
   "execution_count": 16,
   "metadata": {},
   "outputs": [],
   "source": [
    "sgd = SGD(lr=0.01, decay=1e-6, momentum=0.9, nesterov=True)\n",
    "model.compile(loss='sparse_categorical_crossentropy',\n",
    "              optimizer=sgd,\n",
    "              metrics=['accuracy'])\n"
   ]
  },
  {
   "cell_type": "code",
   "execution_count": 17,
   "metadata": {},
   "outputs": [
    {
     "name": "stdout",
     "output_type": "stream",
     "text": [
      "start\n",
      "Epoch 1/20\n",
      "1000/1000 [==============================] - 0s 128us/step - loss: 2.3890 - acc: 0.1100\n",
      "Epoch 2/20\n",
      "1000/1000 [==============================] - 0s 30us/step - loss: 2.3601 - acc: 0.1050\n",
      "Epoch 3/20\n",
      "1000/1000 [==============================] - 0s 28us/step - loss: 2.3364 - acc: 0.1120\n",
      "Epoch 4/20\n",
      "1000/1000 [==============================] - 0s 29us/step - loss: 2.3266 - acc: 0.1040\n",
      "Epoch 5/20\n",
      "1000/1000 [==============================] - 0s 30us/step - loss: 2.3086 - acc: 0.1030\n",
      "Epoch 6/20\n",
      "1000/1000 [==============================] - 0s 30us/step - loss: 2.3039 - acc: 0.1010\n",
      "Epoch 7/20\n",
      "1000/1000 [==============================] - 0s 29us/step - loss: 2.3159 - acc: 0.1130\n",
      "Epoch 8/20\n",
      "1000/1000 [==============================] - 0s 30us/step - loss: 2.3191 - acc: 0.0940\n",
      "Epoch 9/20\n",
      "1000/1000 [==============================] - 0s 29us/step - loss: 2.3057 - acc: 0.1110\n",
      "Epoch 10/20\n",
      "1000/1000 [==============================] - 0s 29us/step - loss: 2.3001 - acc: 0.1180\n",
      "Epoch 11/20\n",
      "1000/1000 [==============================] - 0s 30us/step - loss: 2.3081 - acc: 0.1100\n",
      "Epoch 12/20\n",
      "1000/1000 [==============================] - 0s 31us/step - loss: 2.3087 - acc: 0.0860\n",
      "Epoch 13/20\n",
      "1000/1000 [==============================] - 0s 31us/step - loss: 2.3057 - acc: 0.1220\n",
      "Epoch 14/20\n",
      "1000/1000 [==============================] - 0s 29us/step - loss: 2.2949 - acc: 0.1290\n",
      "Epoch 15/20\n",
      "1000/1000 [==============================] - 0s 30us/step - loss: 2.3059 - acc: 0.0900\n",
      "Epoch 16/20\n",
      "1000/1000 [==============================] - 0s 29us/step - loss: 2.2964 - acc: 0.1180\n",
      "Epoch 17/20\n",
      "1000/1000 [==============================] - 0s 33us/step - loss: 2.3021 - acc: 0.1060\n",
      "Epoch 18/20\n",
      "1000/1000 [==============================] - 0s 31us/step - loss: 2.2985 - acc: 0.1080\n",
      "Epoch 19/20\n",
      "1000/1000 [==============================] - 0s 31us/step - loss: 2.3024 - acc: 0.1050\n",
      "Epoch 20/20\n",
      "1000/1000 [==============================] - 0s 33us/step - loss: 2.3042 - acc: 0.0900\n",
      "end\n"
     ]
    }
   ],
   "source": [
    "print (\"start\")\n",
    "model.fit(x_train, y_train,\n",
    "          epochs=20,\n",
    "          batch_size=128)\n",
    "print (\"end\")"
   ]
  },
  {
   "cell_type": "code",
   "execution_count": 18,
   "metadata": {},
   "outputs": [
    {
     "name": "stdout",
     "output_type": "stream",
     "text": [
      "\r",
      "100/100 [==============================] - 0s 251us/step\n"
     ]
    }
   ],
   "source": [
    "score = model.evaluate(x_test, y_test, batch_size=128)"
   ]
  },
  {
   "cell_type": "code",
   "execution_count": 22,
   "metadata": {},
   "outputs": [
    {
     "name": "stdout",
     "output_type": "stream",
     "text": [
      "['loss', 'acc'] [2.2979044914245605, 0.11999999731779099]\n"
     ]
    }
   ],
   "source": [
    "print model.metrics_names, score"
   ]
  },
  {
   "cell_type": "code",
   "execution_count": 20,
   "metadata": {},
   "outputs": [
    {
     "data": {
      "text/plain": [
       "keras.models.Sequential"
      ]
     },
     "execution_count": 20,
     "metadata": {},
     "output_type": "execute_result"
    }
   ],
   "source": [
    "type(model)"
   ]
  },
  {
   "cell_type": "code",
   "execution_count": 21,
   "metadata": {},
   "outputs": [
    {
     "data": {
      "text/plain": [
       "['loss', 'acc']"
      ]
     },
     "execution_count": 21,
     "metadata": {},
     "output_type": "execute_result"
    }
   ],
   "source": [
    "model.metrics_names"
   ]
  },
  {
   "cell_type": "code",
   "execution_count": 23,
   "metadata": {},
   "outputs": [],
   "source": [
    "pred = model.predict(x_test, batch_size=32, verbose=0)"
   ]
  },
  {
   "cell_type": "code",
   "execution_count": 27,
   "metadata": {},
   "outputs": [
    {
     "name": "stdout",
     "output_type": "stream",
     "text": [
      "(<type 'numpy.ndarray'>, (100, 10))\n",
      "[ 0.09112015  0.09656948  0.10642665  0.1043167   0.10629199  0.09725494\n",
      "  0.09366933  0.10018703  0.10622171  0.09794203]\n",
      "(<type 'numpy.ndarray'>, (100,))\n"
     ]
    }
   ],
   "source": [
    "print (type(pred), pred.shape)\n",
    "print (pred[0, :])\n",
    "pred_class = np.argmax(pred,axis=-1)\n",
    "print (type(pred_class), pred_class.shape)"
   ]
  },
  {
   "cell_type": "code",
   "execution_count": 44,
   "metadata": {},
   "outputs": [
    {
     "name": "stdout",
     "output_type": "stream",
     "text": [
      "[2 2 2 8 2 2 4 2 2 2] <type 'numpy.ndarray'> (100,)\n",
      "[4 6 2 0 7 2 3 4 7 8] <type 'numpy.ndarray'> (100,)\n",
      "[4 6 2 0 7 2 3 4 7 8] <type 'numpy.ndarray'> (100,)\n"
     ]
    }
   ],
   "source": [
    "print pred_class[0:10], type(pred_class), pred_class.shape\n",
    "print y_test.reshape(100,)[0:10], type(y_test), y_test.reshape(100,).shape\n",
    "temp = y_test.reshape(y_test.shape[0],)\n",
    "print temp[0:10], type(temp), temp.shape"
   ]
  },
  {
   "cell_type": "code",
   "execution_count": null,
   "metadata": {},
   "outputs": [],
   "source": []
  },
  {
   "cell_type": "code",
   "execution_count": null,
   "metadata": {},
   "outputs": [],
   "source": []
  },
  {
   "cell_type": "code",
   "execution_count": null,
   "metadata": {},
   "outputs": [],
   "source": []
  }
 ],
 "metadata": {
  "kernelspec": {
   "display_name": "Python 2",
   "language": "python",
   "name": "python2"
  },
  "language_info": {
   "codemirror_mode": {
    "name": "ipython",
    "version": 2
   },
   "file_extension": ".py",
   "mimetype": "text/x-python",
   "name": "python",
   "nbconvert_exporter": "python",
   "pygments_lexer": "ipython2",
   "version": "2.7.12"
  }
 },
 "nbformat": 4,
 "nbformat_minor": 2
}
