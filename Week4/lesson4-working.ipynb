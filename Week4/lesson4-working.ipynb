{
 "cells": [
  {
   "cell_type": "code",
   "execution_count": 1,
   "metadata": {
    "scrolled": true
   },
   "outputs": [
    {
     "name": "stderr",
     "output_type": "stream",
     "text": [
      "WARNING (theano.sandbox.cuda): The cuda backend is deprecated and will be removed in the next release (v0.10).  Please switch to the gpuarray backend. You can get more information about how to switch at this URL:\n",
      " https://github.com/Theano/Theano/wiki/Converting-to-the-new-gpu-back-end%28gpuarray%29\n",
      "\n",
      "Using gpu device 0: Tesla K80 (CNMeM is disabled, cuDNN 5110)\n"
     ]
    }
   ],
   "source": [
    "from theano.sandbox import cuda"
   ]
  },
  {
   "cell_type": "code",
   "execution_count": 2,
   "metadata": {},
   "outputs": [],
   "source": [
    "#set FIXED variables\n",
    "HOMEPATH = \"/home/ubuntu/fastai/\"\n",
    "\n",
    "import os, errno\n",
    "from datetime import datetime\n",
    "import unidecode"
   ]
  },
  {
   "cell_type": "code",
   "execution_count": 3,
   "metadata": {},
   "outputs": [
    {
     "name": "stdout",
     "output_type": "stream",
     "text": [
      "('current working directory:', '/home/ubuntu/fastai')\n"
     ]
    },
    {
     "name": "stderr",
     "output_type": "stream",
     "text": [
      "Using TensorFlow backend.\n"
     ]
    }
   ],
   "source": [
    "os.chdir(HOMEPATH)\n",
    "print (\"current working directory:\", os.getcwd())\n",
    "\n",
    "%matplotlib inline\n",
    "import utils; reload(utils)\n",
    "from utils import *\n",
    "from __future__ import division, print_function"
   ]
  },
  {
   "cell_type": "code",
   "execution_count": 4,
   "metadata": {},
   "outputs": [],
   "source": [
    "#path = \"data/ml-20m/\"\n",
    "path = \"data/ml-small/\"\n",
    "model_path = path + 'models/'\n",
    "if not os.path.exists(model_path): os.mkdir(model_path)\n",
    "batch_size=64"
   ]
  },
  {
   "cell_type": "markdown",
   "metadata": {
    "heading_collapsed": true
   },
   "source": [
    "## Set up data"
   ]
  },
  {
   "cell_type": "markdown",
   "metadata": {
    "hidden": true
   },
   "source": [
    "We're working with the movielens data, which contains one rating per row, like this:"
   ]
  },
  {
   "cell_type": "code",
   "execution_count": 5,
   "metadata": {
    "hidden": true,
    "scrolled": true
   },
   "outputs": [
    {
     "data": {
      "text/html": [
       "<div>\n",
       "<style>\n",
       "    .dataframe thead tr:only-child th {\n",
       "        text-align: right;\n",
       "    }\n",
       "\n",
       "    .dataframe thead th {\n",
       "        text-align: left;\n",
       "    }\n",
       "\n",
       "    .dataframe tbody tr th {\n",
       "        vertical-align: top;\n",
       "    }\n",
       "</style>\n",
       "<table border=\"1\" class=\"dataframe\">\n",
       "  <thead>\n",
       "    <tr style=\"text-align: right;\">\n",
       "      <th></th>\n",
       "      <th>userId</th>\n",
       "      <th>movieId</th>\n",
       "      <th>rating</th>\n",
       "      <th>timestamp</th>\n",
       "    </tr>\n",
       "  </thead>\n",
       "  <tbody>\n",
       "    <tr>\n",
       "      <th>0</th>\n",
       "      <td>1</td>\n",
       "      <td>31</td>\n",
       "      <td>2.5</td>\n",
       "      <td>1260759144</td>\n",
       "    </tr>\n",
       "    <tr>\n",
       "      <th>1</th>\n",
       "      <td>1</td>\n",
       "      <td>1029</td>\n",
       "      <td>3.0</td>\n",
       "      <td>1260759179</td>\n",
       "    </tr>\n",
       "    <tr>\n",
       "      <th>2</th>\n",
       "      <td>1</td>\n",
       "      <td>1061</td>\n",
       "      <td>3.0</td>\n",
       "      <td>1260759182</td>\n",
       "    </tr>\n",
       "    <tr>\n",
       "      <th>3</th>\n",
       "      <td>1</td>\n",
       "      <td>1129</td>\n",
       "      <td>2.0</td>\n",
       "      <td>1260759185</td>\n",
       "    </tr>\n",
       "    <tr>\n",
       "      <th>4</th>\n",
       "      <td>1</td>\n",
       "      <td>1172</td>\n",
       "      <td>4.0</td>\n",
       "      <td>1260759205</td>\n",
       "    </tr>\n",
       "  </tbody>\n",
       "</table>\n",
       "</div>"
      ],
      "text/plain": [
       "   userId  movieId  rating   timestamp\n",
       "0       1       31     2.5  1260759144\n",
       "1       1     1029     3.0  1260759179\n",
       "2       1     1061     3.0  1260759182\n",
       "3       1     1129     2.0  1260759185\n",
       "4       1     1172     4.0  1260759205"
      ]
     },
     "execution_count": 5,
     "metadata": {},
     "output_type": "execute_result"
    }
   ],
   "source": [
    "ratings = pd.read_csv(path+'ratings.csv')\n",
    "ratings.head()"
   ]
  },
  {
   "cell_type": "code",
   "execution_count": 6,
   "metadata": {
    "hidden": true
   },
   "outputs": [
    {
     "data": {
      "text/plain": [
       "100004"
      ]
     },
     "execution_count": 6,
     "metadata": {},
     "output_type": "execute_result"
    }
   ],
   "source": [
    "len(ratings)"
   ]
  },
  {
   "cell_type": "markdown",
   "metadata": {
    "hidden": true
   },
   "source": [
    "Just for display purposes, let's read in the movie names too."
   ]
  },
  {
   "cell_type": "code",
   "execution_count": 7,
   "metadata": {
    "hidden": true
   },
   "outputs": [],
   "source": [
    "movie_names = pd.read_csv(path+'movies.csv', encoding = 'utf8').set_index('movieId')['title']#.to_dict()"
   ]
  },
  {
   "cell_type": "markdown",
   "metadata": {},
   "source": [
    "print (type(movie_names), movie_names.shape)\n",
    "print(movie_names[0:5]['title'])\n",
    "for i in range(0, movie_names.shape[0]):\n",
    "    print (movie_names.iloc[i]['title'])\n",
    "    movie_names.iloc[i]['title'] = unidecode.unidecode(movie_names.iloc[i]['title'])\n",
    "    print (movie_names.iloc[i]['title'])\n",
    "print (\"done\")"
   ]
  },
  {
   "cell_type": "code",
   "execution_count": 8,
   "metadata": {
    "hidden": true
   },
   "outputs": [],
   "source": [
    "users = ratings.userId.unique()\n",
    "movies = ratings.movieId.unique()"
   ]
  },
  {
   "cell_type": "code",
   "execution_count": 9,
   "metadata": {},
   "outputs": [
    {
     "name": "stdout",
     "output_type": "stream",
     "text": [
      "<type 'numpy.ndarray'> (671,)\n",
      "<type 'numpy.ndarray'> (9066,)\n"
     ]
    }
   ],
   "source": [
    "print (type(users), users.shape)\n",
    "print (type(movies), movies.shape)"
   ]
  },
  {
   "cell_type": "code",
   "execution_count": 10,
   "metadata": {
    "hidden": true
   },
   "outputs": [
    {
     "name": "stdout",
     "output_type": "stream",
     "text": [
      "<type 'dict'> 671\n",
      "<type 'dict'> 9066\n",
      "1\n"
     ]
    }
   ],
   "source": [
    "userid2idx = {o:i for i,o in enumerate(users)}\n",
    "movieid2idx = {o:i for i,o in enumerate(movies)}\n",
    "print(type(userid2idx), len(userid2idx))\n",
    "print(type(movieid2idx), len(movieid2idx))\n",
    "\n",
    "print (next(iter(userid2idx)))\n"
   ]
  },
  {
   "cell_type": "markdown",
   "metadata": {
    "hidden": true
   },
   "source": [
    "We update the movie and user ids so that they are contiguous integers, which we want when using embeddings."
   ]
  },
  {
   "cell_type": "code",
   "execution_count": 11,
   "metadata": {
    "hidden": true
   },
   "outputs": [],
   "source": [
    "ratings.movieId = ratings.movieId.apply(lambda x: movieid2idx[x])\n",
    "ratings.userId = ratings.userId.apply(lambda x: userid2idx[x])"
   ]
  },
  {
   "cell_type": "code",
   "execution_count": 12,
   "metadata": {},
   "outputs": [
    {
     "data": {
      "text/plain": [
       "pandas.core.frame.DataFrame"
      ]
     },
     "execution_count": 12,
     "metadata": {},
     "output_type": "execute_result"
    }
   ],
   "source": [
    "type(ratings)"
   ]
  },
  {
   "cell_type": "code",
   "execution_count": 13,
   "metadata": {
    "hidden": true
   },
   "outputs": [
    {
     "name": "stdout",
     "output_type": "stream",
     "text": [
      "0 670 0 9065\n"
     ]
    }
   ],
   "source": [
    "user_min, user_max, movie_min, movie_max = (ratings.userId.min(), \n",
    "    ratings.userId.max(), ratings.movieId.min(), ratings.movieId.max())\n",
    "print (user_min, user_max, movie_min, movie_max)"
   ]
  },
  {
   "cell_type": "code",
   "execution_count": 14,
   "metadata": {
    "hidden": true
   },
   "outputs": [
    {
     "data": {
      "text/plain": [
       "(671, 9066)"
      ]
     },
     "execution_count": 14,
     "metadata": {},
     "output_type": "execute_result"
    }
   ],
   "source": [
    "n_users = ratings.userId.nunique()\n",
    "n_movies = ratings.movieId.nunique()\n",
    "n_users, n_movies"
   ]
  },
  {
   "cell_type": "markdown",
   "metadata": {
    "hidden": true
   },
   "source": [
    "This is the number of latent factors in each embedding."
   ]
  },
  {
   "cell_type": "code",
   "execution_count": 15,
   "metadata": {
    "hidden": true
   },
   "outputs": [],
   "source": [
    "n_factors = 50"
   ]
  },
  {
   "cell_type": "code",
   "execution_count": 16,
   "metadata": {
    "hidden": true
   },
   "outputs": [],
   "source": [
    "np.random.seed = 42"
   ]
  },
  {
   "cell_type": "markdown",
   "metadata": {
    "hidden": true
   },
   "source": [
    "Randomly split into training and validation."
   ]
  },
  {
   "cell_type": "code",
   "execution_count": 17,
   "metadata": {
    "hidden": true
   },
   "outputs": [
    {
     "name": "stdout",
     "output_type": "stream",
     "text": [
      "<type 'numpy.ndarray'> True\n"
     ]
    }
   ],
   "source": [
    "msk = np.random.rand(len(ratings)) < 0.8\n",
    "#creates numpy array of True or False values with probably 80% true\n",
    "print (type(msk), msk[0])\n",
    "trn = ratings[msk]\n",
    "val = ratings[~msk]"
   ]
  },
  {
   "cell_type": "markdown",
   "metadata": {
    "heading_collapsed": true
   },
   "source": [
    "## Create subset for Excel"
   ]
  },
  {
   "cell_type": "markdown",
   "metadata": {
    "hidden": true
   },
   "source": [
    "We create a crosstab of the most popular movies and most movie-addicted users which we'll copy into Excel for creating a simple example. This isn't necessary for any of the modeling below however."
   ]
  },
  {
   "cell_type": "code",
   "execution_count": 18,
   "metadata": {
    "hidden": true
   },
   "outputs": [
    {
     "name": "stdout",
     "output_type": "stream",
     "text": [
      "(100004, 4)\n",
      "   userId  movieId  rating   timestamp\n",
      "0       0        0     2.5  1260759144\n",
      "1       0        1     3.0  1260759179\n",
      "2       0        2     3.0  1260759182\n",
      "3       0        3     2.0  1260759185\n",
      "<class 'pandas.core.series.Series'> (671,)\n",
      "userId\n",
      "0     20\n",
      "1     76\n",
      "2     51\n",
      "3    204\n",
      "Name: rating, dtype: int64\n",
      "userId\n",
      "546    2391\n",
      "563    1868\n",
      "623    1735\n",
      "14     1700\n",
      "72     1610\n",
      "Name: rating, dtype: int64\n"
     ]
    }
   ],
   "source": [
    "print (ratings.shape)\n",
    "print (ratings[0:4])\n",
    "\n",
    "g=ratings.groupby('userId')['rating'].count()\n",
    "#group by 'userId', 'rating', count rows\n",
    "\n",
    "print (type(g), g.shape)\n",
    "print (g[0:4])\n",
    "print (g.sort_values(ascending=False)[0:5])\n",
    "topUsers=g.sort_values(ascending=False)[:15]\n",
    "#select top 15 users."
   ]
  },
  {
   "cell_type": "code",
   "execution_count": 19,
   "metadata": {
    "hidden": true
   },
   "outputs": [],
   "source": [
    "g=ratings.groupby('movieId')['rating'].count()\n",
    "topMovies=g.sort_values(ascending=False)[:15]"
   ]
  },
  {
   "cell_type": "code",
   "execution_count": 20,
   "metadata": {
    "hidden": true
   },
   "outputs": [],
   "source": [
    "top_r = ratings.join(topUsers, rsuffix='_r', how='inner', on='userId')"
   ]
  },
  {
   "cell_type": "code",
   "execution_count": 21,
   "metadata": {
    "hidden": true
   },
   "outputs": [],
   "source": [
    "top_r = top_r.join(topMovies, rsuffix='_r', how='inner', on='movieId')"
   ]
  },
  {
   "cell_type": "code",
   "execution_count": 22,
   "metadata": {
    "hidden": true,
    "scrolled": true
   },
   "outputs": [
    {
     "data": {
      "text/html": [
       "<div>\n",
       "<style>\n",
       "    .dataframe thead tr:only-child th {\n",
       "        text-align: right;\n",
       "    }\n",
       "\n",
       "    .dataframe thead th {\n",
       "        text-align: left;\n",
       "    }\n",
       "\n",
       "    .dataframe tbody tr th {\n",
       "        vertical-align: top;\n",
       "    }\n",
       "</style>\n",
       "<table border=\"1\" class=\"dataframe\">\n",
       "  <thead>\n",
       "    <tr style=\"text-align: right;\">\n",
       "      <th>movieId</th>\n",
       "      <th>27</th>\n",
       "      <th>49</th>\n",
       "      <th>57</th>\n",
       "      <th>72</th>\n",
       "      <th>79</th>\n",
       "      <th>89</th>\n",
       "      <th>92</th>\n",
       "      <th>99</th>\n",
       "      <th>143</th>\n",
       "      <th>179</th>\n",
       "      <th>180</th>\n",
       "      <th>197</th>\n",
       "      <th>402</th>\n",
       "      <th>417</th>\n",
       "      <th>505</th>\n",
       "    </tr>\n",
       "    <tr>\n",
       "      <th>userId</th>\n",
       "      <th></th>\n",
       "      <th></th>\n",
       "      <th></th>\n",
       "      <th></th>\n",
       "      <th></th>\n",
       "      <th></th>\n",
       "      <th></th>\n",
       "      <th></th>\n",
       "      <th></th>\n",
       "      <th></th>\n",
       "      <th></th>\n",
       "      <th></th>\n",
       "      <th></th>\n",
       "      <th></th>\n",
       "      <th></th>\n",
       "    </tr>\n",
       "  </thead>\n",
       "  <tbody>\n",
       "    <tr>\n",
       "      <th>14</th>\n",
       "      <td>3.0</td>\n",
       "      <td>5.0</td>\n",
       "      <td>1.0</td>\n",
       "      <td>3.0</td>\n",
       "      <td>4.0</td>\n",
       "      <td>4.0</td>\n",
       "      <td>5.0</td>\n",
       "      <td>2.0</td>\n",
       "      <td>5.0</td>\n",
       "      <td>5.0</td>\n",
       "      <td>4.0</td>\n",
       "      <td>5.0</td>\n",
       "      <td>5.0</td>\n",
       "      <td>2.0</td>\n",
       "      <td>5.0</td>\n",
       "    </tr>\n",
       "    <tr>\n",
       "      <th>29</th>\n",
       "      <td>5.0</td>\n",
       "      <td>5.0</td>\n",
       "      <td>5.0</td>\n",
       "      <td>4.0</td>\n",
       "      <td>5.0</td>\n",
       "      <td>4.0</td>\n",
       "      <td>4.0</td>\n",
       "      <td>5.0</td>\n",
       "      <td>4.0</td>\n",
       "      <td>4.0</td>\n",
       "      <td>5.0</td>\n",
       "      <td>5.0</td>\n",
       "      <td>3.0</td>\n",
       "      <td>4.0</td>\n",
       "      <td>5.0</td>\n",
       "    </tr>\n",
       "    <tr>\n",
       "      <th>72</th>\n",
       "      <td>4.0</td>\n",
       "      <td>5.0</td>\n",
       "      <td>5.0</td>\n",
       "      <td>4.0</td>\n",
       "      <td>5.0</td>\n",
       "      <td>3.0</td>\n",
       "      <td>4.5</td>\n",
       "      <td>5.0</td>\n",
       "      <td>4.5</td>\n",
       "      <td>5.0</td>\n",
       "      <td>5.0</td>\n",
       "      <td>5.0</td>\n",
       "      <td>4.5</td>\n",
       "      <td>5.0</td>\n",
       "      <td>4.0</td>\n",
       "    </tr>\n",
       "    <tr>\n",
       "      <th>211</th>\n",
       "      <td>5.0</td>\n",
       "      <td>4.0</td>\n",
       "      <td>4.0</td>\n",
       "      <td>3.0</td>\n",
       "      <td>5.0</td>\n",
       "      <td>3.0</td>\n",
       "      <td>4.0</td>\n",
       "      <td>4.5</td>\n",
       "      <td>4.0</td>\n",
       "      <td>NaN</td>\n",
       "      <td>3.0</td>\n",
       "      <td>3.0</td>\n",
       "      <td>5.0</td>\n",
       "      <td>3.0</td>\n",
       "      <td>NaN</td>\n",
       "    </tr>\n",
       "    <tr>\n",
       "      <th>212</th>\n",
       "      <td>2.5</td>\n",
       "      <td>NaN</td>\n",
       "      <td>2.0</td>\n",
       "      <td>5.0</td>\n",
       "      <td>NaN</td>\n",
       "      <td>4.0</td>\n",
       "      <td>2.5</td>\n",
       "      <td>NaN</td>\n",
       "      <td>5.0</td>\n",
       "      <td>5.0</td>\n",
       "      <td>3.0</td>\n",
       "      <td>3.0</td>\n",
       "      <td>4.0</td>\n",
       "      <td>3.0</td>\n",
       "      <td>2.0</td>\n",
       "    </tr>\n",
       "    <tr>\n",
       "      <th>293</th>\n",
       "      <td>3.0</td>\n",
       "      <td>NaN</td>\n",
       "      <td>4.0</td>\n",
       "      <td>4.0</td>\n",
       "      <td>4.0</td>\n",
       "      <td>3.0</td>\n",
       "      <td>NaN</td>\n",
       "      <td>3.0</td>\n",
       "      <td>4.0</td>\n",
       "      <td>4.0</td>\n",
       "      <td>4.5</td>\n",
       "      <td>4.0</td>\n",
       "      <td>4.5</td>\n",
       "      <td>4.0</td>\n",
       "      <td>NaN</td>\n",
       "    </tr>\n",
       "    <tr>\n",
       "      <th>310</th>\n",
       "      <td>3.0</td>\n",
       "      <td>3.0</td>\n",
       "      <td>5.0</td>\n",
       "      <td>4.5</td>\n",
       "      <td>5.0</td>\n",
       "      <td>4.5</td>\n",
       "      <td>2.0</td>\n",
       "      <td>4.5</td>\n",
       "      <td>4.0</td>\n",
       "      <td>3.0</td>\n",
       "      <td>4.5</td>\n",
       "      <td>4.5</td>\n",
       "      <td>4.0</td>\n",
       "      <td>3.0</td>\n",
       "      <td>4.0</td>\n",
       "    </tr>\n",
       "    <tr>\n",
       "      <th>379</th>\n",
       "      <td>5.0</td>\n",
       "      <td>5.0</td>\n",
       "      <td>5.0</td>\n",
       "      <td>4.0</td>\n",
       "      <td>NaN</td>\n",
       "      <td>4.0</td>\n",
       "      <td>5.0</td>\n",
       "      <td>4.0</td>\n",
       "      <td>4.0</td>\n",
       "      <td>4.0</td>\n",
       "      <td>NaN</td>\n",
       "      <td>3.0</td>\n",
       "      <td>5.0</td>\n",
       "      <td>4.0</td>\n",
       "      <td>4.0</td>\n",
       "    </tr>\n",
       "    <tr>\n",
       "      <th>451</th>\n",
       "      <td>4.0</td>\n",
       "      <td>5.0</td>\n",
       "      <td>4.0</td>\n",
       "      <td>5.0</td>\n",
       "      <td>4.0</td>\n",
       "      <td>4.0</td>\n",
       "      <td>5.0</td>\n",
       "      <td>5.0</td>\n",
       "      <td>4.0</td>\n",
       "      <td>4.0</td>\n",
       "      <td>4.0</td>\n",
       "      <td>4.0</td>\n",
       "      <td>2.0</td>\n",
       "      <td>3.5</td>\n",
       "      <td>5.0</td>\n",
       "    </tr>\n",
       "    <tr>\n",
       "      <th>467</th>\n",
       "      <td>3.0</td>\n",
       "      <td>3.5</td>\n",
       "      <td>3.0</td>\n",
       "      <td>2.5</td>\n",
       "      <td>NaN</td>\n",
       "      <td>NaN</td>\n",
       "      <td>3.0</td>\n",
       "      <td>3.5</td>\n",
       "      <td>3.5</td>\n",
       "      <td>3.0</td>\n",
       "      <td>3.5</td>\n",
       "      <td>3.0</td>\n",
       "      <td>3.0</td>\n",
       "      <td>4.0</td>\n",
       "      <td>4.0</td>\n",
       "    </tr>\n",
       "    <tr>\n",
       "      <th>508</th>\n",
       "      <td>5.0</td>\n",
       "      <td>5.0</td>\n",
       "      <td>4.0</td>\n",
       "      <td>3.0</td>\n",
       "      <td>5.0</td>\n",
       "      <td>2.0</td>\n",
       "      <td>4.0</td>\n",
       "      <td>4.0</td>\n",
       "      <td>5.0</td>\n",
       "      <td>5.0</td>\n",
       "      <td>5.0</td>\n",
       "      <td>3.0</td>\n",
       "      <td>4.5</td>\n",
       "      <td>3.0</td>\n",
       "      <td>4.5</td>\n",
       "    </tr>\n",
       "    <tr>\n",
       "      <th>546</th>\n",
       "      <td>NaN</td>\n",
       "      <td>5.0</td>\n",
       "      <td>2.0</td>\n",
       "      <td>3.0</td>\n",
       "      <td>5.0</td>\n",
       "      <td>NaN</td>\n",
       "      <td>5.0</td>\n",
       "      <td>5.0</td>\n",
       "      <td>NaN</td>\n",
       "      <td>2.5</td>\n",
       "      <td>2.0</td>\n",
       "      <td>3.5</td>\n",
       "      <td>3.5</td>\n",
       "      <td>3.5</td>\n",
       "      <td>5.0</td>\n",
       "    </tr>\n",
       "    <tr>\n",
       "      <th>563</th>\n",
       "      <td>1.0</td>\n",
       "      <td>5.0</td>\n",
       "      <td>3.0</td>\n",
       "      <td>5.0</td>\n",
       "      <td>4.0</td>\n",
       "      <td>5.0</td>\n",
       "      <td>5.0</td>\n",
       "      <td>NaN</td>\n",
       "      <td>2.0</td>\n",
       "      <td>5.0</td>\n",
       "      <td>5.0</td>\n",
       "      <td>3.0</td>\n",
       "      <td>3.0</td>\n",
       "      <td>4.0</td>\n",
       "      <td>5.0</td>\n",
       "    </tr>\n",
       "    <tr>\n",
       "      <th>579</th>\n",
       "      <td>4.5</td>\n",
       "      <td>4.5</td>\n",
       "      <td>3.5</td>\n",
       "      <td>3.0</td>\n",
       "      <td>4.0</td>\n",
       "      <td>4.5</td>\n",
       "      <td>4.0</td>\n",
       "      <td>4.0</td>\n",
       "      <td>4.0</td>\n",
       "      <td>4.0</td>\n",
       "      <td>3.5</td>\n",
       "      <td>3.0</td>\n",
       "      <td>4.5</td>\n",
       "      <td>4.0</td>\n",
       "      <td>4.5</td>\n",
       "    </tr>\n",
       "    <tr>\n",
       "      <th>623</th>\n",
       "      <td>NaN</td>\n",
       "      <td>5.0</td>\n",
       "      <td>3.0</td>\n",
       "      <td>3.0</td>\n",
       "      <td>NaN</td>\n",
       "      <td>3.0</td>\n",
       "      <td>5.0</td>\n",
       "      <td>NaN</td>\n",
       "      <td>5.0</td>\n",
       "      <td>5.0</td>\n",
       "      <td>5.0</td>\n",
       "      <td>5.0</td>\n",
       "      <td>2.0</td>\n",
       "      <td>5.0</td>\n",
       "      <td>4.0</td>\n",
       "    </tr>\n",
       "  </tbody>\n",
       "</table>\n",
       "</div>"
      ],
      "text/plain": [
       "movieId  27   49   57   72   79   89   92   99   143  179  180  197  402  417  \\\n",
       "userId                                                                          \n",
       "14       3.0  5.0  1.0  3.0  4.0  4.0  5.0  2.0  5.0  5.0  4.0  5.0  5.0  2.0   \n",
       "29       5.0  5.0  5.0  4.0  5.0  4.0  4.0  5.0  4.0  4.0  5.0  5.0  3.0  4.0   \n",
       "72       4.0  5.0  5.0  4.0  5.0  3.0  4.5  5.0  4.5  5.0  5.0  5.0  4.5  5.0   \n",
       "211      5.0  4.0  4.0  3.0  5.0  3.0  4.0  4.5  4.0  NaN  3.0  3.0  5.0  3.0   \n",
       "212      2.5  NaN  2.0  5.0  NaN  4.0  2.5  NaN  5.0  5.0  3.0  3.0  4.0  3.0   \n",
       "293      3.0  NaN  4.0  4.0  4.0  3.0  NaN  3.0  4.0  4.0  4.5  4.0  4.5  4.0   \n",
       "310      3.0  3.0  5.0  4.5  5.0  4.5  2.0  4.5  4.0  3.0  4.5  4.5  4.0  3.0   \n",
       "379      5.0  5.0  5.0  4.0  NaN  4.0  5.0  4.0  4.0  4.0  NaN  3.0  5.0  4.0   \n",
       "451      4.0  5.0  4.0  5.0  4.0  4.0  5.0  5.0  4.0  4.0  4.0  4.0  2.0  3.5   \n",
       "467      3.0  3.5  3.0  2.5  NaN  NaN  3.0  3.5  3.5  3.0  3.5  3.0  3.0  4.0   \n",
       "508      5.0  5.0  4.0  3.0  5.0  2.0  4.0  4.0  5.0  5.0  5.0  3.0  4.5  3.0   \n",
       "546      NaN  5.0  2.0  3.0  5.0  NaN  5.0  5.0  NaN  2.5  2.0  3.5  3.5  3.5   \n",
       "563      1.0  5.0  3.0  5.0  4.0  5.0  5.0  NaN  2.0  5.0  5.0  3.0  3.0  4.0   \n",
       "579      4.5  4.5  3.5  3.0  4.0  4.5  4.0  4.0  4.0  4.0  3.5  3.0  4.5  4.0   \n",
       "623      NaN  5.0  3.0  3.0  NaN  3.0  5.0  NaN  5.0  5.0  5.0  5.0  2.0  5.0   \n",
       "\n",
       "movieId  505  \n",
       "userId        \n",
       "14       5.0  \n",
       "29       5.0  \n",
       "72       4.0  \n",
       "211      NaN  \n",
       "212      2.0  \n",
       "293      NaN  \n",
       "310      4.0  \n",
       "379      4.0  \n",
       "451      5.0  \n",
       "467      4.0  \n",
       "508      4.5  \n",
       "546      5.0  \n",
       "563      5.0  \n",
       "579      4.5  \n",
       "623      4.0  "
      ]
     },
     "execution_count": 22,
     "metadata": {},
     "output_type": "execute_result"
    }
   ],
   "source": [
    "pd.crosstab(top_r.userId, top_r.movieId, top_r.rating, aggfunc=np.sum)"
   ]
  },
  {
   "cell_type": "markdown",
   "metadata": {
    "collapsed": true,
    "heading_collapsed": true
   },
   "source": [
    "## Dot product"
   ]
  },
  {
   "cell_type": "markdown",
   "metadata": {
    "hidden": true
   },
   "source": [
    "The most basic model is a dot product of a movie embedding and a user embedding. Let's see how well that works:"
   ]
  },
  {
   "cell_type": "code",
   "execution_count": 23,
   "metadata": {
    "hidden": true
   },
   "outputs": [],
   "source": [
    "user_in = Input(shape=(1,), dtype='int64', name='user_in')\n",
    "u = Embedding(n_users, n_factors, input_length=1, W_regularizer=l2(1e-4))(user_in)\n",
    "movie_in = Input(shape=(1,), dtype='int64', name='movie_in')\n",
    "m = Embedding(n_movies, n_factors, input_length=1, W_regularizer=l2(1e-4))(movie_in)"
   ]
  },
  {
   "cell_type": "code",
   "execution_count": 24,
   "metadata": {
    "hidden": true
   },
   "outputs": [
    {
     "name": "stdout",
     "output_type": "stream",
     "text": [
      "<class 'keras.engine.training.Model'>\n"
     ]
    }
   ],
   "source": [
    "x = merge([u, m], mode='dot')\n",
    "x = Flatten()(x)\n",
    "model = Model([user_in, movie_in], x)\n",
    "#https://keras.io/models/model/\n",
    "\n",
    "model.compile(Adam(0.001), loss='mse')\n",
    "print (type(model))"
   ]
  },
  {
   "cell_type": "code",
   "execution_count": 25,
   "metadata": {
    "hidden": true
   },
   "outputs": [
    {
     "name": "stdout",
     "output_type": "stream",
     "text": [
      "Train on 80142 samples, validate on 19862 samples\n",
      "Epoch 1/1\n",
      "80142/80142 [==============================] - 5s - loss: 9.9450 - val_loss: 4.3126\n"
     ]
    },
    {
     "data": {
      "text/plain": [
       "<keras.callbacks.History at 0x7f930c6d4910>"
      ]
     },
     "execution_count": 25,
     "metadata": {},
     "output_type": "execute_result"
    }
   ],
   "source": [
    "model.fit([trn.userId, trn.movieId], trn.rating, batch_size=64, nb_epoch=1, \n",
    "          validation_data=([val.userId, val.movieId], val.rating))\n",
    "#github gets loss: 9.8328 - val_loss: 3.7591 cf loss: 9.9450 - val_loss: 4.3126"
   ]
  },
  {
   "cell_type": "code",
   "execution_count": 26,
   "metadata": {
    "hidden": true
   },
   "outputs": [],
   "source": [
    "model.optimizer.lr=0.01"
   ]
  },
  {
   "cell_type": "code",
   "execution_count": 27,
   "metadata": {
    "hidden": true
   },
   "outputs": [
    {
     "name": "stdout",
     "output_type": "stream",
     "text": [
      "start\n",
      "Train on 80142 samples, validate on 19862 samples\n",
      "Epoch 1/3\n",
      "80142/80142 [==============================] - 4s - loss: 3.1456 - val_loss: 2.8174\n",
      "Epoch 2/3\n",
      "80142/80142 [==============================] - 4s - loss: 2.4245 - val_loss: 2.6104\n",
      "Epoch 3/3\n",
      "80142/80142 [==============================] - 4s - loss: 2.2554 - val_loss: 2.5601\n",
      "Time elapsed (hh:mm:ss.ms) 0:00:14.530618\n"
     ]
    }
   ],
   "source": [
    "print (\"start\")\n",
    "startTime= datetime.now()\n",
    "model.fit([trn.userId, trn.movieId], trn.rating, batch_size=64, nb_epoch=3, \n",
    "          validation_data=([val.userId, val.movieId], val.rating))\n",
    "timeElapsed=datetime.now()-startTime\n",
    "print('Time elapsed (hh:mm:ss.ms) {}'.format(timeElapsed))\n"
   ]
  },
  {
   "cell_type": "code",
   "execution_count": 28,
   "metadata": {
    "hidden": true
   },
   "outputs": [],
   "source": [
    "model.optimizer.lr=0.001"
   ]
  },
  {
   "cell_type": "code",
   "execution_count": 29,
   "metadata": {
    "hidden": true
   },
   "outputs": [
    {
     "name": "stdout",
     "output_type": "stream",
     "text": [
      "start\n",
      "Train on 80142 samples, validate on 19862 samples\n",
      "Epoch 1/6\n",
      "80142/80142 [==============================] - 4s - loss: 2.1896 - val_loss: 2.5566\n",
      "Epoch 2/6\n",
      "80142/80142 [==============================] - 4s - loss: 2.1507 - val_loss: 2.5513\n",
      "Epoch 3/6\n",
      "80142/80142 [==============================] - 4s - loss: 2.1211 - val_loss: 2.5538\n",
      "Epoch 4/6\n",
      "80142/80142 [==============================] - 4s - loss: 2.0978 - val_loss: 2.5589\n",
      "Epoch 5/6\n",
      "80142/80142 [==============================] - 4s - loss: 2.0741 - val_loss: 2.5687\n",
      "Epoch 6/6\n",
      "80142/80142 [==============================] - 4s - loss: 2.0542 - val_loss: 2.5753\n",
      "Time elapsed (hh:mm:ss.ms) 0:00:29.115108\n"
     ]
    }
   ],
   "source": [
    "print (\"start\")\n",
    "startTime= datetime.now()\n",
    "model.fit([trn.userId, trn.movieId], trn.rating, batch_size=64, nb_epoch=6, \n",
    "          validation_data=([val.userId, val.movieId], val.rating))\n",
    "timeElapsed=datetime.now()-startTime\n",
    "print('Time elapsed (hh:mm:ss.ms) {}'.format(timeElapsed))\n",
    "#github = loss: 2.0673 - val_loss: 1.4457 vs loss: 2.0542 - val_loss: 2.5753\n",
    "#nb: loss is reducing, val_loss is not. loss is much less than val_loss overtraining?"
   ]
  },
  {
   "cell_type": "markdown",
   "metadata": {
    "hidden": true
   },
   "source": [
    "The [best benchmarks](http://www.librec.net/example.html) are a bit over 0.9, so this model doesn't seem to be working that well..."
   ]
  },
  {
   "cell_type": "markdown",
   "metadata": {
    "heading_collapsed": true
   },
   "source": [
    "##  Bias"
   ]
  },
  {
   "cell_type": "markdown",
   "metadata": {
    "hidden": true
   },
   "source": [
    "The problem is likely to be that we don't have bias terms - that is, a single bias for each user and each movie representing how positive or negative each user is, and how good each movie is. We can add that easily by simply creating an embedding with one output for each movie and each user, and adding it to our output."
   ]
  },
  {
   "cell_type": "code",
   "execution_count": 30,
   "metadata": {
    "hidden": true
   },
   "outputs": [],
   "source": [
    "def embedding_input(name, n_in, n_out, reg):\n",
    "    inp = Input(shape=(1,), dtype='int64', name=name)\n",
    "    return inp, Embedding(n_in, n_out, input_length=1, W_regularizer=l2(reg))(inp)\n",
    "#refer lesson 5 video @ 14\"40'"
   ]
  },
  {
   "cell_type": "code",
   "execution_count": 31,
   "metadata": {
    "hidden": true
   },
   "outputs": [],
   "source": [
    "user_in, u = embedding_input('user_in', n_users, n_factors, 1e-4)\n",
    "movie_in, m = embedding_input('movie_in', n_movies, n_factors, 1e-4)"
   ]
  },
  {
   "cell_type": "code",
   "execution_count": 32,
   "metadata": {
    "hidden": true
   },
   "outputs": [],
   "source": [
    "def create_bias(inp, n_in):\n",
    "    x = Embedding(n_in, 1, input_length=1)(inp)\n",
    "    return Flatten()(x)"
   ]
  },
  {
   "cell_type": "code",
   "execution_count": 33,
   "metadata": {
    "hidden": true
   },
   "outputs": [],
   "source": [
    "ub = create_bias(user_in, n_users)\n",
    "mb = create_bias(movie_in, n_movies)"
   ]
  },
  {
   "cell_type": "markdown",
   "metadata": {},
   "source": [
    "refer video lesson 5 @ 27\"08'\""
   ]
  },
  {
   "cell_type": "code",
   "execution_count": 34,
   "metadata": {
    "hidden": true
   },
   "outputs": [],
   "source": [
    "x = merge([u, m], mode='dot')\n",
    "x = Flatten()(x)\n",
    "x = merge([x, ub], mode='sum')\n",
    "x = merge([x, mb], mode='sum')\n",
    "model = Model([user_in, movie_in], x)\n",
    "model.compile(Adam(0.001), loss='mse')"
   ]
  },
  {
   "cell_type": "code",
   "execution_count": 35,
   "metadata": {
    "hidden": true
   },
   "outputs": [
    {
     "name": "stdout",
     "output_type": "stream",
     "text": [
      "Train on 80142 samples, validate on 19862 samples\n",
      "Epoch 1/1\n",
      "80142/80142 [==============================] - 5s - loss: 8.8268 - val_loss: 3.5538\n"
     ]
    },
    {
     "data": {
      "text/plain": [
       "<keras.callbacks.History at 0x7f92eac7bf90>"
      ]
     },
     "execution_count": 35,
     "metadata": {},
     "output_type": "execute_result"
    }
   ],
   "source": [
    "model.fit([trn.userId, trn.movieId], trn.rating, batch_size=64, nb_epoch=1, \n",
    "          validation_data=([val.userId, val.movieId], val.rating))"
   ]
  },
  {
   "cell_type": "code",
   "execution_count": 36,
   "metadata": {
    "hidden": true
   },
   "outputs": [],
   "source": [
    "model.optimizer.lr=0.01"
   ]
  },
  {
   "cell_type": "code",
   "execution_count": 38,
   "metadata": {
    "hidden": true
   },
   "outputs": [
    {
     "name": "stdout",
     "output_type": "stream",
     "text": [
      "Train on 80142 samples, validate on 19862 samples\n",
      "Epoch 1/20\n",
      "80142/80142 [==============================] - 5s - loss: 1.5141 - val_loss: 1.7266\n",
      "Epoch 2/20\n",
      "80142/80142 [==============================] - 5s - loss: 1.4422 - val_loss: 1.6685\n",
      "Epoch 3/20\n",
      "80142/80142 [==============================] - 5s - loss: 1.3730 - val_loss: 1.6130\n",
      "Epoch 4/20\n",
      "80142/80142 [==============================] - 5s - loss: 1.3066 - val_loss: 1.5593\n",
      "Epoch 5/20\n",
      "80142/80142 [==============================] - 5s - loss: 1.2436 - val_loss: 1.5077\n",
      "Epoch 6/20\n",
      "80142/80142 [==============================] - 5s - loss: 1.1828 - val_loss: 1.4588\n",
      "Epoch 7/20\n",
      "80142/80142 [==============================] - 5s - loss: 1.1254 - val_loss: 1.4114\n",
      "Epoch 8/20\n",
      "80142/80142 [==============================] - 5s - loss: 1.0703 - val_loss: 1.3700\n",
      "Epoch 9/20\n",
      "80142/80142 [==============================] - 5s - loss: 1.0183 - val_loss: 1.3292\n",
      "Epoch 10/20\n",
      "80142/80142 [==============================] - 5s - loss: 0.9691 - val_loss: 1.2886\n",
      "Epoch 11/20\n",
      "80142/80142 [==============================] - 5s - loss: 0.9226 - val_loss: 1.2578\n",
      "Epoch 12/20\n",
      "80142/80142 [==============================] - 5s - loss: 0.8797 - val_loss: 1.2245\n",
      "Epoch 13/20\n",
      "80142/80142 [==============================] - 5s - loss: 0.8396 - val_loss: 1.1958\n",
      "Epoch 14/20\n",
      "80142/80142 [==============================] - 5s - loss: 0.8018 - val_loss: 1.1685\n",
      "Epoch 15/20\n",
      "80142/80142 [==============================] - 5s - loss: 0.7680 - val_loss: 1.1469\n",
      "Epoch 16/20\n",
      "80142/80142 [==============================] - 5s - loss: 0.7364 - val_loss: 1.1224\n",
      "Epoch 17/20\n",
      "80142/80142 [==============================] - 5s - loss: 0.7082 - val_loss: 1.1022\n",
      "Epoch 18/20\n",
      "80142/80142 [==============================] - 5s - loss: 0.6832 - val_loss: 1.0855\n",
      "Epoch 19/20\n",
      "80142/80142 [==============================] - 5s - loss: 0.6604 - val_loss: 1.0692\n",
      "Epoch 20/20\n",
      "80142/80142 [==============================] - 5s - loss: 0.6405 - val_loss: 1.0564\n"
     ]
    },
    {
     "data": {
      "text/plain": [
       "<keras.callbacks.History at 0x7f93459eee90>"
      ]
     },
     "execution_count": 38,
     "metadata": {},
     "output_type": "execute_result"
    }
   ],
   "source": [
    "model.fit([trn.userId, trn.movieId], trn.rating, batch_size=64, nb_epoch=20, \n",
    "          validation_data=([val.userId, val.movieId], val.rating))\n",
    "#github result = loss: 0.5747 - val_loss: 0.7979 vs my result after 6 epochs loss: 1.5886 - val_loss: 1.7878\n",
    "#very bad result by comparison.\n",
    "#after 20 epochs,  loss: 0.6405 - val_loss: 1.0564 both losses are consistently reducing. \n",
    "#loss is << val_loss so overfitting"
   ]
  },
  {
   "cell_type": "code",
   "execution_count": 39,
   "metadata": {
    "hidden": true
   },
   "outputs": [],
   "source": [
    "model.optimizer.lr=0.001"
   ]
  },
  {
   "cell_type": "code",
   "execution_count": 41,
   "metadata": {
    "hidden": true
   },
   "outputs": [
    {
     "name": "stdout",
     "output_type": "stream",
     "text": [
      "startTime: 2017-11-22 09:07:04.474991\n",
      "Train on 80142 samples, validate on 19862 samples\n",
      "Epoch 1/20\n",
      "80142/80142 [==============================] - 5s - loss: 0.5476 - val_loss: 1.0110\n",
      "Epoch 2/20\n",
      "80142/80142 [==============================] - 5s - loss: 0.5446 - val_loss: 1.0113\n",
      "Epoch 3/20\n",
      "80142/80142 [==============================] - 5s - loss: 0.5423 - val_loss: 1.0121\n",
      "Epoch 4/20\n",
      "80142/80142 [==============================] - 5s - loss: 0.5407 - val_loss: 1.0122\n",
      "Epoch 5/20\n",
      "80142/80142 [==============================] - 5s - loss: 0.5387 - val_loss: 1.0130\n",
      "Epoch 6/20\n",
      "80142/80142 [==============================] - 5s - loss: 0.5375 - val_loss: 1.0140\n",
      "Epoch 7/20\n",
      "80142/80142 [==============================] - 5s - loss: 0.5360 - val_loss: 1.0144\n",
      "Epoch 8/20\n",
      "80142/80142 [==============================] - 5s - loss: 0.5346 - val_loss: 1.0151\n",
      "Epoch 9/20\n",
      "80142/80142 [==============================] - 5s - loss: 0.5339 - val_loss: 1.0162\n",
      "Epoch 10/20\n",
      "80142/80142 [==============================] - 5s - loss: 0.5324 - val_loss: 1.0170\n",
      "Epoch 11/20\n",
      "80142/80142 [==============================] - 5s - loss: 0.5318 - val_loss: 1.0180\n",
      "Epoch 12/20\n",
      "80142/80142 [==============================] - 5s - loss: 0.5307 - val_loss: 1.0180\n",
      "Epoch 13/20\n",
      "80142/80142 [==============================] - 5s - loss: 0.5300 - val_loss: 1.0187\n",
      "Epoch 14/20\n",
      "80142/80142 [==============================] - 5s - loss: 0.5295 - val_loss: 1.0198\n",
      "Epoch 15/20\n",
      "80142/80142 [==============================] - 5s - loss: 0.5286 - val_loss: 1.0207\n",
      "Epoch 16/20\n",
      "80142/80142 [==============================] - 5s - loss: 0.5279 - val_loss: 1.0214\n",
      "Epoch 17/20\n",
      "80142/80142 [==============================] - 5s - loss: 0.5275 - val_loss: 1.0218\n",
      "Epoch 18/20\n",
      "80142/80142 [==============================] - 5s - loss: 0.5269 - val_loss: 1.0224\n",
      "Epoch 19/20\n",
      "80142/80142 [==============================] - 5s - loss: 0.5265 - val_loss: 1.0233\n",
      "Epoch 20/20\n",
      "80142/80142 [==============================] - 5s - loss: 0.5260 - val_loss: 1.0237\n",
      "Time elapsed (hh:mm:ss.ms) 0:01:55.890735\n"
     ]
    }
   ],
   "source": [
    "startTime= datetime.now()\n",
    "print (\"startTime:\", startTime)\n",
    "model.fit([trn.userId, trn.movieId], trn.rating, batch_size=64, nb_epoch=20, \n",
    "          validation_data=([val.userId, val.movieId], val.rating))\n",
    "timeElapsed=datetime.now()-startTime\n",
    "print('Time elapsed (hh:mm:ss.ms) {}'.format(timeElapsed))\n",
    "#ran with 10 epochs then again with 20 epochs"
   ]
  },
  {
   "cell_type": "code",
   "execution_count": 43,
   "metadata": {
    "hidden": true
   },
   "outputs": [
    {
     "name": "stdout",
     "output_type": "stream",
     "text": [
      "startTime: 2017-11-22 09:10:43.299576\n",
      "Train on 80142 samples, validate on 19862 samples\n",
      "Epoch 1/20\n",
      "80142/80142 [==============================] - 5s - loss: 0.5239 - val_loss: 1.0277\n",
      "Epoch 2/20\n",
      "80142/80142 [==============================] - 5s - loss: 0.5235 - val_loss: 1.0283\n",
      "Epoch 3/20\n",
      "80142/80142 [==============================] - 5s - loss: 0.5231 - val_loss: 1.0284\n",
      "Epoch 4/20\n",
      "80142/80142 [==============================] - 5s - loss: 0.5231 - val_loss: 1.0290\n",
      "Epoch 5/20\n",
      "80142/80142 [==============================] - 5s - loss: 0.5229 - val_loss: 1.0296\n",
      "Epoch 6/20\n",
      "80142/80142 [==============================] - 5s - loss: 0.5225 - val_loss: 1.0309\n",
      "Epoch 7/20\n",
      "80142/80142 [==============================] - 5s - loss: 0.5223 - val_loss: 1.0313\n",
      "Epoch 8/20\n",
      "80142/80142 [==============================] - 5s - loss: 0.5220 - val_loss: 1.0312\n",
      "Epoch 9/20\n",
      "80142/80142 [==============================] - 5s - loss: 0.5219 - val_loss: 1.0312\n",
      "Epoch 10/20\n",
      "80142/80142 [==============================] - 5s - loss: 0.5220 - val_loss: 1.0322\n",
      "Epoch 11/20\n",
      "80142/80142 [==============================] - 5s - loss: 0.5215 - val_loss: 1.0321\n",
      "Epoch 12/20\n",
      "80142/80142 [==============================] - 5s - loss: 0.5216 - val_loss: 1.0323\n",
      "Epoch 13/20\n",
      "80142/80142 [==============================] - 5s - loss: 0.5212 - val_loss: 1.0328\n",
      "Epoch 14/20\n",
      "80142/80142 [==============================] - 5s - loss: 0.5212 - val_loss: 1.0334\n",
      "Epoch 15/20\n",
      "80142/80142 [==============================] - 5s - loss: 0.5211 - val_loss: 1.0340\n",
      "Epoch 16/20\n",
      "80142/80142 [==============================] - 5s - loss: 0.5211 - val_loss: 1.0346\n",
      "Epoch 17/20\n",
      "80142/80142 [==============================] - 5s - loss: 0.5207 - val_loss: 1.0345\n",
      "Epoch 18/20\n",
      "80142/80142 [==============================] - 5s - loss: 0.5206 - val_loss: 1.0350\n",
      "Epoch 19/20\n",
      "80142/80142 [==============================] - 5s - loss: 0.5207 - val_loss: 1.0349\n",
      "Epoch 20/20\n",
      "80142/80142 [==============================] - 5s - loss: 0.5205 - val_loss: 1.0352\n",
      "Time elapsed (hh:mm:ss.ms) 0:01:55.964101\n"
     ]
    }
   ],
   "source": [
    "startTime= datetime.now()\n",
    "print (\"startTime:\", startTime)\n",
    "model.fit([trn.userId, trn.movieId], trn.rating, batch_size=64, nb_epoch=20, \n",
    "          validation_data=([val.userId, val.movieId], val.rating))\n",
    "timeElapsed=datetime.now()-startTime\n",
    "print('Time elapsed (hh:mm:ss.ms) {}'.format(timeElapsed))\n",
    "\n",
    "#NB: video lecture val_loss is down to 0.7979 = refer lesson 5 @ 15\"07'\n",
    "#github results : loss: 0.5747 - val_loss: 0.7979\n",
    "#ran w 5 epochs, loss is stabilising around 0.523 val_loss stabilising around 1.03\n",
    "#quite different margins to the examples in github and video."
   ]
  },
  {
   "cell_type": "markdown",
   "metadata": {
    "hidden": true
   },
   "source": [
    "This result is quite a bit better than the best benchmarks that we could find with a quick google search - so looks like a great approach!"
   ]
  },
  {
   "cell_type": "code",
   "execution_count": 44,
   "metadata": {
    "hidden": true
   },
   "outputs": [],
   "source": [
    "#model.save_weights(model_path+'bias.h5')"
   ]
  },
  {
   "cell_type": "code",
   "execution_count": 45,
   "metadata": {
    "hidden": true
   },
   "outputs": [],
   "source": [
    "#model.load_weights(model_path+'bias.h5')"
   ]
  },
  {
   "cell_type": "markdown",
   "metadata": {
    "hidden": true
   },
   "source": [
    "We can use the model to generate predictions by passing a pair of ints - a user id and a movie id. For instance, this predicts that user #3 would really enjoy movie #6."
   ]
  },
  {
   "cell_type": "code",
   "execution_count": 46,
   "metadata": {
    "hidden": true
   },
   "outputs": [
    {
     "data": {
      "text/plain": [
       "array([[ 4.7756]], dtype=float32)"
      ]
     },
     "execution_count": 46,
     "metadata": {},
     "output_type": "execute_result"
    }
   ],
   "source": [
    "model.predict([np.array([3]), np.array([6])])"
   ]
  },
  {
   "cell_type": "markdown",
   "metadata": {
    "heading_collapsed": true
   },
   "source": [
    "## Analyze results"
   ]
  },
  {
   "cell_type": "markdown",
   "metadata": {
    "hidden": true
   },
   "source": [
    "To make the analysis of the factors more interesting, we'll restrict it to the top 2000 most popular movies."
   ]
  },
  {
   "cell_type": "code",
   "execution_count": 47,
   "metadata": {
    "hidden": true
   },
   "outputs": [],
   "source": [
    "g=ratings.groupby('movieId')['rating'].count()\n",
    "topMovies=g.sort_values(ascending=False)[:2000]\n",
    "topMovies = np.array(topMovies.index)"
   ]
  },
  {
   "cell_type": "markdown",
   "metadata": {
    "hidden": true
   },
   "source": [
    "First, we'll look at the movie bias term. We create a 'model' - which in keras is simply a way of associating one or more inputs with one more more outputs, using the functional API. Here, our input is the movie id (a single id), and the output is the movie bias (a single float)."
   ]
  },
  {
   "cell_type": "code",
   "execution_count": 48,
   "metadata": {},
   "outputs": [
    {
     "name": "stdout",
     "output_type": "stream",
     "text": [
      "<class 'tensorflow.python.framework.ops.Tensor'>\n",
      "<class 'tensorflow.python.framework.ops.Tensor'>\n",
      "<type 'numpy.ndarray'> (2000,)\n"
     ]
    }
   ],
   "source": [
    "print (type(movie_in))\n",
    "print (type(mb))\n",
    "print (type(topMovies), topMovies.shape)"
   ]
  },
  {
   "cell_type": "code",
   "execution_count": 49,
   "metadata": {
    "hidden": true
   },
   "outputs": [],
   "source": [
    "get_movie_bias = Model(movie_in, mb)\n",
    "#does a lookup in the movie bias table\n",
    "#keras.models.Model\n",
    "movie_bias = get_movie_bias.predict(topMovies)\n",
    "movie_ratings = [(b[0], movie_names[movies[i]]) for i,b in zip(topMovies,movie_bias)]"
   ]
  },
  {
   "cell_type": "markdown",
   "metadata": {
    "hidden": true
   },
   "source": [
    "Now we can look at the top and bottom rated movies. These ratings are corrected for different levels of reviewer sentiment, as well as different types of movies that different reviewers watch."
   ]
  },
  {
   "cell_type": "code",
   "execution_count": 50,
   "metadata": {
    "hidden": true
   },
   "outputs": [
    {
     "data": {
      "text/plain": [
       "[(-1.2702248, u'Battlefield Earth (2000)'),\n",
       " (-1.1387031, u'Police Academy 6: City Under Siege (1989)'),\n",
       " (-0.97421765, u'Super Mario Bros. (1993)'),\n",
       " (-0.95036471, u'Jaws 3-D (1983)'),\n",
       " (-0.93478054, u'Mighty Morphin Power Rangers: The Movie (1995)'),\n",
       " (-0.91206694, u'Howard the Duck (1986)'),\n",
       " (-0.85384089, u'Blade: Trinity (2004)'),\n",
       " (-0.83160985, u'Bio-Dome (1996)'),\n",
       " (-0.81913114, u'Police Academy 4: Citizens on Patrol (1987)'),\n",
       " (-0.74457854, u'Speed 2: Cruise Control (1997)'),\n",
       " (-0.73113656, u'Police Academy 5: Assignment: Miami Beach (1988)'),\n",
       " (-0.65679651, u'House on Haunted Hill (1999)'),\n",
       " (-0.61949652, u'I Still Know What You Did Last Summer (1998)'),\n",
       " (-0.60725164, u'Spice World (1997)'),\n",
       " (-0.5554738, u'Children of the Corn (1984)')]"
      ]
     },
     "execution_count": 50,
     "metadata": {},
     "output_type": "execute_result"
    }
   ],
   "source": [
    "sorted(movie_ratings, key=itemgetter(0))[:15]"
   ]
  },
  {
   "cell_type": "code",
   "execution_count": 51,
   "metadata": {
    "hidden": true
   },
   "outputs": [
    {
     "data": {
      "text/plain": [
       "[(2.0213404, u'Night at the Opera, A (1935)'),\n",
       " (1.9146923, u'Inherit the Wind (1960)'),\n",
       " (1.8878522, u'Happiness (1998)'),\n",
       " (1.8786311, u'Mister Roberts (1955)'),\n",
       " (1.8622547, u'It Happened One Night (1934)'),\n",
       " (1.857764, u'Tom Jones (1963)'),\n",
       " (1.8463682, u'American Movie (1999)'),\n",
       " (1.8316568, u'All About Eve (1950)'),\n",
       " (1.8293188, u'Ran (1985)'),\n",
       " (1.8285356, u'Treasure of the Sierra Madre, The (1948)'),\n",
       " (1.8244284, u'Capturing the Friedmans (2003)'),\n",
       " (1.8210113, u'Modern Times (1936)'),\n",
       " (1.8208256, u'On the Waterfront (1954)'),\n",
       " (1.8130056, u'Shawshank Redemption, The (1994)'),\n",
       " (1.8002242, u'Godfather, The (1972)')]"
      ]
     },
     "execution_count": 51,
     "metadata": {},
     "output_type": "execute_result"
    }
   ],
   "source": [
    "sorted(movie_ratings, key=itemgetter(0), reverse=True)[:15]"
   ]
  },
  {
   "cell_type": "markdown",
   "metadata": {
    "hidden": true
   },
   "source": [
    "We can now do the same thing for the embeddings."
   ]
  },
  {
   "cell_type": "code",
   "execution_count": 52,
   "metadata": {
    "hidden": true
   },
   "outputs": [
    {
     "data": {
      "text/plain": [
       "(2000, 50)"
      ]
     },
     "execution_count": 52,
     "metadata": {},
     "output_type": "execute_result"
    }
   ],
   "source": [
    "get_movie_emb = Model(movie_in, m)\n",
    "movie_emb = np.squeeze(get_movie_emb.predict([topMovies]))\n",
    "movie_emb.shape"
   ]
  },
  {
   "cell_type": "markdown",
   "metadata": {
    "hidden": true
   },
   "source": [
    "Because it's hard to interpret 50 embeddings, we use [PCA](https://plot.ly/ipython-notebooks/principal-component-analysis/) to simplify them down to just 3 vectors. "
   ]
  },
  {
   "cell_type": "code",
   "execution_count": 53,
   "metadata": {
    "hidden": true
   },
   "outputs": [],
   "source": [
    "from sklearn.decomposition import PCA\n",
    "pca = PCA(n_components=3)\n",
    "movie_pca = pca.fit(movie_emb.T).components_"
   ]
  },
  {
   "cell_type": "code",
   "execution_count": 54,
   "metadata": {
    "hidden": true
   },
   "outputs": [],
   "source": [
    "fac0 = movie_pca[0]"
   ]
  },
  {
   "cell_type": "code",
   "execution_count": 55,
   "metadata": {
    "hidden": true
   },
   "outputs": [],
   "source": [
    "movie_comp = [(f, movie_names[movies[i]]) for f,i in zip(fac0, topMovies)]"
   ]
  },
  {
   "cell_type": "markdown",
   "metadata": {
    "hidden": true
   },
   "source": [
    "Here's the 1st component. It seems to be 'critically acclaimed' or 'classic'."
   ]
  },
  {
   "cell_type": "code",
   "execution_count": 56,
   "metadata": {
    "hidden": true
   },
   "outputs": [
    {
     "data": {
      "text/plain": [
       "[(0.11665931, u'Independence Day (a.k.a. ID4) (1996)'),\n",
       " (0.090704143, u'Armageddon (1998)'),\n",
       " (0.076003678, u'Shrek (2001)'),\n",
       " (0.075910605, u'Mission: Impossible II (2000)'),\n",
       " (0.074597523, u'Patriot, The (2000)'),\n",
       " (0.073236741, u'Titanic (1997)'),\n",
       " (0.071595296, u'Stargate (1994)'),\n",
       " (0.068182647, u'Shrek 2 (2004)'),\n",
       " (0.066456169, u'Pearl Harbor (2001)'),\n",
       " (0.062055681, u\"Pirates of the Caribbean: Dead Man's Chest (2006)\")]"
      ]
     },
     "execution_count": 56,
     "metadata": {},
     "output_type": "execute_result"
    }
   ],
   "source": [
    "sorted(movie_comp, key=itemgetter(0), reverse=True)[:10]"
   ]
  },
  {
   "cell_type": "code",
   "execution_count": 57,
   "metadata": {
    "hidden": true
   },
   "outputs": [
    {
     "data": {
      "text/plain": [
       "[(-0.11327758, u'Pulp Fiction (1994)'),\n",
       " (-0.097657353, u'Clockwork Orange, A (1971)'),\n",
       " (-0.09536916, u'Fargo (1996)'),\n",
       " (-0.08695963, u'Apocalypse Now (1979)'),\n",
       " (-0.086897597, u'Royal Tenenbaums, The (2001)'),\n",
       " (-0.082712196, u'Willy Wonka & the Chocolate Factory (1971)'),\n",
       " (-0.082164735, u'Being John Malkovich (1999)'),\n",
       " (-0.077449106, u'Taxi Driver (1976)'),\n",
       " (-0.075989664, u'Blade Runner (1982)'),\n",
       " (-0.074038446, u'2001: A Space Odyssey (1968)')]"
      ]
     },
     "execution_count": 57,
     "metadata": {},
     "output_type": "execute_result"
    }
   ],
   "source": [
    "sorted(movie_comp, key=itemgetter(0))[:10]"
   ]
  },
  {
   "cell_type": "code",
   "execution_count": 58,
   "metadata": {
    "hidden": true
   },
   "outputs": [],
   "source": [
    "fac1 = movie_pca[1]"
   ]
  },
  {
   "cell_type": "code",
   "execution_count": 59,
   "metadata": {
    "hidden": true
   },
   "outputs": [],
   "source": [
    "movie_comp = [(f, movie_names[movies[i]]) for f,i in zip(fac1, topMovies)]"
   ]
  },
  {
   "cell_type": "markdown",
   "metadata": {
    "hidden": true
   },
   "source": [
    "The 2nd is 'hollywood blockbuster'."
   ]
  },
  {
   "cell_type": "code",
   "execution_count": 60,
   "metadata": {
    "hidden": true
   },
   "outputs": [
    {
     "data": {
      "text/plain": [
       "[(0.068766542, u'Charlie and the Chocolate Factory (2005)'),\n",
       " (0.067084566, u'Postman, The (Postino, Il) (1994)'),\n",
       " (0.059216134, u\"Amelie (Fabuleux destin d'Am\\xe9lie Poulain, Le) (2001)\"),\n",
       " (0.055328328, u'About Schmidt (2002)'),\n",
       " (0.053916242, u'Ransom (1996)'),\n",
       " (0.053109448, u'Bend It Like Beckham (2002)'),\n",
       " (0.052312374, u'Slumdog Millionaire (2008)'),\n",
       " (0.051482275, u'Little Miss Sunshine (2006)'),\n",
       " (0.051272888, u'Eraser (1996)'),\n",
       " (0.051103789, u'Some Like It Hot (1959)')]"
      ]
     },
     "execution_count": 60,
     "metadata": {},
     "output_type": "execute_result"
    }
   ],
   "source": [
    "sorted(movie_comp, key=itemgetter(0), reverse=True)[:10]"
   ]
  },
  {
   "cell_type": "code",
   "execution_count": 61,
   "metadata": {
    "hidden": true,
    "scrolled": true
   },
   "outputs": [
    {
     "data": {
      "text/plain": [
       "[(-0.1696801, u'Lord of the Rings: The Fellowship of the Ring, The (2001)'),\n",
       " (-0.15917815, u'Lord of the Rings: The Two Towers, The (2002)'),\n",
       " (-0.14484982, u'Star Wars: Episode IV - A New Hope (1977)'),\n",
       " (-0.13138521, u'Lord of the Rings: The Return of the King, The (2003)'),\n",
       " (-0.11622342, u'Dances with Wolves (1990)'),\n",
       " (-0.11221141, u'Star Wars: Episode VI - Return of the Jedi (1983)'),\n",
       " (-0.10505352, u'Matrix, The (1999)'),\n",
       " (-0.10370874, u'Star Wars: Episode V - The Empire Strikes Back (1980)'),\n",
       " (-0.10238157, u'Gladiator (2000)'),\n",
       " (-0.098412827, u'Die Hard (1988)')]"
      ]
     },
     "execution_count": 61,
     "metadata": {},
     "output_type": "execute_result"
    }
   ],
   "source": [
    "sorted(movie_comp, key=itemgetter(0))[:10]"
   ]
  },
  {
   "cell_type": "code",
   "execution_count": 62,
   "metadata": {
    "hidden": true
   },
   "outputs": [],
   "source": [
    "fac2 = movie_pca[2]"
   ]
  },
  {
   "cell_type": "code",
   "execution_count": 63,
   "metadata": {
    "hidden": true
   },
   "outputs": [],
   "source": [
    "movie_comp = [(f, movie_names[movies[i]]) for f,i in zip(fac2, topMovies)]"
   ]
  },
  {
   "cell_type": "markdown",
   "metadata": {
    "hidden": true
   },
   "source": [
    "The 3rd is 'violent vs happy'."
   ]
  },
  {
   "cell_type": "code",
   "execution_count": 64,
   "metadata": {
    "hidden": true
   },
   "outputs": [
    {
     "data": {
      "text/plain": [
       "[(0.14158884, u'Beauty and the Beast (1991)'),\n",
       " (0.11268232, u\"Schindler's List (1993)\"),\n",
       " (0.10461111, u'Aladdin (1992)'),\n",
       " (0.10095945, u'Babe (1995)'),\n",
       " (0.096201822, u'Lord of the Rings: The Return of the King, The (2003)'),\n",
       " (0.092807785, u'Lion King, The (1994)'),\n",
       " (0.090274438, u'Dances with Wolves (1990)'),\n",
       " (0.089305967, u'Erin Brockovich (2000)'),\n",
       " (0.088772483, u'Chicken Run (2000)'),\n",
       " (0.08390598, u'Star Wars: Episode IV - A New Hope (1977)')]"
      ]
     },
     "execution_count": 64,
     "metadata": {},
     "output_type": "execute_result"
    }
   ],
   "source": [
    "sorted(movie_comp, key=itemgetter(0), reverse=True)[:10]"
   ]
  },
  {
   "cell_type": "code",
   "execution_count": 65,
   "metadata": {
    "hidden": true
   },
   "outputs": [
    {
     "data": {
      "text/plain": [
       "[(-0.094402127, u'Happy Gilmore (1996)'),\n",
       " (-0.089387052, u'Eyes Wide Shut (1999)'),\n",
       " (-0.084477209, u'Natural Born Killers (1994)'),\n",
       " (-0.077264532, u'Back to the Future Part II (1989)'),\n",
       " (-0.076121554, u'American Psycho (2000)'),\n",
       " (-0.073916532, u'Army of Darkness (1993)'),\n",
       " (-0.072094366, u'Clockwork Orange, A (1971)'),\n",
       " (-0.071405448, u'Fear and Loathing in Las Vegas (1998)'),\n",
       " (-0.070300482, u'Outbreak (1995)'),\n",
       " (-0.070167296, u'Zoolander (2001)')]"
      ]
     },
     "execution_count": 65,
     "metadata": {},
     "output_type": "execute_result"
    }
   ],
   "source": [
    "sorted(movie_comp, key=itemgetter(0))[:10]"
   ]
  },
  {
   "cell_type": "markdown",
   "metadata": {
    "hidden": true
   },
   "source": [
    "We can draw a picture to see how various movies appear on the map of these components. This picture shows the 1st and 3rd components."
   ]
  },
  {
   "cell_type": "code",
   "execution_count": 66,
   "metadata": {
    "hidden": true
   },
   "outputs": [],
   "source": [
    "import sys\n",
    "stdout, stderr = sys.stdout, sys.stderr # save notebook stdout and stderr\n",
    "reload(sys)\n",
    "sys.setdefaultencoding('utf-8')\n",
    "sys.stdout, sys.stderr = stdout, stderr # restore notebook stdout and stderr\n"
   ]
  },
  {
   "cell_type": "code",
   "execution_count": 67,
   "metadata": {},
   "outputs": [
    {
     "name": "stdout",
     "output_type": "stream",
     "text": [
      "<type 'numpy.ndarray'> (50,)\n",
      "<type 'numpy.ndarray'> (50,)\n",
      "<type 'numpy.ndarray'> (2000,)\n"
     ]
    }
   ],
   "source": [
    "start=50; end=100\n",
    "X = fac0[start:end]\n",
    "Y = fac2[start:end]\n",
    "print (type(X), X.shape)\n",
    "print (type(Y), Y.shape)\n",
    "\n",
    "print (type(topMovies), topMovies.shape)"
   ]
  },
  {
   "cell_type": "code",
   "execution_count": 68,
   "metadata": {
    "hidden": true
   },
   "outputs": [
    {
     "data": {
      "image/png": "[encoded data removed]",
      "text/plain": [
       "<matplotlib.figure.Figure at 0x7f92ea937f50>"
      ]
     },
     "metadata": {},
     "output_type": "display_data"
    }
   ],
   "source": [
    "plt.figure(figsize=(15,15))\n",
    "plt.scatter(X, Y)\n",
    "for i, x, y in zip(topMovies[start:end], X, Y):\n",
    "    plt.text(x,y,movie_names[movies[i]], color=np.random.rand(3)*0.7, fontsize=14)\n",
    "    #print (x,y,movies[i], movie_names[movies[i]])\n",
    "    #plt.text(x,y,movie_names[movies[i]], color='red', fontsize=14)\n",
    "plt.show()"
   ]
  },
  {
   "cell_type": "markdown",
   "metadata": {},
   "source": [
    "##  Neural net"
   ]
  },
  {
   "cell_type": "markdown",
   "metadata": {},
   "source": [
    "Rather than creating a special purpose architecture (like our dot-product with bias earlier), it's often both easier and more accurate to use a standard neural network. Let's try it! Here, we simply concatenate the user and movie embeddings into a single vector, which we feed into the neural net."
   ]
  },
  {
   "cell_type": "code",
   "execution_count": 75,
   "metadata": {},
   "outputs": [
    {
     "name": "stdout",
     "output_type": "stream",
     "text": [
      "user_in: <class 'tensorflow.python.framework.ops.Tensor'>\n",
      "movie_in: <class 'tensorflow.python.framework.ops.Tensor'>\n",
      "u: <class 'tensorflow.python.framework.ops.Tensor'>\n",
      "m: <class 'tensorflow.python.framework.ops.Tensor'>\n"
     ]
    }
   ],
   "source": [
    "user_in, u = embedding_input('user_in', n_users, n_factors, 1e-4)\n",
    "movie_in, m = embedding_input('movie_in', n_movies, n_factors, 1e-4)\n",
    "print (\"user_in:\", type(user_in))\n",
    "print (\"movie_in:\", type(movie_in))\n",
    "print (\"u:\", type(u))\n",
    "print (\"m:\", type(m))"
   ]
  },
  {
   "cell_type": "code",
   "execution_count": 80,
   "metadata": {},
   "outputs": [
    {
     "name": "stdout",
     "output_type": "stream",
     "text": [
      "x: <class 'tensorflow.python.framework.ops.Tensor'>\n",
      "nn: <class 'keras.engine.training.Model'> <type 'list'>\n",
      "type(nn.layers[0]: <class 'keras.engine.topology.InputLayer'>\n",
      "____________________________________________________________________________________________________\n",
      "Layer (type)                     Output Shape          Param #     Connected to                     \n",
      "====================================================================================================\n",
      "user_in (InputLayer)             (None, 1)             0                                            \n",
      "____________________________________________________________________________________________________\n",
      "movie_in (InputLayer)            (None, 1)             0                                            \n",
      "____________________________________________________________________________________________________\n",
      "embedding_11 (Embedding)         (None, 1, 50)         33550       user_in[0][0]                    \n",
      "____________________________________________________________________________________________________\n",
      "embedding_12 (Embedding)         (None, 1, 50)         453300      movie_in[0][0]                   \n",
      "____________________________________________________________________________________________________\n",
      "merge_12 (Merge)                 (None, 1, 100)        0           embedding_11[0][0]               \n",
      "                                                                   embedding_12[0][0]               \n",
      "____________________________________________________________________________________________________\n",
      "flatten_12 (Flatten)             (None, 100)           0           merge_12[0][0]                   \n",
      "____________________________________________________________________________________________________\n",
      "dropout_15 (Dropout)             (None, 100)           0           flatten_12[0][0]                 \n",
      "____________________________________________________________________________________________________\n",
      "dense_15 (Dense)                 (None, 70)            7070        dropout_15[0][0]                 \n",
      "____________________________________________________________________________________________________\n",
      "dropout_16 (Dropout)             (None, 70)            0           dense_15[0][0]                   \n",
      "____________________________________________________________________________________________________\n",
      "dense_16 (Dense)                 (None, 1)             71          dropout_16[0][0]                 \n",
      "====================================================================================================\n",
      "Total params: 493,991\n",
      "Trainable params: 493,991\n",
      "Non-trainable params: 0\n",
      "____________________________________________________________________________________________________\n",
      "None\n"
     ]
    }
   ],
   "source": [
    "x = merge([u, m], mode='concat')\n",
    "print (\"x:\", type(x))\n",
    "x = Flatten()(x)\n",
    "x = Dropout(0.3)(x)\n",
    "x = Dense(70, activation='relu')(x)\n",
    "x = Dropout(0.75)(x)\n",
    "x = Dense(1)(x)\n",
    "nn = Model([user_in, movie_in], x)\n",
    "print (\"nn:\", type(nn), type(nn.layers))\n",
    "print (\"type(nn.layers[0]:\", type(nn.layers[0]))\n",
    "print (nn.summary())\n",
    "nn.compile(Adam(0.001), loss='mse')"
   ]
  },
  {
   "cell_type": "code",
   "execution_count": 82,
   "metadata": {},
   "outputs": [
    {
     "name": "stdout",
     "output_type": "stream",
     "text": [
      "Train on 80142 samples, validate on 19862 samples\n",
      "Epoch 1/40\n",
      "80142/80142 [==============================] - 6s - loss: 0.7881 - val_loss: 0.8271\n",
      "Epoch 2/40\n",
      "80142/80142 [==============================] - 6s - loss: 0.7884 - val_loss: 0.8241\n",
      "Epoch 3/40\n",
      "80142/80142 [==============================] - 6s - loss: 0.7906 - val_loss: 0.8242\n",
      "Epoch 4/40\n",
      "80142/80142 [==============================] - 6s - loss: 0.7865 - val_loss: 0.8287\n",
      "Epoch 5/40\n",
      "80142/80142 [==============================] - 6s - loss: 0.7875 - val_loss: 0.8281\n",
      "Epoch 6/40\n",
      "80142/80142 [==============================] - 6s - loss: 0.7861 - val_loss: 0.8254\n",
      "Epoch 7/40\n",
      "80142/80142 [==============================] - 6s - loss: 0.7843 - val_loss: 0.8262\n",
      "Epoch 8/40\n",
      "80142/80142 [==============================] - 6s - loss: 0.7854 - val_loss: 0.8261\n",
      "Epoch 9/40\n",
      "80142/80142 [==============================] - 6s - loss: 0.7847 - val_loss: 0.8300\n",
      "Epoch 10/40\n",
      "80142/80142 [==============================] - 6s - loss: 0.7837 - val_loss: 0.8255\n",
      "Epoch 11/40\n",
      "80142/80142 [==============================] - 6s - loss: 0.7835 - val_loss: 0.8247\n",
      "Epoch 12/40\n",
      "80142/80142 [==============================] - 6s - loss: 0.7827 - val_loss: 0.8296\n",
      "Epoch 13/40\n",
      "80142/80142 [==============================] - 6s - loss: 0.7805 - val_loss: 0.8300\n",
      "Epoch 14/40\n",
      "80142/80142 [==============================] - 6s - loss: 0.7851 - val_loss: 0.8273\n",
      "Epoch 15/40\n",
      "80142/80142 [==============================] - 6s - loss: 0.7855 - val_loss: 0.8253\n",
      "Epoch 16/40\n",
      "80142/80142 [==============================] - 6s - loss: 0.7825 - val_loss: 0.8263\n",
      "Epoch 17/40\n",
      "80142/80142 [==============================] - 6s - loss: 0.7846 - val_loss: 0.8239\n",
      "Epoch 18/40\n",
      "80142/80142 [==============================] - 6s - loss: 0.7793 - val_loss: 0.8239\n",
      "Epoch 19/40\n",
      "80142/80142 [==============================] - 6s - loss: 0.7808 - val_loss: 0.8267\n",
      "Epoch 20/40\n",
      "80142/80142 [==============================] - 6s - loss: 0.7816 - val_loss: 0.8271\n",
      "Epoch 21/40\n",
      "80142/80142 [==============================] - 6s - loss: 0.7819 - val_loss: 0.8267\n",
      "Epoch 22/40\n",
      "80142/80142 [==============================] - 6s - loss: 0.7801 - val_loss: 0.8249\n",
      "Epoch 23/40\n",
      "80142/80142 [==============================] - 6s - loss: 0.7811 - val_loss: 0.8252\n",
      "Epoch 24/40\n",
      "80142/80142 [==============================] - 6s - loss: 0.7820 - val_loss: 0.8254\n",
      "Epoch 25/40\n",
      "80142/80142 [==============================] - 6s - loss: 0.7839 - val_loss: 0.8261\n",
      "Epoch 26/40\n",
      "80142/80142 [==============================] - 6s - loss: 0.7821 - val_loss: 0.8253\n",
      "Epoch 27/40\n",
      "80142/80142 [==============================] - 6s - loss: 0.7799 - val_loss: 0.8235\n",
      "Epoch 28/40\n",
      "80142/80142 [==============================] - 6s - loss: 0.7765 - val_loss: 0.8246\n",
      "Epoch 29/40\n",
      "80142/80142 [==============================] - 6s - loss: 0.7819 - val_loss: 0.8276\n",
      "Epoch 30/40\n",
      "80142/80142 [==============================] - 6s - loss: 0.7811 - val_loss: 0.8274\n",
      "Epoch 31/40\n",
      "80142/80142 [==============================] - 6s - loss: 0.7803 - val_loss: 0.8262\n",
      "Epoch 32/40\n",
      "80142/80142 [==============================] - 6s - loss: 0.7812 - val_loss: 0.8301\n",
      "Epoch 33/40\n",
      "80142/80142 [==============================] - 6s - loss: 0.7807 - val_loss: 0.8294\n",
      "Epoch 34/40\n",
      "80142/80142 [==============================] - 6s - loss: 0.7820 - val_loss: 0.8261\n",
      "Epoch 35/40\n",
      "80142/80142 [==============================] - 6s - loss: 0.7805 - val_loss: 0.8231\n",
      "Epoch 36/40\n",
      "80142/80142 [==============================] - 6s - loss: 0.7803 - val_loss: 0.8223\n",
      "Epoch 37/40\n",
      "80142/80142 [==============================] - 6s - loss: 0.7796 - val_loss: 0.8283\n",
      "Epoch 38/40\n",
      "80142/80142 [==============================] - 6s - loss: 0.7814 - val_loss: 0.8287\n",
      "Epoch 39/40\n",
      "80142/80142 [==============================] - 6s - loss: 0.7815 - val_loss: 0.8245\n",
      "Epoch 40/40\n",
      "80142/80142 [==============================] - 6s - loss: 0.7792 - val_loss: 0.8311\n"
     ]
    },
    {
     "data": {
      "text/plain": [
       "<keras.callbacks.History at 0x7f92e00e3d90>"
      ]
     },
     "execution_count": 82,
     "metadata": {},
     "output_type": "execute_result"
    }
   ],
   "source": [
    "nn.fit([trn.userId, trn.movieId], trn.rating, batch_size=64, nb_epoch=40, \n",
    "          validation_data=([val.userId, val.movieId], val.rating))\n",
    "\n",
    "#lesson 5 video @ 15\"15' returned val_loss 0.7943"
   ]
  },
  {
   "cell_type": "markdown",
   "metadata": {},
   "source": [
    "This improves on our already impressive accuracy even further!\n",
    "\n",
    "Epoch 8/8\n",
    "79907/79907 [==============================] - 13s - loss: 0.8087 - val_loss: 0.8274\n",
    "\n",
    "after 8 epochs : loss: 0.8078 - val_loss: 0.8307\n",
    "running again w 2- epochs : "
   ]
  }
 ],
 "metadata": {
  "kernelspec": {
   "display_name": "Python 2",
   "language": "python",
   "name": "python2"
  },
  "language_info": {
   "codemirror_mode": {
    "name": "ipython",
    "version": 2
   },
   "file_extension": ".py",
   "mimetype": "text/x-python",
   "name": "python",
   "nbconvert_exporter": "python",
   "pygments_lexer": "ipython2",
   "version": "2.7.12"
  }
 },
 "nbformat": 4,
 "nbformat_minor": 1
}
