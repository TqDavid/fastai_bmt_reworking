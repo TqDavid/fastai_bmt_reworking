{
 "cells": [
  {
   "cell_type": "code",
   "execution_count": null,
   "metadata": {},
   "outputs": [],
   "source": []
  },
  {
   "cell_type": "code",
   "execution_count": 1,
   "metadata": {},
   "outputs": [
    {
     "name": "stderr",
     "output_type": "stream",
     "text": [
      "Using TensorFlow backend.\n"
     ]
    }
   ],
   "source": [
    "import urllib\n",
    "# MLP for Pima Indians Dataset with 10-fold cross validation\n",
    "from keras.models import Sequential\n",
    "from keras.layers import Dense\n",
    "from sklearn.model_selection import StratifiedKFold\n",
    "import numpy\n"
   ]
  },
  {
   "cell_type": "code",
   "execution_count": 2,
   "metadata": {},
   "outputs": [],
   "source": [
    "HOMEPATH = \"/home/ubuntu/fastai/\"\n",
    "MISCDATAPATH = HOMEPATH + 'miscData/'\n",
    "fileName = \"pima-indians-diabetes.csv\""
   ]
  },
  {
   "cell_type": "code",
   "execution_count": null,
   "metadata": {},
   "outputs": [],
   "source": [
    "#https://archive.ics.uci.edu/ml/datasets/Pima+Indians+Diabetes\n",
    "#https://archive.ics.uci.edu/ml/machine-learning-databases/pima-indians-diabetes/pima-indians-diabetes.data"
   ]
  },
  {
   "cell_type": "code",
   "execution_count": null,
   "metadata": {},
   "outputs": [],
   "source": [
    "testfile = urllib.URLopener()\n",
    "dataSource = 'https://archive.ics.uci.edu/ml/machine-learning-databases/pima-indians-diabetes/pima-indians-diabetes.data'\n",
    "testfile.retrieve(dataSource, MISCDATAPATH+fileName)"
   ]
  },
  {
   "cell_type": "code",
   "execution_count": 3,
   "metadata": {},
   "outputs": [
    {
     "name": "stdout",
     "output_type": "stream",
     "text": [
      "(<type 'numpy.ndarray'>, (768, 8))\n",
      "(<type 'numpy.ndarray'>, (768,))\n"
     ]
    }
   ],
   "source": [
    "# fix random seed for reproducibility\n",
    "seed = 7\n",
    "numpy.random.seed(seed)\n",
    "# load pima indians dataset\n",
    "dataset = numpy.loadtxt(MISCDATAPATH+fileName, delimiter=\",\")\n",
    "# split into input (X) and output (Y) variables\n",
    "X = dataset[:,0:8]\n",
    "Y = dataset[:,8]\n",
    "print (type(X), X.shape)\n",
    "print (type(Y), Y.shape)"
   ]
  },
  {
   "cell_type": "code",
   "execution_count": null,
   "metadata": {},
   "outputs": [],
   "source": []
  },
  {
   "cell_type": "code",
   "execution_count": null,
   "metadata": {},
   "outputs": [],
   "source": []
  },
  {
   "cell_type": "code",
   "execution_count": null,
   "metadata": {},
   "outputs": [],
   "source": []
  },
  {
   "cell_type": "code",
   "execution_count": 4,
   "metadata": {},
   "outputs": [],
   "source": [
    "def showLayersInfo(layers):\n",
    "    i=0\n",
    "    for layer in layers:\n",
    "        print (i, type(layer), layer.output_shape[1:])\n",
    "        i += 1\n",
    "    return"
   ]
  },
  {
   "cell_type": "code",
   "execution_count": 5,
   "metadata": {},
   "outputs": [
    {
     "name": "stdout",
     "output_type": "stream",
     "text": [
      "<class 'keras.models.Sequential'>\n",
      "(0, <class 'keras.layers.core.Dense'>, (12,))\n",
      "(1, <class 'keras.layers.core.Dense'>, (8,))\n",
      "(2, <class 'keras.layers.core.Dense'>, (1,))\n",
      "('fitting model #', 0)\n",
      "('evaluating model #', 0)\n",
      "acc: 79.22%\n",
      "<class 'keras.models.Sequential'>\n",
      "(0, <class 'keras.layers.core.Dense'>, (12,))\n",
      "(1, <class 'keras.layers.core.Dense'>, (8,))\n",
      "(2, <class 'keras.layers.core.Dense'>, (1,))\n",
      "('fitting model #', 1)\n",
      "('evaluating model #', 1)\n",
      "acc: 74.03%\n",
      "<class 'keras.models.Sequential'>\n",
      "(0, <class 'keras.layers.core.Dense'>, (12,))\n",
      "(1, <class 'keras.layers.core.Dense'>, (8,))\n",
      "(2, <class 'keras.layers.core.Dense'>, (1,))\n",
      "('fitting model #', 2)\n",
      "('evaluating model #', 2)\n",
      "acc: 67.53%\n",
      "<class 'keras.models.Sequential'>\n",
      "(0, <class 'keras.layers.core.Dense'>, (12,))\n",
      "(1, <class 'keras.layers.core.Dense'>, (8,))\n",
      "(2, <class 'keras.layers.core.Dense'>, (1,))\n",
      "('fitting model #', 3)\n",
      "('evaluating model #', 3)\n",
      "acc: 84.42%\n",
      "<class 'keras.models.Sequential'>\n",
      "(0, <class 'keras.layers.core.Dense'>, (12,))\n",
      "(1, <class 'keras.layers.core.Dense'>, (8,))\n",
      "(2, <class 'keras.layers.core.Dense'>, (1,))\n",
      "('fitting model #', 4)\n",
      "('evaluating model #', 4)\n",
      "acc: 80.52%\n",
      "<class 'keras.models.Sequential'>\n",
      "(0, <class 'keras.layers.core.Dense'>, (12,))\n",
      "(1, <class 'keras.layers.core.Dense'>, (8,))\n",
      "(2, <class 'keras.layers.core.Dense'>, (1,))\n",
      "('fitting model #', 5)\n",
      "('evaluating model #', 5)\n",
      "acc: 77.92%\n",
      "<class 'keras.models.Sequential'>\n",
      "(0, <class 'keras.layers.core.Dense'>, (12,))\n",
      "(1, <class 'keras.layers.core.Dense'>, (8,))\n",
      "(2, <class 'keras.layers.core.Dense'>, (1,))\n",
      "('fitting model #', 6)\n",
      "('evaluating model #', 6)\n",
      "acc: 67.53%\n",
      "<class 'keras.models.Sequential'>\n",
      "(0, <class 'keras.layers.core.Dense'>, (12,))\n",
      "(1, <class 'keras.layers.core.Dense'>, (8,))\n",
      "(2, <class 'keras.layers.core.Dense'>, (1,))\n",
      "('fitting model #', 7)\n",
      "('evaluating model #', 7)\n",
      "acc: 64.94%\n",
      "<class 'keras.models.Sequential'>\n",
      "(0, <class 'keras.layers.core.Dense'>, (12,))\n",
      "(1, <class 'keras.layers.core.Dense'>, (8,))\n",
      "(2, <class 'keras.layers.core.Dense'>, (1,))\n",
      "('fitting model #', 8)\n",
      "('evaluating model #', 8)\n",
      "acc: 69.74%\n",
      "<class 'keras.models.Sequential'>\n",
      "(0, <class 'keras.layers.core.Dense'>, (12,))\n",
      "(1, <class 'keras.layers.core.Dense'>, (8,))\n",
      "(2, <class 'keras.layers.core.Dense'>, (1,))\n",
      "('fitting model #', 9)\n",
      "('evaluating model #', 9)\n",
      "acc: 65.79%\n",
      "73.16% (+/- 6.62%)\n"
     ]
    }
   ],
   "source": [
    "\n",
    "# define 10-fold cross validation test harness\n",
    "kfold = StratifiedKFold(n_splits=10, shuffle=True, random_state=seed)\n",
    "cvscores = []\n",
    "for train, test in kfold.split(X, Y):\n",
    "  # create model\n",
    "\tmodel = Sequential()\n",
    "\tprint (type(model))\n",
    "    #NB: input_dim=8 must match the No of columns in X[train]\n",
    "\tmodel.add(Dense(12, input_dim=8, activation='relu'))\n",
    "\tmodel.add(Dense(8, activation='relu'))\n",
    "\tmodel.add(Dense(1, activation='sigmoid'))\n",
    "\t# Compile model\n",
    "\tmodel.compile(loss='binary_crossentropy', optimizer='adam', metrics=['accuracy'])\n",
    "\t#print(model.layers)\n",
    "\tshowLayersInfo(model.layers)\n",
    "\t# Fit the model\n",
    "\tprint(\"fitting model #\", len(cvscores))\n",
    "\tmodel.fit(X[train], Y[train], nb_epoch=150, batch_size=10, verbose=0)\n",
    "\t# evaluate the model\n",
    "\tprint(\"evaluating model #\", len(cvscores))\n",
    "\tscores = model.evaluate(X[test], Y[test], verbose=0)\n",
    "\tprint(\"%s: %.2f%%\" % (model.metrics_names[1], scores[1]*100))\n",
    "\tcvscores.append(scores[1] * 100)\n",
    "print(\"%.2f%% (+/- %.2f%%)\" % (numpy.mean(cvscores), numpy.std(cvscores)))"
   ]
  },
  {
   "cell_type": "code",
   "execution_count": 7,
   "metadata": {},
   "outputs": [
    {
     "name": "stdout",
     "output_type": "stream",
     "text": [
      "<class 'sklearn.model_selection._split.StratifiedKFold'>\n",
      "<class 'keras.models.Sequential'>\n"
     ]
    }
   ],
   "source": [
    "print (type(kfold))\n",
    "print (type(model))"
   ]
  },
  {
   "cell_type": "code",
   "execution_count": 12,
   "metadata": {},
   "outputs": [
    {
     "data": {
      "text/plain": [
       "(numpy.ndarray, (768, 8), (8,))"
      ]
     },
     "execution_count": 12,
     "metadata": {},
     "output_type": "execute_result"
    }
   ],
   "source": [
    "#https://keras.io/models/sequential/\n",
    "#predict(self, x, batch_size=32, verbose=0)\n",
    "#model.predict(X[0,:])\n",
    "type(X), X.shape, X[0].shape"
   ]
  },
  {
   "cell_type": "code",
   "execution_count": 13,
   "metadata": {},
   "outputs": [
    {
     "data": {
      "text/plain": [
       "array([   6.   ,  148.   ,   72.   ,   35.   ,    0.   ,   33.6  ,\n",
       "          0.627,   50.   ])"
      ]
     },
     "execution_count": 13,
     "metadata": {},
     "output_type": "execute_result"
    }
   ],
   "source": [
    "X[0]"
   ]
  },
  {
   "cell_type": "code",
   "execution_count": 14,
   "metadata": {},
   "outputs": [
    {
     "data": {
      "text/plain": [
       "array([   6.   ,  148.   ,   72.   ,   35.   ,    0.   ,   33.6  ,\n",
       "          0.627,   50.   ])"
      ]
     },
     "execution_count": 14,
     "metadata": {},
     "output_type": "execute_result"
    }
   ],
   "source": [
    "X[0, :]"
   ]
  },
  {
   "cell_type": "code",
   "execution_count": 15,
   "metadata": {},
   "outputs": [
    {
     "ename": "ValueError",
     "evalue": "Error when checking : expected dense_input_10 to have shape (None, 8) but got array with shape (8, 1)",
     "output_type": "error",
     "traceback": [
      "\u001b[0;31m---------------------------------------------------------------------------\u001b[0m",
      "\u001b[0;31mValueError\u001b[0m                                Traceback (most recent call last)",
      "\u001b[0;32m<ipython-input-15-69a1a161ff06>\u001b[0m in \u001b[0;36m<module>\u001b[0;34m()\u001b[0m\n\u001b[0;32m----> 1\u001b[0;31m \u001b[0mmodel\u001b[0m\u001b[0;34m.\u001b[0m\u001b[0mpredict\u001b[0m\u001b[0;34m(\u001b[0m\u001b[0mX\u001b[0m\u001b[0;34m[\u001b[0m\u001b[0;36m0\u001b[0m\u001b[0;34m,\u001b[0m\u001b[0;34m:\u001b[0m\u001b[0;34m]\u001b[0m\u001b[0;34m)\u001b[0m\u001b[0;34m\u001b[0m\u001b[0m\n\u001b[0m",
      "\u001b[0;32m/usr/local/lib/python2.7/dist-packages/keras/models.pyc\u001b[0m in \u001b[0;36mpredict\u001b[0;34m(self, x, batch_size, verbose)\u001b[0m\n\u001b[1;32m    722\u001b[0m         \u001b[0;32mif\u001b[0m \u001b[0mself\u001b[0m\u001b[0;34m.\u001b[0m\u001b[0mmodel\u001b[0m \u001b[0;32mis\u001b[0m \u001b[0mNone\u001b[0m\u001b[0;34m:\u001b[0m\u001b[0;34m\u001b[0m\u001b[0m\n\u001b[1;32m    723\u001b[0m             \u001b[0mself\u001b[0m\u001b[0;34m.\u001b[0m\u001b[0mbuild\u001b[0m\u001b[0;34m(\u001b[0m\u001b[0;34m)\u001b[0m\u001b[0;34m\u001b[0m\u001b[0m\n\u001b[0;32m--> 724\u001b[0;31m         \u001b[0;32mreturn\u001b[0m \u001b[0mself\u001b[0m\u001b[0;34m.\u001b[0m\u001b[0mmodel\u001b[0m\u001b[0;34m.\u001b[0m\u001b[0mpredict\u001b[0m\u001b[0;34m(\u001b[0m\u001b[0mx\u001b[0m\u001b[0;34m,\u001b[0m \u001b[0mbatch_size\u001b[0m\u001b[0;34m=\u001b[0m\u001b[0mbatch_size\u001b[0m\u001b[0;34m,\u001b[0m \u001b[0mverbose\u001b[0m\u001b[0;34m=\u001b[0m\u001b[0mverbose\u001b[0m\u001b[0;34m)\u001b[0m\u001b[0;34m\u001b[0m\u001b[0m\n\u001b[0m\u001b[1;32m    725\u001b[0m \u001b[0;34m\u001b[0m\u001b[0m\n\u001b[1;32m    726\u001b[0m     \u001b[0;32mdef\u001b[0m \u001b[0mpredict_on_batch\u001b[0m\u001b[0;34m(\u001b[0m\u001b[0mself\u001b[0m\u001b[0;34m,\u001b[0m \u001b[0mx\u001b[0m\u001b[0;34m)\u001b[0m\u001b[0;34m:\u001b[0m\u001b[0;34m\u001b[0m\u001b[0m\n",
      "\u001b[0;32m/usr/local/lib/python2.7/dist-packages/keras/engine/training.pyc\u001b[0m in \u001b[0;36mpredict\u001b[0;34m(self, x, batch_size, verbose)\u001b[0m\n\u001b[1;32m   1252\u001b[0m         x = standardize_input_data(x, self.input_names,\n\u001b[1;32m   1253\u001b[0m                                    \u001b[0mself\u001b[0m\u001b[0;34m.\u001b[0m\u001b[0minternal_input_shapes\u001b[0m\u001b[0;34m,\u001b[0m\u001b[0;34m\u001b[0m\u001b[0m\n\u001b[0;32m-> 1254\u001b[0;31m                                    check_batch_axis=False)\n\u001b[0m\u001b[1;32m   1255\u001b[0m         \u001b[0;32mif\u001b[0m \u001b[0mself\u001b[0m\u001b[0;34m.\u001b[0m\u001b[0mstateful\u001b[0m\u001b[0;34m:\u001b[0m\u001b[0;34m\u001b[0m\u001b[0m\n\u001b[1;32m   1256\u001b[0m             \u001b[0;32mif\u001b[0m \u001b[0mx\u001b[0m\u001b[0;34m[\u001b[0m\u001b[0;36m0\u001b[0m\u001b[0;34m]\u001b[0m\u001b[0;34m.\u001b[0m\u001b[0mshape\u001b[0m\u001b[0;34m[\u001b[0m\u001b[0;36m0\u001b[0m\u001b[0;34m]\u001b[0m \u001b[0;34m>\u001b[0m \u001b[0mbatch_size\u001b[0m \u001b[0;32mand\u001b[0m \u001b[0mx\u001b[0m\u001b[0;34m[\u001b[0m\u001b[0;36m0\u001b[0m\u001b[0;34m]\u001b[0m\u001b[0;34m.\u001b[0m\u001b[0mshape\u001b[0m\u001b[0;34m[\u001b[0m\u001b[0;36m0\u001b[0m\u001b[0;34m]\u001b[0m \u001b[0;34m%\u001b[0m \u001b[0mbatch_size\u001b[0m \u001b[0;34m!=\u001b[0m \u001b[0;36m0\u001b[0m\u001b[0;34m:\u001b[0m\u001b[0;34m\u001b[0m\u001b[0m\n",
      "\u001b[0;32m/usr/local/lib/python2.7/dist-packages/keras/engine/training.pyc\u001b[0m in \u001b[0;36mstandardize_input_data\u001b[0;34m(data, names, shapes, check_batch_axis, exception_prefix)\u001b[0m\n\u001b[1;32m    122\u001b[0m                             \u001b[0;34m' to have shape '\u001b[0m \u001b[0;34m+\u001b[0m \u001b[0mstr\u001b[0m\u001b[0;34m(\u001b[0m\u001b[0mshapes\u001b[0m\u001b[0;34m[\u001b[0m\u001b[0mi\u001b[0m\u001b[0;34m]\u001b[0m\u001b[0;34m)\u001b[0m \u001b[0;34m+\u001b[0m\u001b[0;34m\u001b[0m\u001b[0m\n\u001b[1;32m    123\u001b[0m                             \u001b[0;34m' but got array with shape '\u001b[0m \u001b[0;34m+\u001b[0m\u001b[0;34m\u001b[0m\u001b[0m\n\u001b[0;32m--> 124\u001b[0;31m                             str(array.shape))\n\u001b[0m\u001b[1;32m    125\u001b[0m     \u001b[0;32mreturn\u001b[0m \u001b[0marrays\u001b[0m\u001b[0;34m\u001b[0m\u001b[0m\n\u001b[1;32m    126\u001b[0m \u001b[0;34m\u001b[0m\u001b[0m\n",
      "\u001b[0;31mValueError\u001b[0m: Error when checking : expected dense_input_10 to have shape (None, 8) but got array with shape (8, 1)"
     ]
    }
   ],
   "source": [
    "model.predict(X[0,:])"
   ]
  },
  {
   "cell_type": "code",
   "execution_count": null,
   "metadata": {},
   "outputs": [],
   "source": []
  }
 ],
 "metadata": {
  "kernelspec": {
   "display_name": "Python 2",
   "language": "python",
   "name": "python2"
  },
  "language_info": {
   "codemirror_mode": {
    "name": "ipython",
    "version": 2
   },
   "file_extension": ".py",
   "mimetype": "text/x-python",
   "name": "python",
   "nbconvert_exporter": "python",
   "pygments_lexer": "ipython2",
   "version": "2.7.12"
  }
 },
 "nbformat": 4,
 "nbformat_minor": 2
}
