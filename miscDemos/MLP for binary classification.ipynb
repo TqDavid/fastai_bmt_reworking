{
 "cells": [
  {
   "cell_type": "code",
   "execution_count": 1,
   "metadata": {},
   "outputs": [
    {
     "ename": "SyntaxError",
     "evalue": "invalid syntax (<ipython-input-1-6e707b0f5568>, line 1)",
     "output_type": "error",
     "traceback": [
      "\u001b[0;36m  File \u001b[0;32m\"<ipython-input-1-6e707b0f5568>\"\u001b[0;36m, line \u001b[0;32m1\u001b[0m\n\u001b[0;31m    https://keras.io/getting-started/sequential-model-guide/\u001b[0m\n\u001b[0m         ^\u001b[0m\n\u001b[0;31mSyntaxError\u001b[0m\u001b[0;31m:\u001b[0m invalid syntax\n"
     ]
    }
   ],
   "source": [
    "https://keras.io/getting-started/sequential-model-guide/"
   ]
  },
  {
   "cell_type": "code",
   "execution_count": 1,
   "metadata": {},
   "outputs": [
    {
     "name": "stderr",
     "output_type": "stream",
     "text": [
      "Using TensorFlow backend.\n"
     ]
    }
   ],
   "source": [
    "import numpy as np\n",
    "from keras.models import Sequential\n",
    "from keras.layers import Dense, Dropout"
   ]
  },
  {
   "cell_type": "code",
   "execution_count": 2,
   "metadata": {},
   "outputs": [],
   "source": [
    "# Generate dummy data\n",
    "x_train = np.random.random((1000, 20))\n",
    "y_train = np.random.randint(2, size=(1000, 1))\n",
    "x_test = np.random.random((100, 20))\n",
    "y_test = np.random.randint(2, size=(100, 1))\n"
   ]
  },
  {
   "cell_type": "code",
   "execution_count": 3,
   "metadata": {},
   "outputs": [],
   "source": [
    "model = Sequential()\n",
    "model.add(Dense(64, input_dim=20, activation='relu'))\n",
    "model.add(Dropout(0.5))\n",
    "model.add(Dense(64, activation='relu'))\n",
    "model.add(Dropout(0.5))\n",
    "model.add(Dense(1, activation='sigmoid'))\n"
   ]
  },
  {
   "cell_type": "code",
   "execution_count": 4,
   "metadata": {},
   "outputs": [],
   "source": [
    "model.compile(loss='binary_crossentropy',\n",
    "              optimizer='rmsprop',\n",
    "              metrics=['accuracy'])"
   ]
  },
  {
   "cell_type": "code",
   "execution_count": 5,
   "metadata": {},
   "outputs": [
    {
     "name": "stdout",
     "output_type": "stream",
     "text": [
      "Epoch 1/20\n",
      "1000/1000 [==============================] - 1s 548us/step - loss: 0.7197 - acc: 0.5020\n",
      "Epoch 2/20\n",
      "1000/1000 [==============================] - 0s 32us/step - loss: 0.7176 - acc: 0.4860\n",
      "Epoch 3/20\n",
      "1000/1000 [==============================] - 0s 32us/step - loss: 0.7080 - acc: 0.4840\n",
      "Epoch 4/20\n",
      "1000/1000 [==============================] - 0s 33us/step - loss: 0.7086 - acc: 0.5080\n",
      "Epoch 5/20\n",
      "1000/1000 [==============================] - 0s 32us/step - loss: 0.6947 - acc: 0.5290\n",
      "Epoch 6/20\n",
      "1000/1000 [==============================] - 0s 33us/step - loss: 0.7021 - acc: 0.5010\n",
      "Epoch 7/20\n",
      "1000/1000 [==============================] - 0s 34us/step - loss: 0.6948 - acc: 0.5230\n",
      "Epoch 8/20\n",
      "1000/1000 [==============================] - 0s 33us/step - loss: 0.7018 - acc: 0.4940\n",
      "Epoch 9/20\n",
      "1000/1000 [==============================] - 0s 34us/step - loss: 0.6983 - acc: 0.5150\n",
      "Epoch 10/20\n",
      "1000/1000 [==============================] - 0s 33us/step - loss: 0.6944 - acc: 0.5080\n",
      "Epoch 11/20\n",
      "1000/1000 [==============================] - 0s 32us/step - loss: 0.6890 - acc: 0.5280\n",
      "Epoch 12/20\n",
      "1000/1000 [==============================] - 0s 34us/step - loss: 0.6970 - acc: 0.5010\n",
      "Epoch 13/20\n",
      "1000/1000 [==============================] - 0s 34us/step - loss: 0.6945 - acc: 0.5020\n",
      "Epoch 14/20\n",
      "1000/1000 [==============================] - 0s 34us/step - loss: 0.6958 - acc: 0.5200\n",
      "Epoch 15/20\n",
      "1000/1000 [==============================] - 0s 35us/step - loss: 0.6889 - acc: 0.5370\n",
      "Epoch 16/20\n",
      "1000/1000 [==============================] - 0s 33us/step - loss: 0.6886 - acc: 0.5480\n",
      "Epoch 17/20\n",
      "1000/1000 [==============================] - 0s 34us/step - loss: 0.6907 - acc: 0.5240\n",
      "Epoch 18/20\n",
      "1000/1000 [==============================] - 0s 34us/step - loss: 0.6916 - acc: 0.5230\n",
      "Epoch 19/20\n",
      "1000/1000 [==============================] - 0s 37us/step - loss: 0.6890 - acc: 0.5560\n",
      "Epoch 20/20\n",
      "1000/1000 [==============================] - 0s 36us/step - loss: 0.6803 - acc: 0.5710\n"
     ]
    },
    {
     "data": {
      "text/plain": [
       "<keras.callbacks.History at 0x7fb4dd979710>"
      ]
     },
     "execution_count": 5,
     "metadata": {},
     "output_type": "execute_result"
    }
   ],
   "source": [
    "model.fit(x_train, y_train,\n",
    "          epochs=20,\n",
    "          batch_size=128)"
   ]
  },
  {
   "cell_type": "code",
   "execution_count": 6,
   "metadata": {},
   "outputs": [
    {
     "name": "stdout",
     "output_type": "stream",
     "text": [
      "\r",
      "100/100 [==============================] - 0s 193us/step\n"
     ]
    }
   ],
   "source": [
    "score = model.evaluate(x_test, y_test, batch_size=128)"
   ]
  },
  {
   "cell_type": "code",
   "execution_count": 7,
   "metadata": {},
   "outputs": [
    {
     "data": {
      "text/plain": [
       "[0.6946796178817749, 0.47999998927116394]"
      ]
     },
     "execution_count": 7,
     "metadata": {},
     "output_type": "execute_result"
    }
   ],
   "source": [
    "score"
   ]
  },
  {
   "cell_type": "code",
   "execution_count": null,
   "metadata": {},
   "outputs": [],
   "source": []
  }
 ],
 "metadata": {
  "kernelspec": {
   "display_name": "Python 2",
   "language": "python",
   "name": "python2"
  },
  "language_info": {
   "codemirror_mode": {
    "name": "ipython",
    "version": 2
   },
   "file_extension": ".py",
   "mimetype": "text/x-python",
   "name": "python",
   "nbconvert_exporter": "python",
   "pygments_lexer": "ipython2",
   "version": "2.7.12"
  }
 },
 "nbformat": 4,
 "nbformat_minor": 2
}
