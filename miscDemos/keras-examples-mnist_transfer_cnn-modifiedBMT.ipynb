{
 "cells": [
  {
   "cell_type": "markdown",
   "metadata": {},
   "source": [
    "originally from > https://raw.githubusercontent.com/fchollet/keras/master/examples/mnist_transfer_cnn.py\n",
    "\n",
    "\n",
    "Transfer learning toy example.\n",
    "\n",
    "1 - Train a simple convnet on the MNIST dataset the first 5 digits [0..4].\n",
    "2 - Freeze convolutional layers and fine-tune dense layers\n",
    "   for the classification of digits [5..9].\n",
    "\n",
    "Get to 99.8% test accuracy after 5 epochs\n",
    "for the first five digits classifier\n",
    "and 99.2% for the last five digits after transfer + fine-tuning.\n",
    "\n",
    "NB: needed to update keras from 1.2.2 version to current version @ 14/11/2017\n",
    "sudo pip install keras --upgrade"
   ]
  },
  {
   "cell_type": "code",
   "execution_count": 32,
   "metadata": {},
   "outputs": [
    {
     "name": "stdout",
     "output_type": "stream",
     "text": [
      "keras.__version__: 2.1.0\n"
     ]
    }
   ],
   "source": [
    "from __future__ import print_function\n",
    "import datetime\n",
    "import numpy as np\n",
    "import keras\n",
    "from keras.datasets import mnist\n",
    "from keras.models import Sequential\n",
    "from keras.layers import Dense, Dropout, Activation, Flatten\n",
    "from keras.layers import Conv2D, MaxPooling2D\n",
    "from keras import backend as K\n",
    "print (\"keras.__version__:\", keras.__version__)"
   ]
  },
  {
   "cell_type": "code",
   "execution_count": 2,
   "metadata": {},
   "outputs": [
    {
     "name": "stderr",
     "output_type": "stream",
     "text": [
      "Using Theano backend.\n",
      "WARNING (theano.sandbox.cuda): The cuda backend is deprecated and will be removed in the next release (v0.10).  Please switch to the gpuarray backend. You can get more information about how to switch at this URL:\n",
      " https://github.com/Theano/Theano/wiki/Converting-to-the-new-gpu-back-end%28gpuarray%29\n",
      "\n",
      "Using gpu device 0: Tesla K80 (CNMeM is disabled, cuDNN 5110)\n"
     ]
    }
   ],
   "source": [
    "from keras import backend as K\n",
    "import os\n",
    "\n",
    "#https://keras.io/backend/\n",
    "\n",
    "def set_keras_backend(backend):\n",
    "\n",
    "    if K.backend() != backend:\n",
    "        os.environ['KERAS_BACKEND'] = backend\n",
    "        K.set_image_dim_ordering('th')\n",
    "        reload(K)\n",
    "        assert K.backend() == backend\n",
    "\n",
    "set_keras_backend(\"theano\")\n"
   ]
  },
  {
   "cell_type": "code",
   "execution_count": 13,
   "metadata": {},
   "outputs": [],
   "source": [
    "now = datetime.datetime.now\n",
    "\n",
    "batch_size = 128\n",
    "num_classes = 10\n",
    "epochs = 5\n"
   ]
  },
  {
   "cell_type": "code",
   "execution_count": 14,
   "metadata": {},
   "outputs": [],
   "source": [
    "# input image dimensions\n",
    "img_rows, img_cols = 28, 28\n",
    "# number of convolutional filters to use\n",
    "filters = 32\n",
    "# size of pooling area for max pooling\n",
    "pool_size = 2\n",
    "# convolution kernel size\n",
    "kernel_size = 3\n"
   ]
  },
  {
   "cell_type": "code",
   "execution_count": 15,
   "metadata": {},
   "outputs": [
    {
     "name": "stdout",
     "output_type": "stream",
     "text": [
      "K.image_data_format(): channels_last\n",
      "input_shape: (28, 28, 1)\n"
     ]
    }
   ],
   "source": [
    "print (\"K.image_data_format():\", K.image_data_format())\n",
    "if K.image_data_format() == 'channels_first':\n",
    "    input_shape = (1, img_rows, img_cols)\n",
    "else:\n",
    "    input_shape = (img_rows, img_cols, 1)\n",
    "print (\"input_shape:\", input_shape)"
   ]
  },
  {
   "cell_type": "code",
   "execution_count": 16,
   "metadata": {},
   "outputs": [],
   "source": [
    "def train_model(model, train, test, num_classes):\n",
    "    \n",
    "    print (\"train[0]:\", train[0].shape)\n",
    "    print (\"test[0]:\", test[0].shape)\n",
    "    \n",
    "    #reshape input data.\n",
    "    x_train = train[0].reshape((train[0].shape[0],) + input_shape)\n",
    "    x_test = test[0].reshape((test[0].shape[0],) + input_shape)\n",
    "    \n",
    "    #convert values from int to float32\n",
    "    x_train = x_train.astype('float32')\n",
    "    x_test = x_test.astype('float32')\n",
    "    \n",
    "    #convert data from 0-255 range to 0-1 range.\n",
    "    x_train /= 255\n",
    "    x_test /= 255\n",
    "    \n",
    "    #\n",
    "    print('x_train shape:', x_train.shape)\n",
    "    print(x_train.shape[0], 'train samples')\n",
    "    print(x_test.shape[0], 'test samples')\n",
    "\n",
    "    \n",
    "    # convert class vectors to binary class matrices\n",
    "    y_train = keras.utils.to_categorical(train[1], num_classes)\n",
    "    y_test = keras.utils.to_categorical(test[1], num_classes)\n",
    "    print (type(y_train), y_train.shape)\n",
    "    print (type(y_test), y_test.shape)\n",
    "\n",
    "    #\n",
    "    model.compile(loss='categorical_crossentropy',\n",
    "                  optimizer='adadelta',\n",
    "                  metrics=['accuracy'])\n",
    "\n",
    "    t = now()\n",
    "    \n",
    "    model.fit(x_train, y_train,\n",
    "              batch_size=batch_size,\n",
    "              epochs=epochs,\n",
    "              verbose=1,\n",
    "              validation_data=(x_test, y_test))\n",
    "    \n",
    "    print('Training time: %s' % (now() - t))\n",
    "    score = model.evaluate(x_test, y_test, verbose=0)\n",
    "    print('Test score:', score[0])\n",
    "    print('Test accuracy:', score[1])\n"
   ]
  },
  {
   "cell_type": "code",
   "execution_count": 17,
   "metadata": {},
   "outputs": [],
   "source": [
    "def showTypeShape(name, input):\n",
    "    print (name+\":\"+str(type(input))+\" \"+str(input.shape))"
   ]
  },
  {
   "cell_type": "code",
   "execution_count": 18,
   "metadata": {},
   "outputs": [
    {
     "name": "stdout",
     "output_type": "stream",
     "text": [
      "x_train:<type 'numpy.ndarray'> (60000, 28, 28)\n",
      "y_train:<type 'numpy.ndarray'> (60000,)\n",
      "x_test:<type 'numpy.ndarray'> (10000, 28, 28)\n",
      "y_test:<type 'numpy.ndarray'> (10000,)\n",
      "\n"
     ]
    }
   ],
   "source": [
    "# the data, shuffled and split between train and test sets\n",
    "(x_train, y_train), (x_test, y_test) = mnist.load_data()\n",
    "\n",
    "\n",
    "showTypeShape(\"x_train\", x_train)\n",
    "showTypeShape(\"y_train\", y_train)\n",
    "showTypeShape(\"x_test\", x_test)\n",
    "showTypeShape(\"y_test\", y_test)\n",
    "print()\n"
   ]
  },
  {
   "cell_type": "code",
   "execution_count": 19,
   "metadata": {},
   "outputs": [
    {
     "name": "stdout",
     "output_type": "stream",
     "text": [
      "<type 'list'> 7\n",
      "<class 'keras.layers.convolutional.Conv2D'>\n",
      "<class 'keras.layers.core.Activation'>\n",
      "<class 'keras.layers.convolutional.Conv2D'>\n",
      "<class 'keras.layers.core.Activation'>\n",
      "<class 'keras.layers.pooling.MaxPooling2D'>\n",
      "<class 'keras.layers.core.Dropout'>\n",
      "<class 'keras.layers.core.Flatten'>\n"
     ]
    }
   ],
   "source": [
    "# define two groups of layers: feature (convolutions) and classification (dense)\n",
    "feature_layers = [\n",
    "    Conv2D(filters, kernel_size,\n",
    "           padding='valid',\n",
    "           input_shape=input_shape),\n",
    "    Activation('relu'),\n",
    "    Conv2D(filters, kernel_size),\n",
    "    Activation('relu'),\n",
    "    MaxPooling2D(pool_size=pool_size),\n",
    "    Dropout(0.25),\n",
    "    Flatten(),\n",
    "]\n",
    "\n",
    "print (type(feature_layers), len(feature_layers))\n",
    "for layer in feature_layers:\n",
    "    print (type(layer))"
   ]
  },
  {
   "cell_type": "code",
   "execution_count": 45,
   "metadata": {},
   "outputs": [
    {
     "name": "stdout",
     "output_type": "stream",
     "text": [
      "<type 'list'> 5\n",
      "<class 'keras.layers.core.Dense'> trainable= True\n",
      "{'kernel_initializer': {'class_name': 'VarianceScaling', 'config': {'distribution': 'uniform', 'scale': 1.0, 'seed': None, 'mode': 'fan_avg'}}, 'name': 'dense_7', 'kernel_constraint': None, 'bias_regularizer': None, 'bias_constraint': None, 'activation': 'linear', 'trainable': True, 'kernel_regularizer': None, 'bias_initializer': {'class_name': 'Zeros', 'config': {}}, 'units': 128, 'use_bias': True, 'activity_regularizer': None} \n",
      "\n",
      "<class 'keras.layers.core.Activation'> trainable= True\n",
      "{'activation': 'relu', 'trainable': True, 'name': 'activation_11'} \n",
      "\n",
      "<class 'keras.layers.core.Dropout'> trainable= True\n",
      "{'noise_shape': None, 'rate': 0.5, 'trainable': True, 'seed': None, 'name': 'dropout_6'} \n",
      "\n",
      "<class 'keras.layers.core.Dense'> trainable= True\n",
      "{'kernel_initializer': {'class_name': 'VarianceScaling', 'config': {'distribution': 'uniform', 'scale': 1.0, 'seed': None, 'mode': 'fan_avg'}}, 'name': 'dense_8', 'kernel_constraint': None, 'bias_regularizer': None, 'bias_constraint': None, 'activation': 'linear', 'trainable': True, 'kernel_regularizer': None, 'bias_initializer': {'class_name': 'Zeros', 'config': {}}, 'units': 10, 'use_bias': True, 'activity_regularizer': None} \n",
      "\n",
      "<class 'keras.layers.core.Activation'> trainable= True\n",
      "{'activation': 'softmax', 'trainable': True, 'name': 'activation_12'} \n",
      "\n"
     ]
    }
   ],
   "source": [
    "classification_layers = [\n",
    "    Dense(128),\n",
    "    Activation('relu'),\n",
    "    Dropout(0.5),\n",
    "    Dense(num_classes),\n",
    "    Activation('softmax')\n",
    "]\n",
    "print (type(classification_layers), len(classification_layers))\n",
    "for layer in classification_layers:\n",
    "    print (type(layer), \"trainable=\", layer.trainable)#\n",
    "    print (layer.get_config(), \"\\n\")"
   ]
  },
  {
   "cell_type": "code",
   "execution_count": 21,
   "metadata": {},
   "outputs": [
    {
     "name": "stdout",
     "output_type": "stream",
     "text": [
      "<type 'list'> 12\n"
     ]
    }
   ],
   "source": [
    "# create complete model\n",
    "model = Sequential(feature_layers + classification_layers)\n",
    "print (type(model.layers), len(model.layers))"
   ]
  },
  {
   "cell_type": "code",
   "execution_count": 22,
   "metadata": {},
   "outputs": [
    {
     "name": "stdout",
     "output_type": "stream",
     "text": [
      "started\n",
      "train[0]: (60000, 28, 28)\n",
      "test[0]: (10000, 28, 28)\n",
      "x_train shape: (60000, 28, 28, 1)\n",
      "60000 train samples\n",
      "10000 test samples\n",
      "<type 'numpy.ndarray'> (60000, 10)\n",
      "<type 'numpy.ndarray'> (10000, 10)\n",
      "Train on 60000 samples, validate on 10000 samples\n",
      "Epoch 1/5\n",
      "60000/60000 [==============================] - 29s 487us/step - loss: 0.3807 - acc: 0.8835 - val_loss: 0.0973 - val_acc: 0.9701\n",
      "Epoch 2/5\n",
      "60000/60000 [==============================] - 29s 484us/step - loss: 0.1417 - acc: 0.9576 - val_loss: 0.0619 - val_acc: 0.9809\n",
      "Epoch 3/5\n",
      "60000/60000 [==============================] - 29s 485us/step - loss: 0.1110 - acc: 0.9672 - val_loss: 0.0526 - val_acc: 0.9825\n",
      "Epoch 4/5\n",
      "60000/60000 [==============================] - 29s 484us/step - loss: 0.0933 - acc: 0.9721 - val_loss: 0.0444 - val_acc: 0.9853\n",
      "Epoch 5/5\n",
      "60000/60000 [==============================] - 29s 483us/step - loss: 0.0790 - acc: 0.9769 - val_loss: 0.0418 - val_acc: 0.9862\n",
      "Training time: 0:02:29.537740\n",
      "Test score: 0.0417779098911\n",
      "Test accuracy: 0.9862\n",
      "Time elpased (hh:mm:ss.ms) 0:02:31.030766\n"
     ]
    }
   ],
   "source": [
    "# train model \n",
    "#(x_train, y_train), (x_test, y_test)\n",
    "print (\"started\")\n",
    "startTime= now()\n",
    "train_model(model,\n",
    "            (x_train, y_train),\n",
    "            (x_test, y_test), num_classes)\n",
    "timeElapsed=now()-startTime\n",
    "print('Time elpased (hh:mm:ss.ms) {}'.format(timeElapsed))\n"
   ]
  },
  {
   "cell_type": "code",
   "execution_count": 25,
   "metadata": {},
   "outputs": [
    {
     "name": "stdout",
     "output_type": "stream",
     "text": [
      "<class 'keras.models.Sequential'> <type 'list'> 12\n"
     ]
    }
   ],
   "source": [
    "print (type(model), type(model.layers), len(model.layers))"
   ]
  },
  {
   "cell_type": "code",
   "execution_count": 33,
   "metadata": {},
   "outputs": [
    {
     "name": "stdout",
     "output_type": "stream",
     "text": [
      "<type 'numpy.ndarray'> (10000, 10)\n",
      "[ 0.  0.  0.  0.  0.  0.  0.  1.  0.  0.]\n",
      "[7 2 1 0 4 1 4 9 5 9 0 6 9 0 1 5 9 7 8 4]\n",
      "[7 2 1 0 4 1 4 9 5 9 0 6 9 0 1 5 9 7 3 4]\n"
     ]
    }
   ],
   "source": [
    "x_test = x_test.reshape((x_test.shape[0],) + input_shape)\n",
    "\n",
    "pred = model.predict(x_test, batch_size = batch_size, verbose = 0)\n",
    "print (type(pred), pred.shape)\n",
    "print (pred[0])\n",
    "pred_class = np.argmax(pred,axis=-1)\n",
    "#x_test, y_test\n",
    "print (pred_class[0:20])\n",
    "print (y_test[0:20])"
   ]
  },
  {
   "cell_type": "code",
   "execution_count": 35,
   "metadata": {},
   "outputs": [
    {
     "name": "stdout",
     "output_type": "stream",
     "text": [
      "0.9838\n"
     ]
    }
   ],
   "source": [
    "match = 0.\n",
    "for i in range(0, y_test.shape[0]):\n",
    "    if y_test[i]==pred_class[i]:\n",
    "        match +=1\n",
    "accuracy = match/y_test.shape[0]\n",
    "print (accuracy)\n",
    "\n",
    "#Test accuracy: 0.9862\n",
    "#0.9838\n",
    "#NB: discrepency between methods due to sept 'np.argmax(pred2,axis=-1)' \n",
    "#using the highest probability to return index of the category. \n"
   ]
  },
  {
   "cell_type": "code",
   "execution_count": 36,
   "metadata": {},
   "outputs": [
    {
     "name": "stdout",
     "output_type": "stream",
     "text": [
      "<type 'list'> 7\n"
     ]
    }
   ],
   "source": [
    "# freeze feature layers and rebuild model\n",
    "for l in feature_layers:\n",
    "    l.trainable = False\n",
    "print (type(feature_layers), len(feature_layers))"
   ]
  },
  {
   "cell_type": "code",
   "execution_count": 37,
   "metadata": {},
   "outputs": [
    {
     "name": "stdout",
     "output_type": "stream",
     "text": [
      "train[0]: (60000, 28, 28)\n",
      "test[0]: (10000, 28, 28, 1)\n",
      "x_train shape: (60000, 28, 28, 1)\n",
      "60000 train samples\n",
      "10000 test samples\n",
      "<type 'numpy.ndarray'> (60000, 10)\n",
      "<type 'numpy.ndarray'> (10000, 10)\n",
      "Train on 60000 samples, validate on 10000 samples\n",
      "Epoch 1/5\n",
      "60000/60000 [==============================] - 5s 91us/step - loss: 0.0714 - acc: 0.9787 - val_loss: 0.0381 - val_acc: 0.9870\n",
      "Epoch 2/5\n",
      "60000/60000 [==============================] - 5s 91us/step - loss: 0.0644 - acc: 0.9811 - val_loss: 0.0356 - val_acc: 0.9878\n",
      "Epoch 3/5\n",
      "60000/60000 [==============================] - 5s 91us/step - loss: 0.0604 - acc: 0.9818 - val_loss: 0.0349 - val_acc: 0.9877\n",
      "Epoch 4/5\n",
      "60000/60000 [==============================] - 5s 91us/step - loss: 0.0576 - acc: 0.9830 - val_loss: 0.0340 - val_acc: 0.9890\n",
      "Epoch 5/5\n",
      "60000/60000 [==============================] - 5s 91us/step - loss: 0.0556 - acc: 0.9830 - val_loss: 0.0324 - val_acc: 0.9888\n",
      "Training time: 0:00:29.802153\n",
      "Test score: 0.0324378654635\n",
      "Test accuracy: 0.9888\n"
     ]
    }
   ],
   "source": [
    "# transfer: train dense layers for new classification task\n",
    "train_model(model,\n",
    "            (x_train, y_train),\n",
    "            (x_test, y_test), num_classes)\n",
    "#NB: since feature_layers are now not trainable, model runs faster."
   ]
  },
  {
   "cell_type": "code",
   "execution_count": 43,
   "metadata": {},
   "outputs": [
    {
     "name": "stdout",
     "output_type": "stream",
     "text": [
      "<type 'numpy.ndarray'> (10000, 10)\n",
      "[ 0.  0.  0.  0.  0.  0.  0.  1.  0.  0.]\n",
      "predicted: [7 2 1 0 4 1 4 9 5 9 0 6 9 0 1 5 9 7 8 4]\n",
      "   actual: [7 2 1 0 4 1 4 9 5 9 0 6 9 0 1 5 9 7 3 4]\n"
     ]
    }
   ],
   "source": [
    "pred2 = model.predict(x_test, batch_size = batch_size, verbose = 0)\n",
    "#insert step here to assess accuracy of the predictions.\n",
    "print (type(pred2), pred2.shape)\n",
    "print (pred2[0])\n",
    "pred_class2 = np.argmax(pred2,axis=-1)\n",
    "#x_test, y_test\n",
    "print (\"predicted:\", pred_class2[0:20])\n",
    "print (\"   actual:\", y_test[0:20])"
   ]
  },
  {
   "cell_type": "code",
   "execution_count": 41,
   "metadata": {},
   "outputs": [
    {
     "name": "stdout",
     "output_type": "stream",
     "text": [
      "0.9863\n"
     ]
    }
   ],
   "source": [
    "match = 0.\n",
    "for i in range(0, y_test.shape[0]):\n",
    "    if y_test[i]==pred_class2[i]:\n",
    "        match +=1\n",
    "accuracy = match/y_test.shape[0]\n",
    "print (accuracy)\n",
    "#NB: discrepency between methods due to sept 'np.argmax(pred2,axis=-1)' \n",
    "#using the highest probability to return index of the category. \n",
    "#Test accuracy: 0.9888\n",
    "#0.9863"
   ]
  },
  {
   "cell_type": "code",
   "execution_count": null,
   "metadata": {},
   "outputs": [],
   "source": []
  }
 ],
 "metadata": {
  "kernelspec": {
   "display_name": "Python 2",
   "language": "python",
   "name": "python2"
  },
  "language_info": {
   "codemirror_mode": {
    "name": "ipython",
    "version": 2
   },
   "file_extension": ".py",
   "mimetype": "text/x-python",
   "name": "python",
   "nbconvert_exporter": "python",
   "pygments_lexer": "ipython2",
   "version": "2.7.12"
  }
 },
 "nbformat": 4,
 "nbformat_minor": 2
}
