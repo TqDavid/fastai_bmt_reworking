{
 "cells": [
  {
   "cell_type": "markdown",
   "metadata": {},
   "source": [
    "# Enter State Farm"
   ]
  },
  {
   "cell_type": "code",
   "execution_count": 8,
   "metadata": {},
   "outputs": [
    {
     "name": "stderr",
     "output_type": "stream",
     "text": [
      "WARNING (theano.sandbox.cuda): The cuda backend is deprecated and will be removed in the next release (v0.10).  Please switch to the gpuarray backend. You can get more information about how to switch at this URL:\n",
      " https://github.com/Theano/Theano/wiki/Converting-to-the-new-gpu-back-end%28gpuarray%29\n",
      "\n",
      "WARNING (theano.sandbox.cuda): Ignoring call to use(1), GPU number 0 is already in use.\n"
     ]
    }
   ],
   "source": [
    "from theano.sandbox import cuda\n",
    "cuda.use('gpu1')"
   ]
  },
  {
   "cell_type": "code",
   "execution_count": 9,
   "metadata": {},
   "outputs": [],
   "source": [
    "#print (keras.__version__)\n",
    "#print (theano.__version__)\n",
    "#print (tensorflow.__version__)"
   ]
  },
  {
   "cell_type": "code",
   "execution_count": 10,
   "metadata": {},
   "outputs": [
    {
     "name": "stdout",
     "output_type": "stream",
     "text": [
      "end\n"
     ]
    }
   ],
   "source": [
    "import pip\n",
    "for m in pip.get_installed_distributions():\n",
    "    if m.project_name == 'keras':\n",
    "        print(m.version)\n",
    "print (\"end\")"
   ]
  },
  {
   "cell_type": "code",
   "execution_count": 11,
   "metadata": {},
   "outputs": [],
   "source": [
    "#set FIXED variables\n",
    "HOMEPATH = \"/home/ubuntu/fastai/\"\n",
    "VALIDPATH = HOMEPATH + 'data/state/valid/'\n",
    "TRAINPATH = HOMEPATH + 'data/state/train/'\n",
    "TESTPATH = HOMEPATH + 'data/state/test/'\n",
    "\n",
    "SAMPLEPATH = HOMEPATH + 'data/state/sample/'\n",
    "SAMPLEVALIDPATH = HOMEPATH + 'data/state/sample/valid/'\n",
    "SAMPLETRAINPATH = HOMEPATH + 'data/state/sample/train/'\n",
    "SAMPLETESTPATH = HOMEPATH + 'data/state/sample/test/'\n",
    "\n",
    "\n",
    "import os, errno\n",
    "\n",
    "from datetime import datetime\n",
    "from shutil import copyfile, move\n",
    "import random"
   ]
  },
  {
   "cell_type": "code",
   "execution_count": 12,
   "metadata": {},
   "outputs": [
    {
     "name": "stdout",
     "output_type": "stream",
     "text": [
      "current working directory: /home/ubuntu/fastai\n"
     ]
    }
   ],
   "source": [
    "os.chdir(HOMEPATH)\n",
    "print (\"current working directory:\", os.getcwd())\n",
    "\n",
    "%matplotlib inline\n",
    "from __future__ import print_function, division\n",
    "#path = \"data/state/\"\n",
    "path = \"data/state/sample/\"\n",
    "import utils; reload(utils)\n",
    "from utils import *\n",
    "from IPython.display import FileLink"
   ]
  },
  {
   "cell_type": "code",
   "execution_count": 13,
   "metadata": {},
   "outputs": [],
   "source": [
    "batch_size=64"
   ]
  },
  {
   "cell_type": "markdown",
   "metadata": {
    "heading_collapsed": true
   },
   "source": [
    "## Create sample"
   ]
  },
  {
   "cell_type": "markdown",
   "metadata": {
    "hidden": true
   },
   "source": [
    "The following assumes you've already created your validation set - remember that the training and validation set should contain *different drivers*, as mentioned on the Kaggle competition page."
   ]
  },
  {
   "cell_type": "markdown",
   "metadata": {
    "hidden": true
   },
   "source": [
    "HOLD - markdown cell  \n",
    "%cd data/state  \n",
    "%cd train  \n",
    "%mkdir ../sample  \n",
    "%mkdir ../sample/train  \n",
    "%mkdir ../sample/valid  \n"
   ]
  },
  {
   "cell_type": "code",
   "execution_count": 7,
   "metadata": {
    "hidden": true
   },
   "outputs": [
    {
     "name": "stdout",
     "output_type": "stream",
     "text": [
      "/home/ubuntu/fastai/data/state/test/ : 79726\n"
     ]
    },
    {
     "data": {
      "text/plain": [
       "7972.6"
      ]
     },
     "execution_count": 7,
     "metadata": {},
     "output_type": "execute_result"
    }
   ],
   "source": [
    "#after unpacking files from kaggle data download. dirs and files already exist.\n",
    "\n",
    "DIR = TESTPATH\n",
    "print (DIR, \":\", len([name for name in os.listdir(DIR) if os.path.isfile(os.path.join(DIR, name))]))\n",
    "79726/10"
   ]
  },
  {
   "cell_type": "code",
   "execution_count": 8,
   "metadata": {
    "hidden": true
   },
   "outputs": [
    {
     "name": "stdout",
     "output_type": "stream",
     "text": [
      "/home/ubuntu/fastai/data/state/train/c0 : 1668\n",
      "/home/ubuntu/fastai/data/state/train/c1 : 1519\n",
      "/home/ubuntu/fastai/data/state/train/c2 : 1553\n",
      "/home/ubuntu/fastai/data/state/train/c3 : 1572\n",
      "/home/ubuntu/fastai/data/state/train/c4 : 1559\n",
      "/home/ubuntu/fastai/data/state/train/c5 : 1550\n",
      "/home/ubuntu/fastai/data/state/train/c6 : 1558\n",
      "/home/ubuntu/fastai/data/state/train/c7 : 1342\n",
      "/home/ubuntu/fastai/data/state/train/c8 : 1281\n",
      "/home/ubuntu/fastai/data/state/train/c9 : 1427\n"
     ]
    }
   ],
   "source": [
    "# dir and files already exist after unpacking kaggle data.\n",
    "for i in range(0, 10):\n",
    "    DIR = TRAINPATH+\"c\"+str(i)\n",
    "    print (DIR, \":\", len([name for name in os.listdir(DIR) if os.path.isfile(os.path.join(DIR, name))]))"
   ]
  },
  {
   "cell_type": "code",
   "execution_count": 9,
   "metadata": {},
   "outputs": [],
   "source": [
    "#\n",
    "def makeDir(directory):\n",
    "    try:\n",
    "        os.makedirs(directory)\n",
    "        return 1\n",
    "    except OSError as e:\n",
    "        if e.errno != errno.EEXIST:\n",
    "            raise\n",
    "            return -1\n",
    "        return 0\n",
    "    "
   ]
  },
  {
   "cell_type": "code",
   "execution_count": 10,
   "metadata": {},
   "outputs": [
    {
     "name": "stdout",
     "output_type": "stream",
     "text": [
      "0 /home/ubuntu/fastai/data/state/sample/test/ : 0\n",
      "0 /home/ubuntu/fastai/data/state/sample/test/c0 : 166\n",
      "0 /home/ubuntu/fastai/data/state/sample/test/c1 : 151\n",
      "0 /home/ubuntu/fastai/data/state/sample/test/c2 : 155\n",
      "0 /home/ubuntu/fastai/data/state/sample/test/c3 : 157\n",
      "0 /home/ubuntu/fastai/data/state/sample/test/c4 : 155\n",
      "0 /home/ubuntu/fastai/data/state/sample/test/c5 : 155\n",
      "0 /home/ubuntu/fastai/data/state/sample/test/c6 : 155\n",
      "0 /home/ubuntu/fastai/data/state/sample/test/c7 : 134\n",
      "0 /home/ubuntu/fastai/data/state/sample/test/c8 : 128\n",
      "0 /home/ubuntu/fastai/data/state/sample/test/c9 : 142\n"
     ]
    }
   ],
   "source": [
    "#create dir for sample test\n",
    "DIR = SAMPLETESTPATH\n",
    "print (makeDir(DIR), DIR, \":\", len([name for name in os.listdir(DIR) if os.path.isfile(os.path.join(DIR, name))]))\n",
    "\n",
    "for i in range(0, 10):\n",
    "    DIR = SAMPLETESTPATH+\"c\"+str(i)\n",
    "    print (makeDir(DIR), DIR, \":\", len([name for name in os.listdir(DIR) if os.path.isfile(os.path.join(DIR, name))]))"
   ]
  },
  {
   "cell_type": "code",
   "execution_count": 11,
   "metadata": {},
   "outputs": [
    {
     "name": "stdout",
     "output_type": "stream",
     "text": [
      "0 /home/ubuntu/fastai/data/state/valid/ : 0\n",
      "0 /home/ubuntu/fastai/data/state/valid/c0 : 821\n",
      "0 /home/ubuntu/fastai/data/state/valid/c1 : 748\n",
      "0 /home/ubuntu/fastai/data/state/valid/c2 : 764\n",
      "0 /home/ubuntu/fastai/data/state/valid/c3 : 774\n",
      "0 /home/ubuntu/fastai/data/state/valid/c4 : 767\n",
      "0 /home/ubuntu/fastai/data/state/valid/c5 : 762\n",
      "0 /home/ubuntu/fastai/data/state/valid/c6 : 767\n",
      "0 /home/ubuntu/fastai/data/state/valid/c7 : 660\n",
      "0 /home/ubuntu/fastai/data/state/valid/c8 : 630\n",
      "0 /home/ubuntu/fastai/data/state/valid/c9 : 702\n"
     ]
    }
   ],
   "source": [
    "#create dir for validation\n",
    "DIR = VALIDPATH\n",
    "print (makeDir(DIR), DIR, \":\", len([name for name in os.listdir(DIR) if os.path.isfile(os.path.join(DIR, name))]))\n",
    "\n",
    "for i in range(0, 10):\n",
    "    DIR = VALIDPATH+\"c\"+str(i)\n",
    "    print (makeDir(DIR), DIR, \":\", len([name for name in os.listdir(DIR) if os.path.isfile(os.path.join(DIR, name))]))"
   ]
  },
  {
   "cell_type": "code",
   "execution_count": 12,
   "metadata": {},
   "outputs": [
    {
     "name": "stdout",
     "output_type": "stream",
     "text": [
      "/home/ubuntu/fastai/data/state/train/c0/ : 1668 550 1118\n",
      "/home/ubuntu/fastai/data/state/valid/c0/ : 821\n",
      "\n",
      "/home/ubuntu/fastai/data/state/train/c1/ : 1519 501 1018\n",
      "/home/ubuntu/fastai/data/state/valid/c1/ : 748\n",
      "\n",
      "/home/ubuntu/fastai/data/state/train/c2/ : 1553 512 1041\n",
      "/home/ubuntu/fastai/data/state/valid/c2/ : 764\n",
      "\n",
      "/home/ubuntu/fastai/data/state/train/c3/ : 1572 518 1054\n",
      "/home/ubuntu/fastai/data/state/valid/c3/ : 774\n",
      "\n",
      "/home/ubuntu/fastai/data/state/train/c4/ : 1559 514 1045\n",
      "/home/ubuntu/fastai/data/state/valid/c4/ : 767\n",
      "\n",
      "/home/ubuntu/fastai/data/state/train/c5/ : 1550 511 1039\n",
      "/home/ubuntu/fastai/data/state/valid/c5/ : 762\n",
      "\n",
      "/home/ubuntu/fastai/data/state/train/c6/ : 1558 514 1044\n",
      "/home/ubuntu/fastai/data/state/valid/c6/ : 767\n",
      "\n",
      "/home/ubuntu/fastai/data/state/train/c7/ : 1342 442 900\n",
      "/home/ubuntu/fastai/data/state/valid/c7/ : 660\n",
      "\n",
      "/home/ubuntu/fastai/data/state/train/c8/ : 1281 422 859\n",
      "/home/ubuntu/fastai/data/state/valid/c8/ : 630\n",
      "\n",
      "/home/ubuntu/fastai/data/state/train/c9/ : 1427 470 957\n",
      "/home/ubuntu/fastai/data/state/valid/c9/ : 702\n",
      "\n"
     ]
    }
   ],
   "source": [
    "# move a % of the training data to validation directories.\n",
    "validFract = 0.33\n",
    "for i in range(0, 10):\n",
    "    TRAINDIR = TRAINPATH+\"c\"+str(i)+\"/\"\n",
    "    trainDirFiles = [name for name in os.listdir(TRAINDIR) if os.path.isfile(os.path.join(TRAINDIR, name))]\n",
    "    numToMove = int(validFract*len(trainDirFiles))\n",
    "    print (TRAINDIR, \":\", len(trainDirFiles), numToMove, len(trainDirFiles)-numToMove)\n",
    "    VALIDDIR = VALIDPATH+\"c\"+str(i)+\"/\"\n",
    "    validDirFiles = [name for name in os.listdir(VALIDDIR) if os.path.isfile(os.path.join(VALIDDIR, name))]\n",
    "    print (VALIDDIR, \":\", len(validDirFiles))\n",
    "    if len(validDirFiles)==0:\n",
    "        #select a random validFract of files from TRAINDIR & move to VALIDDIR IFF not already done.\n",
    "        moveList = random.sample(trainDirFiles, numToMove)\n",
    "        print (\"moving \", len(moveList))\n",
    "        for file in moveList:\n",
    "            #print(TRAINDIR+file, VALIDDIR+file)\n",
    "            move(TRAINDIR+file, VALIDDIR+file)\n",
    "            #break\n",
    "    print()\n"
   ]
  },
  {
   "cell_type": "code",
   "execution_count": 7,
   "metadata": {
    "scrolled": true
   },
   "outputs": [
    {
     "ename": "NameError",
     "evalue": "name 'makeDir' is not defined",
     "output_type": "error",
     "traceback": [
      "\u001b[0;31m---------------------------------------------------------------------------\u001b[0m",
      "\u001b[0;31mNameError\u001b[0m                                 Traceback (most recent call last)",
      "\u001b[0;32m<ipython-input-7-8ce4413a9d09>\u001b[0m in \u001b[0;36m<module>\u001b[0;34m()\u001b[0m\n\u001b[1;32m      3\u001b[0m \u001b[0;31m#select random files and copy to sample.\u001b[0m\u001b[0;34m\u001b[0m\u001b[0;34m\u001b[0m\u001b[0m\n\u001b[1;32m      4\u001b[0m \u001b[0mDIR\u001b[0m \u001b[0;34m=\u001b[0m \u001b[0mSAMPLEPATH\u001b[0m\u001b[0;34m\u001b[0m\u001b[0m\n\u001b[0;32m----> 5\u001b[0;31m \u001b[0;32mprint\u001b[0m \u001b[0;34m(\u001b[0m\u001b[0mmakeDir\u001b[0m\u001b[0;34m(\u001b[0m\u001b[0mDIR\u001b[0m\u001b[0;34m)\u001b[0m\u001b[0;34m,\u001b[0m \u001b[0mDIR\u001b[0m\u001b[0;34m,\u001b[0m \u001b[0;34m\":\"\u001b[0m\u001b[0;34m,\u001b[0m \u001b[0mlen\u001b[0m\u001b[0;34m(\u001b[0m\u001b[0;34m[\u001b[0m\u001b[0mname\u001b[0m \u001b[0;32mfor\u001b[0m \u001b[0mname\u001b[0m \u001b[0;32min\u001b[0m \u001b[0mos\u001b[0m\u001b[0;34m.\u001b[0m\u001b[0mlistdir\u001b[0m\u001b[0;34m(\u001b[0m\u001b[0mDIR\u001b[0m\u001b[0;34m)\u001b[0m \u001b[0;32mif\u001b[0m \u001b[0mos\u001b[0m\u001b[0;34m.\u001b[0m\u001b[0mpath\u001b[0m\u001b[0;34m.\u001b[0m\u001b[0misfile\u001b[0m\u001b[0;34m(\u001b[0m\u001b[0mos\u001b[0m\u001b[0;34m.\u001b[0m\u001b[0mpath\u001b[0m\u001b[0;34m.\u001b[0m\u001b[0mjoin\u001b[0m\u001b[0;34m(\u001b[0m\u001b[0mDIR\u001b[0m\u001b[0;34m,\u001b[0m \u001b[0mname\u001b[0m\u001b[0;34m)\u001b[0m\u001b[0;34m)\u001b[0m\u001b[0;34m]\u001b[0m\u001b[0;34m)\u001b[0m\u001b[0;34m)\u001b[0m\u001b[0;34m\u001b[0m\u001b[0m\n\u001b[0m\u001b[1;32m      6\u001b[0m \u001b[0;34m\u001b[0m\u001b[0m\n\u001b[1;32m      7\u001b[0m \u001b[0mDIR\u001b[0m \u001b[0;34m=\u001b[0m \u001b[0mSAMPLEVALIDPATH\u001b[0m\u001b[0;34m\u001b[0m\u001b[0m\n",
      "\u001b[0;31mNameError\u001b[0m: name 'makeDir' is not defined"
     ]
    }
   ],
   "source": [
    "#create sample directories for training, validation and copy a % of files across.\n",
    "#todo: fix overlap sampling error.\n",
    "#select random files and copy to sample.\n",
    "#select random files from sample and _MOVE_ to sample/train\n",
    "#select random files from sample and MOVE to sample/valid\n",
    "#move remaining files to sample/test  now have zero overlap between train/valid/test.\n",
    "\n",
    "DIR = SAMPLEPATH\n",
    "print (makeDir(DIR), DIR, \":\", len([name for name in os.listdir(DIR) if os.path.isfile(os.path.join(DIR, name))]))\n",
    "\n",
    "DIR = SAMPLEVALIDPATH \n",
    "print (makeDir(DIR), DIR, \":\", len([name for name in os.listdir(DIR) if os.path.isfile(os.path.join(DIR, name))]))\n",
    "\n",
    "DIR = SAMPLETRAINPATH\n",
    "print (makeDir(DIR), DIR, \":\", len([name for name in os.listdir(DIR) if os.path.isfile(os.path.join(DIR, name))]))\n",
    "\n",
    "\n",
    "for i in range(0, 10):\n",
    "    DIR = SAMPLEVALIDPATH+\"c\"+str(i)\n",
    "    print (makeDir(DIR), DIR, \":\", len([name for name in os.listdir(DIR) if os.path.isfile(os.path.join(DIR, name))]))\n",
    "\n",
    "\n",
    "for i in range(0, 10):\n",
    "    DIR = SAMPLETRAINPATH+\"c\"+str(i)\n",
    "    print (makeDir(DIR), DIR, \":\", len([name for name in os.listdir(DIR) if os.path.isfile(os.path.join(DIR, name))]))"
   ]
  },
  {
   "cell_type": "code",
   "execution_count": 14,
   "metadata": {
    "scrolled": true
   },
   "outputs": [
    {
     "name": "stdout",
     "output_type": "stream",
     "text": [
      "/home/ubuntu/fastai/data/state/sample/train/c0/ : 166\n",
      "/home/ubuntu/fastai/data/state/sample/valid/c0/ : 82\n",
      "/home/ubuntu/fastai/data/state/sample/test/c0/ : 166\n",
      "/home/ubuntu/fastai/data/state/train/c0/ : 1668 166 1502\n",
      "/home/ubuntu/fastai/data/state/valid/c0/ : 821 82 739\n",
      "\n",
      "\n",
      "\n",
      "/home/ubuntu/fastai/data/state/sample/train/c1/ : 151\n",
      "/home/ubuntu/fastai/data/state/sample/valid/c1/ : 74\n",
      "/home/ubuntu/fastai/data/state/sample/test/c1/ : 151\n",
      "/home/ubuntu/fastai/data/state/train/c1/ : 1519 151 1368\n",
      "/home/ubuntu/fastai/data/state/valid/c1/ : 748 74 674\n",
      "\n",
      "\n",
      "\n",
      "/home/ubuntu/fastai/data/state/sample/train/c2/ : 155\n",
      "/home/ubuntu/fastai/data/state/sample/valid/c2/ : 76\n",
      "/home/ubuntu/fastai/data/state/sample/test/c2/ : 155\n",
      "/home/ubuntu/fastai/data/state/train/c2/ : 1553 155 1398\n",
      "/home/ubuntu/fastai/data/state/valid/c2/ : 764 76 688\n",
      "\n",
      "\n",
      "\n",
      "/home/ubuntu/fastai/data/state/sample/train/c3/ : 157\n",
      "/home/ubuntu/fastai/data/state/sample/valid/c3/ : 77\n",
      "/home/ubuntu/fastai/data/state/sample/test/c3/ : 157\n",
      "/home/ubuntu/fastai/data/state/train/c3/ : 1572 157 1415\n",
      "/home/ubuntu/fastai/data/state/valid/c3/ : 774 77 697\n",
      "\n",
      "\n",
      "\n",
      "/home/ubuntu/fastai/data/state/sample/train/c4/ : 155\n",
      "/home/ubuntu/fastai/data/state/sample/valid/c4/ : 76\n",
      "/home/ubuntu/fastai/data/state/sample/test/c4/ : 155\n",
      "/home/ubuntu/fastai/data/state/train/c4/ : 1559 155 1404\n",
      "/home/ubuntu/fastai/data/state/valid/c4/ : 767 76 691\n",
      "\n",
      "\n",
      "\n",
      "/home/ubuntu/fastai/data/state/sample/train/c5/ : 155\n",
      "/home/ubuntu/fastai/data/state/sample/valid/c5/ : 76\n",
      "/home/ubuntu/fastai/data/state/sample/test/c5/ : 155\n",
      "/home/ubuntu/fastai/data/state/train/c5/ : 1550 155 1395\n",
      "/home/ubuntu/fastai/data/state/valid/c5/ : 762 76 686\n",
      "\n",
      "\n",
      "\n",
      "/home/ubuntu/fastai/data/state/sample/train/c6/ : 155\n",
      "/home/ubuntu/fastai/data/state/sample/valid/c6/ : 76\n",
      "/home/ubuntu/fastai/data/state/sample/test/c6/ : 155\n",
      "/home/ubuntu/fastai/data/state/train/c6/ : 1558 155 1403\n",
      "/home/ubuntu/fastai/data/state/valid/c6/ : 767 76 691\n",
      "\n",
      "\n",
      "\n",
      "/home/ubuntu/fastai/data/state/sample/train/c7/ : 134\n",
      "/home/ubuntu/fastai/data/state/sample/valid/c7/ : 66\n",
      "/home/ubuntu/fastai/data/state/sample/test/c7/ : 134\n",
      "/home/ubuntu/fastai/data/state/train/c7/ : 1342 134 1208\n",
      "/home/ubuntu/fastai/data/state/valid/c7/ : 660 66 594\n",
      "\n",
      "\n",
      "\n",
      "/home/ubuntu/fastai/data/state/sample/train/c8/ : 128\n",
      "/home/ubuntu/fastai/data/state/sample/valid/c8/ : 63\n",
      "/home/ubuntu/fastai/data/state/sample/test/c8/ : 128\n",
      "/home/ubuntu/fastai/data/state/train/c8/ : 1281 128 1153\n",
      "/home/ubuntu/fastai/data/state/valid/c8/ : 630 63 567\n",
      "\n",
      "\n",
      "\n",
      "/home/ubuntu/fastai/data/state/sample/train/c9/ : 142\n",
      "/home/ubuntu/fastai/data/state/sample/valid/c9/ : 70\n",
      "/home/ubuntu/fastai/data/state/sample/test/c9/ : 142\n",
      "/home/ubuntu/fastai/data/state/train/c9/ : 1427 142 1285\n",
      "/home/ubuntu/fastai/data/state/valid/c9/ : 702 70 632\n",
      "\n",
      "\n",
      "\n"
     ]
    }
   ],
   "source": [
    "#NBBBB: __IMPORTANT___ this does not create test data correctly, potential overlap between test/train/validate.\n",
    "# Need to segregate randomly selected data properly - maybe start again. UGLY algo below!!!!\n",
    "\n",
    "sampleFract = 0.1\n",
    "\n",
    "for i in range(0, 10):\n",
    "    sampleTrainPath = SAMPLETRAINPATH+\"c\"+str(i)+\"/\"\n",
    "    sampleTrainPathFiles = [name for name in os.listdir(sampleTrainPath) if os.path.isfile(os.path.join(sampleTrainPath, name))]\n",
    "    print (sampleTrainPath, \":\", len(sampleTrainPathFiles))\n",
    "    sampleValidPath = SAMPLEVALIDPATH+\"c\"+str(i)+\"/\"\n",
    "    sampleValidPathFiles = [name for name in os.listdir(sampleValidPath) if os.path.isfile(os.path.join(sampleValidPath, name))]\n",
    "    print (sampleValidPath, \":\", len(sampleValidPathFiles))\n",
    "    sampleTestPath = SAMPLETESTPATH+\"c\"+str(i)+\"/\"\n",
    "    sampleTestPathFiles = [name for name in os.listdir(sampleTestPath) if os.path.isfile(os.path.join(sampleTestPath, name))]\n",
    "    print (sampleTestPath, \":\", len(sampleTestPathFiles))\n",
    "    \n",
    "    TRAINDIR = TRAINPATH+\"c\"+str(i)+\"/\"\n",
    "    trainDirFiles = [name for name in os.listdir(TRAINDIR) if os.path.isfile(os.path.join(TRAINDIR, name))]\n",
    "    numToMoveTrain = int(sampleFract*len(trainDirFiles))\n",
    "    print (TRAINDIR, \":\", len(trainDirFiles), numToMoveTrain, len(trainDirFiles)-numToMoveTrain)\n",
    "\n",
    "    VALIDDIR = VALIDPATH+\"c\"+str(i)+\"/\"\n",
    "    validDirFiles = [name for name in os.listdir(VALIDDIR) if os.path.isfile(os.path.join(VALIDDIR, name))]\n",
    "    numToMoveValid = int(sampleFract*len(validDirFiles))\n",
    "    print (VALIDDIR, \":\", len(validDirFiles), numToMoveValid, len(validDirFiles)-numToMoveValid)\n",
    "    \n",
    "    \n",
    "    #now _COPY_ randomly selected files from train to sample/train    \n",
    "    if len(sampleTrainPathFiles)==0:\n",
    "        copyList = random.sample(trainDirFiles, numToMoveTrain)\n",
    "        print (\"copying \", len(copyList))\n",
    "        for file in copyList:\n",
    "            #print(TRAINDIR+file, sampleTrainPath+file)\n",
    "            copyfile(TRAINDIR+file, sampleTrainPath+file)\n",
    "            #break\n",
    "    print ()\n",
    "    \n",
    "\n",
    "    #now _COPY_ randomly selected files from valid to sample/valid \n",
    "    if len(sampleValidPathFiles)==0:\n",
    "        copyList = random.sample(validDirFiles, numToMoveValid)\n",
    "        print (\"copying \", len(copyList))\n",
    "        for file in copyList:\n",
    "            #print(VALIDDIR+file, sampleValidPath+file)\n",
    "            copyfile(VALIDDIR+file, sampleValidPath+file)\n",
    "            #break\n",
    "    print ()\n",
    "    #break\n",
    "    \n",
    "\n",
    "\n",
    "    #now _COPY_ randomly selected files from train to sample/test    \n",
    "    if len(sampleTestPathFiles)==0:\n",
    "        copyList = random.sample(trainDirFiles, numToMoveTrain)\n",
    "        print (\"copying \", len(copyList))\n",
    "        for file in copyList:\n",
    "            #print(TRAINDIR+file, sampleTestPath+file)\n",
    "            copyfile(TRAINDIR+file, sampleTestPath+file)\n",
    "            #break\n",
    "    print ()\n",
    "\n",
    "    \n"
   ]
  },
  {
   "cell_type": "code",
   "execution_count": null,
   "metadata": {},
   "outputs": [],
   "source": []
  },
  {
   "cell_type": "markdown",
   "metadata": {},
   "source": [
    "## Create batches"
   ]
  },
  {
   "cell_type": "code",
   "execution_count": 14,
   "metadata": {
    "scrolled": true
   },
   "outputs": [
    {
     "name": "stdout",
     "output_type": "stream",
     "text": [
      "Found 1498 images belonging to 10 classes.\n",
      "Found 736 images belonging to 10 classes.\n",
      "/home/ubuntu/fastai/data/state/sample/train/ <class 'keras.preprocessing.image.DirectoryIterator'>\n",
      "/home/ubuntu/fastai/data/state/sample/valid/ <class 'keras.preprocessing.image.DirectoryIterator'>\n"
     ]
    }
   ],
   "source": [
    "batches = get_batches(SAMPLETRAINPATH, batch_size=batch_size)\n",
    "val_batches = get_batches(SAMPLEVALIDPATH, batch_size=batch_size*2, shuffle=False)\n",
    "print (SAMPLETRAINPATH, type(batches))\n",
    "print (SAMPLEVALIDPATH, type(val_batches))\n",
    "\n",
    "#https://keras.io/preprocessing/image/\n",
    "#https://www.tensorflow.org/api_docs/python/tf/keras/preprocessing/image/DirectoryIterator\n"
   ]
  },
  {
   "cell_type": "code",
   "execution_count": 15,
   "metadata": {},
   "outputs": [
    {
     "name": "stdout",
     "output_type": "stream",
     "text": [
      "Found 1498 images belonging to 10 classes.\n",
      "Found 736 images belonging to 10 classes.\n",
      "Found 1498 images belonging to 10 classes.\n",
      "val_classes <type 'numpy.ndarray'> (736,)\n",
      "trn_classes <type 'numpy.ndarray'> (1498,)\n",
      "val_labels <type 'numpy.ndarray'> (736, 10)\n",
      "val_labels <type 'numpy.ndarray'> (736, 10)\n",
      "trn_labels <type 'numpy.ndarray'> (1498, 10)\n",
      "val_filenames <type 'list'> 736\n",
      "filenames <type 'list'> 1498\n",
      "test_filename <type 'list'> 1498\n"
     ]
    }
   ],
   "source": [
    "\n",
    "(val_classes, trn_classes, val_labels, trn_labels, val_filenames, filenames,\n",
    "    test_filename) = get_classes(SAMPLEPATH)\n",
    "print (\"val_classes\", type(val_classes), val_classes.shape)\n",
    "print (\"trn_classes\", type(trn_classes), trn_classes.shape)\n",
    "print (\"val_labels\", type(val_labels), val_labels.shape)\n",
    "print (\"val_labels\", type(val_labels), val_labels.shape)\n",
    "print (\"trn_labels\", type(trn_labels), trn_labels.shape)\n",
    "print (\"val_filenames\", type(val_filenames), len(val_filenames))\n",
    "print (\"filenames\", type(filenames), len(filenames))\n",
    "print (\"test_filename\", type(test_filename), len(test_filename))\n"
   ]
  },
  {
   "cell_type": "markdown",
   "metadata": {
    "heading_collapsed": true
   },
   "source": [
    "## Basic models"
   ]
  },
  {
   "cell_type": "markdown",
   "metadata": {
    "heading_collapsed": true,
    "hidden": true
   },
   "source": [
    "### Linear model"
   ]
  },
  {
   "cell_type": "markdown",
   "metadata": {
    "hidden": true
   },
   "source": [
    "First, we try the simplest model and use default parameters. Note the trick of making the first layer a batchnorm layer - that way we don't have to worry about normalizing the input ourselves."
   ]
  },
  {
   "cell_type": "code",
   "execution_count": 16,
   "metadata": {
    "hidden": true
   },
   "outputs": [
    {
     "name": "stdout",
     "output_type": "stream",
     "text": [
      "<class 'keras.models.Sequential'>\n",
      "3\n",
      "<class 'keras.layers.normalization.BatchNormalization'>\n",
      "<class 'keras.layers.core.Flatten'>\n",
      "<class 'keras.layers.core.Dense'>\n"
     ]
    }
   ],
   "source": [
    "model = Sequential([\n",
    "        BatchNormalization(axis=1, input_shape=(3,224,224)),\n",
    "        Flatten(),\n",
    "        Dense(10, activation='softmax')\n",
    "    ])\n",
    "print (type(model))\n",
    "print (len(model.layers))\n",
    "for layer in model.layers:\n",
    "    print (type(layer))"
   ]
  },
  {
   "cell_type": "markdown",
   "metadata": {
    "hidden": true
   },
   "source": [
    "As you can see below, this training is going nowhere..."
   ]
  },
  {
   "cell_type": "code",
   "execution_count": 17,
   "metadata": {
    "hidden": true
   },
   "outputs": [
    {
     "name": "stdout",
     "output_type": "stream",
     "text": [
      "model.compile start\n",
      "model.fit_generator start\n",
      "Epoch 1/2\n",
      "1498/1498 [==============================] - 119s - loss: 13.6436 - acc: 0.1108 - val_loss: 13.7295 - val_acc: 0.1427\n",
      "Epoch 2/2\n",
      "1498/1498 [==============================] - 117s - loss: 13.9384 - acc: 0.1308 - val_loss: 13.5996 - val_acc: 0.1563\n",
      "Time elpased (hh:mm:ss.ms) 0:03:57.080456\n"
     ]
    }
   ],
   "source": [
    "\n",
    "startTime= datetime.now()\n",
    "print (\"model.compile start\")\n",
    "model.compile(Adam(), loss='categorical_crossentropy', metrics=['accuracy'])\n",
    "print (\"model.fit_generator start\")\n",
    "model.fit_generator(batches, batches.nb_sample, nb_epoch=2, validation_data=val_batches, \n",
    "                 nb_val_samples=val_batches.nb_sample)\n",
    "timeElapsed=datetime.now()-startTime\n",
    "print('Time elpased (hh:mm:ss.ms) {}'.format(timeElapsed))\n"
   ]
  },
  {
   "cell_type": "markdown",
   "metadata": {
    "hidden": true
   },
   "source": [
    "Let's first check the number of parameters to see that there's enough parameters to find some useful relationships:"
   ]
  },
  {
   "cell_type": "code",
   "execution_count": 19,
   "metadata": {
    "hidden": true
   },
   "outputs": [
    {
     "name": "stdout",
     "output_type": "stream",
     "text": [
      "____________________________________________________________________________________________________\n",
      "Layer (type)                     Output Shape          Param #     Connected to                     \n",
      "====================================================================================================\n",
      "batchnormalization_1 (BatchNorma (None, 3, 224, 224)   12          batchnormalization_input_1[0][0] \n",
      "____________________________________________________________________________________________________\n",
      "flatten_1 (Flatten)              (None, 150528)        0           batchnormalization_1[0][0]       \n",
      "____________________________________________________________________________________________________\n",
      "dense_1 (Dense)                  (None, 10)            1505290     flatten_1[0][0]                  \n",
      "====================================================================================================\n",
      "Total params: 1,505,302\n",
      "Trainable params: 1,505,296\n",
      "Non-trainable params: 6\n",
      "____________________________________________________________________________________________________\n"
     ]
    }
   ],
   "source": [
    "model.summary()"
   ]
  },
  {
   "cell_type": "markdown",
   "metadata": {
    "hidden": true
   },
   "source": [
    "Over 1.5 million parameters - that should be enough. Incidentally, it's worth checking you understand why this is the number of parameters in this layer:"
   ]
  },
  {
   "cell_type": "code",
   "execution_count": 20,
   "metadata": {
    "hidden": true
   },
   "outputs": [
    {
     "data": {
      "text/plain": [
       "1505280"
      ]
     },
     "execution_count": 20,
     "metadata": {},
     "output_type": "execute_result"
    }
   ],
   "source": [
    "10*3*224*224\n",
    "#NB: 10*3*224*224 is not an exact match to the output from model.summary"
   ]
  },
  {
   "cell_type": "markdown",
   "metadata": {
    "hidden": true
   },
   "source": [
    "Since we have a simple model with no regularization and plenty of parameters, it seems most likely that our learning rate is too high. Perhaps it is jumping to a solution where it predicts one or two classes with high confidence, so that it can give a zero prediction to as many classes as possible - that's the best approach for a model that is no better than random, and there is likely to be where we would end up with a high learning rate. So let's check:"
   ]
  },
  {
   "cell_type": "code",
   "execution_count": 21,
   "metadata": {},
   "outputs": [
    {
     "name": "stdout",
     "output_type": "stream",
     "text": [
      "<class 'keras.preprocessing.image.DirectoryIterator'>\n"
     ]
    }
   ],
   "source": [
    "print (type(batches))"
   ]
  },
  {
   "cell_type": "code",
   "execution_count": 24,
   "metadata": {
    "hidden": true,
    "scrolled": true
   },
   "outputs": [
    {
     "data": {
      "text/plain": [
       "array([[ 0.,  0.,  0.,  0.,  0.,  1.,  0.,  0.,  0.,  0.],\n",
       "       [ 0.,  0.,  0.,  0.,  0.,  1.,  0.,  0.,  0.,  0.],\n",
       "       [ 0.,  0.,  0.,  0.,  0.,  1.,  0.,  0.,  0.,  0.],\n",
       "       [ 0.,  0.,  0.,  0.,  0.,  1.,  0.,  0.,  0.,  0.],\n",
       "       [ 0.,  0.,  0.,  0.,  1.,  0.,  0.,  0.,  0.,  0.],\n",
       "       [ 0.,  0.,  0.,  0.,  0.,  1.,  0.,  0.,  0.,  0.],\n",
       "       [ 0.,  0.,  0.,  0.,  0.,  1.,  0.,  0.,  0.,  0.],\n",
       "       [ 0.,  0.,  0.,  0.,  0.,  1.,  0.,  0.,  0.,  0.],\n",
       "       [ 0.,  0.,  0.,  0.,  0.,  1.,  0.,  0.,  0.,  0.],\n",
       "       [ 0.,  0.,  0.,  0.,  0.,  1.,  0.,  0.,  0.,  0.]], dtype=float32)"
      ]
     },
     "execution_count": 24,
     "metadata": {},
     "output_type": "execute_result"
    }
   ],
   "source": [
    "#np.round(model.predict_generator(batches, batches.N)[:10],2)\n",
    "np.round(model.predict_generator(batches, batches.nb_sample)[:10],2)\n",
    "\n",
    "#actually I got 9 sixes and one 5."
   ]
  },
  {
   "cell_type": "markdown",
   "metadata": {
    "hidden": true
   },
   "source": [
    "Our hypothesis was correct. It's nearly always predicting class 1 or 6, with very high confidence. So let's try a lower learning rate:"
   ]
  },
  {
   "cell_type": "code",
   "execution_count": 25,
   "metadata": {},
   "outputs": [
    {
     "name": "stdout",
     "output_type": "stream",
     "text": [
      "3\n",
      "<class 'keras.layers.normalization.BatchNormalization'>\n",
      "<class 'keras.layers.core.Flatten'>\n",
      "<class 'keras.layers.core.Dense'>\n"
     ]
    }
   ],
   "source": [
    "model = Sequential([\n",
    "        BatchNormalization(axis=1, input_shape=(3,224,224)),\n",
    "        Flatten(),\n",
    "        Dense(10, activation='softmax')\n",
    "    ])\n",
    "print (len(model.layers))\n",
    "for layer in model.layers:\n",
    "    print (type(layer))"
   ]
  },
  {
   "cell_type": "code",
   "execution_count": 26,
   "metadata": {
    "hidden": true
   },
   "outputs": [
    {
     "name": "stdout",
     "output_type": "stream",
     "text": [
      "model.compile start\n",
      "model.fit_generator start\n",
      "Epoch 1/2\n",
      "1498/1498 [==============================] - 119s - loss: 2.3914 - acc: 0.1856 - val_loss: 3.7583 - val_acc: 0.2079\n",
      "Epoch 2/2\n",
      "1498/1498 [==============================] - 117s - loss: 1.7859 - acc: 0.4012 - val_loss: 2.6118 - val_acc: 0.3261\n",
      "Time elpased (hh:mm:ss.ms) 0:03:56.885882\n"
     ]
    }
   ],
   "source": [
    "startTime= datetime.now()\n",
    "print (\"model.compile start\")\n",
    "model.compile(Adam(lr=1e-5), loss='categorical_crossentropy', metrics=['accuracy'])\n",
    "print (\"model.fit_generator start\")\n",
    "model.fit_generator(batches, batches.nb_sample, nb_epoch=2, validation_data=val_batches, \n",
    "                 nb_val_samples=val_batches.nb_sample)\n",
    "\n",
    "timeElapsed=datetime.now()-startTime\n",
    "print('Time elpased (hh:mm:ss.ms) {}'.format(timeElapsed))\n"
   ]
  },
  {
   "cell_type": "markdown",
   "metadata": {
    "hidden": true
   },
   "source": [
    "Great - we found our way out of that hole... Now we can increase the learning rate and see where we can get to."
   ]
  },
  {
   "cell_type": "code",
   "execution_count": 27,
   "metadata": {
    "hidden": true
   },
   "outputs": [],
   "source": [
    "model.optimizer.lr=0.001"
   ]
  },
  {
   "cell_type": "code",
   "execution_count": 28,
   "metadata": {
    "hidden": true
   },
   "outputs": [
    {
     "name": "stdout",
     "output_type": "stream",
     "text": [
      "model.fit_generator start\n",
      "Epoch 1/4\n",
      "1498/1498 [==============================] - 118s - loss: 1.3874 - acc: 0.5948 - val_loss: 2.1399 - val_acc: 0.3682\n",
      "Epoch 2/4\n",
      "1498/1498 [==============================] - 117s - loss: 1.1699 - acc: 0.6883 - val_loss: 1.6245 - val_acc: 0.4986\n",
      "Epoch 3/4\n",
      "1498/1498 [==============================] - 118s - loss: 0.9756 - acc: 0.7750 - val_loss: 1.3021 - val_acc: 0.5720\n",
      "Epoch 4/4\n",
      "1498/1498 [==============================] - 117s - loss: 0.8285 - acc: 0.8324 - val_loss: 1.1439 - val_acc: 0.6345\n",
      "Time elpased (hh:mm:ss.ms) 0:07:51.558798\n"
     ]
    }
   ],
   "source": [
    "startTime= datetime.now()\n",
    "print (\"model.fit_generator start\")\n",
    "model.fit_generator(batches, batches.nb_sample, nb_epoch=4, validation_data=val_batches, \n",
    "                 nb_val_samples=val_batches.nb_sample)\n",
    "timeElapsed=datetime.now()-startTime\n",
    "print('Time elpased (hh:mm:ss.ms) {}'.format(timeElapsed))\n"
   ]
  },
  {
   "cell_type": "markdown",
   "metadata": {
    "hidden": true
   },
   "source": [
    "We're stabilizing at validation accuracy of 0.39. Not great, but a lot better than random. Before moving on, let's check that our validation set on the sample is large enough that it gives consistent results:"
   ]
  },
  {
   "cell_type": "code",
   "execution_count": 29,
   "metadata": {
    "hidden": true,
    "scrolled": true
   },
   "outputs": [
    {
     "name": "stdout",
     "output_type": "stream",
     "text": [
      "Found 736 images belonging to 10 classes.\n"
     ]
    }
   ],
   "source": [
    "rnd_batches = get_batches(path+'valid', batch_size=batch_size*2, shuffle=True)"
   ]
  },
  {
   "cell_type": "code",
   "execution_count": 30,
   "metadata": {
    "hidden": true
   },
   "outputs": [
    {
     "data": {
      "text/plain": [
       "array([[ 1.14,  0.63],\n",
       "       [ 1.16,  0.65],\n",
       "       [ 1.11,  0.64],\n",
       "       [ 1.14,  0.63],\n",
       "       [ 1.18,  0.62],\n",
       "       [ 1.2 ,  0.6 ],\n",
       "       [ 1.14,  0.63],\n",
       "       [ 1.16,  0.62],\n",
       "       [ 1.11,  0.66],\n",
       "       [ 1.14,  0.63]])"
      ]
     },
     "execution_count": 30,
     "metadata": {},
     "output_type": "execute_result"
    }
   ],
   "source": [
    "val_res = [model.evaluate_generator(rnd_batches, rnd_batches.nb_sample) for i in range(10)]\n",
    "np.round(val_res, 2)"
   ]
  },
  {
   "cell_type": "markdown",
   "metadata": {
    "hidden": true
   },
   "source": [
    "Yup, pretty consistent - if we see improvements of 3% or more, it's probably not random, based on the above samples."
   ]
  },
  {
   "cell_type": "markdown",
   "metadata": {
    "heading_collapsed": true,
    "hidden": true
   },
   "source": [
    "### L2 regularization"
   ]
  },
  {
   "cell_type": "markdown",
   "metadata": {
    "hidden": true
   },
   "source": [
    "The previous model is over-fitting a lot, but we can't use dropout since we only have one layer. We can try to decrease overfitting in our model by adding [l2 regularization](http://www.kdnuggets.com/2015/04/preventing-overfitting-neural-networks.html/2) (i.e. add the sum of squares of the weights to our loss function):"
   ]
  },
  {
   "cell_type": "code",
   "execution_count": 31,
   "metadata": {
    "hidden": true
   },
   "outputs": [
    {
     "name": "stdout",
     "output_type": "stream",
     "text": [
      "Epoch 1/2\n",
      "1498/1498 [==============================] - 118s - loss: 4.3175 - acc: 0.2817 - val_loss: 10.0451 - val_acc: 0.2215\n",
      "Epoch 2/2\n",
      "1498/1498 [==============================] - 117s - loss: 1.5874 - acc: 0.6362 - val_loss: 2.9844 - val_acc: 0.5041\n"
     ]
    },
    {
     "data": {
      "text/plain": [
       "<keras.callbacks.History at 0x7f44eb0dce90>"
      ]
     },
     "execution_count": 31,
     "metadata": {},
     "output_type": "execute_result"
    }
   ],
   "source": [
    "model = Sequential([\n",
    "        BatchNormalization(axis=1, input_shape=(3,224,224)),\n",
    "        Flatten(),\n",
    "        Dense(10, activation='softmax', W_regularizer=l2(0.01))\n",
    "    ])\n",
    "model.compile(Adam(lr=10e-5), loss='categorical_crossentropy', metrics=['accuracy'])\n",
    "model.fit_generator(batches, batches.nb_sample, nb_epoch=2, validation_data=val_batches, \n",
    "                 nb_val_samples=val_batches.nb_sample)"
   ]
  },
  {
   "cell_type": "code",
   "execution_count": 32,
   "metadata": {
    "hidden": true
   },
   "outputs": [],
   "source": [
    "model.optimizer.lr=0.001"
   ]
  },
  {
   "cell_type": "code",
   "execution_count": 33,
   "metadata": {
    "hidden": true
   },
   "outputs": [
    {
     "name": "stdout",
     "output_type": "stream",
     "text": [
      "Epoch 1/4\n",
      "1498/1498 [==============================] - 117s - loss: 0.7398 - acc: 0.8371 - val_loss: 1.5246 - val_acc: 0.6780\n",
      "Epoch 2/4\n",
      "1498/1498 [==============================] - 117s - loss: 0.5288 - acc: 0.9045 - val_loss: 1.0557 - val_acc: 0.7758\n",
      "Epoch 3/4\n",
      "1498/1498 [==============================] - 117s - loss: 0.3907 - acc: 0.9539 - val_loss: 0.9057 - val_acc: 0.8043\n",
      "Epoch 4/4\n",
      "1498/1498 [==============================] - 117s - loss: 0.3254 - acc: 0.9740 - val_loss: 0.7415 - val_acc: 0.8370\n"
     ]
    },
    {
     "data": {
      "text/plain": [
       "<keras.callbacks.History at 0x7f44ebb6dd90>"
      ]
     },
     "execution_count": 33,
     "metadata": {},
     "output_type": "execute_result"
    }
   ],
   "source": [
    "model.fit_generator(batches, batches.nb_sample, nb_epoch=4, validation_data=val_batches, \n",
    "                 nb_val_samples=val_batches.nb_sample)"
   ]
  },
  {
   "cell_type": "markdown",
   "metadata": {
    "hidden": true
   },
   "source": [
    "Looks like we can get a bit over 50% accuracy this way. This will be a good benchmark for our future models - if we can't beat 50%, then we're not even beating a linear model trained on a sample, so we'll know that's not a good approach."
   ]
  },
  {
   "cell_type": "markdown",
   "metadata": {
    "heading_collapsed": true,
    "hidden": true
   },
   "source": [
    "### Single hidden layer"
   ]
  },
  {
   "cell_type": "markdown",
   "metadata": {
    "hidden": true
   },
   "source": [
    "The next simplest model is to add a single hidden layer."
   ]
  },
  {
   "cell_type": "code",
   "execution_count": 34,
   "metadata": {
    "hidden": true
   },
   "outputs": [
    {
     "name": "stdout",
     "output_type": "stream",
     "text": [
      "Epoch 1/2\n",
      "1498/1498 [==============================] - 119s - loss: 1.9473 - acc: 0.3591 - val_loss: 11.7750 - val_acc: 0.0951\n",
      "Epoch 2/2\n",
      "1498/1498 [==============================] - 118s - loss: 1.0643 - acc: 0.6903 - val_loss: 4.0407 - val_acc: 0.2432\n",
      "Epoch 1/5\n",
      "1498/1498 [==============================] - 119s - loss: 0.6261 - acc: 0.8652 - val_loss: 1.8030 - val_acc: 0.4769\n",
      "Epoch 2/5\n",
      "1498/1498 [==============================] - 118s - loss: 0.3892 - acc: 0.9366 - val_loss: 0.9811 - val_acc: 0.6821\n",
      "Epoch 3/5\n",
      "1498/1498 [==============================] - 118s - loss: 0.2719 - acc: 0.9733 - val_loss: 0.7141 - val_acc: 0.8152\n",
      "Epoch 4/5\n",
      "1498/1498 [==============================] - 118s - loss: 0.1955 - acc: 0.9840 - val_loss: 0.5881 - val_acc: 0.8641\n",
      "Epoch 5/5\n",
      "1498/1498 [==============================] - 118s - loss: 0.1343 - acc: 0.9953 - val_loss: 0.5416 - val_acc: 0.8818\n"
     ]
    },
    {
     "data": {
      "text/plain": [
       "<keras.callbacks.History at 0x7f44eaa4fc10>"
      ]
     },
     "execution_count": 34,
     "metadata": {},
     "output_type": "execute_result"
    }
   ],
   "source": [
    "model = Sequential([\n",
    "        BatchNormalization(axis=1, input_shape=(3,224,224)),\n",
    "        Flatten(),\n",
    "        Dense(100, activation='relu'),\n",
    "        BatchNormalization(),\n",
    "        Dense(10, activation='softmax')\n",
    "    ])\n",
    "model.compile(Adam(lr=1e-5), loss='categorical_crossentropy', metrics=['accuracy'])\n",
    "model.fit_generator(batches, batches.nb_sample, nb_epoch=2, validation_data=val_batches, \n",
    "                 nb_val_samples=val_batches.nb_sample)\n",
    "\n",
    "model.optimizer.lr = 0.01\n",
    "model.fit_generator(batches, batches.nb_sample, nb_epoch=5, validation_data=val_batches, \n",
    "                 nb_val_samples=val_batches.nb_sample)"
   ]
  },
  {
   "cell_type": "markdown",
   "metadata": {
    "hidden": true
   },
   "source": [
    "Not looking very encouraging... which isn't surprising since we know that CNNs are a much better choice for computer vision problems. So we'll try one."
   ]
  },
  {
   "cell_type": "markdown",
   "metadata": {
    "heading_collapsed": true,
    "hidden": true
   },
   "source": [
    "### Single conv layer"
   ]
  },
  {
   "cell_type": "markdown",
   "metadata": {
    "hidden": true
   },
   "source": [
    "2 conv layers with max pooling followed by a simple dense network is a good simple CNN to start with:"
   ]
  },
  {
   "cell_type": "code",
   "execution_count": 35,
   "metadata": {
    "hidden": true
   },
   "outputs": [],
   "source": [
    "def conv1(batches):\n",
    "    model = Sequential([\n",
    "            BatchNormalization(axis=1, input_shape=(3,224,224)),\n",
    "            Convolution2D(32,3,3, activation='relu'),\n",
    "            BatchNormalization(axis=1),\n",
    "            MaxPooling2D((3,3)),\n",
    "            Convolution2D(64,3,3, activation='relu'),\n",
    "            BatchNormalization(axis=1),\n",
    "            MaxPooling2D((3,3)),\n",
    "            Flatten(),\n",
    "            Dense(200, activation='relu'),\n",
    "            BatchNormalization(),\n",
    "            Dense(10, activation='softmax')\n",
    "        ])\n",
    "\n",
    "    model.compile(Adam(lr=1e-4), loss='categorical_crossentropy', metrics=['accuracy'])\n",
    "    model.fit_generator(batches, batches.nb_sample, nb_epoch=2, validation_data=val_batches, \n",
    "                     nb_val_samples=val_batches.nb_sample)\n",
    "    model.optimizer.lr = 0.001\n",
    "    model.fit_generator(batches, batches.nb_sample, nb_epoch=4, validation_data=val_batches, \n",
    "                     nb_val_samples=val_batches.nb_sample)\n",
    "    return model"
   ]
  },
  {
   "cell_type": "code",
   "execution_count": 36,
   "metadata": {
    "hidden": true
   },
   "outputs": [
    {
     "name": "stdout",
     "output_type": "stream",
     "text": [
      "Epoch 1/2\n",
      "1498/1498 [==============================] - 371s - loss: 1.4969 - acc: 0.5394 - val_loss: 2.1233 - val_acc: 0.3750\n",
      "Epoch 2/2\n",
      "1498/1498 [==============================] - 368s - loss: 0.3853 - acc: 0.9239 - val_loss: 1.5960 - val_acc: 0.4620\n",
      "Epoch 1/4\n",
      "1498/1498 [==============================] - 370s - loss: 0.1255 - acc: 0.9866 - val_loss: 1.8573 - val_acc: 0.4212\n",
      "Epoch 2/4\n",
      "1498/1498 [==============================] - 370s - loss: 0.0517 - acc: 0.9980 - val_loss: 1.9115 - val_acc: 0.4293\n",
      "Epoch 3/4\n",
      "1498/1498 [==============================] - 365s - loss: 0.0255 - acc: 1.0000 - val_loss: 1.9870 - val_acc: 0.4402\n",
      "Epoch 4/4\n",
      "1498/1498 [==============================] - 370s - loss: 0.0175 - acc: 1.0000 - val_loss: 1.9809 - val_acc: 0.4416\n"
     ]
    },
    {
     "data": {
      "text/plain": [
       "<keras.models.Sequential at 0x7f455ce33a50>"
      ]
     },
     "execution_count": 36,
     "metadata": {},
     "output_type": "execute_result"
    }
   ],
   "source": [
    "conv1(batches)"
   ]
  },
  {
   "cell_type": "markdown",
   "metadata": {
    "hidden": true
   },
   "source": [
    "The training set here is very rapidly reaching a very high accuracy. So if we could regularize this, perhaps we could get a reasonable result.\n",
    "\n",
    "So, what kind of regularization should we try first? As we discussed in lesson 3, we should start with data augmentation."
   ]
  },
  {
   "cell_type": "markdown",
   "metadata": {
    "heading_collapsed": true
   },
   "source": [
    "## Data augmentation"
   ]
  },
  {
   "cell_type": "markdown",
   "metadata": {
    "hidden": true
   },
   "source": [
    "To find the best data augmentation parameters, we can try each type of data augmentation, one at a time. For each type, we can try four very different levels of augmentation, and see which is the best. In the steps below we've only kept the single best result we found. We're using the CNN we defined above, since we have already observed it can model the data quickly and accurately."
   ]
  },
  {
   "cell_type": "markdown",
   "metadata": {
    "hidden": true
   },
   "source": [
    "Width shift: move the image left and right -"
   ]
  },
  {
   "cell_type": "code",
   "execution_count": 37,
   "metadata": {
    "hidden": true
   },
   "outputs": [
    {
     "name": "stdout",
     "output_type": "stream",
     "text": [
      "Found 1498 images belonging to 10 classes.\n"
     ]
    }
   ],
   "source": [
    "gen_t = image.ImageDataGenerator(width_shift_range=0.1)\n",
    "batches = get_batches(path+'train', gen_t, batch_size=batch_size)"
   ]
  },
  {
   "cell_type": "code",
   "execution_count": 38,
   "metadata": {
    "hidden": true,
    "scrolled": true
   },
   "outputs": [
    {
     "name": "stdout",
     "output_type": "stream",
     "text": [
      "Epoch 1/2\n",
      "1498/1498 [==============================] - 367s - loss: 2.2033 - acc: 0.3104 - val_loss: 2.1372 - val_acc: 0.2908\n",
      "Epoch 2/2\n",
      "1498/1498 [==============================] - 368s - loss: 1.2707 - acc: 0.5935 - val_loss: 2.0264 - val_acc: 0.2813\n",
      "Epoch 1/4\n",
      "1498/1498 [==============================] - 369s - loss: 0.8686 - acc: 0.7443 - val_loss: 2.0947 - val_acc: 0.2799\n",
      "Epoch 2/4\n",
      "1498/1498 [==============================] - 367s - loss: 0.6418 - acc: 0.8224 - val_loss: 2.1229 - val_acc: 0.3057\n",
      "Epoch 3/4\n",
      "1498/1498 [==============================] - 368s - loss: 0.4906 - acc: 0.8758 - val_loss: 2.1601 - val_acc: 0.2962\n",
      "Epoch 4/4\n",
      "1498/1498 [==============================] - 368s - loss: 0.3687 - acc: 0.9039 - val_loss: 2.0878 - val_acc: 0.3696\n"
     ]
    }
   ],
   "source": [
    "model = conv1(batches)"
   ]
  },
  {
   "cell_type": "markdown",
   "metadata": {
    "hidden": true
   },
   "source": [
    "Height shift: move the image up and down -"
   ]
  },
  {
   "cell_type": "code",
   "execution_count": null,
   "metadata": {
    "hidden": true
   },
   "outputs": [
    {
     "name": "stdout",
     "output_type": "stream",
     "text": [
      "Found 1498 images belonging to 10 classes.\n"
     ]
    }
   ],
   "source": [
    "gen_t = image.ImageDataGenerator(height_shift_range=0.05)\n",
    "batches = get_batches(path+'train', gen_t, batch_size=batch_size)"
   ]
  },
  {
   "cell_type": "code",
   "execution_count": null,
   "metadata": {
    "hidden": true,
    "scrolled": true
   },
   "outputs": [
    {
     "name": "stdout",
     "output_type": "stream",
     "text": [
      "Epoch 1/2\n",
      "1498/1498 [==============================] - 370s - loss: 1.9240 - acc: 0.4092 - val_loss: 1.9790 - val_acc: 0.3478\n",
      "Epoch 2/2\n",
      "1498/1498 [==============================] - 367s - loss: 0.8191 - acc: 0.7677 - val_loss: 2.0175 - val_acc: 0.2636\n",
      "Epoch 1/4\n",
      "1498/1498 [==============================] - 367s - loss: 0.4697 - acc: 0.8772 - val_loss: 2.4976 - val_acc: 0.1644\n",
      "Epoch 2/4\n",
      "1434/1498 [===========================>..] - ETA: 12s - loss: 0.2722 - acc: 0.9351"
     ]
    }
   ],
   "source": [
    "model = conv1(batches)"
   ]
  },
  {
   "cell_type": "markdown",
   "metadata": {
    "hidden": true
   },
   "source": [
    "Random shear angles (max in radians) -"
   ]
  },
  {
   "cell_type": "code",
   "execution_count": null,
   "metadata": {
    "hidden": true
   },
   "outputs": [],
   "source": [
    "gen_t = image.ImageDataGenerator(shear_range=0.1)\n",
    "batches = get_batches(path+'train', gen_t, batch_size=batch_size)"
   ]
  },
  {
   "cell_type": "code",
   "execution_count": null,
   "metadata": {
    "hidden": true,
    "scrolled": true
   },
   "outputs": [],
   "source": [
    "model = conv1(batches)"
   ]
  },
  {
   "cell_type": "markdown",
   "metadata": {
    "hidden": true
   },
   "source": [
    "Rotation: max in degrees -"
   ]
  },
  {
   "cell_type": "code",
   "execution_count": null,
   "metadata": {
    "hidden": true
   },
   "outputs": [],
   "source": [
    "gen_t = image.ImageDataGenerator(rotation_range=15)\n",
    "batches = get_batches(path+'train', gen_t, batch_size=batch_size)"
   ]
  },
  {
   "cell_type": "code",
   "execution_count": null,
   "metadata": {
    "hidden": true,
    "scrolled": true
   },
   "outputs": [],
   "source": [
    "model = conv1(batches)"
   ]
  },
  {
   "cell_type": "markdown",
   "metadata": {
    "hidden": true
   },
   "source": [
    "Channel shift: randomly changing the R,G,B colors - "
   ]
  },
  {
   "cell_type": "code",
   "execution_count": null,
   "metadata": {
    "hidden": true
   },
   "outputs": [],
   "source": [
    "gen_t = image.ImageDataGenerator(channel_shift_range=20)\n",
    "batches = get_batches(path+'train', gen_t, batch_size=batch_size)"
   ]
  },
  {
   "cell_type": "code",
   "execution_count": null,
   "metadata": {
    "hidden": true,
    "scrolled": true
   },
   "outputs": [],
   "source": [
    "model = conv1(batches)"
   ]
  },
  {
   "cell_type": "markdown",
   "metadata": {
    "hidden": true
   },
   "source": [
    "And finally, putting it all together!"
   ]
  },
  {
   "cell_type": "code",
   "execution_count": null,
   "metadata": {
    "hidden": true
   },
   "outputs": [],
   "source": [
    "gen_t = image.ImageDataGenerator(rotation_range=15, height_shift_range=0.05, \n",
    "                shear_range=0.1, channel_shift_range=20, width_shift_range=0.1)\n",
    "batches = get_batches(path+'train', gen_t, batch_size=batch_size)"
   ]
  },
  {
   "cell_type": "code",
   "execution_count": null,
   "metadata": {
    "hidden": true,
    "scrolled": true
   },
   "outputs": [],
   "source": [
    "model = conv1(batches)"
   ]
  },
  {
   "cell_type": "markdown",
   "metadata": {
    "hidden": true
   },
   "source": [
    "At first glance, this isn't looking encouraging, since the validation set is poor and getting worse. But the training set is getting better, and still has a long way to go in accuracy - so we should try annealing our learning rate and running more epochs, before we make a decisions."
   ]
  },
  {
   "cell_type": "code",
   "execution_count": null,
   "metadata": {
    "hidden": true,
    "scrolled": true
   },
   "outputs": [],
   "source": [
    "model.optimizer.lr = 0.0001\n",
    "model.fit_generator(batches, batches.nb_sample, nb_epoch=5, validation_data=val_batches, \n",
    "                 nb_val_samples=val_batches.nb_sample)"
   ]
  },
  {
   "cell_type": "markdown",
   "metadata": {
    "hidden": true
   },
   "source": [
    "Lucky we tried that - we starting to make progress! Let's keep going."
   ]
  },
  {
   "cell_type": "code",
   "execution_count": null,
   "metadata": {
    "hidden": true,
    "scrolled": false
   },
   "outputs": [],
   "source": [
    "model.fit_generator(batches, batches.nb_sample, nb_epoch=25, validation_data=val_batches, \n",
    "                 nb_val_samples=val_batches.nb_sample)"
   ]
  },
  {
   "cell_type": "markdown",
   "metadata": {
    "collapsed": true,
    "hidden": true
   },
   "source": [
    "Amazingly, using nothing but a small sample, a simple (not pre-trained) model with no dropout, and data augmentation, we're getting results that would get us into the top 50% of the competition! This looks like a great foundation for our futher experiments.\n",
    "\n",
    "To go further, we'll need to use the whole dataset, since dropout and data volumes are very related, so we can't tweak dropout without using all the data."
   ]
  }
 ],
 "metadata": {
  "anaconda-cloud": {},
  "kernelspec": {
   "display_name": "Python 2",
   "language": "python",
   "name": "python2"
  },
  "language_info": {
   "codemirror_mode": {
    "name": "ipython",
    "version": 2
   },
   "file_extension": ".py",
   "mimetype": "text/x-python",
   "name": "python",
   "nbconvert_exporter": "python",
   "pygments_lexer": "ipython2",
   "version": "2.7.12"
  },
  "nav_menu": {},
  "nbpresent": {
   "slides": {
    "28b43202-5690-4169-9aca-6b9dabfeb3ec": {
     "id": "28b43202-5690-4169-9aca-6b9dabfeb3ec",
     "prev": null,
     "regions": {
      "3bba644a-cf4d-4a49-9fbd-e2554428cf9f": {
       "attrs": {
        "height": 0.8,
        "width": 0.8,
        "x": 0.1,
        "y": 0.1
       },
       "content": {
        "cell": "f3d3a388-7e2a-4151-9b50-c20498fceacc",
        "part": "whole"
       },
       "id": "3bba644a-cf4d-4a49-9fbd-e2554428cf9f"
      }
     }
    },
    "8104def2-4b68-44a0-8f1b-b03bf3b2a079": {
     "id": "8104def2-4b68-44a0-8f1b-b03bf3b2a079",
     "prev": "28b43202-5690-4169-9aca-6b9dabfeb3ec",
     "regions": {
      "7dded777-1ddf-4100-99ae-25cf1c15b575": {
       "attrs": {
        "height": 0.8,
        "width": 0.8,
        "x": 0.1,
        "y": 0.1
       },
       "content": {
        "cell": "fe47bd48-3414-4657-92e7-8b8d6cb0df00",
        "part": "whole"
       },
       "id": "7dded777-1ddf-4100-99ae-25cf1c15b575"
      }
     }
    }
   },
   "themes": {}
  },
  "toc": {
   "nav_menu": {
    "height": "148px",
    "width": "254px"
   },
   "navigate_menu": true,
   "number_sections": true,
   "sideBar": true,
   "threshold": 6,
   "toc_cell": false,
   "toc_section_display": "block",
   "toc_window_display": false
  },
  "widgets": {
   "state": {},
   "version": "1.1.2"
  }
 },
 "nbformat": 4,
 "nbformat_minor": 1
}
