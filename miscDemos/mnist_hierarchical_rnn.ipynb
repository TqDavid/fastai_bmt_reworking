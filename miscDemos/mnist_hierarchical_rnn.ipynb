{
 "cells": [
  {
   "cell_type": "markdown",
   "metadata": {},
   "source": [
    "\n",
    "https://github.com/fchollet/keras/blob/master/examples/mnist_hierarchical_rnn.py\n",
    "Example of using Hierarchical RNN (HRNN) to classify MNIST digits.\n",
    "\n",
    "HRNNs can learn across multiple levels\n",
    "of temporal hierarchy over a complex sequence.\n",
    "Usually, the first recurrent layer of an HRNN\n",
    "encodes a sentence (e.g. of word vectors)\n",
    "into a  sentence vector.\n",
    "The second recurrent layer then encodes a sequence of\n",
    "such vectors (encoded by the first layer) into a document vector.\n",
    "This document vector is considered to preserve both\n",
    "the word-level and sentence-level structure of the context.\n",
    "\n",
    "# References\n",
    "\n",
    "- [A Hierarchical Neural Autoencoder for Paragraphs and Documents](https://arxiv.org/abs/1506.01057)\n",
    "    Encodes paragraphs and documents with HRNN.\n",
    "    Results have shown that HRNN outperforms standard\n",
    "    RNNs and may play some role in more sophisticated generation tasks like\n",
    "    summarization or question answering.\n",
    "- [Hierarchical recurrent neural network for skeleton based action recognition](http://ieeexplore.ieee.org/stamp/stamp.jsp?tp=&arnumber=7298714)\n",
    "    Achieved state-of-the-art results on\n",
    "    skeleton based action recognition with 3 levels\n",
    "    of bidirectional HRNN combined with fully connected layers.\n",
    "\n",
    "In the below MNIST example the first LSTM layer first encodes every\n",
    "column of pixels of shape (28, 1) to a column vector of shape (128,).\n",
    "The second LSTM layer encodes then these 28 column vectors of shape (28, 128)\n",
    "to a image vector representing the whole image.\n",
    "A final Dense layer is added for prediction.\n",
    "\n",
    "After 5 epochs: train acc: 0.9858, val acc: 0.9864\n"
   ]
  },
  {
   "cell_type": "code",
   "execution_count": 36,
   "metadata": {},
   "outputs": [],
   "source": [
    "from __future__ import print_function\n",
    "\n",
    "import keras\n",
    "from keras.datasets import mnist\n",
    "from keras.models import Model\n",
    "from keras.layers import Input, Dense, TimeDistributed\n",
    "from keras.layers import LSTM\n",
    "\n",
    "from datetime import datetime\n",
    "import numpy as np"
   ]
  },
  {
   "cell_type": "code",
   "execution_count": 2,
   "metadata": {},
   "outputs": [],
   "source": [
    "# Training parameters.\n",
    "batch_size = 32\n",
    "num_classes = 10\n",
    "epochs = 5\n",
    "\n",
    "# Embedding dimensions.\n",
    "row_hidden = 128\n",
    "col_hidden = 128\n",
    "\n"
   ]
  },
  {
   "cell_type": "code",
   "execution_count": 41,
   "metadata": {},
   "outputs": [],
   "source": [
    "# The data, shuffled and split between train and test sets.\n",
    "(x_train, y_train), (x_test, y_test) = mnist.load_data()\n",
    "y_test_orig = y_test"
   ]
  },
  {
   "cell_type": "code",
   "execution_count": 42,
   "metadata": {},
   "outputs": [
    {
     "name": "stdout",
     "output_type": "stream",
     "text": [
      "x_train: (60000, 28, 28)\n",
      "y_train: (60000,)\n",
      "x_test: (10000, 28, 28)\n",
      "y_test: (10000,)\n",
      "y_test_orig: (10000,)\n"
     ]
    }
   ],
   "source": [
    "print (\"x_train:\", x_train.shape)\n",
    "print (\"y_train:\", y_train.shape)\n",
    "print (\"x_test:\", x_test.shape)\n",
    "print (\"y_test:\", y_test.shape)\n",
    "print (\"y_test_orig:\", y_test_orig.shape)"
   ]
  },
  {
   "cell_type": "code",
   "execution_count": 43,
   "metadata": {},
   "outputs": [],
   "source": [
    "# Reshapes data to 4D for Hierarchical RNN.\n",
    "x_train = x_train.reshape(x_train.shape[0], 28, 28, 1)\n",
    "x_test = x_test.reshape(x_test.shape[0], 28, 28, 1)\n",
    "x_train = x_train.astype('float32')\n",
    "x_test = x_test.astype('float32')\n",
    "x_train /= 255\n",
    "x_test /= 255\n"
   ]
  },
  {
   "cell_type": "code",
   "execution_count": 44,
   "metadata": {},
   "outputs": [
    {
     "name": "stdout",
     "output_type": "stream",
     "text": [
      "x_train shape: (60000, 28, 28, 1)\n",
      "60000 train samples\n",
      "10000 test samples\n"
     ]
    }
   ],
   "source": [
    "print('x_train shape:', x_train.shape)\n",
    "print(x_train.shape[0], 'train samples')\n",
    "print(x_test.shape[0], 'test samples')\n"
   ]
  },
  {
   "cell_type": "code",
   "execution_count": 45,
   "metadata": {},
   "outputs": [],
   "source": [
    "# Converts class vectors to binary class matrices.\n",
    "y_train = keras.utils.to_categorical(y_train, num_classes)\n",
    "y_test = keras.utils.to_categorical(y_test, num_classes)\n"
   ]
  },
  {
   "cell_type": "code",
   "execution_count": 46,
   "metadata": {},
   "outputs": [
    {
     "name": "stdout",
     "output_type": "stream",
     "text": [
      "y_train (60000, 10)\n",
      "x_train (60000, 28, 28, 1)\n"
     ]
    }
   ],
   "source": [
    "print (\"y_train\", y_train.shape)\n",
    "print (\"x_train\", x_train.shape)"
   ]
  },
  {
   "cell_type": "code",
   "execution_count": 9,
   "metadata": {},
   "outputs": [],
   "source": [
    "row, col, pixel = x_train.shape[1:]"
   ]
  },
  {
   "cell_type": "code",
   "execution_count": 11,
   "metadata": {},
   "outputs": [
    {
     "name": "stdout",
     "output_type": "stream",
     "text": [
      "row : <type 'int'> 28\n",
      "col : <type 'int'> 28\n",
      "pixel : <type 'int'> 1\n"
     ]
    }
   ],
   "source": [
    "print('row :', type(row), row)\n",
    "print('col :', type(col), col)\n",
    "print('pixel :', type(pixel), pixel)\n"
   ]
  },
  {
   "cell_type": "code",
   "execution_count": 14,
   "metadata": {},
   "outputs": [
    {
     "name": "stdout",
     "output_type": "stream",
     "text": [
      "<class 'tensorflow.python.framework.ops.Tensor'>\n",
      "Tensor(\"input_2:0\", shape=(?, 28, 28, 1), dtype=float32)\n"
     ]
    }
   ],
   "source": [
    "# 4D input.\n",
    "x = Input(shape=(row, col, pixel))\n",
    "print (type(x))\n",
    "print (x)"
   ]
  },
  {
   "cell_type": "code",
   "execution_count": 15,
   "metadata": {},
   "outputs": [],
   "source": [
    "# Encodes a row of pixels using TimeDistributed Wrapper.\n",
    "encoded_rows = TimeDistributed(LSTM(row_hidden))(x)\n",
    "#https://keras.io/layers/wrappers/"
   ]
  },
  {
   "cell_type": "code",
   "execution_count": 16,
   "metadata": {},
   "outputs": [
    {
     "name": "stdout",
     "output_type": "stream",
     "text": [
      "<class 'tensorflow.python.framework.ops.Tensor'>\n"
     ]
    }
   ],
   "source": [
    "print (type(encoded_rows))"
   ]
  },
  {
   "cell_type": "code",
   "execution_count": 17,
   "metadata": {},
   "outputs": [],
   "source": [
    "# Encodes columns of encoded rows.\n",
    "encoded_columns = LSTM(col_hidden)(encoded_rows)\n"
   ]
  },
  {
   "cell_type": "code",
   "execution_count": 18,
   "metadata": {},
   "outputs": [
    {
     "name": "stdout",
     "output_type": "stream",
     "text": [
      "<class 'tensorflow.python.framework.ops.Tensor'>\n"
     ]
    }
   ],
   "source": [
    "print (type(encoded_columns))"
   ]
  },
  {
   "cell_type": "code",
   "execution_count": 20,
   "metadata": {},
   "outputs": [
    {
     "name": "stdout",
     "output_type": "stream",
     "text": [
      "<class 'tensorflow.python.framework.ops.Tensor'>\n",
      "<class 'keras.engine.training.Model'>\n"
     ]
    }
   ],
   "source": [
    "# Final predictions and model.\n",
    "prediction = Dense(num_classes, activation='softmax')(encoded_columns)\n",
    "print (type(prediction))\n",
    "model = Model(x, prediction)\n",
    "print (type(model))\n",
    "model.compile(loss='categorical_crossentropy',\n",
    "              optimizer='rmsprop',\n",
    "              metrics=['accuracy'])\n"
   ]
  },
  {
   "cell_type": "code",
   "execution_count": 22,
   "metadata": {},
   "outputs": [
    {
     "name": "stdout",
     "output_type": "stream",
     "text": [
      "4\n",
      "[<keras.engine.topology.InputLayer object at 0x7fd843a50350>, <keras.layers.wrappers.TimeDistributed object at 0x7fd843a502d0>, <keras.layers.recurrent.LSTM object at 0x7fd8982924d0>, <keras.layers.core.Dense object at 0x7fd841765d50>]\n"
     ]
    }
   ],
   "source": [
    "print (len(model.layers))\n",
    "print (model.layers)\n"
   ]
  },
  {
   "cell_type": "code",
   "execution_count": 24,
   "metadata": {},
   "outputs": [
    {
     "name": "stdout",
     "output_type": "stream",
     "text": [
      "start\n",
      "Train on 60000 samples, validate on 10000 samples\n",
      "Epoch 1/5\n",
      "60000/60000 [==============================] - 179s 3ms/step - loss: 0.4618 - acc: 0.8457 - val_loss: 0.1929 - val_acc: 0.9373\n",
      "Epoch 2/5\n",
      "60000/60000 [==============================] - 177s 3ms/step - loss: 0.1228 - acc: 0.9622 - val_loss: 0.0948 - val_acc: 0.9714\n",
      "Epoch 3/5\n",
      "60000/60000 [==============================] - 175s 3ms/step - loss: 0.0806 - acc: 0.9752 - val_loss: 0.0750 - val_acc: 0.9776\n",
      "Epoch 4/5\n",
      "60000/60000 [==============================] - 175s 3ms/step - loss: 0.0646 - acc: 0.9809 - val_loss: 0.0685 - val_acc: 0.9784\n",
      "Epoch 5/5\n",
      "60000/60000 [==============================] - 176s 3ms/step - loss: 0.0546 - acc: 0.9836 - val_loss: 0.0560 - val_acc: 0.9829\n",
      "Time elpased (hh:mm:ss.ms) 0:14:44.503536\n"
     ]
    }
   ],
   "source": [
    "startTime= datetime.now()\n",
    "print (\"start\")\n",
    "# Training.\n",
    "model.fit(x_train, y_train,\n",
    "          batch_size=batch_size,\n",
    "          epochs=epochs,\n",
    "          verbose=1,\n",
    "          validation_data=(x_test, y_test))\n",
    "timeElapsed=datetime.now()-startTime\n",
    "print('Time elpased (hh:mm:ss.ms) {}'.format(timeElapsed))\n"
   ]
  },
  {
   "cell_type": "code",
   "execution_count": 27,
   "metadata": {},
   "outputs": [
    {
     "name": "stdout",
     "output_type": "stream",
     "text": [
      "start\n",
      "Test loss: 0.0560403121914\n",
      "Test accuracy: 0.9829\n",
      "Time elpased (hh:mm:ss.ms) 0:00:09.550869\n"
     ]
    }
   ],
   "source": [
    "\n",
    "startTime= datetime.now()\n",
    "# Evaluation.\n",
    "print (\"start\")\n",
    "scores = model.evaluate(x_test, y_test, verbose=0)\n",
    "print('Test loss:', scores[0])\n",
    "print('Test accuracy:', scores[1])\n",
    "\n",
    "timeElapsed=datetime.now()-startTime\n",
    "print('Time elpased (hh:mm:ss.ms) {}'.format(timeElapsed))\n"
   ]
  },
  {
   "cell_type": "code",
   "execution_count": null,
   "metadata": {},
   "outputs": [],
   "source": [
    "#x_test, y_test"
   ]
  },
  {
   "cell_type": "code",
   "execution_count": 31,
   "metadata": {},
   "outputs": [
    {
     "data": {
      "text/plain": [
       "keras.engine.training.Model"
      ]
     },
     "execution_count": 31,
     "metadata": {},
     "output_type": "execute_result"
    }
   ],
   "source": [
    "type(model)"
   ]
  },
  {
   "cell_type": "code",
   "execution_count": 32,
   "metadata": {},
   "outputs": [
    {
     "name": "stdout",
     "output_type": "stream",
     "text": [
      "<type 'numpy.ndarray'>\n",
      "Time elpased (hh:mm:ss.ms) 0:00:09.799174\n"
     ]
    }
   ],
   "source": [
    "startTime= datetime.now()\n",
    "print (\"start\")\n",
    "pred = model.predict(x_test, batch_size=batch_size, verbose=0, steps=None)\n",
    "print (type(pred))\n",
    "timeElapsed=datetime.now()-startTime\n",
    "print('Time elpased (hh:mm:ss.ms) {}'.format(timeElapsed))\n"
   ]
  },
  {
   "cell_type": "code",
   "execution_count": 33,
   "metadata": {},
   "outputs": [
    {
     "name": "stdout",
     "output_type": "stream",
     "text": [
      "<type 'numpy.ndarray'> (10000, 10)\n"
     ]
    }
   ],
   "source": [
    "print (type(pred), pred.shape)"
   ]
  },
  {
   "cell_type": "code",
   "execution_count": 34,
   "metadata": {},
   "outputs": [
    {
     "data": {
      "text/plain": [
       "array([  4.73742557e-06,   6.86850944e-06,   6.52822928e-05,\n",
       "         8.68870993e-05,   1.49033094e-05,   1.81596097e-05,\n",
       "         2.39001406e-06,   9.99712646e-01,   8.41233577e-06,\n",
       "         7.96956665e-05], dtype=float32)"
      ]
     },
     "execution_count": 34,
     "metadata": {},
     "output_type": "execute_result"
    }
   ],
   "source": [
    "pred[0]"
   ]
  },
  {
   "cell_type": "code",
   "execution_count": 49,
   "metadata": {},
   "outputs": [
    {
     "name": "stdout",
     "output_type": "stream",
     "text": [
      " pred_class: [7 2 1 0 4 1 4 9 5 9]\n",
      "y_test_orig: [7 2 1 0 4 1 4 9 5 9]\n"
     ]
    }
   ],
   "source": [
    "pred_class = np.argmax(pred,axis=-1)\n",
    "print (\" pred_class:\", pred_class[0:10])\n",
    "print (\"y_test_orig:\", y_test_orig[0:10])"
   ]
  },
  {
   "cell_type": "code",
   "execution_count": 52,
   "metadata": {},
   "outputs": [
    {
     "name": "stdout",
     "output_type": "stream",
     "text": [
      "calc'd accuracy: 0.9829\n"
     ]
    }
   ],
   "source": [
    "match = 0.\n",
    "for i in range(0, len(y_test_orig)):\n",
    "    if y_test_orig[i] == pred_class[i]:\n",
    "        match += 1\n",
    "print (\"calc'd accuracy:\", match/len(y_test_orig))\n",
    "\n",
    "#NB: matches are exact because y_test was categorical ie 0 or 1 not predicting probability for each category."
   ]
  },
  {
   "cell_type": "code",
   "execution_count": null,
   "metadata": {},
   "outputs": [],
   "source": []
  }
 ],
 "metadata": {
  "kernelspec": {
   "display_name": "Python 2",
   "language": "python",
   "name": "python2"
  },
  "language_info": {
   "codemirror_mode": {
    "name": "ipython",
    "version": 2
   },
   "file_extension": ".py",
   "mimetype": "text/x-python",
   "name": "python",
   "nbconvert_exporter": "python",
   "pygments_lexer": "ipython2",
   "version": "2.7.12"
  }
 },
 "nbformat": 4,
 "nbformat_minor": 2
}
